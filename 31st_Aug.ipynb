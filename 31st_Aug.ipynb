{
  "nbformat": 4,
  "nbformat_minor": 0,
  "metadata": {
    "colab": {
      "name": "31st Aug.ipynb",
      "version": "0.3.2",
      "provenance": []
    },
    "kernelspec": {
      "name": "python3",
      "display_name": "Python 3"
    },
    "accelerator": "GPU"
  },
  "cells": [
    {
      "cell_type": "code",
      "metadata": {
        "id": "ZYlWS_9z05kv",
        "colab_type": "code",
        "outputId": "9638ab9c-7846-4a2d-d382-53913f64c8e6",
        "colab": {
          "base_uri": "https://localhost:8080/",
          "height": 136
        }
      },
      "source": [
        "!apt-get install -y -qq software-properties-common python-software-properties module-init-tools\n",
        "!add-apt-repository -y ppa:alessandro-strada/ppa 2>&1 > /dev/null\n",
        "!apt-get update -qq 2>&1 > /dev/null\n",
        "!apt-get -y install -qq google-drive-ocamlfuse fuse\n",
        "from google.colab import auth\n",
        "auth.authenticate_user()\n",
        "from oauth2client.client import GoogleCredentials\n",
        "creds = GoogleCredentials.get_application_default()\n",
        "import getpass\n",
        "!google-drive-ocamlfuse -headless -id={creds.client_id} -secret={creds.client_secret} < /dev/null 2>&1 | grep URL\n",
        "vcode = getpass.getpass()\n",
        "!echo {vcode} | google-drive-ocamlfuse -headless -id={creds.client_id} -secret={creds.client_secret}\n",
        "\n",
        "\n",
        "\n"
      ],
      "execution_count": 0,
      "outputs": [
        {
          "output_type": "stream",
          "text": [
            "gpg: keybox '/tmp/tmpm7prtcvo/pubring.gpg' created\n",
            "gpg: /tmp/tmpm7prtcvo/trustdb.gpg: trustdb created\n",
            "gpg: key AD5F235DF639B041: public key \"Launchpad PPA for Alessandro Strada\" imported\n",
            "gpg: Total number processed: 1\n",
            "gpg:               imported: 1\n",
            "Warning: apt-key output should not be parsed (stdout is not a terminal)\n",
            "··········\n"
          ],
          "name": "stdout"
        }
      ]
    },
    {
      "cell_type": "code",
      "metadata": {
        "id": "zA6EOFY60_bT",
        "colab_type": "code",
        "outputId": "cb4c83b5-fb17-472f-c922-7d7bb330fa40",
        "colab": {
          "base_uri": "https://localhost:8080/",
          "height": 51
        }
      },
      "source": [
        "!mkdir -p drive\n",
        "!google-drive-ocamlfuse drive"
      ],
      "execution_count": 0,
      "outputs": [
        {
          "output_type": "stream",
          "text": [
            "fuse: mountpoint is not empty\r\n",
            "fuse: if you are sure this is safe, use the 'nonempty' mount option\r\n"
          ],
          "name": "stdout"
        }
      ]
    },
    {
      "cell_type": "code",
      "metadata": {
        "id": "8DsMuRGA1CDC",
        "colab_type": "code",
        "outputId": "37d67794-c583-435d-929b-e224dd0bf035",
        "colab": {
          "base_uri": "https://localhost:8080/",
          "height": 34
        }
      },
      "source": [
        "cd drive/project_data/"
      ],
      "execution_count": 0,
      "outputs": [
        {
          "output_type": "stream",
          "text": [
            "/content/drive/project_data\n"
          ],
          "name": "stdout"
        }
      ]
    },
    {
      "cell_type": "code",
      "metadata": {
        "id": "sYTpfPUX1CFr",
        "colab_type": "code",
        "outputId": "c429b2cb-a124-480a-893d-91890ad7b1f9",
        "colab": {
          "base_uri": "https://localhost:8080/",
          "height": 34
        }
      },
      "source": [
        "import keras\n",
        "from keras import backend as K\n",
        "import tensorflow as tf\n",
        "import tensorflow\n",
        "from keras.models import Model\n",
        "from keras import layers\n",
        "from keras.models import Sequential\n",
        "from keras.layers import Reshape, Activation, Conv2D, Input, MaxPooling2D, BatchNormalization, Flatten, Dense, Lambda\n",
        "from keras.layers.advanced_activations import LeakyReLU, Softmax\n",
        "from keras.layers.merge import concatenate\n",
        "from keras.optimizers import SGD, Adam, RMSprop\n",
        "from keras.callbacks import EarlyStopping, ModelCheckpoint, TensorBoard\n",
        "\n",
        "import numpy as np\n",
        "import os\n",
        "import cv2\n",
        "import math"
      ],
      "execution_count": 0,
      "outputs": [
        {
          "output_type": "stream",
          "text": [
            "Using TensorFlow backend.\n"
          ],
          "name": "stderr"
        }
      ]
    },
    {
      "cell_type": "code",
      "metadata": {
        "id": "x5J55CRrE9yf",
        "colab_type": "code",
        "colab": {}
      },
      "source": [
        "X = np.load('final_pascal_npy_datas/2007_test.npy')\n",
        "Y = np.load('fixed_labels/2007_test_labels.npy')"
      ],
      "execution_count": 0,
      "outputs": []
    },
    {
      "cell_type": "code",
      "metadata": {
        "id": "DQ-zgg1bE923",
        "colab_type": "code",
        "outputId": "e6c24d0d-636a-4732-d243-e3873119d047",
        "colab": {
          "base_uri": "https://localhost:8080/",
          "height": 51
        }
      },
      "source": [
        "print(X.shape)\n",
        "Y.shape"
      ],
      "execution_count": 0,
      "outputs": [
        {
          "output_type": "stream",
          "text": [
            "(4952, 300, 300, 3)\n"
          ],
          "name": "stdout"
        },
        {
          "output_type": "execute_result",
          "data": {
            "text/plain": [
              "(4952, 18, 18, 20)"
            ]
          },
          "metadata": {
            "tags": []
          },
          "execution_count": 6
        }
      ]
    },
    {
      "cell_type": "code",
      "metadata": {
        "id": "4bSFK0YfE99D",
        "colab_type": "code",
        "colab": {}
      },
      "source": [
        ""
      ],
      "execution_count": 0,
      "outputs": []
    },
    {
      "cell_type": "code",
      "metadata": {
        "id": "VU4cGkRrE-Ah",
        "colab_type": "code",
        "colab": {}
      },
      "source": [
        "def CrossEntropy(y_pred, y_true):\n",
        "    if y == 1:\n",
        "      return -log(yHat)\n",
        "    else:\n",
        "      return -log(1 - yHat)"
      ],
      "execution_count": 0,
      "outputs": []
    },
    {
      "cell_type": "code",
      "metadata": {
        "id": "ICWMjBKtD5nw",
        "colab_type": "code",
        "colab": {}
      },
      "source": [
        "def ultimate_loss(y_true, y_pred):\n",
        "\n",
        "  loss = tf.reduce_sum(tf.nn.sigmoid_cross_entropy_with_logits(labels=y_true, logits=y_pred)) / 42\n",
        "\n",
        "  return loss"
      ],
      "execution_count": 0,
      "outputs": []
    },
    {
      "cell_type": "code",
      "metadata": {
        "id": "m8ltRYJO1CKk",
        "colab_type": "code",
        "colab": {}
      },
      "source": [
        "input_image = Input(shape=(300, 300, 3)) \n",
        "#input_image = tf.convert_to_tensor(np.zeros(shape=(300,300,3)))\n",
        "\n",
        "#############################################################\n",
        "####### VGG16 Model  ########################################\n",
        "#############################################################\n",
        "# Block 1\n",
        "net = layers.Conv2D(64, (3, 3),\n",
        "                  activation='relu',\n",
        "                  padding='same',\n",
        "                  name='block1_conv1', trainable=False)(input_image)\n",
        "net = BatchNormalization()(net)\n",
        "net = layers.Conv2D(64, (3, 3),\n",
        "                  activation='relu',\n",
        "                  padding='same',\n",
        "                  name='block1_conv2', trainable=False)(net)\n",
        "net = BatchNormalization()(net)\n",
        "net = layers.MaxPooling2D((2, 2), strides=(2, 2), name='block1_pool')(net)\n",
        "\n",
        "# Block 2\n",
        "net = layers.Conv2D(128, (3, 3),\n",
        "                  activation='relu',\n",
        "                  padding='same',\n",
        "                  name='block2_conv1', trainable=False)(net)\n",
        "net = BatchNormalization()(net)\n",
        "net = layers.Conv2D(128, (3, 3),\n",
        "                  activation='relu',\n",
        "                  padding='same',\n",
        "                  name='block2_conv2', trainable=False)(net)\n",
        "net = BatchNormalization()(net)\n",
        "net = layers.MaxPooling2D((2, 2), strides=(2, 2), name='block2_pool')(net)\n",
        "\n",
        "# Block 3\n",
        "net = layers.Conv2D(256, (3, 3),\n",
        "                  activation='relu',\n",
        "                  padding='same',\n",
        "                  name='block3_conv1', trainable=False)(net)\n",
        "net = BatchNormalization()(net)\n",
        "net = layers.Conv2D(256, (3, 3),\n",
        "                  activation='relu',\n",
        "                  padding='same',\n",
        "                  name='block3_conv2')(net)\n",
        "net = BatchNormalization()(net)\n",
        "net = layers.Conv2D(256, (3, 3),\n",
        "                  activation='relu',\n",
        "                  padding='same',\n",
        "                  name='block3_conv3', trainable=False)(net)\n",
        "net = BatchNormalization()(net)\n",
        "net = layers.MaxPooling2D((2, 2), strides=(2, 2), name='block3_pool')(net)\n",
        "\n",
        "# Block 4\n",
        "net = layers.Conv2D(512, (3, 3),\n",
        "                  activation='relu',\n",
        "                  padding='same',\n",
        "                  name='block4_conv1', trainable=False)(net)\n",
        "net = BatchNormalization()(net)\n",
        "net = layers.Conv2D(512, (3, 3),\n",
        "                  activation='relu',\n",
        "                  padding='same',\n",
        "                  name='block4_conv2', trainable=False)(net)\n",
        "net = BatchNormalization()(net)\n",
        "net = layers.Conv2D(512, (3, 3),\n",
        "                  activation='relu',\n",
        "                  padding='same',\n",
        "                  name='block4_conv3', trainable=False)(net)\n",
        "net = BatchNormalization()(net)\n",
        "net = layers.MaxPooling2D((2, 2), strides=(2, 2), name='block4_pool')(net)\n",
        "\n",
        "# Block 5\n",
        "net = layers.Conv2D(512, (3, 3),\n",
        "                  activation='relu',\n",
        "                  padding='same',\n",
        "                  name='block5_conv1', trainable=False)(net)\n",
        "net = BatchNormalization()(net)\n",
        "net = layers.Conv2D(512, (3, 3),\n",
        "                  activation='relu',\n",
        "                  padding='same',\n",
        "                  name='block5_conv2', trainable=False)(net)\n",
        "net = BatchNormalization()(net)\n",
        "net = layers.Conv2D(512, (3, 3),\n",
        "                  activation='relu',\n",
        "                  padding='same',\n",
        "                  name='block5_conv3', trainable=False)(net)\n",
        "net = BatchNormalization()(net)\n",
        "\n",
        "\n",
        "\"\"\"\n",
        "net = layers.Conv2D(100, (3, 3),\n",
        "                  activation='relu',\n",
        "                  padding='same',\n",
        "                  name='blockA_conv1')(net)\n",
        "\n",
        "net = layers.Conv2D(100, (3, 3),\n",
        "                  activation='relu',\n",
        "                  padding='same',\n",
        "                  name='blockA_conv2')(net)\n",
        "\n",
        "net = layers.Conv2D(100, (3, 3),\n",
        "                  activation='relu',\n",
        "                  padding='same',\n",
        "                  name='blockA_conv3')(net)\n",
        "\n",
        "\n",
        "net = layers.Conv2D(100, (15, 15),\n",
        "                  activation='relu',\n",
        "                  padding='same',\n",
        "                  name='blockA_conv4')(net)\n",
        "\"\"\"\n",
        "\n",
        "net = layers.Conv2D(100, (15, 15),\n",
        "                  activation='relu',\n",
        "                  padding='same',\n",
        "                  name='blockA_conv5')(net)\n",
        "\n",
        "\n",
        "\n",
        "net = layers.Conv2D(100, (5, 5),\n",
        "                  activation='relu',\n",
        "                  padding='same',\n",
        "                  name='blockB_conv1')(net)\n",
        "\n",
        "net = layers.Conv2D(50, (3, 3),\n",
        "                  activation='relu',\n",
        "                  padding='same',\n",
        "                  name='blockB_conv2')(net)\n",
        "\n",
        "net = layers.Conv2D(20, (3, 3),\n",
        "                  activation='softmax',\n",
        "                  padding='same',\n",
        "                  name='blockB_conv3')(net)\n",
        "\n",
        "\n"
      ],
      "execution_count": 0,
      "outputs": []
    },
    {
      "cell_type": "code",
      "metadata": {
        "id": "HA2D5LQH3K52",
        "colab_type": "code",
        "colab": {}
      },
      "source": [
        "model = Model(input_image, net)"
      ],
      "execution_count": 0,
      "outputs": []
    },
    {
      "cell_type": "code",
      "metadata": {
        "id": "GshtJmNrDthW",
        "colab_type": "code",
        "colab": {}
      },
      "source": [
        "model.load_weights('classifier_august/Classifier20epoch.h5',by_name=True)"
      ],
      "execution_count": 0,
      "outputs": []
    },
    {
      "cell_type": "code",
      "metadata": {
        "id": "HsdsJfMNENjO",
        "colab_type": "code",
        "colab": {}
      },
      "source": [
        "optimizer = SGD(lr=0.1, decay=0.0, momentum=0.9)\n",
        "\n",
        "model.compile(loss=ultimate_loss, optimizer=optimizer, metrics=['accuracy'])\n",
        "\n"
      ],
      "execution_count": 0,
      "outputs": []
    },
    {
      "cell_type": "code",
      "metadata": {
        "id": "W9iqvz2BEW9o",
        "colab_type": "code",
        "outputId": "2a493246-42c5-4e5d-e259-e1b158f4a496",
        "colab": {
          "base_uri": "https://localhost:8080/",
          "height": 68
        }
      },
      "source": [
        "model.fit(x=X, y=Y, batch_size=42, epochs=1, verbose=1)"
      ],
      "execution_count": 0,
      "outputs": [
        {
          "output_type": "stream",
          "text": [
            "Epoch 1/1\n",
            "4952/4952 [==============================] - 256s 52ms/step - loss: 4652.0964 - acc: 0.0065\n"
          ],
          "name": "stdout"
        },
        {
          "output_type": "execute_result",
          "data": {
            "text/plain": [
              "<keras.callbacks.History at 0x7fc77236cc18>"
            ]
          },
          "metadata": {
            "tags": []
          },
          "execution_count": 30
        }
      ]
    },
    {
      "cell_type": "code",
      "metadata": {
        "id": "IZX3JBYMHeN8",
        "colab_type": "code",
        "outputId": "cc37287b-a41e-4293-fc43-9b1a8b311529",
        "colab": {
          "base_uri": "https://localhost:8080/",
          "height": 204
        }
      },
      "source": [
        "model.fit(X, Y, batch_size=42, epochs=5)"
      ],
      "execution_count": 0,
      "outputs": [
        {
          "output_type": "stream",
          "text": [
            "Epoch 1/5\n",
            "4952/4952 [==============================] - 250s 51ms/step - loss: 4652.0911 - acc: 0.0028\n",
            "Epoch 2/5\n",
            "4952/4952 [==============================] - 250s 51ms/step - loss: 4652.0911 - acc: 0.0028\n",
            "Epoch 3/5\n",
            "4952/4952 [==============================] - 250s 50ms/step - loss: 4652.0911 - acc: 0.0028\n",
            "Epoch 4/5\n",
            "4952/4952 [==============================] - 249s 50ms/step - loss: 4652.0911 - acc: 0.0028\n",
            "Epoch 5/5\n",
            "4952/4952 [==============================] - 249s 50ms/step - loss: 4652.0911 - acc: 0.0028\n"
          ],
          "name": "stdout"
        },
        {
          "output_type": "execute_result",
          "data": {
            "text/plain": [
              "<keras.callbacks.History at 0x7fc7726d1ac8>"
            ]
          },
          "metadata": {
            "tags": []
          },
          "execution_count": 31
        }
      ]
    },
    {
      "cell_type": "code",
      "metadata": {
        "id": "yAoVJj6KOrtT",
        "colab_type": "code",
        "colab": {}
      },
      "source": [
        "model.fit(X, Y, batch_size=42, epochs=5)"
      ],
      "execution_count": 0,
      "outputs": []
    },
    {
      "cell_type": "code",
      "metadata": {
        "id": "tO0yn1VrgH7Y",
        "colab_type": "code",
        "colab": {}
      },
      "source": [
        "model.fit(X, Y, batch_size=42, epochs=5)"
      ],
      "execution_count": 0,
      "outputs": []
    },
    {
      "cell_type": "code",
      "metadata": {
        "id": "zFuzYwuuzfDJ",
        "colab_type": "code",
        "colab": {}
      },
      "source": [
        "#model.save_weights('18*18_Classifier16epoch.h5')"
      ],
      "execution_count": 0,
      "outputs": []
    },
    {
      "cell_type": "code",
      "metadata": {
        "id": "LWMGHnBC8zHD",
        "colab_type": "code",
        "colab": {}
      },
      "source": [
        "model.fit(X, Y, batch_size=42, epochs=5)"
      ],
      "execution_count": 0,
      "outputs": []
    },
    {
      "cell_type": "code",
      "metadata": {
        "id": "7YWnM6mn87nu",
        "colab_type": "code",
        "colab": {}
      },
      "source": [
        "model.fit(X, Y, batch_size=42, epochs=5)"
      ],
      "execution_count": 0,
      "outputs": []
    },
    {
      "cell_type": "code",
      "metadata": {
        "id": "AIqTHob_BnNk",
        "colab_type": "code",
        "colab": {}
      },
      "source": [
        "model.fit(X, Y, batch_size=42, epochs=5)"
      ],
      "execution_count": 0,
      "outputs": []
    },
    {
      "cell_type": "code",
      "metadata": {
        "id": "xd_f6P4QHalK",
        "colab_type": "code",
        "colab": {}
      },
      "source": [
        "#model.save_weights('18*18_Classifier31epoch.h5')"
      ],
      "execution_count": 0,
      "outputs": []
    },
    {
      "cell_type": "code",
      "metadata": {
        "id": "zYIkGpwtNG59",
        "colab_type": "code",
        "colab": {}
      },
      "source": [
        "ls"
      ],
      "execution_count": 0,
      "outputs": []
    },
    {
      "cell_type": "code",
      "metadata": {
        "id": "lQ_JCOzkXSW8",
        "colab_type": "code",
        "colab": {}
      },
      "source": [
        ""
      ],
      "execution_count": 0,
      "outputs": []
    }
  ]
}