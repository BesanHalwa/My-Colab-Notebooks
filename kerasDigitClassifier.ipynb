{
  "nbformat": 4,
  "nbformat_minor": 0,
  "metadata": {
    "colab": {
      "name": "kerasDigitClassifier.ipynb",
      "version": "0.3.2",
      "provenance": []
    },
    "kernelspec": {
      "name": "python3",
      "display_name": "Python 3"
    }
  },
  "cells": [
    {
      "cell_type": "code",
      "metadata": {
        "id": "2ebfUlSXTg3w",
        "colab_type": "code",
        "colab": {}
      },
      "source": [
        "!pip install -U -q PyDrive ## you will have install for every colab session\n",
        "\n",
        "from pydrive.auth import GoogleAuth\n",
        "from pydrive.drive import GoogleDrive\n",
        "from google.colab import auth\n",
        "from oauth2client.client import GoogleCredentials\n",
        "\n",
        "# 1. Authenticate and create the PyDrive client.\n",
        "auth.authenticate_user()\n",
        "gauth = GoogleAuth()\n",
        "gauth.credentials = GoogleCredentials.get_application_default()\n",
        "drive = GoogleDrive(gauth)"
      ],
      "execution_count": 0,
      "outputs": []
    },
    {
      "cell_type": "code",
      "metadata": {
        "id": "pUHT5vCb8N_S",
        "colab_type": "code",
        "outputId": "744b104f-5e49-4b0f-eb0a-3da1c8eb0f8c",
        "colab": {
          "base_uri": "https://localhost:8080/",
          "height": 136
        }
      },
      "source": [
        "!apt-get install -y -qq software-properties-common python-software-properties module-init-tools\n",
        "!add-apt-repository -y ppa:alessandro-strada/ppa 2>&1 > /dev/null\n",
        "!apt-get update -qq 2>&1 > /dev/null\n",
        "!apt-get -y install -qq google-drive-ocamlfuse fuse\n",
        "from google.colab import auth\n",
        "auth.authenticate_user()\n",
        "from oauth2client.client import GoogleCredentials\n",
        "creds = GoogleCredentials.get_application_default()\n",
        "import getpass\n",
        "!google-drive-ocamlfuse -headless -id={creds.client_id} -secret={creds.client_secret} < /dev/null 2>&1 | grep URL\n",
        "vcode = getpass.getpass()\n",
        "!echo {vcode} | google-drive-ocamlfuse -headless -id={creds.client_id} -secret={creds.client_secret}"
      ],
      "execution_count": 0,
      "outputs": [
        {
          "output_type": "stream",
          "text": [
            "gpg: keybox '/tmp/tmplsvqizm_/pubring.gpg' created\n",
            "gpg: /tmp/tmplsvqizm_/trustdb.gpg: trustdb created\n",
            "gpg: key AD5F235DF639B041: public key \"Launchpad PPA for Alessandro Strada\" imported\n",
            "gpg: Total number processed: 1\n",
            "gpg:               imported: 1\n",
            "Warning: apt-key output should not be parsed (stdout is not a terminal)\n",
            "··········\n"
          ],
          "name": "stdout"
        }
      ]
    },
    {
      "cell_type": "code",
      "metadata": {
        "id": "TTI6Dxm--SB0",
        "colab_type": "code",
        "outputId": "9b85648d-b5e9-4be2-8bc1-64225c8ecbc0",
        "colab": {
          "base_uri": "https://localhost:8080/",
          "height": 51
        }
      },
      "source": [
        "!mkdir -p drive\n",
        "!google-drive-ocamlfuse drive"
      ],
      "execution_count": 0,
      "outputs": [
        {
          "output_type": "stream",
          "text": [
            "fuse: mountpoint is not empty\r\n",
            "fuse: if you are sure this is safe, use the 'nonempty' mount option\r\n"
          ],
          "name": "stdout"
        }
      ]
    },
    {
      "cell_type": "code",
      "metadata": {
        "id": "2l-khB_T-SE1",
        "colab_type": "code",
        "outputId": "71368f46-f026-41e4-b6cb-3ad058422efa",
        "colab": {
          "base_uri": "https://localhost:8080/",
          "height": 867
        }
      },
      "source": [
        "!ls drive"
      ],
      "execution_count": 0,
      "outputs": [
        {
          "output_type": "stream",
          "text": [
            "20180606_151724.mp4\r\n",
            "ACM ICPC.odt\r\n",
            "Application overview.odt\r\n",
            "BeeWare Essay.odt\r\n",
            "BHU PROJECT.odt\r\n",
            "CD Unit -1.pdf\r\n",
            "cd unit 3.pdf\r\n",
            "CD Unit - 4.pdf\r\n",
            "CD Unit -5.pdf\r\n",
            "Colab Notebooks\r\n",
            "Companies.ods\r\n",
            "Copy of Cover Letter.odt\r\n",
            "Copy of Eshan's Resume.odt\r\n",
            "Cover Letter.odt\r\n",
            "DataScienceBookV3.pdf\r\n",
            "Data Structure\r\n",
            "DeepNeuralNetworks\r\n",
            "Draft BeeWare.odt\r\n",
            "Eshan's Resume.odt\r\n",
            "ETicket\r\n",
            "Genetic Algorithm.odt\r\n",
            "GSoC Proposal to Aimacode for Aimacode_Python.odt\r\n",
            "Java Traning Assignment 1 WelTec.odt\r\n",
            "Java Traning Assignment 1 WelTec.odt (589ac6ea)\r\n",
            "Paper.pdf\r\n",
            "Power Point Presentation.pdf\r\n",
            "resume_latest.pdf\r\n",
            "Schol chle hm!!\r\n",
            "Shiv Mandir\r\n",
            "TechSmith\r\n",
            "testModel.ipynb\r\n",
            "this.mp4\r\n",
            "TrainData\r\n",
            "unit2 cd.pdf\r\n",
            "Untitled document.odt\r\n",
            "Untitled document.odt (2901b5d1)\r\n",
            "Untitled document.odt (70918aa5)\r\n",
            "Untitled document.odt (8c68fcee)\r\n",
            "Untitled document.odt (a29b122a)\r\n",
            "Untitled document.odt (bd14a30f)\r\n",
            "Untitled document.odt (cdb95678)\r\n",
            "Untitled document.odt (d25e2089)\r\n",
            "Untitled document.odt (f447c082)\r\n",
            "Untitled drawing.png\r\n",
            "Untitled drawing.png (15fa0c46)\r\n",
            "Untitled drawing.png (3ae2f6da)\r\n",
            "Untitled drawing.png (3e967658)\r\n",
            "Untitled drawing.png (9187a793)\r\n",
            "Untitled spreadsheet.ods\r\n",
            "UPDATE-SuperSU-v2.46.zip (Unzipped Files)\r\n"
          ],
          "name": "stdout"
        }
      ]
    },
    {
      "cell_type": "code",
      "metadata": {
        "id": "YwFeHj8w23Kq",
        "colab_type": "code",
        "colab": {}
      },
      "source": [
        "from google.colab import files"
      ],
      "execution_count": 0,
      "outputs": []
    },
    {
      "cell_type": "code",
      "metadata": {
        "id": "r20JrD7g-SHU",
        "colab_type": "code",
        "colab": {}
      },
      "source": [
        "Folder = drive.CreateFile({'id':'1yQECTj2sE8Ra4BTv8CtD39H6tJ3KEzIl'})\n"
      ],
      "execution_count": 0,
      "outputs": []
    },
    {
      "cell_type": "code",
      "metadata": {
        "id": "LGTh17Rt-kOn",
        "colab_type": "code",
        "outputId": "ce7ddd54-f6a1-497c-9ec1-9485645f314d",
        "colab": {
          "base_uri": "https://localhost:8080/",
          "height": 34
        }
      },
      "source": [
        "type(Folder)"
      ],
      "execution_count": 0,
      "outputs": [
        {
          "output_type": "execute_result",
          "data": {
            "text/plain": [
              "pydrive.files.GoogleDriveFile"
            ]
          },
          "metadata": {
            "tags": []
          },
          "execution_count": 34
        }
      ]
    },
    {
      "cell_type": "code",
      "metadata": {
        "id": "MZkJwShS-kRu",
        "colab_type": "code",
        "colab": {}
      },
      "source": [
        ""
      ],
      "execution_count": 0,
      "outputs": []
    },
    {
      "cell_type": "code",
      "metadata": {
        "id": "dJF7JWAl-kU9",
        "colab_type": "code",
        "colab": {}
      },
      "source": [
        ""
      ],
      "execution_count": 0,
      "outputs": []
    },
    {
      "cell_type": "code",
      "metadata": {
        "id": "6NNTWG8M-SKq",
        "colab_type": "code",
        "colab": {}
      },
      "source": [
        ""
      ],
      "execution_count": 0,
      "outputs": []
    },
    {
      "cell_type": "code",
      "metadata": {
        "id": "LLWNaErl-SNU",
        "colab_type": "code",
        "colab": {}
      },
      "source": [
        ""
      ],
      "execution_count": 0,
      "outputs": []
    },
    {
      "cell_type": "code",
      "metadata": {
        "id": "pkRkSP6v-SQY",
        "colab_type": "code",
        "colab": {}
      },
      "source": [
        ""
      ],
      "execution_count": 0,
      "outputs": []
    },
    {
      "cell_type": "code",
      "metadata": {
        "id": "g7xGm5yzTrhB",
        "colab_type": "code",
        "outputId": "3d1a5a42-6836-4692-d09f-6adf01fc5c0f",
        "colab": {
          "base_uri": "https://localhost:8080/",
          "height": 51
        }
      },
      "source": [
        "!mkdir -p drive\n",
        "!google-drive-ocamlfuse drive"
      ],
      "execution_count": 0,
      "outputs": [
        {
          "output_type": "stream",
          "text": [
            "fuse: mountpoint is not empty\r\n",
            "fuse: if you are sure this is safe, use the 'nonempty' mount option\r\n"
          ],
          "name": "stdout"
        }
      ]
    },
    {
      "cell_type": "code",
      "metadata": {
        "id": "1RE_Xx8xb3Be",
        "colab_type": "code",
        "outputId": "049925bd-0c1b-46e4-c2b3-6710270b404f",
        "colab": {
          "base_uri": "https://localhost:8080/",
          "height": 728
        }
      },
      "source": [
        "# import modules\n",
        "import glob\n",
        "import numpy as np\n",
        "import cv2\n",
        "from random import shuffle\n",
        "\n",
        "# resize images    \n",
        "for img in glob.iglob(\"TrainData/*.png\"):\n",
        "    im = cv2.imread(img)\n",
        "    im_resize = cv2.resize(im,(50,50))\n",
        "    cv2.imwrite(img, im_resize)\n",
        "    \n",
        "# Load image names in ramdom manner\n",
        "image_list = [img for img in glob.iglob(\"TrainData/*.png\")]\n",
        "shuffle(image_list)\n",
        "\n",
        "# Load Data\n",
        "X_data = np.empty(shape=[len(image_list), 50, 50, 3])\n",
        "Y_data = np.zeros((10160, 10))\n",
        "\n",
        "i = 0\n",
        "for image in image_list:\n",
        "    X_data[i] = cv2.imread(image)\n",
        "    index = int(image_list[i][15:16]) - 1\n",
        "    Y_data[i][index] = 1\n",
        "    i = i + 1\n",
        "    \n",
        "Y_data = Y_data.astype(int)\n",
        "\n",
        "for i in range(len(Y_data)):\n",
        "    for j in range(10):\n",
        "        if Y_data[i,j] == -1:\n",
        "            Y_data[i,j] = 9\n",
        "X_data = X_data / 255\n",
        "\n",
        "\n",
        "# len(image_list) = 10160\n",
        "# training data\n",
        "X_train = X_data[0:8000]\n",
        "Y_train = Y_data[0:8000]\n",
        "\n",
        "# test data\n",
        "X_test = X_data[8000:10160]\n",
        "Y_test = Y_data[8000:10160]\n",
        "\n",
        "# import modules\n",
        "from keras.models import Sequential\n",
        "from keras.layers import Conv2D, MaxPooling2D\n",
        "from keras.layers import Activation, Dropout, Flatten, Dense\n",
        "from keras.layers.normalization import BatchNormalization\n",
        "from keras import optimizers\n",
        "\n",
        "model = Sequential()\n",
        "\n",
        "model.add(Conv2D(32, (3, 3), input_shape=(50,50,3)))\n",
        "model.add(Activation('relu'))\n",
        "BatchNormalization(axis=-1)\n",
        "model.add(Conv2D(32, (3, 3)))\n",
        "model.add(Activation('relu'))\n",
        "model.add(MaxPooling2D(pool_size=(2,2)))\n",
        "\n",
        "BatchNormalization(axis=-1)\n",
        "model.add(Conv2D(64,(3, 3)))\n",
        "model.add(Activation('relu'))\n",
        "BatchNormalization(axis=-1)\n",
        "model.add(Conv2D(64, (3, 3)))\n",
        "model.add(Activation('relu'))\n",
        "model.add(MaxPooling2D(pool_size=(2,2)))\n",
        "\n",
        "model.add(Flatten())\n",
        "# Fully connected layer\n",
        "\n",
        "BatchNormalization()\n",
        "model.add(Dense(512))\n",
        "model.add(Activation('relu'))\n",
        "BatchNormalization()\n",
        "model.add(Dropout(0.2))\n",
        "model.add(Dense(10))\n",
        "\n",
        "model.add(Activation('softmax'))\n",
        "\n",
        "sgd = optimizers.SGD(lr=0.01, clipvalue=0.5)\n",
        "model.compile(loss='mean_squared_error',\n",
        "              optimizer=sgd,\n",
        "              metrics=['accuracy'])\n",
        "\n",
        "\n",
        "model.fit(X_train, Y_train,\n",
        "          epochs=45,\n",
        "          batch_size=10)\n",
        "\n",
        "score = model.evaluate(X_test, Y_test, batch_size=32)\n",
        "print(\"--------------------------------------------\")\n",
        "print(\"Score is\",score)\n",
        "\n",
        "# save weights\n",
        "#model.save_weights('keras_digit_classifier.h5')"
      ],
      "execution_count": 0,
      "outputs": [
        {
          "output_type": "error",
          "ename": "ValueError",
          "evalue": "ignored",
          "traceback": [
            "\u001b[0;31m---------------------------------------------------------------------------\u001b[0m",
            "\u001b[0;31mValueError\u001b[0m                                Traceback (most recent call last)",
            "\u001b[0;32m<ipython-input-11-37789f905718>\u001b[0m in \u001b[0;36m<module>\u001b[0;34m()\u001b[0m\n\u001b[1;32m     87\u001b[0m model.fit(X_train, Y_train,\n\u001b[1;32m     88\u001b[0m           \u001b[0mepochs\u001b[0m\u001b[0;34m=\u001b[0m\u001b[0;36m45\u001b[0m\u001b[0;34m,\u001b[0m\u001b[0;34m\u001b[0m\u001b[0m\n\u001b[0;32m---> 89\u001b[0;31m           batch_size=10)\n\u001b[0m\u001b[1;32m     90\u001b[0m \u001b[0;34m\u001b[0m\u001b[0m\n\u001b[1;32m     91\u001b[0m \u001b[0mscore\u001b[0m \u001b[0;34m=\u001b[0m \u001b[0mmodel\u001b[0m\u001b[0;34m.\u001b[0m\u001b[0mevaluate\u001b[0m\u001b[0;34m(\u001b[0m\u001b[0mX_test\u001b[0m\u001b[0;34m,\u001b[0m \u001b[0mY_test\u001b[0m\u001b[0;34m,\u001b[0m \u001b[0mbatch_size\u001b[0m\u001b[0;34m=\u001b[0m\u001b[0;36m32\u001b[0m\u001b[0;34m)\u001b[0m\u001b[0;34m\u001b[0m\u001b[0m\n",
            "\u001b[0;32m/usr/local/lib/python3.6/dist-packages/keras/models.py\u001b[0m in \u001b[0;36mfit\u001b[0;34m(self, x, y, batch_size, epochs, verbose, callbacks, validation_split, validation_data, shuffle, class_weight, sample_weight, initial_epoch, steps_per_epoch, validation_steps, **kwargs)\u001b[0m\n\u001b[1;32m   1000\u001b[0m                               \u001b[0minitial_epoch\u001b[0m\u001b[0;34m=\u001b[0m\u001b[0minitial_epoch\u001b[0m\u001b[0;34m,\u001b[0m\u001b[0;34m\u001b[0m\u001b[0m\n\u001b[1;32m   1001\u001b[0m                               \u001b[0msteps_per_epoch\u001b[0m\u001b[0;34m=\u001b[0m\u001b[0msteps_per_epoch\u001b[0m\u001b[0;34m,\u001b[0m\u001b[0;34m\u001b[0m\u001b[0m\n\u001b[0;32m-> 1002\u001b[0;31m                               validation_steps=validation_steps)\n\u001b[0m\u001b[1;32m   1003\u001b[0m \u001b[0;34m\u001b[0m\u001b[0m\n\u001b[1;32m   1004\u001b[0m     def evaluate(self, x=None, y=None,\n",
            "\u001b[0;32m/usr/local/lib/python3.6/dist-packages/keras/engine/training.py\u001b[0m in \u001b[0;36mfit\u001b[0;34m(self, x, y, batch_size, epochs, verbose, callbacks, validation_split, validation_data, shuffle, class_weight, sample_weight, initial_epoch, steps_per_epoch, validation_steps, **kwargs)\u001b[0m\n\u001b[1;32m   1628\u001b[0m             \u001b[0msample_weight\u001b[0m\u001b[0;34m=\u001b[0m\u001b[0msample_weight\u001b[0m\u001b[0;34m,\u001b[0m\u001b[0;34m\u001b[0m\u001b[0m\n\u001b[1;32m   1629\u001b[0m             \u001b[0mclass_weight\u001b[0m\u001b[0;34m=\u001b[0m\u001b[0mclass_weight\u001b[0m\u001b[0;34m,\u001b[0m\u001b[0;34m\u001b[0m\u001b[0m\n\u001b[0;32m-> 1630\u001b[0;31m             batch_size=batch_size)\n\u001b[0m\u001b[1;32m   1631\u001b[0m         \u001b[0;31m# Prepare validation data.\u001b[0m\u001b[0;34m\u001b[0m\u001b[0;34m\u001b[0m\u001b[0m\n\u001b[1;32m   1632\u001b[0m         \u001b[0mdo_validation\u001b[0m \u001b[0;34m=\u001b[0m \u001b[0;32mFalse\u001b[0m\u001b[0;34m\u001b[0m\u001b[0m\n",
            "\u001b[0;32m/usr/local/lib/python3.6/dist-packages/keras/engine/training.py\u001b[0m in \u001b[0;36m_standardize_user_data\u001b[0;34m(self, x, y, sample_weight, class_weight, check_array_lengths, batch_size)\u001b[0m\n\u001b[1;32m   1488\u001b[0m \u001b[0;34m\u001b[0m\u001b[0m\n\u001b[1;32m   1489\u001b[0m         \u001b[0;32mif\u001b[0m \u001b[0mcheck_array_lengths\u001b[0m\u001b[0;34m:\u001b[0m\u001b[0;34m\u001b[0m\u001b[0m\n\u001b[0;32m-> 1490\u001b[0;31m             \u001b[0m_check_array_lengths\u001b[0m\u001b[0;34m(\u001b[0m\u001b[0mx\u001b[0m\u001b[0;34m,\u001b[0m \u001b[0my\u001b[0m\u001b[0;34m,\u001b[0m \u001b[0msample_weights\u001b[0m\u001b[0;34m)\u001b[0m\u001b[0;34m\u001b[0m\u001b[0m\n\u001b[0m\u001b[1;32m   1491\u001b[0m         _check_loss_and_target_compatibility(y,\n\u001b[1;32m   1492\u001b[0m                                              \u001b[0mself\u001b[0m\u001b[0;34m.\u001b[0m\u001b[0m_feed_loss_fns\u001b[0m\u001b[0;34m,\u001b[0m\u001b[0;34m\u001b[0m\u001b[0m\n",
            "\u001b[0;32m/usr/local/lib/python3.6/dist-packages/keras/engine/training.py\u001b[0m in \u001b[0;36m_check_array_lengths\u001b[0;34m(inputs, targets, weights)\u001b[0m\n\u001b[1;32m    218\u001b[0m                          \u001b[0;34m'the same number of samples as target arrays. '\u001b[0m\u001b[0;34m\u001b[0m\u001b[0m\n\u001b[1;32m    219\u001b[0m                          \u001b[0;34m'Found '\u001b[0m \u001b[0;34m+\u001b[0m \u001b[0mstr\u001b[0m\u001b[0;34m(\u001b[0m\u001b[0mlist\u001b[0m\u001b[0;34m(\u001b[0m\u001b[0mset_x\u001b[0m\u001b[0;34m)\u001b[0m\u001b[0;34m[\u001b[0m\u001b[0;36m0\u001b[0m\u001b[0;34m]\u001b[0m\u001b[0;34m)\u001b[0m \u001b[0;34m+\u001b[0m \u001b[0;34m' input samples '\u001b[0m\u001b[0;34m\u001b[0m\u001b[0m\n\u001b[0;32m--> 220\u001b[0;31m                          'and ' + str(list(set_y)[0]) + ' target samples.')\n\u001b[0m\u001b[1;32m    221\u001b[0m     \u001b[0;32mif\u001b[0m \u001b[0mlen\u001b[0m\u001b[0;34m(\u001b[0m\u001b[0mset_w\u001b[0m\u001b[0;34m)\u001b[0m \u001b[0;34m>\u001b[0m \u001b[0;36m1\u001b[0m\u001b[0;34m:\u001b[0m\u001b[0;34m\u001b[0m\u001b[0m\n\u001b[1;32m    222\u001b[0m         raise ValueError('All sample_weight arrays should have '\n",
            "\u001b[0;31mValueError\u001b[0m: Input arrays should have the same number of samples as target arrays. Found 0 input samples and 8000 target samples."
          ]
        }
      ]
    },
    {
      "cell_type": "code",
      "metadata": {
        "id": "Lk1wR61u-Fjq",
        "colab_type": "code",
        "colab": {}
      },
      "source": [
        ""
      ],
      "execution_count": 0,
      "outputs": []
    },
    {
      "cell_type": "code",
      "metadata": {
        "id": "pgD7AIOJ-Fmn",
        "colab_type": "code",
        "colab": {}
      },
      "source": [
        ""
      ],
      "execution_count": 0,
      "outputs": []
    },
    {
      "cell_type": "code",
      "metadata": {
        "id": "TT6Tyz0l-Fpl",
        "colab_type": "code",
        "colab": {}
      },
      "source": [
        ""
      ],
      "execution_count": 0,
      "outputs": []
    },
    {
      "cell_type": "code",
      "metadata": {
        "id": "5kI2RXaV-FtC",
        "colab_type": "code",
        "colab": {}
      },
      "source": [
        ""
      ],
      "execution_count": 0,
      "outputs": []
    },
    {
      "cell_type": "code",
      "metadata": {
        "id": "dgB2B3_52UgU",
        "colab_type": "code",
        "colab": {}
      },
      "source": [
        "import cv2"
      ],
      "execution_count": 0,
      "outputs": []
    },
    {
      "cell_type": "code",
      "metadata": {
        "id": "RUqbMxzO2efD",
        "colab_type": "code",
        "outputId": "a5ca8baa-3dd5-4466-9ed6-6c1cd2b41145",
        "colab": {
          "base_uri": "https://localhost:8080/",
          "height": 850
        }
      },
      "source": [
        "#https://drive.google.com/open?id=1JluuiEkzl5-xBUJck32qNUBJJgpqJLFI\n",
        "image = drive.CreateFile({'id':'1JluuiEkzl5-xBUJck32qNUBJJgpqJLFI'})\n",
        "image.GetContentFile('Screen Shot 2018-07-04 at 3.39.03 PM')\n",
        "im = cv2.imread('Screen Shot 2018-07-04 at 3.39.03 PM')\n",
        "print(im)"
      ],
      "execution_count": 0,
      "outputs": [
        {
          "output_type": "stream",
          "text": [
            "[[[ 48  45   1]\n",
            "  [112 111  61]\n",
            "  [143 143  79]\n",
            "  ...\n",
            "  [192 198 209]\n",
            "  [192 198 209]\n",
            "  [193 200 209]]\n",
            "\n",
            " [[ 47  44   0]\n",
            "  [112 111  61]\n",
            "  [144 144  80]\n",
            "  ...\n",
            "  [191 197 210]\n",
            "  [191 197 208]\n",
            "  [191 197 208]]\n",
            "\n",
            " [[ 47  44   0]\n",
            "  [112 111  61]\n",
            "  [145 145  81]\n",
            "  ...\n",
            "  [189 196 211]\n",
            "  [188 196 209]\n",
            "  [188 196 209]]\n",
            "\n",
            " ...\n",
            "\n",
            " [[ 44  35  15]\n",
            "  [ 97  90  65]\n",
            "  [125 120  87]\n",
            "  ...\n",
            "  [ 78  60  53]\n",
            "  [ 79  61  54]\n",
            "  [ 79  61  54]]\n",
            "\n",
            " [[ 11   3   0]\n",
            "  [ 13   7   0]\n",
            "  [ 16  12   0]\n",
            "  ...\n",
            "  [ 13   1   0]\n",
            "  [ 13   1   0]\n",
            "  [ 14   2   0]]\n",
            "\n",
            " [[  9   4   6]\n",
            "  [  4   0   0]\n",
            "  [  8   6   0]\n",
            "  ...\n",
            "  [  8   0   0]\n",
            "  [  9   1   1]\n",
            "  [  9   1   1]]]\n"
          ],
          "name": "stdout"
        }
      ]
    },
    {
      "cell_type": "code",
      "metadata": {
        "id": "g-Fzzv3R2tg8",
        "colab_type": "code",
        "colab": {}
      },
      "source": [
        ""
      ],
      "execution_count": 0,
      "outputs": []
    },
    {
      "cell_type": "code",
      "metadata": {
        "id": "lyAlc3XU5PUY",
        "colab_type": "code",
        "outputId": "01e05d6e-185e-44f5-9f54-0311f17df053",
        "colab": {
          "base_uri": "https://localhost:8080/",
          "height": 34
        }
      },
      "source": [
        "!pwd drive"
      ],
      "execution_count": 0,
      "outputs": [
        {
          "output_type": "stream",
          "text": [
            "/content\r\n"
          ],
          "name": "stdout"
        }
      ]
    },
    {
      "cell_type": "code",
      "metadata": {
        "id": "Omh6Ay-z6Kir",
        "colab_type": "code",
        "outputId": "74e28613-6dde-4d2c-863b-ff70c1dac8d5",
        "colab": {
          "base_uri": "https://localhost:8080/",
          "height": 164
        }
      },
      "source": [
        "#https://drive.google.com/open?id=1yQECTj2sE8Ra4BTv8CtD39H6tJ3KEzIl\n",
        "Folder = drive.CreateFile({'id':'1yQECTj2sE8Ra4BTv8CtD39H6tJ3KEzIl'})"
      ],
      "execution_count": 0,
      "outputs": [
        {
          "output_type": "error",
          "ename": "NameError",
          "evalue": "ignored",
          "traceback": [
            "\u001b[0;31m---------------------------------------------------------------------------\u001b[0m",
            "\u001b[0;31mNameError\u001b[0m                                 Traceback (most recent call last)",
            "\u001b[0;32m<ipython-input-23-a6bca5138536>\u001b[0m in \u001b[0;36m<module>\u001b[0;34m()\u001b[0m\n\u001b[0;32m----> 1\u001b[0;31m \u001b[0mFolder\u001b[0m \u001b[0;34m=\u001b[0m \u001b[0mdrive\u001b[0m\u001b[0;34m.\u001b[0m\u001b[0mCreateFile\u001b[0m\u001b[0;34m(\u001b[0m\u001b[0;34m{\u001b[0m\u001b[0;34m'id'\u001b[0m\u001b[0;34m:\u001b[0m\u001b[0;34m'1yQECTj2sE8Ra4BTv8CtD39H6tJ3KEzIl'\u001b[0m\u001b[0;34m}\u001b[0m\u001b[0;34m)\u001b[0m\u001b[0;34m\u001b[0m\u001b[0m\n\u001b[0m",
            "\u001b[0;31mNameError\u001b[0m: name 'drive' is not defined"
          ]
        }
      ]
    },
    {
      "cell_type": "code",
      "metadata": {
        "id": "pPkKUUdC6yyB",
        "colab_type": "code",
        "colab": {}
      },
      "source": [
        ""
      ],
      "execution_count": 0,
      "outputs": []
    }
  ]
}