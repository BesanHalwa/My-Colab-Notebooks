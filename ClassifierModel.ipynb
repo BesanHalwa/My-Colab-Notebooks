{
  "nbformat": 4,
  "nbformat_minor": 0,
  "metadata": {
    "colab": {
      "name": "ClassifierModel.ipynb",
      "version": "0.3.2",
      "provenance": []
    },
    "kernelspec": {
      "name": "python3",
      "display_name": "Python 3"
    },
    "accelerator": "GPU"
  },
  "cells": [
    {
      "cell_type": "code",
      "metadata": {
        "id": "imznyCjl90i0",
        "colab_type": "code",
        "colab": {}
      },
      "source": [
        "!apt-get install -y -qq software-properties-common python-software-properties module-init-tools\n",
        "!add-apt-repository -y ppa:alessandro-strada/ppa 2>&1 > /dev/null\n",
        "!apt-get update -qq 2>&1 > /dev/null\n",
        "!apt-get -y install -qq google-drive-ocamlfuse fuse\n",
        "from google.colab import auth\n",
        "auth.authenticate_user()\n",
        "from oauth2client.client import GoogleCredentials\n",
        "creds = GoogleCredentials.get_application_default()\n",
        "import getpass\n",
        "!google-drive-ocamlfuse -headless -id={creds.client_id} -secret={creds.client_secret} < /dev/null 2>&1 | grep URL\n",
        "vcode = getpass.getpass()\n",
        "!echo {vcode} | google-drive-ocamlfuse -headless -id={creds.client_id} -secret={creds.client_secret}"
      ],
      "execution_count": 0,
      "outputs": []
    },
    {
      "cell_type": "code",
      "metadata": {
        "id": "-7p2pCXj95X7",
        "colab_type": "code",
        "colab": {}
      },
      "source": [
        "!mkdir -p drive\n",
        "!google-drive-ocamlfuse drive"
      ],
      "execution_count": 0,
      "outputs": []
    },
    {
      "cell_type": "code",
      "metadata": {
        "id": "sMk9Axt6HIRL",
        "colab_type": "code",
        "colab": {}
      },
      "source": [
        "cd .."
      ],
      "execution_count": 0,
      "outputs": []
    },
    {
      "cell_type": "code",
      "metadata": {
        "id": "I-pfUPeI-m9m",
        "colab_type": "code",
        "colab": {}
      },
      "source": [
        "ls"
      ],
      "execution_count": 0,
      "outputs": []
    },
    {
      "cell_type": "code",
      "metadata": {
        "id": "44pf0gMw-oPe",
        "colab_type": "code",
        "colab": {}
      },
      "source": [
        "cd drive"
      ],
      "execution_count": 0,
      "outputs": []
    },
    {
      "cell_type": "code",
      "metadata": {
        "id": "lsJ3XCbH-plj",
        "colab_type": "code",
        "colab": {}
      },
      "source": [
        "ls"
      ],
      "execution_count": 0,
      "outputs": []
    },
    {
      "cell_type": "code",
      "metadata": {
        "id": "4PwmA47Y-qPM",
        "colab_type": "code",
        "colab": {}
      },
      "source": [
        "cd database"
      ],
      "execution_count": 0,
      "outputs": []
    },
    {
      "cell_type": "code",
      "metadata": {
        "id": "2eabI9Em-t72",
        "colab_type": "code",
        "colab": {}
      },
      "source": [
        "ls"
      ],
      "execution_count": 0,
      "outputs": []
    },
    {
      "cell_type": "code",
      "metadata": {
        "id": "p93c5hHu-uaY",
        "colab_type": "code",
        "colab": {}
      },
      "source": [
        "import numpy as np\n",
        "\n",
        "X = np.load('normalized_bath1.npy')\n",
        "Y = np.load('Y_coco.npy')"
      ],
      "execution_count": 0,
      "outputs": []
    },
    {
      "cell_type": "code",
      "metadata": {
        "id": "HsFpLnzC_GFt",
        "colab_type": "code",
        "colab": {}
      },
      "source": [
        "Y = Y * 91 * 2\n",
        "print(X.shape)\n",
        "print(Y.shape)\n"
      ],
      "execution_count": 0,
      "outputs": []
    },
    {
      "cell_type": "code",
      "metadata": {
        "id": "oX3sy-4j_Rti",
        "colab_type": "code",
        "colab": {}
      },
      "source": [
        "# import modules\n",
        "from keras.models import Sequential\n",
        "from keras.layers import Conv2D, MaxPooling2D\n",
        "from keras.layers import Activation, Dropout, Flatten, Dense\n",
        "from keras.layers.normalization import BatchNormalization\n",
        "from keras import optimizers\n"
      ],
      "execution_count": 0,
      "outputs": []
    },
    {
      "cell_type": "code",
      "metadata": {
        "id": "CmtGSu3S_SVg",
        "colab_type": "code",
        "colab": {}
      },
      "source": [
        "model = Sequential()\n",
        "\n",
        "model.add(Conv2D(64, (1, 1), input_shape=(300,300,3)))\n",
        "model.add(BatchNormalization())\n",
        "model.add(Activation('relu'))\n",
        "\n",
        "\n",
        "model.add(Conv2D(64, (1, 1)))\n",
        "model.add(Activation('relu'))\n",
        "model.add(BatchNormalization())\n",
        "model.add(MaxPooling2D(pool_size=(2,2)))\n",
        "\n",
        "\n",
        "model.add(Conv2D(64,(2, 2)))\n",
        "model.add(BatchNormalization())\n",
        "model.add(Activation('relu'))\n",
        "\n",
        "model.add(Conv2D(64,(1, 1)))\n",
        "model.add(BatchNormalization())\n",
        "model.add(Activation('relu'))\n",
        "\n",
        "\n",
        "model.add(Conv2D(64,(2, 2)))\n",
        "model.add(BatchNormalization())\n",
        "model.add(Activation('relu'))\n",
        "model.add(MaxPooling2D(pool_size=(2,2)))\n",
        "\n",
        "\n",
        "model.add(Conv2D(64,(2, 2)))\n",
        "model.add(BatchNormalization())\n",
        "model.add(Activation('relu'))\n",
        "model.add(MaxPooling2D(pool_size=(2,2)))\n",
        "\n",
        "\n",
        "model.add(Conv2D(64,(2, 2)))\n",
        "model.add(BatchNormalization())\n",
        "model.add(Activation('relu'))\n",
        "\n",
        "model.add(Conv2D(64, (2, 2)))\n",
        "model.add(BatchNormalization())\n",
        "model.add(Activation('relu'))\n",
        "model.add(MaxPooling2D(pool_size=(2,2)))\n",
        "\n",
        "model.add(Flatten())\n",
        "# Fully connected layer\n",
        "\n",
        "\n",
        "model.add(Dense(200))\n",
        "model.add(Activation('relu'))\n",
        "BatchNormalization()\n",
        "model.add(Dropout(0.2))\n",
        "model.add(Dense(91))\n",
        "\n",
        "model.add(Activation('softmax'))\n",
        "\n"
      ],
      "execution_count": 0,
      "outputs": []
    },
    {
      "cell_type": "code",
      "metadata": {
        "id": "9SJSznvTJGfZ",
        "colab_type": "code",
        "colab": {}
      },
      "source": [
        "sgd = optimizers.SGD(lr=0.01, clipvalue=0.5)\n",
        "model.compile(loss='mean_squared_error',\n",
        "              optimizer=sgd,\n",
        "              metrics=['accuracy'])"
      ],
      "execution_count": 0,
      "outputs": []
    },
    {
      "cell_type": "code",
      "metadata": {
        "id": "n5PvI0NbADBL",
        "colab_type": "code",
        "outputId": "4105b1bb-364c-4d38-a963-45715efe1bf0",
        "colab": {
          "base_uri": "https://localhost:8080/",
          "height": 439
        }
      },
      "source": [
        "model.fit(X, Y[10000:20000],\n",
        "          epochs=5,\n",
        "          batch_size=20)\n",
        "\n",
        "#score = model.evaluate(X_test, Y_test, batch_size=32)\n",
        "print(\"--------------------------------------------\")\n",
        "print(\"Score is\",score)\n",
        "\n",
        "# save weights\n",
        "#model.save_weights('keras_digit_classifier.h5')"
      ],
      "execution_count": 0,
      "outputs": [
        {
          "output_type": "stream",
          "text": [
            "Epoch 1/5\n",
            "10000/10000 [==============================] - 290s 29ms/step - loss: 1071.3339 - acc: 0.5371\n",
            "Epoch 2/5\n",
            " 5040/10000 [==============>...............] - ETA: 2:23 - loss: 1061.7539 - acc: 0.5407"
          ],
          "name": "stdout"
        },
        {
          "output_type": "stream",
          "text": [
            "10000/10000 [==============================] - 288s 29ms/step - loss: 1071.3122 - acc: 0.5428\n",
            "Epoch 3/5\n",
            " 8120/10000 [=======================>......] - ETA: 54s - loss: 1062.4967 - acc: 0.5424"
          ],
          "name": "stdout"
        },
        {
          "output_type": "stream",
          "text": [
            "10000/10000 [==============================] - 288s 29ms/step - loss: 1071.3122 - acc: 0.5428\n",
            "Epoch 4/5\n",
            " 9540/10000 [===========================>..] - ETA: 13s - loss: 1071.3296 - acc: 0.5440"
          ],
          "name": "stdout"
        },
        {
          "output_type": "stream",
          "text": [
            "10000/10000 [==============================] - 288s 29ms/step - loss: 1071.3122 - acc: 0.5428\n",
            "Epoch 5/5\n",
            "10000/10000 [==============================] - 288s 29ms/step - loss: 1071.3122 - acc: 0.5428\n",
            "--------------------------------------------\n"
          ],
          "name": "stdout"
        },
        {
          "output_type": "error",
          "ename": "NameError",
          "evalue": "ignored",
          "traceback": [
            "\u001b[0;31m---------------------------------------------------------------------------\u001b[0m",
            "\u001b[0;31mNameError\u001b[0m                                 Traceback (most recent call last)",
            "\u001b[0;32m<ipython-input-76-c1e4be3bb0dc>\u001b[0m in \u001b[0;36m<module>\u001b[0;34m()\u001b[0m\n\u001b[1;32m      5\u001b[0m \u001b[0;31m#score = model.evaluate(X_test, Y_test, batch_size=32)\u001b[0m\u001b[0;34m\u001b[0m\u001b[0;34m\u001b[0m\u001b[0m\n\u001b[1;32m      6\u001b[0m \u001b[0mprint\u001b[0m\u001b[0;34m(\u001b[0m\u001b[0;34m\"--------------------------------------------\"\u001b[0m\u001b[0;34m)\u001b[0m\u001b[0;34m\u001b[0m\u001b[0m\n\u001b[0;32m----> 7\u001b[0;31m \u001b[0mprint\u001b[0m\u001b[0;34m(\u001b[0m\u001b[0;34m\"Score is\"\u001b[0m\u001b[0;34m,\u001b[0m\u001b[0mscore\u001b[0m\u001b[0;34m)\u001b[0m\u001b[0;34m\u001b[0m\u001b[0m\n\u001b[0m\u001b[1;32m      8\u001b[0m \u001b[0;34m\u001b[0m\u001b[0m\n\u001b[1;32m      9\u001b[0m \u001b[0;31m# save weights\u001b[0m\u001b[0;34m\u001b[0m\u001b[0;34m\u001b[0m\u001b[0m\n",
            "\u001b[0;31mNameError\u001b[0m: name 'score' is not defined"
          ]
        }
      ]
    },
    {
      "cell_type": "code",
      "metadata": {
        "id": "hQTgm8pzJWu1",
        "colab_type": "code",
        "colab": {}
      },
      "source": [
        "res = model.predict(X[0:1])"
      ],
      "execution_count": 0,
      "outputs": []
    },
    {
      "cell_type": "code",
      "metadata": {
        "id": "cQOSDxcbTmjM",
        "colab_type": "code",
        "outputId": "9d38b2c2-067d-48ef-aec2-ca54c1417f94",
        "colab": {
          "base_uri": "https://localhost:8080/",
          "height": 340
        }
      },
      "source": [
        "res"
      ],
      "execution_count": 0,
      "outputs": [
        {
          "output_type": "execute_result",
          "data": {
            "text/plain": [
              "array([[0.0108626 , 0.01075978, 0.01074852, 0.01077899, 0.01077378,\n",
              "        0.01103557, 0.01111165, 0.01097431, 0.01107478, 0.01110018,\n",
              "        0.0111643 , 0.01090256, 0.01110018, 0.0110718 , 0.01081366,\n",
              "        0.01102308, 0.01111147, 0.01079973, 0.01119026, 0.0110099 ,\n",
              "        0.01112041, 0.01071872, 0.01119025, 0.01064085, 0.01095755,\n",
              "        0.01095374, 0.01098369, 0.01075975, 0.01106511, 0.01120296,\n",
              "        0.01103066, 0.01079798, 0.01099264, 0.01103367, 0.01114591,\n",
              "        0.01107962, 0.01083838, 0.01096566, 0.01078686, 0.01111963,\n",
              "        0.01075267, 0.0108691 , 0.0107995 , 0.01117952, 0.01153101,\n",
              "        0.0109202 , 0.01110571, 0.01093319, 0.0107575 , 0.01090782,\n",
              "        0.01120927, 0.01098434, 0.0109326 , 0.01104129, 0.0106417 ,\n",
              "        0.01114923, 0.01108685, 0.01092454, 0.0108041 , 0.01091566,\n",
              "        0.01082151, 0.0113044 , 0.01068377, 0.01086028, 0.0112274 ,\n",
              "        0.01110448, 0.01074663, 0.0108884 , 0.01101223, 0.01122776,\n",
              "        0.01122446, 0.01121048, 0.01090644, 0.01094785, 0.0111815 ,\n",
              "        0.01112854, 0.01111567, 0.01105205, 0.01130421, 0.01123234,\n",
              "        0.01100211, 0.01091255, 0.01098557, 0.01088391, 0.0107058 ,\n",
              "        0.01120963, 0.01111773, 0.01106074, 0.01100805, 0.01096559,\n",
              "        0.01073098]], dtype=float32)"
            ]
          },
          "metadata": {
            "tags": []
          },
          "execution_count": 72
        }
      ]
    },
    {
      "cell_type": "code",
      "metadata": {
        "id": "NNS7IjmDBX-C",
        "colab_type": "code",
        "colab": {}
      },
      "source": [
        "model.save_weights('keras_coco_classifier.h5')"
      ],
      "execution_count": 0,
      "outputs": []
    },
    {
      "cell_type": "code",
      "metadata": {
        "id": "A3Oj6Od9qTq6",
        "colab_type": "code",
        "colab": {}
      },
      "source": [
        "model.save('classifierModel.h5')"
      ],
      "execution_count": 0,
      "outputs": []
    },
    {
      "cell_type": "code",
      "metadata": {
        "id": "WG91thYdqrpi",
        "colab_type": "code",
        "colab": {}
      },
      "source": [
        "ls"
      ],
      "execution_count": 0,
      "outputs": []
    },
    {
      "cell_type": "code",
      "metadata": {
        "id": "S0bGrCFV15HB",
        "colab_type": "code",
        "colab": {}
      },
      "source": [
        "################\n",
        "#TEST THE MODEL#\n",
        "################"
      ],
      "execution_count": 0,
      "outputs": []
    },
    {
      "cell_type": "code",
      "metadata": {
        "id": "p38cvvh8Kw-y",
        "colab_type": "code",
        "colab": {}
      },
      "source": [
        "import cv2\n",
        "im = cv2.imread('car.jpg')\n",
        "im = cv2.resize(im,(300,300))\n",
        "X_ = im.reshape(1,300, 300,3)\n",
        "predictions = model.predict(X_)\n",
        "# print(predictions)"
      ],
      "execution_count": 0,
      "outputs": []
    },
    {
      "cell_type": "code",
      "metadata": {
        "id": "BmnQ3If3LFSo",
        "colab_type": "code",
        "outputId": "7f74f861-82ef-4338-d39f-cb9b82102abc",
        "colab": {
          "base_uri": "https://localhost:8080/",
          "height": 408
        }
      },
      "source": [
        "predictions"
      ],
      "execution_count": 0,
      "outputs": [
        {
          "output_type": "execute_result",
          "data": {
            "text/plain": [
              "array([[7.6906554e-06, 3.2185279e-09, 1.1738907e-02, 5.3774893e-06,\n",
              "        5.9456324e-06, 5.0080500e-05, 5.7547442e-07, 4.0886263e-08,\n",
              "        1.8912461e-08, 1.9594100e-09, 8.5000584e-10, 3.3808919e-04,\n",
              "        1.7141027e-03, 5.6537832e-08, 2.5639644e-09, 7.4763357e-10,\n",
              "        5.4017367e-11, 1.7638771e-05, 2.4167571e-06, 9.6838299e-08,\n",
              "        9.0957802e-10, 1.5426065e-03, 5.4876654e-09, 1.3608130e-09,\n",
              "        7.8135912e-08, 8.5624993e-07, 5.7979907e-08, 2.4186199e-06,\n",
              "        4.3301291e-08, 2.7130563e-08, 9.6127059e-04, 7.7914797e-07,\n",
              "        1.9351774e-07, 2.7606722e-05, 2.6693047e-07, 2.9493149e-06,\n",
              "        9.8032693e-10, 3.2928476e-06, 8.1293099e-04, 2.3937444e-05,\n",
              "        2.4377289e-06, 3.6364581e-06, 3.1587806e-02, 3.0077118e-03,\n",
              "        7.6372739e-09, 2.2865535e-08, 4.0910568e-06, 1.1917245e-09,\n",
              "        1.2315075e-02, 5.3923877e-08, 7.9047106e-07, 6.5293937e-04,\n",
              "        2.4121725e-08, 1.9397050e-06, 4.2567769e-10, 6.7662889e-09,\n",
              "        5.5273869e-08, 3.4451332e-06, 2.3417738e-04, 1.6769164e-08,\n",
              "        5.1727568e-07, 1.3130632e-03, 8.8949382e-06, 2.6650453e-08,\n",
              "        9.1032210e-11, 6.0192837e-11, 7.1411546e-07, 2.4653062e-01,\n",
              "        3.9301047e-04, 2.5539714e-07, 3.7628005e-11, 3.0959817e-03,\n",
              "        1.5371339e-06, 2.7676328e-04, 3.4537073e-09, 6.3959022e-05,\n",
              "        1.6141433e-07, 3.8448270e-06, 2.2852947e-07, 4.4459885e-09,\n",
              "        7.1711077e-07, 5.1483050e-02, 1.3940440e-08, 3.4763754e-04,\n",
              "        2.4593023e-12, 1.8313444e-06, 4.0558247e-05, 7.2859751e-07,\n",
              "        6.3122433e-01, 1.3532791e-06, 1.3557400e-04]], dtype=float32)"
            ]
          },
          "metadata": {
            "tags": []
          },
          "execution_count": 67
        }
      ]
    },
    {
      "cell_type": "code",
      "metadata": {
        "id": "2y2ZL9CDM44P",
        "colab_type": "code",
        "colab": {}
      },
      "source": [
        ""
      ],
      "execution_count": 0,
      "outputs": []
    }
  ]
}