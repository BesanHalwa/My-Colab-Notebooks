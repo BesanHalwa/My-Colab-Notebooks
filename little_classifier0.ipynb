{
  "nbformat": 4,
  "nbformat_minor": 0,
  "metadata": {
    "colab": {
      "name": "little_classifier0.ipynb",
      "version": "0.3.2",
      "provenance": []
    },
    "kernelspec": {
      "name": "python3",
      "display_name": "Python 3"
    },
    "accelerator": "GPU"
  },
  "cells": [
    {
      "cell_type": "code",
      "metadata": {
        "id": "LrOCyqwNLhx-",
        "colab_type": "code",
        "outputId": "0805ac34-b369-4aaf-d493-043efad88ac7",
        "colab": {
          "base_uri": "https://localhost:8080/",
          "height": 105
        }
      },
      "source": [
        "!apt-get install -y -qq software-properties-common python-software-properties module-init-tools\n",
        "!add-apt-repository -y ppa:alessandro-strada/ppa 2>&1 > /dev/null\n",
        "!apt-get update -qq 2>&1 > /dev/null\n",
        "!apt-get -y install -qq google-drive-ocamlfuse fuse\n",
        "from google.colab import auth\n",
        "auth.authenticate_user()\n",
        "from oauth2client.client import GoogleCredentials\n",
        "creds = GoogleCredentials.get_application_default()\n",
        "import getpass\n",
        "!google-drive-ocamlfuse -headless -id={creds.client_id} -secret={creds.client_secret} < /dev/null 2>&1 | grep URL\n",
        "vcode = getpass.getpass()\n",
        "!echo {vcode} | google-drive-ocamlfuse -headless -id={creds.client_id} -secret={creds.client_secret}"
      ],
      "execution_count": 0,
      "outputs": [
        {
          "output_type": "stream",
          "text": [
            "Please, open the following URL in a web browser: https://accounts.google.com/o/oauth2/auth?client_id=32555940559.apps.googleusercontent.com&redirect_uri=urn%3Aietf%3Awg%3Aoauth%3A2.0%3Aoob&scope=https%3A%2F%2Fwww.googleapis.com%2Fauth%2Fdrive&response_type=code&access_type=offline&approval_prompt=force\r\n",
            "··········\n",
            "Please, open the following URL in a web browser: https://accounts.google.com/o/oauth2/auth?client_id=32555940559.apps.googleusercontent.com&redirect_uri=urn%3Aietf%3Awg%3Aoauth%3A2.0%3Aoob&scope=https%3A%2F%2Fwww.googleapis.com%2Fauth%2Fdrive&response_type=code&access_type=offline&approval_prompt=force\n",
            "Please enter the verification code: Access token retrieved correctly.\n"
          ],
          "name": "stdout"
        }
      ]
    },
    {
      "cell_type": "code",
      "metadata": {
        "id": "syeiYLVfLmAk",
        "colab_type": "code",
        "colab": {}
      },
      "source": [
        "!mkdir -p drive\n",
        "!google-drive-ocamlfuse drive"
      ],
      "execution_count": 0,
      "outputs": []
    },
    {
      "cell_type": "code",
      "metadata": {
        "id": "ka9UpAXoLn0b",
        "colab_type": "code",
        "outputId": "6605d4b7-e082-4f13-c5b1-cec028e963a1",
        "colab": {
          "base_uri": "https://localhost:8080/",
          "height": 34
        }
      },
      "source": [
        "cd drive"
      ],
      "execution_count": 0,
      "outputs": [
        {
          "output_type": "stream",
          "text": [
            "/content/drive\n"
          ],
          "name": "stdout"
        }
      ]
    },
    {
      "cell_type": "code",
      "metadata": {
        "id": "JN5g_bPTLqMp",
        "colab_type": "code",
        "outputId": "65018f32-da9d-424c-8cd4-9da0769f78b9",
        "colab": {
          "base_uri": "https://localhost:8080/",
          "height": 391
        }
      },
      "source": [
        "ls"
      ],
      "execution_count": 0,
      "outputs": [
        {
          "output_type": "stream",
          "text": [
            "class.txt\r\n",
            "\u001b[0m\u001b[01;34mCode\u001b[0m/\r\n",
            "\u001b[01;34mColab Notebooks\u001b[0m/\r\n",
            "\u001b[01;34mdatabase\u001b[0m/\r\n",
            "\u001b[01;34mData Sets\u001b[0m/\r\n",
            "\u001b[01;34m_detection reference\u001b[0m/\r\n",
            "\u001b[01;34mdrive\u001b[0m/\r\n",
            "\u001b[01;34mGenerating Enviornment Map (Reads)\u001b[0m/\r\n",
            "\u001b[01;34mGoogle self driving car monthely report\u001b[0m/\r\n",
            "\u001b[01;34mInitial tests\u001b[0m/\r\n",
            "\u001b[01;34mMarket Products and Raw Ideas\u001b[0m/\r\n",
            "Model_one.py\r\n",
            "\u001b[01;34mnaya_folder_kuki naam nai sujh rha\u001b[0m/\r\n",
            "\u001b[01;34mOur Product Draft\u001b[0m/\r\n",
            "\u001b[01;34mpascal_data\u001b[0m/\r\n",
            "\u001b[01;34mREFERENCES\u001b[0m/\r\n",
            "requirements.txt\r\n",
            "Screen Shot 2018-07-02 at 8.38.24 PM.png\r\n",
            "testModel.ipynb\r\n",
            "tf1.png\r\n",
            "\u001b[01;34mTimeline\u001b[0m/\r\n",
            "Untitled document.odt\r\n"
          ],
          "name": "stdout"
        }
      ]
    },
    {
      "cell_type": "code",
      "metadata": {
        "id": "u3NMtxNgLqgW",
        "colab_type": "code",
        "outputId": "0a9dbf3f-22a5-4afb-a153-c479af4b4046",
        "colab": {
          "base_uri": "https://localhost:8080/",
          "height": 34
        }
      },
      "source": [
        "cd pascal_data"
      ],
      "execution_count": 0,
      "outputs": [
        {
          "output_type": "stream",
          "text": [
            "/content/drive/pascal_data\n"
          ],
          "name": "stdout"
        }
      ]
    },
    {
      "cell_type": "code",
      "metadata": {
        "id": "HbV-B86pLtSL",
        "colab_type": "code",
        "outputId": "603ff9fc-e943-4f9e-9e09-15941f73a969",
        "colab": {
          "base_uri": "https://localhost:8080/",
          "height": 119
        }
      },
      "source": [
        "ls"
      ],
      "execution_count": 0,
      "outputs": [
        {
          "output_type": "stream",
          "text": [
            "ePascalVOCClassifier_epoch18above.h5       pascal_model_epoch20_.h5\r\n",
            "ePascalVOCClassifier_epoch18aboveV_1_2.h5  pascalX.npy\r\n",
            "ePascalVOCClassifier.h5                    pascalX_val.npy\r\n",
            "ePascalVOCClassifier_monday_one.h5         pascaly.npy\r\n",
            "littleClassifier.h5                        pascaly_val.npy\r\n",
            "pascal_model_epoch10.h5\r\n"
          ],
          "name": "stdout"
        }
      ]
    },
    {
      "cell_type": "code",
      "metadata": {
        "id": "RgGEUsoxLtp0",
        "colab_type": "code",
        "outputId": "0f494e3b-6a5b-4f6a-e1a2-8ac9dadb077d",
        "colab": {
          "base_uri": "https://localhost:8080/",
          "height": 51
        }
      },
      "source": [
        "import numpy as np\n",
        "\n",
        "X = np.load('pascalX.npy')\n",
        "Y = np.load('pascaly.npy')\n",
        "\n",
        "print(X.shape)\n",
        "print(Y.shape)"
      ],
      "execution_count": 0,
      "outputs": [
        {
          "output_type": "stream",
          "text": [
            "(16551, 300, 300, 3)\n",
            "(16551, 20)\n"
          ],
          "name": "stdout"
        }
      ]
    },
    {
      "cell_type": "code",
      "metadata": {
        "id": "TVwuV3S_LxMs",
        "colab_type": "code",
        "colab": {}
      },
      "source": [
        "X_val = np.load('pascalX_val.npy')\n",
        "Y_val = np.load('pascaly_val.npy')"
      ],
      "execution_count": 0,
      "outputs": []
    },
    {
      "cell_type": "code",
      "metadata": {
        "id": "-iVnqkW2MSNb",
        "colab_type": "code",
        "outputId": "b0eaa2f2-1018-4802-926f-1106a7a8d266",
        "colab": {
          "base_uri": "https://localhost:8080/",
          "height": 34
        }
      },
      "source": [
        "# import modules\n",
        "from keras.models import Sequential\n",
        "from keras.layers import Conv2D, MaxPooling2D\n",
        "from keras.layers import Activation, Dropout, Flatten, Dense\n",
        "from keras.layers.normalization import BatchNormalization\n",
        "from keras import optimizers\n",
        "import keras\n"
      ],
      "execution_count": 0,
      "outputs": [
        {
          "output_type": "stream",
          "text": [
            "Using TensorFlow backend.\n"
          ],
          "name": "stderr"
        }
      ]
    },
    {
      "cell_type": "code",
      "metadata": {
        "id": "vKdWVYUDMSgp",
        "colab_type": "code",
        "colab": {}
      },
      "source": [
        "x = Sequential()\n",
        "\n",
        "# Block 1\n",
        "x.add(Conv2D(64, (1, 1),activation='relu',padding='same',input_shape=(300,300,3)))\n",
        "x.add(Conv2D(64, (1, 1),activation='relu',padding='same'))\n",
        "x.add(MaxPooling2D((2, 2), strides=(2, 2), name='block1_pool'))\n",
        "\n",
        "# Block 2\n",
        "x.add(Conv2D(64, (2, 2),activation='relu',padding='same'))\n",
        "x.add(Conv2D(64, (2, 2),activation='relu',padding='same'))\n",
        "x.add(Conv2D(64, (2, 2),activation='relu',padding='same'))\n",
        "x.add(Conv2D(64, (2, 2),activation='relu',padding='same'))\n",
        "x.add(MaxPooling2D((2, 2), strides=(2, 2), name='block2_pool'))\n",
        "x.add(BatchNormalization())\n",
        "\n",
        "\n",
        "# Block 3\n",
        "x.add(Conv2D(128, (2, 2),activation='relu',padding='same'))\n",
        "x.add(Conv2D(128, (1, 1),activation='relu',padding='same'))\n",
        "\n",
        "x.add(MaxPooling2D((2, 2), strides=(2, 2)))\n",
        "x.add(Dropout(0.2))\n",
        "\n",
        "\n",
        "\n",
        "# Classification block\n",
        "x.add(Flatten())\n",
        "\n",
        "# x.add(Dense(1000, activation='relu'))\n",
        "x.add(Dense(800, activation='relu'))\n",
        "x.add(Dense(20, activation='softmax', name='predictions'))\n",
        "\n",
        "\n"
      ],
      "execution_count": 0,
      "outputs": []
    },
    {
      "cell_type": "code",
      "metadata": {
        "id": "Z-3TTNN2MU-q",
        "colab_type": "code",
        "colab": {}
      },
      "source": [
        "# original parameters (lr=0.001, decay=1e-6, momentum=0.9, nesterov=True)\n",
        "sgd = optimizers.SGD(lr=0.001, decay=1e-6, momentum=0.9, nesterov=True)\n",
        "\n",
        "# original parameters (lr=0.02, beta_1=0.9, beta_2=0.999, epsilon=None, schedule_decay=0.004)\n",
        "nadam = optimizers.Nadam(lr=0.02, beta_1=0.9, beta_2=0.999, epsilon=None, schedule_decay=0.004)\n",
        "\n",
        "# original parameters (lr=0.001, beta_1=0.9, beta_2=0.999, epsilon=None, decay=0.0, amsgrad=False)\n",
        "adam = optimizers.Adam(lr=0.0001, beta_1=0.9, beta_2=0.999, epsilon=None, decay=0.0, amsgrad=False)\n",
        "\n",
        "# categorical_crossentropy\n",
        "# mean_squared_error\n",
        "x.compile(loss='categorical_crossentropy',\n",
        "              optimizer=adam,\n",
        "              metrics=['accuracy'])"
      ],
      "execution_count": 0,
      "outputs": []
    },
    {
      "cell_type": "code",
      "metadata": {
        "id": "NqewCRR8MW1D",
        "colab_type": "code",
        "outputId": "8d03f176-daed-41ed-c273-628c12bbc5be",
        "colab": {
          "base_uri": "https://localhost:8080/",
          "height": 513
        }
      },
      "source": [
        "for i in range(15):\n",
        "  print(\"epoch\",i+1)\n",
        "  x.fit(X, Y,epochs=1,batch_size=5,validation_data=(X_val, Y_val))\n",
        "  x.save('littleClassifier.h5')\n",
        "  print(\"----------------------------------------------------------------------\")\n",
        "  print(\"----------------------------------------------------------------------\")\n"
      ],
      "execution_count": 0,
      "outputs": [
        {
          "output_type": "stream",
          "text": [
            "epoch 1\n",
            "Train on 16551 samples, validate on 4952 samples\n",
            "Epoch 1/1\n",
            " 3240/16551 [====>.........................] - ETA: 14:04 - loss: 18.7398 - acc: 0.1228"
          ],
          "name": "stdout"
        },
        {
          "output_type": "stream",
          "text": [
            "16550/16551 [============================>.] - ETA: 0s - loss: 18.6619 - acc: 0.1272"
          ],
          "name": "stdout"
        },
        {
          "output_type": "stream",
          "text": [
            "\b\b\b\b\b\b\b\b\b\b\b\b\b\b\b\b\b\b\b\b\b\b\b\b\b\b\b\b\b\b\b\b\b\b\b\b\b\b\b\b\b\b\b\b\b\b\b\b\b\b\b\b\b\b\b\b\b\b\b\b\b\b\b\b\b\b\b\b\b\b\b\b\b\b\b\b\b\b\b\b\b\b\b\b\r16551/16551 [==============================] - 1089s 66ms/step - loss: 18.6618 - acc: 0.1272 - val_loss: 18.0157 - val_acc: 0.1327\n",
            "----------------------------------------------------------------------\n",
            "----------------------------------------------------------------------\n",
            "epoch 2\n",
            "Train on 16551 samples, validate on 4952 samples\n",
            "Epoch 1/1\n",
            "  970/16551 [>.............................] - ETA: 16:18 - loss: 18.3115 - acc: 0.1485"
          ],
          "name": "stdout"
        },
        {
          "output_type": "stream",
          "text": [
            "16550/16551 [============================>.] - ETA: 0s - loss: 18.6619 - acc: 0.1272"
          ],
          "name": "stdout"
        },
        {
          "output_type": "stream",
          "text": [
            "\b\b\b\b\b\b\b\b\b\b\b\b\b\b\b\b\b\b\b\b\b\b\b\b\b\b\b\b\b\b\b\b\b\b\b\b\b\b\b\b\b\b\b\b\b\b\b\b\b\b\b\b\b\b\b\b\b\b\b\b\b\b\b\b\b\b\b\b\b\b\b\b\b\b\b\b\b\b\b\b\b\b\b\b\r16551/16551 [==============================] - 1085s 66ms/step - loss: 18.6618 - acc: 0.1272 - val_loss: 18.0157 - val_acc: 0.1327\n",
            "----------------------------------------------------------------------\n",
            "----------------------------------------------------------------------\n",
            "epoch 3\n",
            "Train on 16551 samples, validate on 4952 samples\n",
            "Epoch 1/1\n",
            "  970/16551 [>.............................] - ETA: 16:18 - loss: 18.9928 - acc: 0.1289"
          ],
          "name": "stdout"
        },
        {
          "output_type": "stream",
          "text": [
            "16550/16551 [============================>.] - ETA: 0s - loss: 18.6610 - acc: 0.1272"
          ],
          "name": "stdout"
        },
        {
          "output_type": "stream",
          "text": [
            "\b\b\b\b\b\b\b\b\b\b\b\b\b\b\b\b\b\b\b\b\b\b\b\b\b\b\b\b\b\b\b\b\b\b\b\b\b\b\b\b\b\b\b\b\b\b\b\b\b\b\b\b\b\b\b\b\b\b\b\b\b\b\b\b\b\b\b\b\b\b\b\b\b\b\b\b\b\b\b\b\b\b\b\b\r16551/16551 [==============================] - 1085s 66ms/step - loss: 18.6618 - acc: 0.1272 - val_loss: 18.0157 - val_acc: 0.1327\n",
            "----------------------------------------------------------------------\n",
            "----------------------------------------------------------------------\n",
            "epoch 4\n",
            "Train on 16551 samples, validate on 4952 samples\n",
            "Epoch 1/1\n",
            "  970/16551 [>.............................] - ETA: 16:20 - loss: 18.7269 - acc: 0.1258"
          ],
          "name": "stdout"
        },
        {
          "output_type": "stream",
          "text": [
            "16550/16551 [============================>.] - ETA: 0s - loss: 18.6619 - acc: 0.1272"
          ],
          "name": "stdout"
        },
        {
          "output_type": "stream",
          "text": [
            "\b\b\b\b\b\b\b\b\b\b\b\b\b\b\b\b\b\b\b\b\b\b\b\b\b\b\b\b\b\b\b\b\b\b\b\b\b\b\b\b\b\b\b\b\b\b\b\b\b\b\b\b\b\b\b\b\b\b\b\b\b\b\b\b\b\b\b\b\b\b\b\b\b\b\b\b\b\b\b\b\b\b\b\b\r16551/16551 [==============================] - 1086s 66ms/step - loss: 18.6618 - acc: 0.1272 - val_loss: 18.0157 - val_acc: 0.1327\n",
            "----------------------------------------------------------------------\n",
            "----------------------------------------------------------------------\n",
            "epoch 5\n",
            "Train on 16551 samples, validate on 4952 samples\n",
            "Epoch 1/1\n",
            "  970/16551 [>.............................] - ETA: 16:16 - loss: 18.6937 - acc: 0.1361"
          ],
          "name": "stdout"
        },
        {
          "output_type": "stream",
          "text": [
            "11025/16551 [==================>...........] - ETA: 5:42 - loss: 18.7335 - acc: 0.1259"
          ],
          "name": "stdout"
        }
      ]
    },
    {
      "cell_type": "code",
      "metadata": {
        "id": "T_CncqZqMYOH",
        "colab_type": "code",
        "colab": {}
      },
      "source": [
        ""
      ],
      "execution_count": 0,
      "outputs": []
    }
  ]
}