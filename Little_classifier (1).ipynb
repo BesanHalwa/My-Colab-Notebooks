{
  "nbformat": 4,
  "nbformat_minor": 0,
  "metadata": {
    "colab": {
      "name": "Little classifier.ipynb",
      "version": "0.3.2",
      "provenance": []
    },
    "kernelspec": {
      "name": "python3",
      "display_name": "Python 3"
    },
    "accelerator": "GPU"
  },
  "cells": [
    {
      "cell_type": "code",
      "metadata": {
        "id": "hL5VLTJfIBGw",
        "colab_type": "code",
        "outputId": "4db2cb17-e637-4aa1-f67e-c405b12555a2",
        "colab": {
          "base_uri": "https://localhost:8080/",
          "height": 136
        }
      },
      "source": [
        "!apt-get install -y -qq software-properties-common python-software-properties module-init-tools\n",
        "!add-apt-repository -y ppa:alessandro-strada/ppa 2>&1 > /dev/null\n",
        "!apt-get update -qq 2>&1 > /dev/null\n",
        "!apt-get -y install -qq google-drive-ocamlfuse fuse\n",
        "from google.colab import auth\n",
        "auth.authenticate_user()\n",
        "from oauth2client.client import GoogleCredentials\n",
        "creds = GoogleCredentials.get_application_default()\n",
        "import getpass\n",
        "!google-drive-ocamlfuse -headless -id={creds.client_id} -secret={creds.client_secret} < /dev/null 2>&1 | grep URL\n",
        "vcode = getpass.getpass()\n",
        "!echo {vcode} | google-drive-ocamlfuse -headless -id={creds.client_id} -secret={creds.client_secret}"
      ],
      "execution_count": 0,
      "outputs": [
        {
          "output_type": "stream",
          "text": [
            "gpg: keybox '/tmp/tmpoz_0agkj/pubring.gpg' created\n",
            "gpg: /tmp/tmpoz_0agkj/trustdb.gpg: trustdb created\n",
            "gpg: key AD5F235DF639B041: public key \"Launchpad PPA for Alessandro Strada\" imported\n",
            "gpg: Total number processed: 1\n",
            "gpg:               imported: 1\n",
            "Warning: apt-key output should not be parsed (stdout is not a terminal)\n",
            "··········\n"
          ],
          "name": "stdout"
        }
      ]
    },
    {
      "cell_type": "code",
      "metadata": {
        "id": "xu0LpKDzIGdl",
        "colab_type": "code",
        "outputId": "9521bd8f-86e0-4f9a-e296-66731347ce12",
        "colab": {
          "base_uri": "https://localhost:8080/",
          "height": 51
        }
      },
      "source": [
        "!mkdir -p drive\n",
        "!google-drive-ocamlfuse drive"
      ],
      "execution_count": 0,
      "outputs": [
        {
          "output_type": "stream",
          "text": [
            "fuse: mountpoint is not empty\r\n",
            "fuse: if you are sure this is safe, use the 'nonempty' mount option\r\n"
          ],
          "name": "stdout"
        }
      ]
    },
    {
      "cell_type": "code",
      "metadata": {
        "id": "WW3ddG7yIIdz",
        "colab_type": "code",
        "outputId": "cbf8fcbe-f71d-4422-e12c-347bdb334efd",
        "colab": {
          "base_uri": "https://localhost:8080/",
          "height": 34
        }
      },
      "source": [
        "cd drive"
      ],
      "execution_count": 0,
      "outputs": [
        {
          "output_type": "stream",
          "text": [
            "/content/drive\n"
          ],
          "name": "stdout"
        }
      ]
    },
    {
      "cell_type": "code",
      "metadata": {
        "id": "NF5phv2EIKOt",
        "colab_type": "code",
        "outputId": "75608d49-cf03-4354-acc1-a1530a6330f0",
        "colab": {
          "base_uri": "https://localhost:8080/",
          "height": 391
        }
      },
      "source": [
        "ls"
      ],
      "execution_count": 0,
      "outputs": [
        {
          "output_type": "stream",
          "text": [
            "class.txt\r\n",
            "\u001b[0m\u001b[01;34mCode\u001b[0m/\r\n",
            "\u001b[01;34mColab Notebooks\u001b[0m/\r\n",
            "\u001b[01;34mdatabase\u001b[0m/\r\n",
            "\u001b[01;34mData Sets\u001b[0m/\r\n",
            "\u001b[01;34m_detection reference\u001b[0m/\r\n",
            "\u001b[01;34mdrive\u001b[0m/\r\n",
            "\u001b[01;34mGenerating Enviornment Map (Reads)\u001b[0m/\r\n",
            "\u001b[01;34mGoogle self driving car monthely report\u001b[0m/\r\n",
            "\u001b[01;34mInitial tests\u001b[0m/\r\n",
            "\u001b[01;34mMarket Products and Raw Ideas\u001b[0m/\r\n",
            "Model_one.py\r\n",
            "\u001b[01;34mnaya_folder_kuki naam nai sujh rha\u001b[0m/\r\n",
            "\u001b[01;34mOur Product Draft\u001b[0m/\r\n",
            "\u001b[01;34mpascal_data\u001b[0m/\r\n",
            "\u001b[01;34mREFERENCES\u001b[0m/\r\n",
            "requirements.txt\r\n",
            "Screen Shot 2018-07-02 at 8.38.24 PM.png\r\n",
            "testModel.ipynb\r\n",
            "tf1.png\r\n",
            "\u001b[01;34mTimeline\u001b[0m/\r\n",
            "Untitled document.odt\r\n"
          ],
          "name": "stdout"
        }
      ]
    },
    {
      "cell_type": "code",
      "metadata": {
        "id": "Mkha56tSIK5T",
        "colab_type": "code",
        "outputId": "f6063030-0995-48ea-beff-36a59159e57d",
        "colab": {
          "base_uri": "https://localhost:8080/",
          "height": 34
        }
      },
      "source": [
        "cd pascal_data"
      ],
      "execution_count": 0,
      "outputs": [
        {
          "output_type": "stream",
          "text": [
            "/content/drive/pascal_data\n"
          ],
          "name": "stdout"
        }
      ]
    },
    {
      "cell_type": "code",
      "metadata": {
        "id": "NBCix5k1IM3B",
        "colab_type": "code",
        "outputId": "00e83d04-0132-46d4-83ce-7430b2520f61",
        "colab": {
          "base_uri": "https://localhost:8080/",
          "height": 102
        }
      },
      "source": [
        "ls"
      ],
      "execution_count": 0,
      "outputs": [
        {
          "output_type": "stream",
          "text": [
            "ePascalVOCClassifier_epoch18above.h5       pascal_model_epoch20_.h5\r\n",
            "ePascalVOCClassifier_epoch18aboveV_1_2.h5  pascalX.npy\r\n",
            "ePascalVOCClassifier.h5                    pascalX_val.npy\r\n",
            "ePascalVOCClassifier_monday_one.h5         pascaly.npy\r\n",
            "pascal_model_epoch10.h5                    pascaly_val.npy\r\n"
          ],
          "name": "stdout"
        }
      ]
    },
    {
      "cell_type": "code",
      "metadata": {
        "id": "yUSfYAz3INd-",
        "colab_type": "code",
        "colab": {}
      },
      "source": [
        "import numpy as np\n",
        "\n",
        "X = np.load('pascalX.npy')\n",
        "Y = np.load('pascaly.npy')\n"
      ],
      "execution_count": 0,
      "outputs": []
    },
    {
      "cell_type": "code",
      "metadata": {
        "id": "rzjyF2sBITUN",
        "colab_type": "code",
        "outputId": "0790d920-62ca-4b59-cd72-da33c8f5ca00",
        "colab": {
          "base_uri": "https://localhost:8080/",
          "height": 51
        }
      },
      "source": [
        "print(X.shape)\n",
        "print(Y.shape)"
      ],
      "execution_count": 0,
      "outputs": [
        {
          "output_type": "stream",
          "text": [
            "(16551, 300, 300, 3)\n",
            "(16551, 20)\n"
          ],
          "name": "stdout"
        }
      ]
    },
    {
      "cell_type": "code",
      "metadata": {
        "id": "wjd-A2TxIUG0",
        "colab_type": "code",
        "colab": {}
      },
      "source": [
        "X_val = np.load('pascalX_val.npy')\n",
        "Y_val = np.load('pascaly_val.npy')"
      ],
      "execution_count": 0,
      "outputs": []
    },
    {
      "cell_type": "code",
      "metadata": {
        "id": "1zGIvaikIWNM",
        "colab_type": "code",
        "outputId": "b48dfa07-8781-4410-cec7-45cc0551b95e",
        "colab": {
          "base_uri": "https://localhost:8080/",
          "height": 34
        }
      },
      "source": [
        "# import modules\n",
        "from keras.models import Sequential\n",
        "from keras.layers import Conv2D, MaxPooling2D\n",
        "from keras.layers import Activation, Dropout, Flatten, Dense\n",
        "from keras.layers.normalization import BatchNormalization\n",
        "from keras import optimizers\n",
        "import keras\n"
      ],
      "execution_count": 0,
      "outputs": [
        {
          "output_type": "stream",
          "text": [
            "Using TensorFlow backend.\n"
          ],
          "name": "stderr"
        }
      ]
    },
    {
      "cell_type": "code",
      "metadata": {
        "id": "d1550tDOIYrv",
        "colab_type": "code",
        "colab": {}
      },
      "source": [
        "x = Sequential()\n",
        "\n",
        "# Block 1\n",
        "x.add(Conv2D(64, (3, 3),activation='relu',padding='same',input_shape=(300,300,3)))\n",
        "x.add(Conv2D(64, (3, 3),activation='relu',padding='same'))\n",
        "x.add(MaxPooling2D((2, 2), strides=(2, 2), name='block1_pool'))\n",
        "\n",
        "# Block 2\n",
        "x.add(Conv2D(128, (3, 3),activation='relu',padding='same'))\n",
        "x.add(Conv2D(128, (3, 3),activation='relu',padding='same',name='block2_conv2'))\n",
        "x.add(MaxPooling2D((2, 2), strides=(2, 2), name='block2_pool'))\n",
        "x.add(BatchNormalization())\n",
        "\n",
        "# Block 3\n",
        "x.add(Conv2D(256, (3, 3),activation='relu',padding='same'))\n",
        "\n",
        "# x.add(Conv2D(256, (3, 3),activation='relu',padding='same'))\n",
        "\n",
        "# x.add(Conv2D(256, (3, 3),activation='relu',padding='same'))\n",
        "\n",
        "# x.add(MaxPooling2D((2, 2), strides=(2, 2), name='block3_pool'))\n",
        "\n",
        "\n",
        "\"\"\"\n",
        "# Block 4\n",
        "x.add(Conv2D(512, (3, 3),activation='relu',padding='same'))\n",
        "\n",
        "x.add(Conv2D(512, (3, 3),activation='relu',padding='same'))\n",
        "\n",
        "x.add(Conv2D(512, (3, 3),activation='relu',padding='same'))\n",
        "\n",
        "x.add(MaxPooling2D((2, 2), strides=(2, 2), name='block4_pool'))\n",
        "\n",
        "x.add(BatchNormalization())\n",
        "\"\"\"\n",
        "\n",
        "\n",
        "\n",
        "\"\"\"\n",
        "# Block 5\n",
        "x.add(Conv2D(512, (3, 3),activation='relu',padding='same'))\n",
        "\n",
        "x.add(Conv2D(512, (3, 3),activation='relu',padding='same'))\n",
        "\n",
        "x.add(Conv2D(512, (3, 3),activation='relu',padding='same'))\n",
        "\n",
        "x.add(MaxPooling2D((2, 2), strides=(2, 2), name='block5_pool'))\n",
        "x.add(BatchNormalization())\n",
        "\"\"\"\n",
        "\n",
        "# Classification block\n",
        "x.add(Flatten())\n",
        "\n",
        "# x.add(Dense(1000, activation='relu'))\n",
        "x.add(Dense(800, activation='relu'))\n",
        "x.add(Dense(20, activation='softmax', name='predictions'))\n",
        "\n",
        "\n"
      ],
      "execution_count": 0,
      "outputs": []
    },
    {
      "cell_type": "code",
      "metadata": {
        "id": "hdfwLlrYIcMs",
        "colab_type": "code",
        "colab": {}
      },
      "source": [
        "# original parameters (lr=0.001, decay=1e-6, momentum=0.9, nesterov=True)\n",
        "sgd = optimizers.SGD(lr=0.001, decay=1e-6, momentum=0.9, nesterov=True)\n",
        "\n",
        "# original parameters (lr=0.02, beta_1=0.9, beta_2=0.999, epsilon=None, schedule_decay=0.004)\n",
        "nadam = optimizers.Nadam(lr=0.02, beta_1=0.9, beta_2=0.999, epsilon=None, schedule_decay=0.004)\n",
        "\n",
        "# original parameters (lr=0.001, beta_1=0.9, beta_2=0.999, epsilon=None, decay=0.0, amsgrad=False)\n",
        "adam = optimizers.Adam(lr=0.001, beta_1=0.9, beta_2=0.999, epsilon=None, decay=0.0, amsgrad=False)\n",
        "\n",
        "x.compile(loss='mean_squared_error',\n",
        "              optimizer=adam,\n",
        "              metrics=['accuracy'])"
      ],
      "execution_count": 0,
      "outputs": []
    },
    {
      "cell_type": "code",
      "metadata": {
        "id": "5krhglyUIeER",
        "colab_type": "code",
        "outputId": "3893702f-da67-4ae5-fc35-fb7034050cbf",
        "colab": {
          "base_uri": "https://localhost:8080/",
          "height": 68
        }
      },
      "source": [
        "for i in range(25):\n",
        "  print(\"epoch\",i+1)\n",
        "  x.fit(X, Y,epochs=1,batch_size=25,validation_data=(X_val, Y_val))\n",
        "  x.save('littleClassifier.h5')\n",
        "  print(\"----------------------------------------------------------------------\")\n",
        "  print(\"----------------------------------------------------------------------\")\n"
      ],
      "execution_count": 0,
      "outputs": [
        {
          "output_type": "stream",
          "text": [
            "epoch 1\n",
            "Train on 16551 samples, validate on 4952 samples\n",
            "Epoch 1/1\n"
          ],
          "name": "stdout"
        }
      ]
    },
    {
      "cell_type": "code",
      "metadata": {
        "id": "NTGuH_j4JkZ1",
        "colab_type": "code",
        "colab": {}
      },
      "source": [
        ""
      ],
      "execution_count": 0,
      "outputs": []
    }
  ]
}