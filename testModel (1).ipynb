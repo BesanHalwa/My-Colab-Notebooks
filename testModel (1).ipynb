{
  "nbformat": 4,
  "nbformat_minor": 0,
  "metadata": {
    "colab": {
      "name": "testModel.ipynb",
      "version": "0.3.2",
      "provenance": [],
      "collapsed_sections": []
    },
    "kernelspec": {
      "name": "python3",
      "display_name": "Python 3"
    },
    "accelerator": "GPU"
  },
  "cells": [
    {
      "cell_type": "code",
      "metadata": {
        "id": "NBw24eDnbiL4",
        "colab_type": "code",
        "colab": {}
      },
      "source": [
        ""
      ],
      "execution_count": 0,
      "outputs": []
    },
    {
      "cell_type": "code",
      "metadata": {
        "id": "JpHHVglGZI6A",
        "colab_type": "code",
        "colab": {}
      },
      "source": [
        "!apt-get install -y -qq software-properties-common python-software-properties module-init-tools\n",
        "!add-apt-repository -y ppa:alessandro-strada/ppa 2>&1 > /dev/null\n",
        "!apt-get update -qq 2>&1 > /dev/null\n",
        "!apt-get -y install -qq google-drive-ocamlfuse fuse\n",
        "from google.colab import auth\n",
        "auth.authenticate_user()\n",
        "from oauth2client.client import GoogleCredentials\n",
        "creds = GoogleCredentials.get_application_default()\n",
        "import getpass\n",
        "!google-drive-ocamlfuse -headless -id={creds.client_id} -secret={creds.client_secret} < /dev/null 2>&1 | grep URL\n",
        "vcode = getpass.getpass()\n",
        "!echo {vcode} | google-drive-ocamlfuse -headless -id={creds.client_id} -secret={creds.client_secret}"
      ],
      "execution_count": 0,
      "outputs": []
    },
    {
      "cell_type": "code",
      "metadata": {
        "id": "bdTNYOtkZeoI",
        "colab_type": "code",
        "colab": {}
      },
      "source": [
        "!mkdir -p drive\n",
        "!google-drive-ocamlfuse drive"
      ],
      "execution_count": 0,
      "outputs": []
    },
    {
      "cell_type": "code",
      "metadata": {
        "id": "xSMRc0-YaFqB",
        "colab_type": "code",
        "colab": {}
      },
      "source": [
        "!ls drive"
      ],
      "execution_count": 0,
      "outputs": []
    },
    {
      "cell_type": "code",
      "metadata": {
        "id": "FIQNha02cB_n",
        "colab_type": "code",
        "colab": {}
      },
      "source": [
        "import numpy as np"
      ],
      "execution_count": 0,
      "outputs": []
    },
    {
      "cell_type": "code",
      "metadata": {
        "id": "nTSuD5mUaIb5",
        "colab_type": "code",
        "colab": {}
      },
      "source": [
        "# load data\n",
        "# id=1QMue40RzXn8q87JM7M9KT40Z9cD1dqyU\n",
        "X_TRAIN = drive.CreateFile({'id':'1QMue40RzXn8q87JM7M9KT40Z9cD1dqyU'}) # full arr\n",
        "# id=1rYOqTxIYw0QUxh-w5OQYRHNsX-IeDmC9\n",
        "Y_TRAIN = drive.CreateFile({'id':'1rYOqTxIYw0QUxh-w5OQYRHNsX-IeDmC9'})\n",
        "\n",
        "\n",
        "X_TRAIN.GetContentFile('input_data.npy')\n",
        "Y_TRAIN.GetContentFile('labels.npy')\n"
      ],
      "execution_count": 0,
      "outputs": []
    },
    {
      "cell_type": "code",
      "metadata": {
        "id": "T4qsxgQGbvLy",
        "colab_type": "code",
        "colab": {}
      },
      "source": [
        "INPUT_DATA = np.load('input_data.npy')\n",
        "OUTPUT_DATA = np.load('labels.npy')"
      ],
      "execution_count": 0,
      "outputs": []
    },
    {
      "cell_type": "code",
      "metadata": {
        "id": "LDwx76RscGNY",
        "colab_type": "code",
        "colab": {}
      },
      "source": [
        "\n",
        "print(len(INPUT_DATA))\n",
        "print(len(OUTPUT_DATA[123]))\n",
        "OUTPUT_DATA.shape\n"
      ],
      "execution_count": 0,
      "outputs": []
    },
    {
      "cell_type": "code",
      "metadata": {
        "id": "Ko7yAkkLcSbF",
        "colab_type": "code",
        "colab": {}
      },
      "source": [
        "####################################################\n",
        "############# DATA LOADED SUCCESSFULLY##############\n",
        "####################################################"
      ],
      "execution_count": 0,
      "outputs": []
    },
    {
      "cell_type": "code",
      "metadata": {
        "id": "Hkq2vFXZeOWD",
        "colab_type": "code",
        "colab": {}
      },
      "source": [
        "from __future__ import print_function\n",
        "import tensorflow as tf\n"
      ],
      "execution_count": 0,
      "outputs": []
    },
    {
      "cell_type": "code",
      "metadata": {
        "id": "lAqrPxCqebai",
        "colab_type": "code",
        "colab": {}
      },
      "source": [
        "# LOAD DATA"
      ],
      "execution_count": 0,
      "outputs": []
    },
    {
      "cell_type": "code",
      "metadata": {
        "id": "io0vZlT2ejYD",
        "colab_type": "code",
        "colab": {}
      },
      "source": [
        "# Parameters\n",
        "learning_rate = 0.000000000000000000000000000000001\n",
        "num_steps = 500                       ###########################\n",
        "batch_size = 128\n",
        "display_step = 100"
      ],
      "execution_count": 0,
      "outputs": []
    },
    {
      "cell_type": "code",
      "metadata": {
        "id": "g8nitvgeekyv",
        "colab_type": "code",
        "colab": {}
      },
      "source": [
        "# Network Parameters\n",
        "num_input = 16000 # 20K border pixels\n",
        "n_hidden_1 = 16000 # 1st layer number of neurons\n",
        "n_hidden_2 = 8000 # 2nd layer number of neurons\n",
        "n_hidden_3 = 800\n",
        "n_hidden_4 = 20\n",
        "num_classes = 4 # 4 points are required to build a frame (total 5 frames) #########################\n"
      ],
      "execution_count": 0,
      "outputs": []
    },
    {
      "cell_type": "code",
      "metadata": {
        "id": "mwrfNRdheov0",
        "colab_type": "code",
        "colab": {}
      },
      "source": [
        "# tf Graph input\n",
        "X = tf.placeholder(\"float\", [None, num_input])\n",
        "Y = tf.placeholder(\"float\", [None, num_classes])\n"
      ],
      "execution_count": 0,
      "outputs": []
    },
    {
      "cell_type": "code",
      "metadata": {
        "id": "UV3EvBp9erRD",
        "colab_type": "code",
        "colab": {}
      },
      "source": [
        "# Store layers weight & bias\n",
        "weights = {\n",
        "    'h1': tf.Variable(tf.random_normal([num_input, n_hidden_1])),\n",
        "    'h2': tf.Variable(tf.random_normal([n_hidden_1, n_hidden_2])),\n",
        "    \n",
        "    'h3': tf.Variable(tf.random_normal([n_hidden_2, n_hidden_3])),\n",
        "    'h4': tf.Variable(tf.random_normal([n_hidden_3, n_hidden_4])),\n",
        "    'out': tf.Variable(tf.random_normal([n_hidden_4, num_classes]))\n",
        "}\n",
        "biases = {\n",
        "    'b1': tf.Variable(tf.random_normal([n_hidden_1])),\n",
        "    'b2': tf.Variable(tf.random_normal([n_hidden_2])),\n",
        "    'b3': tf.Variable(tf.random_normal([n_hidden_3])),\n",
        "    'b4': tf.Variable(tf.random_normal([n_hidden_4])),\n",
        "    'out': tf.Variable(tf.random_normal([num_classes]))\n",
        "}"
      ],
      "execution_count": 0,
      "outputs": []
    },
    {
      "cell_type": "code",
      "metadata": {
        "id": "ijAWLqSXeuEh",
        "colab_type": "code",
        "colab": {}
      },
      "source": [
        "# Create model\n",
        "def neural_net(x):\n",
        "    # Hidden fully connected layer with 2000 neurons\n",
        "    layer_1 = tf.add(tf.matmul(x, weights['h1']), biases['b1'])\n",
        "    \n",
        "    # Hidden fully connected layer with 200 neurons\n",
        "    layer_2 = tf.add(tf.matmul(layer_1, weights['h2']), biases['b2'])\n",
        "    \n",
        "    \n",
        "    layer_3 = tf.add(tf.matmul(layer_2, weights['h3']), biases['b3'])\n",
        "    layer_4 = tf.add(tf.matmul(layer_3, weights['h4']), biases['b4'])\n",
        "    \n",
        "    \n",
        "    \n",
        "    # Output fully connected layer with a neuron for each class\n",
        "    out_layer = tf.matmul(layer_4, weights['out']) + biases['out']\n",
        "    return out_layer"
      ],
      "execution_count": 0,
      "outputs": []
    },
    {
      "cell_type": "code",
      "metadata": {
        "id": "LF82-UXAezPi",
        "colab_type": "code",
        "colab": {}
      },
      "source": [
        "# Construct model\n",
        "logits = neural_net(X)\n",
        "prediction = tf.nn.softmax(logits)\n",
        "\n",
        "# Define loss and optimizer\n",
        "loss_op = tf.reduce_mean(tf.nn.softmax_cross_entropy_with_logits(\n",
        "    logits=logits, labels=Y))\n",
        "optimizer = tf.train.AdamOptimizer(learning_rate=learning_rate)\n",
        "train_op = optimizer.minimize(loss_op)\n",
        "\n",
        "# Evaluate model\n",
        "correct_pred = tf.equal(tf.argmax(prediction, 1), tf.argmax(Y, 1))\n",
        "accuracy = tf.reduce_mean(tf.cast(correct_pred, tf.float32))\n",
        "\n",
        "# Initialize the variables (i.e. assign their default value)\n",
        "init = tf.global_variables_initializer()\n",
        "\n",
        "# Add ops to save and restore all the variables.\n",
        "saver = tf.train.Saver()"
      ],
      "execution_count": 0,
      "outputs": []
    },
    {
      "cell_type": "code",
      "metadata": {
        "id": "1L66sHGhe3E-",
        "colab_type": "code",
        "colab": {}
      },
      "source": [
        "# Start training\n",
        "with tf.Session() as sess:\n",
        "\n",
        "    # Run the initializer\n",
        "    sess.run(init)\n",
        "    step = 0\n",
        "    for i in range(3000):\n",
        "        \n",
        "        \n",
        "      \n",
        "        a = INPUT_DATA[i].shape\n",
        "        if(a[0]!=16000):\n",
        "            continue\n",
        "        \n",
        "        batch_x = np.reshape(INPUT_DATA[i], (1,16000))\n",
        "        batch_y = np.reshape(OUTPUT_DATA[i], (1,4))\n",
        "        step = step + 1\n",
        "        \n",
        "        \n",
        "        \n",
        "        \n",
        "        # Run optimization op (backprop)\n",
        "        sess.run(train_op, feed_dict={X: batch_x, Y: batch_y}) ########################\n",
        "        if i % 10 == 0:\n",
        "            # Calculate batch loss and accuracy\n",
        "            loss, acc = sess.run([loss_op, accuracy], feed_dict={X: batch_x,\n",
        "                                                                 Y: batch_y})\n",
        "            print(\"--------------------------------------------------------\")\n",
        "            print(\"Step \" + str(step) + \", Minibatch Loss= \" + \\\n",
        "                  \"{:.4f}\".format(loss) + \", Training Accuracy= \" + \\\n",
        "                  \"{:.3f}\".format(acc))\n",
        "\n",
        "\n",
        "    print(\"Optimization Finished!\")\n",
        "    save_path = saver.save(sess, \"/tmp/model.ckpt\")"
      ],
      "execution_count": 0,
      "outputs": []
    },
    {
      "cell_type": "code",
      "metadata": {
        "id": "WgAOwWEDgqu8",
        "colab_type": "code",
        "colab": {}
      },
      "source": [
        "len(INPUT_DATA)"
      ],
      "execution_count": 0,
      "outputs": []
    },
    {
      "cell_type": "code",
      "metadata": {
        "id": "Yx0vZVpFlOqQ",
        "colab_type": "code",
        "colab": {}
      },
      "source": [
        "d = np.reshape(INPUT_DATA[0], (1,16000))\n",
        "a, b = (d.shape)\n",
        "print(a,b)"
      ],
      "execution_count": 0,
      "outputs": []
    },
    {
      "cell_type": "code",
      "metadata": {
        "id": "FdWKl1UM2eL1",
        "colab_type": "code",
        "colab": {}
      },
      "source": [
        "a = INPUT_DATA[0].shape\n",
        "print(a[0])"
      ],
      "execution_count": 0,
      "outputs": []
    },
    {
      "cell_type": "code",
      "metadata": {
        "id": "_DPE2aS72fBU",
        "colab_type": "code",
        "colab": {}
      },
      "source": [
        ""
      ],
      "execution_count": 0,
      "outputs": []
    }
  ]
}