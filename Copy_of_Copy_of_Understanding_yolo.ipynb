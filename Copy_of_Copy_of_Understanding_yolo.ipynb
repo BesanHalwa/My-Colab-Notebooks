{
  "nbformat": 4,
  "nbformat_minor": 0,
  "metadata": {
    "colab": {
      "name": "Copy of Copy of Understanding yolo.ipynb",
      "version": "0.3.2",
      "provenance": []
    },
    "kernelspec": {
      "name": "python3",
      "display_name": "Python 3"
    },
    "accelerator": "GPU"
  },
  "cells": [
    {
      "cell_type": "code",
      "metadata": {
        "id": "pUVB9O75C0cy",
        "colab_type": "code",
        "outputId": "c1f2278c-e2d2-44d4-8287-24474c576605",
        "colab": {
          "base_uri": "https://localhost:8080/",
          "height": 277
        }
      },
      "source": [
        "!apt-get install -y -qq software-properties-common python-software-properties module-init-tools\n",
        "!add-apt-repository -y ppa:alessandro-strada/ppa 2>&1 > /dev/null\n",
        "!apt-get update -qq 2>&1 > /dev/null\n",
        "!apt-get -y install -qq google-drive-ocamlfuse fuse\n",
        "from google.colab import auth\n",
        "auth.authenticate_user()\n",
        "from oauth2client.client import GoogleCredentials\n",
        "creds = GoogleCredentials.get_application_default()\n",
        "import getpass\n",
        "!google-drive-ocamlfuse -headless -id={creds.client_id} -secret={creds.client_secret} < /dev/null 2>&1 | grep URL\n",
        "vcode = getpass.getpass()\n",
        "!echo {vcode} | google-drive-ocamlfuse -headless -id={creds.client_id} -secret={creds.client_secret}\n",
        "\n",
        "\n",
        "\n"
      ],
      "execution_count": 0,
      "outputs": [
        {
          "output_type": "stream",
          "text": [
            "Please, open the following URL in a web browser: https://accounts.google.com/o/oauth2/auth?client_id=32555940559.apps.googleusercontent.com&redirect_uri=urn%3Aietf%3Awg%3Aoauth%3A2.0%3Aoob&scope=https%3A%2F%2Fwww.googleapis.com%2Fauth%2Fdrive&response_type=code&access_type=offline&approval_prompt=force\r\n",
            "··········\n",
            "Please, open the following URL in a web browser: https://accounts.google.com/o/oauth2/auth?client_id=32555940559.apps.googleusercontent.com&redirect_uri=urn%3Aietf%3Awg%3Aoauth%3A2.0%3Aoob&scope=https%3A%2F%2Fwww.googleapis.com%2Fauth%2Fdrive&response_type=code&access_type=offline&approval_prompt=force\n",
            "Please enter the verification code: Access token retrieved correctly.\n"
          ],
          "name": "stdout"
        }
      ]
    },
    {
      "cell_type": "code",
      "metadata": {
        "id": "uUxDNcg3C3Wx",
        "colab_type": "code",
        "colab": {}
      },
      "source": [
        "!mkdir -p drive\n",
        "!google-drive-ocamlfuse drive"
      ],
      "execution_count": 0,
      "outputs": []
    },
    {
      "cell_type": "code",
      "metadata": {
        "id": "5iULJR-gC-wL",
        "colab_type": "code",
        "outputId": "75651941-c8da-49ce-df1a-64d0e920cba6",
        "colab": {
          "base_uri": "https://localhost:8080/",
          "height": 34
        }
      },
      "source": [
        "cd drive/project_data"
      ],
      "execution_count": 0,
      "outputs": [
        {
          "output_type": "stream",
          "text": [
            "/content/drive/project_data\n"
          ],
          "name": "stdout"
        }
      ]
    },
    {
      "cell_type": "code",
      "metadata": {
        "id": "2B5a3LLGAanW",
        "colab_type": "code",
        "outputId": "fa4cf6cb-c121-4ff2-b522-4a5c5c88c254",
        "colab": {
          "base_uri": "https://localhost:8080/",
          "height": 34
        }
      },
      "source": [
        "cd Yolo_type_data/"
      ],
      "execution_count": 0,
      "outputs": [
        {
          "output_type": "stream",
          "text": [
            "/content/drive/project_data/Yolo_type_data\n"
          ],
          "name": "stdout"
        }
      ]
    },
    {
      "cell_type": "code",
      "metadata": {
        "id": "64HjGRafDwKv",
        "colab_type": "code",
        "outputId": "d7199f02-81a5-4249-accd-7b0b7bff39a3",
        "colab": {
          "base_uri": "https://localhost:8080/",
          "height": 34
        }
      },
      "source": [
        "import keras\n",
        "from keras.models import Sequential\n",
        "from keras import layers\n",
        "from keras.layers import Conv2D, MaxPooling2D\n",
        "from keras.layers import Activation, Dropout, Flatten, Dense, Reshape\n",
        "from keras.layers.normalization import BatchNormalization\n",
        "from keras import optimizers\n",
        "import numpy as np\n",
        "import tensorflow as tf\n",
        "from keras.optimizers import SGD"
      ],
      "execution_count": 0,
      "outputs": [
        {
          "output_type": "stream",
          "text": [
            "Using TensorFlow backend.\n"
          ],
          "name": "stderr"
        }
      ]
    },
    {
      "cell_type": "code",
      "metadata": {
        "id": "dMh9Xk0TDlV0",
        "colab_type": "code",
        "colab": {}
      },
      "source": [
        "X = np.load('X.npy')\n",
        "Y = np.load('49*6lable.npy')"
      ],
      "execution_count": 0,
      "outputs": []
    },
    {
      "cell_type": "code",
      "metadata": {
        "id": "uwmphPiYC3eL",
        "colab_type": "code",
        "colab": {}
      },
      "source": [
        "def add_vgg(model, shape=(300,300,3)):\n",
        "    \n",
        "    # Block 1\n",
        "    model.add(Conv2D(64, (3, 3),\n",
        "                      activation='relu',\n",
        "                      padding='same',\n",
        "                      name='block1_conv1',input_shape=shape,\n",
        "                      trainable=False))\n",
        "    model.add(Conv2D(64, (3, 3),\n",
        "                      activation='relu',\n",
        "                      padding='same',\n",
        "                      name='block1_conv2',\n",
        "                      trainable=False))\n",
        "    model.add(MaxPooling2D((2, 2), strides=(2, 2), name='block1_pool'))\n",
        "    model.add(BatchNormalization())\n",
        "\n",
        "    # Block 2\n",
        "    model.add(Conv2D(128, (3, 3),\n",
        "                      activation='relu',\n",
        "                      padding='same',\n",
        "                      name='block2_conv1',\n",
        "                      trainable=False))\n",
        "    model.add(Conv2D(128, (3, 3),\n",
        "                      activation='relu',\n",
        "                      padding='same',\n",
        "                      name='block2_conv2',\n",
        "                      trainable=False))\n",
        "    model.add(MaxPooling2D((2, 2), strides=(2, 2), name='block2_pool'))\n",
        "    model.add(BatchNormalization())\n",
        "\n",
        "    # Block 3\n",
        "    model.add(Conv2D(256, (3, 3),\n",
        "                      activation='relu',\n",
        "                      padding='same',\n",
        "                      name='block3_conv1',\n",
        "                      trainable=False))\n",
        "    model.add(Conv2D(256, (3, 3),\n",
        "                      activation='relu',\n",
        "                      padding='same',\n",
        "                      name='block3_conv2',\n",
        "                      trainable=False))\n",
        "    model.add(Conv2D(256, (3, 3),\n",
        "                      activation='relu',\n",
        "                      padding='same',\n",
        "                      name='block3_conv3',\n",
        "                      trainable=False))\n",
        "    model.add(MaxPooling2D((2, 2), strides=(2, 2), name='block3_pool'))\n",
        "    model.add(BatchNormalization())\n",
        "\n",
        "    # Block 4\n",
        "    model.add(Conv2D(512, (3, 3),\n",
        "                      activation='relu',\n",
        "                      padding='same',\n",
        "                      name='block4_conv1',\n",
        "                      trainable=False))\n",
        "    model.add(Conv2D(512, (3, 3),\n",
        "                      activation='relu',\n",
        "                      padding='same',\n",
        "                      name='block4_conv2',\n",
        "                      trainable=False))\n",
        "    model.add(Conv2D(512, (3, 3),\n",
        "                      activation='relu',\n",
        "                      padding='same',\n",
        "                      name='block4_conv3',\n",
        "                      trainable=False))\n",
        "    model.add(MaxPooling2D((2, 2), strides=(2, 2), name='block4_pool'))\n",
        "    model.add(BatchNormalization())\n",
        "\n",
        "    # Block 5\n",
        "    model.add(Conv2D(512, (3, 3),\n",
        "                      activation='relu',\n",
        "                      padding='same',\n",
        "                      name='block5_conv1',\n",
        "                      trainable=False))\n",
        "    model.add(Conv2D(512, (3, 3),\n",
        "                      activation='relu',\n",
        "                      padding='same',\n",
        "                      name='block5_conv2',\n",
        "                      trainable=False))\n",
        "    model.add(Conv2D(512, (3, 3),\n",
        "                      activation='relu',\n",
        "                      padding='same',\n",
        "                      name='block5_conv3',\n",
        "                      trainable=False))\n",
        "    model.add(MaxPooling2D((2, 2), strides=(2, 2), name='block5_pool'))\n",
        "    model.add(BatchNormalization())\n",
        "\n",
        "    return model\n",
        "\n",
        "#VGG structure model\n",
        "\n",
        "\n",
        "\n"
      ],
      "execution_count": 0,
      "outputs": []
    },
    {
      "cell_type": "code",
      "metadata": {
        "id": "8itO1koQDDwb",
        "colab_type": "code",
        "colab": {}
      },
      "source": [
        "def add_extra_layers(model):\n",
        "    #extra Block\n",
        "    model.add(Conv2D(512, (3, 3),\n",
        "                      activation='relu',\n",
        "                      padding='same',\n",
        "                      name='extra_block_conv1'))\n",
        "    model.add(Conv2D(512, (3, 3),\n",
        "                      activation='relu',\n",
        "                      padding='same',\n",
        "                      name='extra_block_conv2'))\n",
        "    model.add(Conv2D(512, (3, 3),\n",
        "                      activation='relu',\n",
        "                      padding='same',\n",
        "                      name='extra_block_conv3'))\n",
        "    \n",
        "    #Padding removed(To bring the proper shape)\n",
        "    \n",
        "    model.add(Conv2D(512, (3, 3),\n",
        "                      activation='relu',\n",
        "                      padding='same',\n",
        "                      name='extra_block_conv4'))\n",
        "    model.add(Conv2D(512, (3, 3),\n",
        "                      activation='relu',\n",
        "                      padding='same',\n",
        "                      name='extra_block_conv5'))\n",
        "    model.add(Conv2D(512, (3, 3),\n",
        "                      activation='relu',\n",
        "                      padding='same',\n",
        "                      name='extra_block_conv6'))\n",
        "    return model"
      ],
      "execution_count": 0,
      "outputs": []
    },
    {
      "cell_type": "code",
      "metadata": {
        "id": "D_Z8AnK0DD4R",
        "colab_type": "code",
        "colab": {}
      },
      "source": [
        "def add_final_layer(model):\n",
        "    \n",
        "    #final extra Block\n",
        "    model.add(Conv2D(256, (3, 3),\n",
        "                      activation='relu',\n",
        "                      name='final_block1_conv1'))\n",
        "    model.add(Conv2D(128, (3, 3),\n",
        "                      activation='relu',\n",
        "                      padding='same',\n",
        "                      name='final_block_conv2'))\n",
        "    model.add(Flatten())\n",
        "    model.add(Dense(600))\n",
        "    model.add(Dense(294))\n",
        "    model.add(Reshape((49, 6)))\n",
        "    return model"
      ],
      "execution_count": 0,
      "outputs": []
    },
    {
      "cell_type": "code",
      "metadata": {
        "id": "FqpZ3UimEjbb",
        "colab_type": "code",
        "colab": {}
      },
      "source": [
        "def create_model(inp_shape=(300,300,3)):\n",
        "    #Declaring Sequential model\n",
        "    model = Sequential()\n",
        "    # Loading VGG model structure\n",
        "    model = add_vgg(model)\n",
        "    model.load_weights('classifier_weights.h5',by_name=True)\n",
        "    model = add_extra_layers(model)\n",
        "    model = add_final_layer(model)\n",
        "    # Loading trained VGG weights to the named layers\n",
        "    \n",
        "    \n",
        "    \n",
        "    return model\n",
        "    "
      ],
      "execution_count": 0,
      "outputs": []
    },
    {
      "cell_type": "code",
      "metadata": {
        "id": "MDvtByraFC1c",
        "colab_type": "code",
        "colab": {}
      },
      "source": [
        "from keras import backend as K\n",
        "\n",
        "def C_Loss(Y_true, Y_pred):\n",
        "    c_true = Y_true[:,:,5:6]\n",
        "    c_pred = Y_pred[:,:,5:6]\n",
        "    pred_  = Y_pred[:,:,0:5]\n",
        "    true_  = Y_true[:,:,0:5]\n",
        "    loss1 = tf.square(tf.subtract(c_true,c_pred))\n",
        "    loss2 = tf.multiply(c_true,tf.square(tf.subtract(pred_,true_)))\n",
        "    return (loss1+loss2)\n",
        "    \n",
        "    "
      ],
      "execution_count": 0,
      "outputs": []
    },
    {
      "cell_type": "code",
      "metadata": {
        "id": "vyIpfV1zFFOx",
        "colab_type": "code",
        "colab": {}
      },
      "source": [
        "#model = create_model()\n",
        "sgd = SGD(lr=0.0001)\n",
        "model.compile(loss=C_Loss,\n",
        "              optimizer=sgd,\n",
        "              metrics=['accuracy'])\n",
        "\n"
      ],
      "execution_count": 0,
      "outputs": []
    },
    {
      "cell_type": "code",
      "metadata": {
        "id": "jkLbuNFoJuto",
        "colab_type": "code",
        "outputId": "37d0728e-6ae9-4a47-d458-d6c6c1b09eec",
        "colab": {
          "base_uri": "https://localhost:8080/",
          "height": 51
        }
      },
      "source": [
        "print(X.shape)\n",
        "print(Y.shape)"
      ],
      "execution_count": 0,
      "outputs": [
        {
          "output_type": "stream",
          "text": [
            "(21503, 300, 300, 3)\n",
            "(21503, 49, 6)\n"
          ],
          "name": "stdout"
        }
      ]
    },
    {
      "cell_type": "code",
      "metadata": {
        "id": "vkI64mRemPK5",
        "colab_type": "code",
        "colab": {}
      },
      "source": [
        "model.save_weights('detector.h5')"
      ],
      "execution_count": 0,
      "outputs": []
    },
    {
      "cell_type": "code",
      "metadata": {
        "id": "XbRIyQvIA68R",
        "colab_type": "code",
        "outputId": "57344657-6402-462d-fa27-817b53731b56",
        "colab": {
          "base_uri": "https://localhost:8080/",
          "height": 18562
        }
      },
      "source": [
        "model.fit(X[0:16000], Y[0:16000], batch_size=64, epochs=10, verbose=1,validation_data=(X[16000:],Y[16000:]))"
      ],
      "execution_count": 0,
      "outputs": [
        {
          "output_type": "stream",
          "text": [
            "Train on 16000 samples, validate on 5503 samples\n",
            "Epoch 1/10\n",
            "16000/16000 [==============================] - 673s 42ms/step - loss: 0.2716 - acc: 0.5556 - val_loss: 0.2839 - val_acc: 0.5553\n",
            "Epoch 2/10\n",
            "14272/16000 [=========================>....] - ETA: 57s - loss: 0.2711 - acc: 0.5567"
          ],
          "name": "stdout"
        },
        {
          "output_type": "stream",
          "text": [
            "16000/16000 [==============================] - 650s 41ms/step - loss: 0.2707 - acc: 0.5567 - val_loss: 0.2831 - val_acc: 0.5562\n",
            "Epoch 3/10\n",
            "16000/16000 [==============================] - 650s 41ms/step - loss: 0.2704 - acc: 0.5573 - val_loss: 0.2820 - val_acc: 0.5565\n",
            "Epoch 4/10\n",
            " 7232/16000 [============>.................] - ETA: 4:52 - loss: 0.2666 - acc: 0.5571"
          ],
          "name": "stdout"
        },
        {
          "output_type": "stream",
          "text": [
            "16000/16000 [==============================] - 650s 41ms/step - loss: 0.2690 - acc: 0.5576 - val_loss: 0.2812 - val_acc: 0.5571\n",
            "Epoch 5/10\n",
            "16000/16000 [==============================] - 650s 41ms/step - loss: 0.2683 - acc: 0.5578 - val_loss: 0.2803 - val_acc: 0.5579\n",
            "Epoch 6/10\n",
            " 5568/16000 [=========>....................] - ETA: 5:47 - loss: 0.2648 - acc: 0.5586"
          ],
          "name": "stdout"
        },
        {
          "output_type": "stream",
          "text": [
            "16000/16000 [==============================] - 650s 41ms/step - loss: 0.2675 - acc: 0.5587 - val_loss: 0.2797 - val_acc: 0.5587\n",
            "Epoch 7/10\n",
            "16000/16000 [==============================] - 649s 41ms/step - loss: 0.2666 - acc: 0.5593 - val_loss: 0.2785 - val_acc: 0.5597\n",
            "Epoch 8/10\n",
            " 5184/16000 [========>.....................] - ETA: 6:00 - loss: 0.2705 - acc: 0.5601"
          ],
          "name": "stdout"
        },
        {
          "output_type": "stream",
          "text": [
            "16000/16000 [==============================] - 650s 41ms/step - loss: 0.2660 - acc: 0.5605 - val_loss: 0.2784 - val_acc: 0.5605\n",
            "Epoch 9/10\n",
            "16000/16000 [==============================] - 647s 40ms/step - loss: 0.2653 - acc: 0.5610 - val_loss: 0.2770 - val_acc: 0.5613\n",
            "Epoch 10/10\n",
            "  896/16000 [>.............................] - ETA: 8:19 - loss: 0.2574 - acc: 0.5616"
          ],
          "name": "stdout"
        },
        {
          "output_type": "error",
          "ename": "KeyboardInterrupt",
          "evalue": "ignored",
          "traceback": [
            "\u001b[0;31m---------------------------------------------------------------------------\u001b[0m",
            "\u001b[0;31mKeyboardInterrupt\u001b[0m                         Traceback (most recent call last)",
            "\u001b[0;32m<ipython-input-25-312ef3f167c4>\u001b[0m in \u001b[0;36m<module>\u001b[0;34m()\u001b[0m\n\u001b[0;32m----> 1\u001b[0;31m \u001b[0mmodel\u001b[0m\u001b[0;34m.\u001b[0m\u001b[0mfit\u001b[0m\u001b[0;34m(\u001b[0m\u001b[0mX\u001b[0m\u001b[0;34m[\u001b[0m\u001b[0;36m0\u001b[0m\u001b[0;34m:\u001b[0m\u001b[0;36m16000\u001b[0m\u001b[0;34m]\u001b[0m\u001b[0;34m,\u001b[0m \u001b[0mY\u001b[0m\u001b[0;34m[\u001b[0m\u001b[0;36m0\u001b[0m\u001b[0;34m:\u001b[0m\u001b[0;36m16000\u001b[0m\u001b[0;34m]\u001b[0m\u001b[0;34m,\u001b[0m \u001b[0mbatch_size\u001b[0m\u001b[0;34m=\u001b[0m\u001b[0;36m64\u001b[0m\u001b[0;34m,\u001b[0m \u001b[0mepochs\u001b[0m\u001b[0;34m=\u001b[0m\u001b[0;36m10\u001b[0m\u001b[0;34m,\u001b[0m \u001b[0mverbose\u001b[0m\u001b[0;34m=\u001b[0m\u001b[0;36m1\u001b[0m\u001b[0;34m,\u001b[0m\u001b[0mvalidation_data\u001b[0m\u001b[0;34m=\u001b[0m\u001b[0;34m(\u001b[0m\u001b[0mX\u001b[0m\u001b[0;34m[\u001b[0m\u001b[0;36m16000\u001b[0m\u001b[0;34m:\u001b[0m\u001b[0;34m]\u001b[0m\u001b[0;34m,\u001b[0m\u001b[0mY\u001b[0m\u001b[0;34m[\u001b[0m\u001b[0;36m16000\u001b[0m\u001b[0;34m:\u001b[0m\u001b[0;34m]\u001b[0m\u001b[0;34m)\u001b[0m\u001b[0;34m)\u001b[0m\u001b[0;34m\u001b[0m\u001b[0m\n\u001b[0m",
            "\u001b[0;32m/usr/local/lib/python3.6/dist-packages/keras/models.py\u001b[0m in \u001b[0;36mfit\u001b[0;34m(self, x, y, batch_size, epochs, verbose, callbacks, validation_split, validation_data, shuffle, class_weight, sample_weight, initial_epoch, steps_per_epoch, validation_steps, **kwargs)\u001b[0m\n\u001b[1;32m   1000\u001b[0m                               \u001b[0minitial_epoch\u001b[0m\u001b[0;34m=\u001b[0m\u001b[0minitial_epoch\u001b[0m\u001b[0;34m,\u001b[0m\u001b[0;34m\u001b[0m\u001b[0m\n\u001b[1;32m   1001\u001b[0m                               \u001b[0msteps_per_epoch\u001b[0m\u001b[0;34m=\u001b[0m\u001b[0msteps_per_epoch\u001b[0m\u001b[0;34m,\u001b[0m\u001b[0;34m\u001b[0m\u001b[0m\n\u001b[0;32m-> 1002\u001b[0;31m                               validation_steps=validation_steps)\n\u001b[0m\u001b[1;32m   1003\u001b[0m \u001b[0;34m\u001b[0m\u001b[0m\n\u001b[1;32m   1004\u001b[0m     def evaluate(self, x=None, y=None,\n",
            "\u001b[0;32m/usr/local/lib/python3.6/dist-packages/keras/engine/training.py\u001b[0m in \u001b[0;36mfit\u001b[0;34m(self, x, y, batch_size, epochs, verbose, callbacks, validation_split, validation_data, shuffle, class_weight, sample_weight, initial_epoch, steps_per_epoch, validation_steps, **kwargs)\u001b[0m\n\u001b[1;32m   1703\u001b[0m                               \u001b[0minitial_epoch\u001b[0m\u001b[0;34m=\u001b[0m\u001b[0minitial_epoch\u001b[0m\u001b[0;34m,\u001b[0m\u001b[0;34m\u001b[0m\u001b[0m\n\u001b[1;32m   1704\u001b[0m                               \u001b[0msteps_per_epoch\u001b[0m\u001b[0;34m=\u001b[0m\u001b[0msteps_per_epoch\u001b[0m\u001b[0;34m,\u001b[0m\u001b[0;34m\u001b[0m\u001b[0m\n\u001b[0;32m-> 1705\u001b[0;31m                               validation_steps=validation_steps)\n\u001b[0m\u001b[1;32m   1706\u001b[0m \u001b[0;34m\u001b[0m\u001b[0m\n\u001b[1;32m   1707\u001b[0m     def evaluate(self, x=None, y=None,\n",
            "\u001b[0;32m/usr/local/lib/python3.6/dist-packages/keras/engine/training.py\u001b[0m in \u001b[0;36m_fit_loop\u001b[0;34m(self, f, ins, out_labels, batch_size, epochs, verbose, callbacks, val_f, val_ins, shuffle, callback_metrics, initial_epoch, steps_per_epoch, validation_steps)\u001b[0m\n\u001b[1;32m   1234\u001b[0m                         \u001b[0mins_batch\u001b[0m\u001b[0;34m[\u001b[0m\u001b[0mi\u001b[0m\u001b[0;34m]\u001b[0m \u001b[0;34m=\u001b[0m \u001b[0mins_batch\u001b[0m\u001b[0;34m[\u001b[0m\u001b[0mi\u001b[0m\u001b[0;34m]\u001b[0m\u001b[0;34m.\u001b[0m\u001b[0mtoarray\u001b[0m\u001b[0;34m(\u001b[0m\u001b[0;34m)\u001b[0m\u001b[0;34m\u001b[0m\u001b[0m\n\u001b[1;32m   1235\u001b[0m \u001b[0;34m\u001b[0m\u001b[0m\n\u001b[0;32m-> 1236\u001b[0;31m                     \u001b[0mouts\u001b[0m \u001b[0;34m=\u001b[0m \u001b[0mf\u001b[0m\u001b[0;34m(\u001b[0m\u001b[0mins_batch\u001b[0m\u001b[0;34m)\u001b[0m\u001b[0;34m\u001b[0m\u001b[0m\n\u001b[0m\u001b[1;32m   1237\u001b[0m                     \u001b[0;32mif\u001b[0m \u001b[0;32mnot\u001b[0m \u001b[0misinstance\u001b[0m\u001b[0;34m(\u001b[0m\u001b[0mouts\u001b[0m\u001b[0;34m,\u001b[0m \u001b[0mlist\u001b[0m\u001b[0;34m)\u001b[0m\u001b[0;34m:\u001b[0m\u001b[0;34m\u001b[0m\u001b[0m\n\u001b[1;32m   1238\u001b[0m                         \u001b[0mouts\u001b[0m \u001b[0;34m=\u001b[0m \u001b[0;34m[\u001b[0m\u001b[0mouts\u001b[0m\u001b[0;34m]\u001b[0m\u001b[0;34m\u001b[0m\u001b[0m\n",
            "\u001b[0;32m/usr/local/lib/python3.6/dist-packages/keras/backend/tensorflow_backend.py\u001b[0m in \u001b[0;36m__call__\u001b[0;34m(self, inputs)\u001b[0m\n\u001b[1;32m   2480\u001b[0m         \u001b[0msession\u001b[0m \u001b[0;34m=\u001b[0m \u001b[0mget_session\u001b[0m\u001b[0;34m(\u001b[0m\u001b[0;34m)\u001b[0m\u001b[0;34m\u001b[0m\u001b[0m\n\u001b[1;32m   2481\u001b[0m         updated = session.run(fetches=fetches, feed_dict=feed_dict,\n\u001b[0;32m-> 2482\u001b[0;31m                               **self.session_kwargs)\n\u001b[0m\u001b[1;32m   2483\u001b[0m         \u001b[0;32mreturn\u001b[0m \u001b[0mupdated\u001b[0m\u001b[0;34m[\u001b[0m\u001b[0;34m:\u001b[0m\u001b[0mlen\u001b[0m\u001b[0;34m(\u001b[0m\u001b[0mself\u001b[0m\u001b[0;34m.\u001b[0m\u001b[0moutputs\u001b[0m\u001b[0;34m)\u001b[0m\u001b[0;34m]\u001b[0m\u001b[0;34m\u001b[0m\u001b[0m\n\u001b[1;32m   2484\u001b[0m \u001b[0;34m\u001b[0m\u001b[0m\n",
            "\u001b[0;32m/usr/local/lib/python3.6/dist-packages/tensorflow/python/client/session.py\u001b[0m in \u001b[0;36mrun\u001b[0;34m(self, fetches, feed_dict, options, run_metadata)\u001b[0m\n\u001b[1;32m    898\u001b[0m     \u001b[0;32mtry\u001b[0m\u001b[0;34m:\u001b[0m\u001b[0;34m\u001b[0m\u001b[0m\n\u001b[1;32m    899\u001b[0m       result = self._run(None, fetches, feed_dict, options_ptr,\n\u001b[0;32m--> 900\u001b[0;31m                          run_metadata_ptr)\n\u001b[0m\u001b[1;32m    901\u001b[0m       \u001b[0;32mif\u001b[0m \u001b[0mrun_metadata\u001b[0m\u001b[0;34m:\u001b[0m\u001b[0;34m\u001b[0m\u001b[0m\n\u001b[1;32m    902\u001b[0m         \u001b[0mproto_data\u001b[0m \u001b[0;34m=\u001b[0m \u001b[0mtf_session\u001b[0m\u001b[0;34m.\u001b[0m\u001b[0mTF_GetBuffer\u001b[0m\u001b[0;34m(\u001b[0m\u001b[0mrun_metadata_ptr\u001b[0m\u001b[0;34m)\u001b[0m\u001b[0;34m\u001b[0m\u001b[0m\n",
            "\u001b[0;32m/usr/local/lib/python3.6/dist-packages/tensorflow/python/client/session.py\u001b[0m in \u001b[0;36m_run\u001b[0;34m(self, handle, fetches, feed_dict, options, run_metadata)\u001b[0m\n\u001b[1;32m   1133\u001b[0m     \u001b[0;32mif\u001b[0m \u001b[0mfinal_fetches\u001b[0m \u001b[0;32mor\u001b[0m \u001b[0mfinal_targets\u001b[0m \u001b[0;32mor\u001b[0m \u001b[0;34m(\u001b[0m\u001b[0mhandle\u001b[0m \u001b[0;32mand\u001b[0m \u001b[0mfeed_dict_tensor\u001b[0m\u001b[0;34m)\u001b[0m\u001b[0;34m:\u001b[0m\u001b[0;34m\u001b[0m\u001b[0m\n\u001b[1;32m   1134\u001b[0m       results = self._do_run(handle, final_targets, final_fetches,\n\u001b[0;32m-> 1135\u001b[0;31m                              feed_dict_tensor, options, run_metadata)\n\u001b[0m\u001b[1;32m   1136\u001b[0m     \u001b[0;32melse\u001b[0m\u001b[0;34m:\u001b[0m\u001b[0;34m\u001b[0m\u001b[0m\n\u001b[1;32m   1137\u001b[0m       \u001b[0mresults\u001b[0m \u001b[0;34m=\u001b[0m \u001b[0;34m[\u001b[0m\u001b[0;34m]\u001b[0m\u001b[0;34m\u001b[0m\u001b[0m\n",
            "\u001b[0;32m/usr/local/lib/python3.6/dist-packages/tensorflow/python/client/session.py\u001b[0m in \u001b[0;36m_do_run\u001b[0;34m(self, handle, target_list, fetch_list, feed_dict, options, run_metadata)\u001b[0m\n\u001b[1;32m   1314\u001b[0m     \u001b[0;32mif\u001b[0m \u001b[0mhandle\u001b[0m \u001b[0;32mis\u001b[0m \u001b[0;32mNone\u001b[0m\u001b[0;34m:\u001b[0m\u001b[0;34m\u001b[0m\u001b[0m\n\u001b[1;32m   1315\u001b[0m       return self._do_call(_run_fn, feeds, fetches, targets, options,\n\u001b[0;32m-> 1316\u001b[0;31m                            run_metadata)\n\u001b[0m\u001b[1;32m   1317\u001b[0m     \u001b[0;32melse\u001b[0m\u001b[0;34m:\u001b[0m\u001b[0;34m\u001b[0m\u001b[0m\n\u001b[1;32m   1318\u001b[0m       \u001b[0;32mreturn\u001b[0m \u001b[0mself\u001b[0m\u001b[0;34m.\u001b[0m\u001b[0m_do_call\u001b[0m\u001b[0;34m(\u001b[0m\u001b[0m_prun_fn\u001b[0m\u001b[0;34m,\u001b[0m \u001b[0mhandle\u001b[0m\u001b[0;34m,\u001b[0m \u001b[0mfeeds\u001b[0m\u001b[0;34m,\u001b[0m \u001b[0mfetches\u001b[0m\u001b[0;34m)\u001b[0m\u001b[0;34m\u001b[0m\u001b[0m\n",
            "\u001b[0;32m/usr/local/lib/python3.6/dist-packages/tensorflow/python/client/session.py\u001b[0m in \u001b[0;36m_do_call\u001b[0;34m(self, fn, *args)\u001b[0m\n\u001b[1;32m   1320\u001b[0m   \u001b[0;32mdef\u001b[0m \u001b[0m_do_call\u001b[0m\u001b[0;34m(\u001b[0m\u001b[0mself\u001b[0m\u001b[0;34m,\u001b[0m \u001b[0mfn\u001b[0m\u001b[0;34m,\u001b[0m \u001b[0;34m*\u001b[0m\u001b[0margs\u001b[0m\u001b[0;34m)\u001b[0m\u001b[0;34m:\u001b[0m\u001b[0;34m\u001b[0m\u001b[0m\n\u001b[1;32m   1321\u001b[0m     \u001b[0;32mtry\u001b[0m\u001b[0;34m:\u001b[0m\u001b[0;34m\u001b[0m\u001b[0m\n\u001b[0;32m-> 1322\u001b[0;31m       \u001b[0;32mreturn\u001b[0m \u001b[0mfn\u001b[0m\u001b[0;34m(\u001b[0m\u001b[0;34m*\u001b[0m\u001b[0margs\u001b[0m\u001b[0;34m)\u001b[0m\u001b[0;34m\u001b[0m\u001b[0m\n\u001b[0m\u001b[1;32m   1323\u001b[0m     \u001b[0;32mexcept\u001b[0m \u001b[0merrors\u001b[0m\u001b[0;34m.\u001b[0m\u001b[0mOpError\u001b[0m \u001b[0;32mas\u001b[0m \u001b[0me\u001b[0m\u001b[0;34m:\u001b[0m\u001b[0;34m\u001b[0m\u001b[0m\n\u001b[1;32m   1324\u001b[0m       \u001b[0mmessage\u001b[0m \u001b[0;34m=\u001b[0m \u001b[0mcompat\u001b[0m\u001b[0;34m.\u001b[0m\u001b[0mas_text\u001b[0m\u001b[0;34m(\u001b[0m\u001b[0me\u001b[0m\u001b[0;34m.\u001b[0m\u001b[0mmessage\u001b[0m\u001b[0;34m)\u001b[0m\u001b[0;34m\u001b[0m\u001b[0m\n",
            "\u001b[0;32m/usr/local/lib/python3.6/dist-packages/tensorflow/python/client/session.py\u001b[0m in \u001b[0;36m_run_fn\u001b[0;34m(feed_dict, fetch_list, target_list, options, run_metadata)\u001b[0m\n\u001b[1;32m   1305\u001b[0m       \u001b[0mself\u001b[0m\u001b[0;34m.\u001b[0m\u001b[0m_extend_graph\u001b[0m\u001b[0;34m(\u001b[0m\u001b[0;34m)\u001b[0m\u001b[0;34m\u001b[0m\u001b[0m\n\u001b[1;32m   1306\u001b[0m       return self._call_tf_sessionrun(\n\u001b[0;32m-> 1307\u001b[0;31m           options, feed_dict, fetch_list, target_list, run_metadata)\n\u001b[0m\u001b[1;32m   1308\u001b[0m \u001b[0;34m\u001b[0m\u001b[0m\n\u001b[1;32m   1309\u001b[0m     \u001b[0;32mdef\u001b[0m \u001b[0m_prun_fn\u001b[0m\u001b[0;34m(\u001b[0m\u001b[0mhandle\u001b[0m\u001b[0;34m,\u001b[0m \u001b[0mfeed_dict\u001b[0m\u001b[0;34m,\u001b[0m \u001b[0mfetch_list\u001b[0m\u001b[0;34m)\u001b[0m\u001b[0;34m:\u001b[0m\u001b[0;34m\u001b[0m\u001b[0m\n",
            "\u001b[0;32m/usr/local/lib/python3.6/dist-packages/tensorflow/python/client/session.py\u001b[0m in \u001b[0;36m_call_tf_sessionrun\u001b[0;34m(self, options, feed_dict, fetch_list, target_list, run_metadata)\u001b[0m\n\u001b[1;32m   1407\u001b[0m       return tf_session.TF_SessionRun_wrapper(\n\u001b[1;32m   1408\u001b[0m           \u001b[0mself\u001b[0m\u001b[0;34m.\u001b[0m\u001b[0m_session\u001b[0m\u001b[0;34m,\u001b[0m \u001b[0moptions\u001b[0m\u001b[0;34m,\u001b[0m \u001b[0mfeed_dict\u001b[0m\u001b[0;34m,\u001b[0m \u001b[0mfetch_list\u001b[0m\u001b[0;34m,\u001b[0m \u001b[0mtarget_list\u001b[0m\u001b[0;34m,\u001b[0m\u001b[0;34m\u001b[0m\u001b[0m\n\u001b[0;32m-> 1409\u001b[0;31m           run_metadata)\n\u001b[0m\u001b[1;32m   1410\u001b[0m     \u001b[0;32melse\u001b[0m\u001b[0;34m:\u001b[0m\u001b[0;34m\u001b[0m\u001b[0m\n\u001b[1;32m   1411\u001b[0m       \u001b[0;32mwith\u001b[0m \u001b[0merrors\u001b[0m\u001b[0;34m.\u001b[0m\u001b[0mraise_exception_on_not_ok_status\u001b[0m\u001b[0;34m(\u001b[0m\u001b[0;34m)\u001b[0m \u001b[0;32mas\u001b[0m \u001b[0mstatus\u001b[0m\u001b[0;34m:\u001b[0m\u001b[0;34m\u001b[0m\u001b[0m\n",
            "\u001b[0;31mKeyboardInterrupt\u001b[0m: "
          ]
        }
      ]
    },
    {
      "cell_type": "code",
      "metadata": {
        "id": "SQ10hLIKKBg8",
        "colab_type": "code",
        "outputId": "2573bbea-5d93-46e5-b02f-4e88d89c0c55",
        "colab": {
          "base_uri": "https://localhost:8080/",
          "height": 1700
        }
      },
      "source": [
        "model.predict(X[0:1])"
      ],
      "execution_count": 0,
      "outputs": [
        {
          "output_type": "execute_result",
          "data": {
            "text/plain": [
              "array([[[ 9.51290703e+00,  4.34572607e-01,  3.75048429e-01,\n",
              "          4.99829322e-01,  5.46526849e-01,  1.10316825e+00],\n",
              "        [ 1.08360472e+01,  3.79118532e-01,  3.68643463e-01,\n",
              "          1.92962304e-01,  2.92035818e-01,  2.39979401e-01],\n",
              "        [ 1.10779552e+01,  5.95437706e-01,  5.88078022e-01,\n",
              "          1.19248852e-01,  3.99655938e-01,  1.37428805e-01],\n",
              "        [ 1.09247723e+01,  4.75183547e-01,  6.26697600e-01,\n",
              "          2.63408661e-01,  5.53175986e-01,  1.82232827e-01],\n",
              "        [ 1.08818073e+01,  5.64921618e-01,  4.24447447e-01,\n",
              "          2.56605238e-01,  2.88350940e-01,  9.16172788e-02],\n",
              "        [ 1.09715824e+01,  4.89572287e-01,  5.12319088e-01,\n",
              "          1.59261689e-01,  4.11498606e-01,  8.82410482e-02],\n",
              "        [ 1.08673086e+01,  6.14505351e-01,  5.03513277e-01,\n",
              "          1.87690914e-01,  3.10464259e-02,  1.79998070e-01],\n",
              "        [ 1.09757557e+01,  4.39559132e-01,  5.54804564e-01,\n",
              "          1.79556862e-01,  2.00430363e-01,  2.00326815e-01],\n",
              "        [ 9.68754005e+00,  6.50453329e-01,  4.14520711e-01,\n",
              "         -5.55883981e-02,  1.22138364e-02,  7.08253384e-02],\n",
              "        [ 9.51322556e+00,  5.80842197e-01,  2.15853274e-01,\n",
              "         -1.30264103e-01, -2.04053029e-01,  3.21771279e-02],\n",
              "        [ 8.31216908e+00,  3.62899993e-03,  1.02651036e+00,\n",
              "         -4.87426251e-01,  1.20482635e+00,  4.80024368e-02],\n",
              "        [ 6.96298790e+00, -2.62043446e-01,  1.83822548e+00,\n",
              "          6.35937035e-01,  9.38673437e-01,  4.53040302e-02],\n",
              "        [ 5.29724789e+00, -1.72623366e-01, -3.04470006e-02,\n",
              "          6.71209693e-02,  1.63263512e+00,  7.68475980e-02],\n",
              "        [ 2.49700356e+00,  1.80519983e-01, -4.05312598e-01,\n",
              "          2.31294775e+00, -4.36141759e-01,  1.93327978e-01],\n",
              "        [ 5.21404552e+00, -1.52632964e+00,  4.18561745e+00,\n",
              "         -2.50608182e+00, -1.45587385e+00, -1.80835649e-01],\n",
              "        [ 2.66497612e+00, -7.77756572e-01,  8.57062787e-02,\n",
              "         -2.27981400e+00, -3.29135990e+00,  2.11578056e-01],\n",
              "        [ 2.92572618e+00,  1.59530962e+00,  1.23249567e+00,\n",
              "          1.50362980e+00,  5.66740751e-01, -1.17630392e-01],\n",
              "        [ 3.88926220e+00,  1.66975170e-01,  3.27138692e-01,\n",
              "         -1.48743522e+00, -4.48810339e-01,  8.18747357e-02],\n",
              "        [ 1.72855699e+00,  9.34439659e-01, -5.92825651e-01,\n",
              "         -1.19934869e+00, -4.14577198e+00,  1.40319601e-01],\n",
              "        [-1.69506550e+00, -1.21969652e+00,  3.47052407e+00,\n",
              "         -2.38751245e+00, -1.24873996e+00, -5.82580641e-02],\n",
              "        [-2.42392883e-01, -3.22053969e-01, -1.14421785e+00,\n",
              "         -2.15479875e+00, -1.22997999e+00,  1.21447086e-01],\n",
              "        [ 4.75286216e-01,  3.29505062e+00, -2.33076191e+00,\n",
              "          9.24257755e-01, -1.40728366e+00,  1.52333617e-01],\n",
              "        [ 3.17526388e+00,  2.45503759e+00, -4.44793892e+00,\n",
              "          1.85443819e+00, -6.71906513e-04,  6.65886560e-03],\n",
              "        [ 1.77347288e-02, -3.07775974e+00,  2.48525560e-01,\n",
              "         -3.58391619e+00,  1.60367286e+00, -6.99838549e-02],\n",
              "        [ 4.11607361e+00,  2.70497179e+00,  9.70906436e-01,\n",
              "          1.29609883e+00, -4.49615145e+00, -8.20396096e-02],\n",
              "        [-6.03655457e-01, -3.92085481e+00, -2.40250969e+00,\n",
              "          1.90170753e+00,  1.30248964e+00, -1.27016470e-01],\n",
              "        [-1.70751524e+00,  5.91077685e-01,  2.49107265e+00,\n",
              "          1.17647779e+00,  4.26017880e-01, -1.02644779e-01],\n",
              "        [ 3.63198566e+00,  9.94671881e-01, -3.05025029e+00,\n",
              "          3.29557776e+00, -3.60885769e-01,  9.46608488e-05],\n",
              "        [-1.61479354e+00, -2.24861041e-01,  8.09900999e-01,\n",
              "         -7.27369368e-01,  4.45019150e+00,  5.51910028e-02],\n",
              "        [ 1.18509758e+00, -7.83550203e-01,  1.20752859e+00,\n",
              "         -5.69488764e-01, -2.94769645e-01, -7.17473254e-02],\n",
              "        [ 3.37327600e-01, -1.16347444e+00, -4.43561673e-01,\n",
              "          2.23415327e+00, -1.00388396e+00, -2.70444509e-02],\n",
              "        [-1.27878249e+00, -3.07655358e+00, -2.47577238e+00,\n",
              "         -3.59176850e+00, -2.79488564e-01,  5.70932031e-02],\n",
              "        [-1.74692011e+00,  7.18832970e-01,  2.60814428e+00,\n",
              "          2.85468012e-01,  1.01455070e-01, -6.67041317e-02],\n",
              "        [ 4.20943451e+00, -9.91223514e-01,  1.79158545e+00,\n",
              "          1.43815446e+00, -9.54821289e-01, -1.00130297e-01],\n",
              "        [ 1.76152432e+00,  1.94820988e+00, -2.78145337e+00,\n",
              "          6.36077404e-01,  1.78341401e+00, -6.40379712e-02],\n",
              "        [ 1.99218154e+00,  1.33991599e+00, -4.39381212e-01,\n",
              "          9.15937781e-01,  2.63180614e+00, -1.74269751e-02],\n",
              "        [ 1.03023732e+00,  1.36269510e+00,  1.09027791e+00,\n",
              "          1.42729068e+00,  3.60101390e+00,  3.80910970e-02],\n",
              "        [-1.08278275e-01, -3.34336281e-01, -3.82208157e+00,\n",
              "         -7.09993839e-02,  2.70726085e-01, -2.60808766e-02],\n",
              "        [ 8.56028020e-01,  8.65261197e-01,  2.85663915e+00,\n",
              "         -1.80259037e+00,  8.27974617e-01,  1.45918220e-01],\n",
              "        [-2.96532822e+00, -1.53370678e-01,  6.62335455e-01,\n",
              "         -2.26390743e+00,  8.43940258e-01, -1.26206696e-01],\n",
              "        [ 1.37549639e-02,  2.58472562e+00,  9.22531724e-01,\n",
              "         -1.74059033e+00,  9.45903361e-01,  1.17735013e-01],\n",
              "        [-3.33330798e+00,  8.18763614e-01,  8.44448388e-01,\n",
              "         -5.75256395e+00,  8.71850789e-01,  1.34941578e-01],\n",
              "        [-4.47458744e+00,  2.93005610e+00,  9.70876455e-01,\n",
              "          3.61892605e+00,  7.44076610e-01, -3.12649459e-02],\n",
              "        [ 4.95267820e+00,  1.64951909e+00,  1.96670258e+00,\n",
              "          2.80913854e+00,  1.74621272e+00,  6.31759092e-02],\n",
              "        [ 9.25725102e-01,  2.34769046e-01,  1.15109134e+00,\n",
              "         -2.97575355e-01,  3.68584484e-01, -2.20683571e-02],\n",
              "        [ 5.38422394e+00, -3.24420166e+00, -3.81315947e-02,\n",
              "          3.45111847e+00,  6.82587445e-01,  7.51962811e-02],\n",
              "        [ 2.64179134e+00,  1.29059219e+00, -4.12842274e+00,\n",
              "         -8.59492779e-01, -1.31483150e+00, -8.61742869e-02],\n",
              "        [ 2.77593374e-01, -7.91153193e-01, -1.40923214e+00,\n",
              "         -1.40347028e+00,  1.72775173e+00,  2.96991188e-02],\n",
              "        [ 9.73111987e-01, -4.27571744e-01, -1.47443080e+00,\n",
              "         -2.05888748e+00,  1.36934125e+00, -3.69020253e-02]]],\n",
              "      dtype=float32)"
            ]
          },
          "metadata": {
            "tags": []
          },
          "execution_count": 23
        }
      ]
    },
    {
      "cell_type": "code",
      "metadata": {
        "id": "KzeOpialPQOF",
        "colab_type": "code",
        "colab": {}
      },
      "source": [
        ""
      ],
      "execution_count": 0,
      "outputs": []
    }
  ]
}