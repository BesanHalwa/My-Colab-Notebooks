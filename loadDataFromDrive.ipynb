{
  "nbformat": 4,
  "nbformat_minor": 0,
  "metadata": {
    "colab": {
      "name": "loadDataFromDrive.ipynb",
      "version": "0.3.2",
      "provenance": []
    },
    "kernelspec": {
      "name": "python3",
      "display_name": "Python 3"
    }
  },
  "cells": [
    {
      "cell_type": "code",
      "metadata": {
        "id": "xMG-cmTe_syu",
        "colab_type": "code",
        "colab": {}
      },
      "source": [
        "!pip install -U -q PyDrive ## you will have install for every colab session\n",
        "\n",
        "from pydrive.auth import GoogleAuth\n",
        "from pydrive.drive import GoogleDrive\n",
        "from google.colab import auth\n",
        "from oauth2client.client import GoogleCredentials\n",
        "\n",
        "# 1. Authenticate and create the PyDrive client.\n",
        "auth.authenticate_user()\n",
        "gauth = GoogleAuth()\n",
        "gauth.credentials = GoogleCredentials.get_application_default()\n",
        "drive = GoogleDrive(gauth)"
      ],
      "execution_count": 0,
      "outputs": []
    },
    {
      "cell_type": "code",
      "metadata": {
        "id": "qXs-6Fbk_OGl",
        "colab_type": "code",
        "colab": {}
      },
      "source": [
        "import cv2"
      ],
      "execution_count": 0,
      "outputs": []
    },
    {
      "cell_type": "code",
      "metadata": {
        "id": "lH6WeT9Q_Yfz",
        "colab_type": "code",
        "colab": {}
      },
      "source": [
        "#1aJcfwNpf26ewVksuN2yQofg3Pgww8iB5"
      ],
      "execution_count": 0,
      "outputs": []
    },
    {
      "cell_type": "code",
      "metadata": {
        "id": "SnrQqt8X42Cg",
        "colab_type": "code",
        "colab": {}
      },
      "source": [
        "import_image = drive.CreateFile({'id':'1aJcfwNpf26ewVksuN2yQofg3Pgww8iB5'})"
      ],
      "execution_count": 0,
      "outputs": []
    },
    {
      "cell_type": "code",
      "metadata": {
        "id": "hptsr5GV4_Ad",
        "colab_type": "code",
        "colab": {}
      },
      "source": [
        "import_image.GetContentFile('pic.jpg') "
      ],
      "execution_count": 0,
      "outputs": []
    },
    {
      "cell_type": "code",
      "metadata": {
        "id": "lCemjp5I5PLO",
        "colab_type": "code",
        "colab": {}
      },
      "source": [
        "#sample_uploaded_data = json.load(open('sample.json'))\n",
        "sample_data = cv2.imread('pic.jpg')"
      ],
      "execution_count": 0,
      "outputs": []
    },
    {
      "cell_type": "code",
      "metadata": {
        "id": "O44KPhp95_8_",
        "colab_type": "code",
        "outputId": "f2dbf447-a954-4640-b97d-68f09e9a5136",
        "colab": {
          "base_uri": "https://localhost:8080/",
          "height": 850
        }
      },
      "source": [
        "print(sample_data)"
      ],
      "execution_count": 0,
      "outputs": [
        {
          "output_type": "stream",
          "text": [
            "[[[ 66  85  90]\n",
            "  [ 83 103 114]\n",
            "  [ 55  76  98]\n",
            "  ...\n",
            "  [ 89 111 136]\n",
            "  [ 88 112 136]\n",
            "  [158 182 206]]\n",
            "\n",
            " [[ 25  43  50]\n",
            "  [ 82  99 112]\n",
            "  [ 79 100 122]\n",
            "  ...\n",
            "  [101 123 148]\n",
            "  [112 136 160]\n",
            "  [113 137 161]]\n",
            "\n",
            " [[ 57  72  81]\n",
            "  [ 76  92 108]\n",
            "  [ 55  72  98]\n",
            "  ...\n",
            "  [ 92 114 139]\n",
            "  [110 134 158]\n",
            "  [181 205 229]]\n",
            "\n",
            " ...\n",
            "\n",
            " [[ 63  58  43]\n",
            "  [ 40  37  22]\n",
            "  [ 39  32  23]\n",
            "  ...\n",
            "  [151 182 203]\n",
            "  [166 197 218]\n",
            "  [117 148 169]]\n",
            "\n",
            " [[ 52  39  25]\n",
            "  [ 68  54  42]\n",
            "  [ 77  64  56]\n",
            "  ...\n",
            "  [158 189 210]\n",
            "  [129 160 181]\n",
            "  [140 171 192]]\n",
            "\n",
            " [[ 47  29  22]\n",
            "  [ 81  61  56]\n",
            "  [ 77  52  56]\n",
            "  ...\n",
            "  [131 162 185]\n",
            "  [151 182 205]\n",
            "  [140 171 194]]]\n"
          ],
          "name": "stdout"
        }
      ]
    },
    {
      "cell_type": "code",
      "metadata": {
        "id": "ebhFBFgqKsC9",
        "colab_type": "code",
        "colab": {}
      },
      "source": [
        ""
      ],
      "execution_count": 0,
      "outputs": []
    }
  ]
}