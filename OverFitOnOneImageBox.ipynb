{
  "nbformat": 4,
  "nbformat_minor": 0,
  "metadata": {
    "colab": {
      "name": "OverFitOnOneImageBox.ipynb",
      "version": "0.3.2",
      "provenance": [],
      "collapsed_sections": []
    },
    "kernelspec": {
      "name": "python3",
      "display_name": "Python 3"
    },
    "accelerator": "GPU"
  },
  "cells": [
    {
      "cell_type": "code",
      "metadata": {
        "id": "EaxyxC8jLtGn",
        "colab_type": "code",
        "outputId": "a78f9985-4dc6-46fe-c980-2e22f95326a4",
        "colab": {
          "base_uri": "https://localhost:8080/",
          "height": 2366
        }
      },
      "source": [
        "!apt-get install -y -qq software-properties-common python-software-properties module-init-tools\n",
        "!add-apt-repository -y ppa:alessandro-strada/ppa 2>&1 > /dev/null\n",
        "!apt-get update -qq 2>&1 > /dev/null\n",
        "!apt-get -y install -qq google-drive-ocamlfuse fuse\n",
        "from google.colab import auth\n",
        "auth.authenticate_user()\n",
        "from oauth2client.client import GoogleCredentials\n",
        "creds = GoogleCredentials.get_application_default()\n",
        "import getpass\n",
        "!google-drive-ocamlfuse -headless -id={creds.client_id} -secret={creds.client_secret} < /dev/null 2>&1 | grep URL\n",
        "vcode = getpass.getpass()\n",
        "!echo {vcode} | google-drive-ocamlfuse -headless -id={creds.client_id} -secret={creds.client_secret}\n",
        "\n",
        "\n"
      ],
      "execution_count": 0,
      "outputs": [
        {
          "output_type": "stream",
          "text": [
            "Preconfiguring packages ...\n",
            "Selecting previously unselected package cron.\n",
            "(Reading database ... 18408 files and directories currently installed.)\n",
            "Preparing to unpack .../00-cron_3.0pl1-128ubuntu5_amd64.deb ...\n",
            "Unpacking cron (3.0pl1-128ubuntu5) ...\n",
            "Selecting previously unselected package libapparmor1:amd64.\n",
            "Preparing to unpack .../01-libapparmor1_2.11.0-2ubuntu17.1_amd64.deb ...\n",
            "Unpacking libapparmor1:amd64 (2.11.0-2ubuntu17.1) ...\n",
            "Selecting previously unselected package libdbus-1-3:amd64.\n",
            "Preparing to unpack .../02-libdbus-1-3_1.10.22-1ubuntu1_amd64.deb ...\n",
            "Unpacking libdbus-1-3:amd64 (1.10.22-1ubuntu1) ...\n",
            "Selecting previously unselected package dbus.\n",
            "Preparing to unpack .../03-dbus_1.10.22-1ubuntu1_amd64.deb ...\n",
            "Unpacking dbus (1.10.22-1ubuntu1) ...\n",
            "Selecting previously unselected package dirmngr.\n",
            "Preparing to unpack .../04-dirmngr_2.1.15-1ubuntu8.1_amd64.deb ...\n",
            "Unpacking dirmngr (2.1.15-1ubuntu8.1) ...\n",
            "Selecting previously unselected package distro-info-data.\n",
            "Preparing to unpack .../05-distro-info-data_0.36ubuntu0.2_all.deb ...\n",
            "Unpacking distro-info-data (0.36ubuntu0.2) ...\n",
            "Selecting previously unselected package libkmod2:amd64.\n",
            "Preparing to unpack .../06-libkmod2_24-1ubuntu2_amd64.deb ...\n",
            "Unpacking libkmod2:amd64 (24-1ubuntu2) ...\n",
            "Selecting previously unselected package kmod.\n",
            "Preparing to unpack .../07-kmod_24-1ubuntu2_amd64.deb ...\n",
            "Unpacking kmod (24-1ubuntu2) ...\n",
            "Selecting previously unselected package lsb-release.\n",
            "Preparing to unpack .../08-lsb-release_9.20160110ubuntu5_all.deb ...\n",
            "Unpacking lsb-release (9.20160110ubuntu5) ...\n",
            "Selecting previously unselected package libgirepository-1.0-1:amd64.\n",
            "Preparing to unpack .../09-libgirepository-1.0-1_1.54.1-1_amd64.deb ...\n",
            "Unpacking libgirepository-1.0-1:amd64 (1.54.1-1) ...\n",
            "Selecting previously unselected package gir1.2-glib-2.0:amd64.\n",
            "Preparing to unpack .../10-gir1.2-glib-2.0_1.54.1-1_amd64.deb ...\n",
            "Unpacking gir1.2-glib-2.0:amd64 (1.54.1-1) ...\n",
            "Selecting previously unselected package iso-codes.\n",
            "Preparing to unpack .../11-iso-codes_3.75-1_all.deb ...\n",
            "Unpacking iso-codes (3.75-1) ...\n",
            "Selecting previously unselected package libdbus-glib-1-2:amd64.\n",
            "Preparing to unpack .../12-libdbus-glib-1-2_0.108-2_amd64.deb ...\n",
            "Unpacking libdbus-glib-1-2:amd64 (0.108-2) ...\n",
            "Selecting previously unselected package python-apt-common.\n",
            "Preparing to unpack .../13-python-apt-common_1.4.0~beta3build2_all.deb ...\n",
            "Unpacking python-apt-common (1.4.0~beta3build2) ...\n",
            "Selecting previously unselected package python3-apt.\n",
            "Preparing to unpack .../14-python3-apt_1.4.0~beta3build2_amd64.deb ...\n",
            "Unpacking python3-apt (1.4.0~beta3build2) ...\n",
            "Selecting previously unselected package python3-dbus.\n",
            "Preparing to unpack .../15-python3-dbus_1.2.4-1build3_amd64.deb ...\n",
            "Unpacking python3-dbus (1.2.4-1build3) ...\n",
            "Selecting previously unselected package python3-gi.\n",
            "Preparing to unpack .../16-python3-gi_3.24.1-2build1_amd64.deb ...\n",
            "Unpacking python3-gi (3.24.1-2build1) ...\n",
            "Selecting previously unselected package module-init-tools.\n",
            "Preparing to unpack .../17-module-init-tools_24-1ubuntu2_all.deb ...\n",
            "Unpacking module-init-tools (24-1ubuntu2) ...\n",
            "Selecting previously unselected package python-apt.\n",
            "Preparing to unpack .../18-python-apt_1.4.0~beta3build2_amd64.deb ...\n",
            "Unpacking python-apt (1.4.0~beta3build2) ...\n",
            "Selecting previously unselected package python-pycurl.\n",
            "Preparing to unpack .../19-python-pycurl_7.43.0-2build2_amd64.deb ...\n",
            "Unpacking python-pycurl (7.43.0-2build2) ...\n",
            "Selecting previously unselected package python-software-properties.\n",
            "Preparing to unpack .../20-python-software-properties_0.96.24.17_all.deb ...\n",
            "Unpacking python-software-properties (0.96.24.17) ...\n",
            "Selecting previously unselected package python3-software-properties.\n",
            "Preparing to unpack .../21-python3-software-properties_0.96.24.17_all.deb ...\n",
            "Unpacking python3-software-properties (0.96.24.17) ...\n",
            "Selecting previously unselected package software-properties-common.\n",
            "Preparing to unpack .../22-software-properties-common_0.96.24.17_all.deb ...\n",
            "Unpacking software-properties-common (0.96.24.17) ...\n",
            "Selecting previously unselected package unattended-upgrades.\n",
            "Preparing to unpack .../23-unattended-upgrades_0.98ubuntu1.1_all.deb ...\n",
            "Unpacking unattended-upgrades (0.98ubuntu1.1) ...\n",
            "Setting up python-apt-common (1.4.0~beta3build2) ...\n",
            "Setting up python3-apt (1.4.0~beta3build2) ...\n",
            "Setting up iso-codes (3.75-1) ...\n",
            "Setting up distro-info-data (0.36ubuntu0.2) ...\n",
            "Setting up python-pycurl (7.43.0-2build2) ...\n",
            "Setting up lsb-release (9.20160110ubuntu5) ...\n",
            "Setting up libgirepository-1.0-1:amd64 (1.54.1-1) ...\n",
            "Setting up libkmod2:amd64 (24-1ubuntu2) ...\n",
            "Setting up gir1.2-glib-2.0:amd64 (1.54.1-1) ...\n",
            "Processing triggers for libc-bin (2.26-0ubuntu2.1) ...\n",
            "Setting up libapparmor1:amd64 (2.11.0-2ubuntu17.1) ...\n",
            "Setting up unattended-upgrades (0.98ubuntu1.1) ...\n",
            "\n",
            "Creating config file /etc/apt/apt.conf.d/20auto-upgrades with new version\n",
            "\n",
            "Creating config file /etc/apt/apt.conf.d/50unattended-upgrades with new version\n",
            "invoke-rc.d: could not determine current runlevel\n",
            "invoke-rc.d: policy-rc.d denied execution of start.\n",
            "Setting up dirmngr (2.1.15-1ubuntu8.1) ...\n",
            "Setting up cron (3.0pl1-128ubuntu5) ...\n",
            "Adding group `crontab' (GID 102) ...\n",
            "Done.\n",
            "update-rc.d: warning: start and stop actions are no longer supported; falling back to defaults\n",
            "update-rc.d: warning: stop runlevel arguments (1) do not match cron Default-Stop values (none)\n",
            "invoke-rc.d: could not determine current runlevel\n",
            "invoke-rc.d: policy-rc.d denied execution of start.\n",
            "Setting up libdbus-1-3:amd64 (1.10.22-1ubuntu1) ...\n",
            "Setting up kmod (24-1ubuntu2) ...\n",
            "Setting up libdbus-glib-1-2:amd64 (0.108-2) ...\n",
            "Setting up python3-gi (3.24.1-2build1) ...\n",
            "Setting up module-init-tools (24-1ubuntu2) ...\n",
            "Setting up python3-software-properties (0.96.24.17) ...\n",
            "Setting up dbus (1.10.22-1ubuntu1) ...\n",
            "Setting up python-apt (1.4.0~beta3build2) ...\n",
            "Setting up python3-dbus (1.2.4-1build3) ...\n",
            "Setting up python-software-properties (0.96.24.17) ...\n",
            "Setting up software-properties-common (0.96.24.17) ...\n",
            "Processing triggers for libc-bin (2.26-0ubuntu2.1) ...\n",
            "Processing triggers for dbus (1.10.22-1ubuntu1) ...\n",
            "gpg: keybox '/tmp/tmp8g9p0gdh/pubring.gpg' created\n",
            "gpg: /tmp/tmp8g9p0gdh/trustdb.gpg: trustdb created\n",
            "gpg: key AD5F235DF639B041: public key \"Launchpad PPA for Alessandro Strada\" imported\n",
            "gpg: Total number processed: 1\n",
            "gpg:               imported: 1\n",
            "Warning: apt-key output should not be parsed (stdout is not a terminal)\n",
            "Selecting previously unselected package libfuse2:amd64.\n",
            "(Reading database ... 19816 files and directories currently installed.)\n",
            "Preparing to unpack .../libfuse2_2.9.7-1ubuntu1_amd64.deb ...\n",
            "Unpacking libfuse2:amd64 (2.9.7-1ubuntu1) ...\n",
            "Selecting previously unselected package fuse.\n",
            "Preparing to unpack .../fuse_2.9.7-1ubuntu1_amd64.deb ...\n",
            "Unpacking fuse (2.9.7-1ubuntu1) ...\n",
            "Selecting previously unselected package google-drive-ocamlfuse.\n",
            "Preparing to unpack .../google-drive-ocamlfuse_0.6.21-0ubuntu2_amd64.deb ...\n",
            "Unpacking google-drive-ocamlfuse (0.6.21-0ubuntu2) ...\n",
            "Setting up libfuse2:amd64 (2.9.7-1ubuntu1) ...\n",
            "Processing triggers for libc-bin (2.26-0ubuntu2.1) ...\n",
            "Setting up fuse (2.9.7-1ubuntu1) ...\n",
            "Setting up google-drive-ocamlfuse (0.6.21-0ubuntu2) ...\n",
            "Please, open the following URL in a web browser: https://accounts.google.com/o/oauth2/auth?client_id=32555940559.apps.googleusercontent.com&redirect_uri=urn%3Aietf%3Awg%3Aoauth%3A2.0%3Aoob&scope=https%3A%2F%2Fwww.googleapis.com%2Fauth%2Fdrive&response_type=code&access_type=offline&approval_prompt=force\n",
            "··········\n",
            "Please, open the following URL in a web browser: https://accounts.google.com/o/oauth2/auth?client_id=32555940559.apps.googleusercontent.com&redirect_uri=urn%3Aietf%3Awg%3Aoauth%3A2.0%3Aoob&scope=https%3A%2F%2Fwww.googleapis.com%2Fauth%2Fdrive&response_type=code&access_type=offline&approval_prompt=force\n",
            "Please enter the verification code: Access token retrieved correctly.\n"
          ],
          "name": "stdout"
        }
      ]
    },
    {
      "cell_type": "code",
      "metadata": {
        "id": "IJKnbz0TL50I",
        "colab_type": "code",
        "colab": {}
      },
      "source": [
        "!mkdir -p drive\n",
        "!google-drive-ocamlfuse drive"
      ],
      "execution_count": 0,
      "outputs": []
    },
    {
      "cell_type": "code",
      "metadata": {
        "id": "yB0le9_sL9Kk",
        "colab_type": "code",
        "outputId": "9a699353-0c82-41db-e79e-7005cb3eb0f1",
        "colab": {
          "base_uri": "https://localhost:8080/",
          "height": 34
        }
      },
      "source": [
        "cd drive/project_data/final_pascal_npy_datas"
      ],
      "execution_count": 0,
      "outputs": [
        {
          "output_type": "stream",
          "text": [
            "/content/drive/project_data/final_pascal_npy_datas\n"
          ],
          "name": "stdout"
        }
      ]
    },
    {
      "cell_type": "code",
      "metadata": {
        "id": "Rygi4zIfL9NL",
        "colab_type": "code",
        "outputId": "5a76dcd4-7e5e-45b7-a3d7-fde538c5b184",
        "colab": {
          "base_uri": "https://localhost:8080/",
          "height": 34
        }
      },
      "source": [
        "import keras\n",
        "from keras.models import Sequential,load_model\n",
        "from keras import layers, Model,Input\n",
        "from keras.layers.normalization import BatchNormalization\n",
        "from keras import optimizers\n",
        "import numpy as np\n",
        "import tensorflow as tf\n",
        "from keras.optimizers import Adam\n",
        "from keras import backend as K\n",
        "from keras.layers.merge import concatenate\n",
        "from keras.layers.advanced_activations import LeakyReLU\n",
        "from keras.preprocessing import image\n",
        "from keras.engine.topology import Layer"
      ],
      "execution_count": 0,
      "outputs": [
        {
          "output_type": "stream",
          "text": [
            "Using TensorFlow backend.\n"
          ],
          "name": "stderr"
        }
      ]
    },
    {
      "cell_type": "markdown",
      "metadata": {
        "id": "Y5xu57NV0F0v",
        "colab_type": "text"
      },
      "source": [
        "# Losses"
      ]
    },
    {
      "cell_type": "code",
      "metadata": {
        "id": "unQvUgOpL9Rs",
        "colab_type": "code",
        "colab": {}
      },
      "source": [
        "def custom_loss(y_true,y_pred):\n",
        "    loss = tf.reduce_mean(y_true[0,:,0:,0:1]*tf.squared_difference(y_true[0,:,0:,1:5],y_pred[0,:,0:,1:5]))\n",
        "    conf_loss = tf.reduce_mean(tf.squared_difference(y_true[0,:,0:,0:1],y_pred[0,:,0:,0:1]))\n",
        "    return loss+conf_loss\n",
        "# def custom_acc(y_true,y_pred):\n",
        "#     loss = y_true[0,:,0:,0:1]*tf.squared_difference(y_true[0,:,0:,1:5],y_pred[0,:,0:,1:5])\n",
        "#     conf_loss = tf.squared_difference(y_true[0,:,0:,0:1],y_pred[0,:,0:,0:1])\n",
        "    \n",
        "    \n",
        "#"
      ],
      "execution_count": 0,
      "outputs": []
    },
    {
      "cell_type": "code",
      "metadata": {
        "id": "u-ItRTIpTYpr",
        "colab_type": "code",
        "colab": {}
      },
      "source": [
        "def c_loss_one(y_true,y_pred):\n",
        "  loss = tf.keras.losses.categorical_crossentropy(y_true, y_pred)\n",
        "  return loss"
      ],
      "execution_count": 0,
      "outputs": []
    },
    {
      "cell_type": "code",
      "metadata": {
        "id": "RhoMVHq_MyKq",
        "colab_type": "code",
        "outputId": "91627a24-0cfa-4411-b597-3d5ce9b26194",
        "colab": {
          "base_uri": "https://localhost:8080/",
          "height": 51
        }
      },
      "source": [
        "X = np.load('X/2007_test.npy')\n",
        "Y = np.load('Y/2007_test_labels.npy')\n",
        "print(X.shape)\n",
        "print(Y.shape)\n"
      ],
      "execution_count": 0,
      "outputs": [
        {
          "output_type": "stream",
          "text": [
            "(100, 300, 300, 3)\n",
            "(100, 9, 9, 5)\n"
          ],
          "name": "stdout"
        }
      ]
    },
    {
      "cell_type": "markdown",
      "metadata": {
        "id": "9y6AHyzj0I33",
        "colab_type": "text"
      },
      "source": [
        "# Custom Layer"
      ]
    },
    {
      "cell_type": "code",
      "metadata": {
        "id": "IGHsgTGI0OqA",
        "colab_type": "code",
        "colab": {}
      },
      "source": [
        "class NLayer(Layer):\n",
        "\n",
        "    def __init__(self, output_dim, **kwargs):\n",
        "        self.output_dim = output_dim\n",
        "        super(NLayer, self).__init__(**kwargs)\n",
        "\n",
        "    def build(self, input_shape):\n",
        "        # Create a trainable weight variable for this layer.\n",
        "        self.kernel = self.add_weight(name='kernel', \n",
        "                                      shape=(input_shape[1], self.output_dim),\n",
        "                                      initializer='uniform',\n",
        "                                      trainable=False)\n",
        "        super(NLayer, self).build(input_shape)  # Be sure to call this at the end\n",
        "\n",
        "    def call(self, x):\n",
        "        return (x/255)\n",
        "\n",
        "    def compute_output_shape(self, input_shape):\n",
        "        return input_shape"
      ],
      "execution_count": 0,
      "outputs": []
    },
    {
      "cell_type": "markdown",
      "metadata": {
        "id": "6vWC0ZJc0PV9",
        "colab_type": "text"
      },
      "source": [
        "# Model"
      ]
    },
    {
      "cell_type": "code",
      "metadata": {
        "id": "SsgbpZs1L9PT",
        "colab_type": "code",
        "outputId": "78963da6-e8f4-4184-baef-5ba3291d3d13",
        "colab": {
          "base_uri": "https://localhost:8080/",
          "height": 54
        }
      },
      "source": [
        "img_input = Input(shape=(300, 300, 3))\n",
        "\n",
        "# VGG-16\n",
        "x = NLayer((300,300))(img_input)\n",
        "\n",
        "x = layers.Conv2D(64, (3, 3),\n",
        "                  activation='relu',\n",
        "                  padding='same',\n",
        "                  name='block1_conv1',\n",
        "                  trainable=False)(x)\n",
        "x = layers.Conv2D(64, (3, 3),\n",
        "                  activation='relu',\n",
        "                  padding='same',\n",
        "                  name='block1_conv2',\n",
        "                  trainable=False)(x)\n",
        "x = layers.MaxPooling2D((2, 2), strides=(2, 2), name='block1_pool')(x)\n",
        "\n",
        "# Block 2\n",
        "x = layers.Conv2D(128, (3, 3),\n",
        "                  activation='relu',\n",
        "                  padding='same',\n",
        "                  name='block2_conv1',\n",
        "                  trainable=False)(x)\n",
        "x = layers.Conv2D(128, (3, 3),\n",
        "                  activation='relu',\n",
        "                  padding='same',\n",
        "                  name='block2_conv2',\n",
        "                  trainable=False)(x)\n",
        "x = layers.MaxPooling2D((2, 2), strides=(2, 2), name='block2_pool')(x)\n",
        "\n",
        "# Block 3\n",
        "x = layers.Conv2D(256, (3, 3),\n",
        "                  activation='relu',\n",
        "                  padding='same',\n",
        "                  name='block3_conv1',\n",
        "                  trainable=False)(x)\n",
        "x = layers.Conv2D(256, (3, 3),\n",
        "                  activation='relu',\n",
        "                  padding='same',\n",
        "                  name='block3_conv2',\n",
        "                  trainable=False)(x)\n",
        "x = layers.Conv2D(256, (3, 3),\n",
        "                  activation='relu',\n",
        "                  padding='same',\n",
        "                  name='block3_conv3',\n",
        "                  trainable=False)(x)\n",
        "x = layers.MaxPooling2D((2, 2), strides=(2, 2), name='block3_pool')(x)\n",
        "\n",
        "# Block 4\n",
        "x = layers.Conv2D(512, (3, 3),\n",
        "                  activation='relu',\n",
        "                  padding='same',\n",
        "                  name='block4_conv1',\n",
        "                  trainable=False)(x)\n",
        "x = layers.Conv2D(512, (3, 3),\n",
        "                  activation='relu',\n",
        "                  padding='same',\n",
        "                  name='block4_conv2',\n",
        "                  trainable=False)(x)\n",
        "x = layers.Conv2D(512, (3, 3),\n",
        "                  activation='relu',\n",
        "                  padding='same',\n",
        "                  name='block4_conv3',\n",
        "                  trainable=False)(x)\n",
        "x = layers.MaxPooling2D((2, 2), strides=(2, 2), name='block4_pool')(x)\n",
        "\n",
        "# Block 5\n",
        "x = layers.Conv2D(512, (3, 3),\n",
        "                  activation='relu',\n",
        "                  padding='same',\n",
        "                  name='block5_conv1',\n",
        "                  trainable=False)(x)\n",
        "x = layers.Conv2D(512, (3, 3),\n",
        "                  activation='relu',\n",
        "                  padding='same',\n",
        "                  name='block5_conv2',\n",
        "                  trainable=False)(x)\n",
        "x = layers.Conv2D(512, (3, 3),\n",
        "                  activation='relu',\n",
        "                  padding='same',\n",
        "                  name='block5_conv3',\n",
        "                  trainable=False)(x)\n",
        "# VGG over\n",
        "\n",
        "x = layers.MaxPooling2D((2, 2), strides=(2, 2), name='block5_pool')(x)\n",
        "\n",
        "x = layers.Conv2D(100, (5, 5),\n",
        "                  activation='relu',\n",
        "                  padding='same',\n",
        "                  name='block6_conv1',\n",
        "                  trainable=False)(x)\n",
        "x = layers.Conv2D(50, (5, 5),\n",
        "                  activation='relu',\n",
        "                  padding='same',\n",
        "                  name='block6_conv2',\n",
        "                  trainable=False)(x)\n",
        "x = layers.Conv2D(5, (5, 5),\n",
        "                  activation='relu',\n",
        "                  padding='same',\n",
        "                  name='block6_conv3',\n",
        "                  trainable=False)(x)\n",
        "\n"
      ],
      "execution_count": 0,
      "outputs": [
        {
          "output_type": "execute_result",
          "data": {
            "text/plain": [
              "\"\\n################################################\\nx = layers.MaxPooling2D((3, 3), strides=(3, 3), name='tatti_pool')(x)\\nx = layers.MaxPooling2D((2, 2), strides=(2, 2), name='tatti_pool2')(x)\\nx = layers.Conv2D(1, (1),\\n                  activation='relu',\\n                  padding='same',\\n                  name='tatti',\\n                  trainable=False)(x)\\n\""
            ]
          },
          "metadata": {
            "tags": []
          },
          "execution_count": 8
        }
      ]
    },
    {
      "cell_type": "code",
      "metadata": {
        "id": "CuXom1MCORJF",
        "colab_type": "code",
        "colab": {}
      },
      "source": [
        "model = Model(img_input, x)"
      ],
      "execution_count": 0,
      "outputs": []
    },
    {
      "cell_type": "code",
      "metadata": {
        "id": "aLdeTsMTbGE2",
        "colab_type": "code",
        "outputId": "9cb499ef-c9bc-41f6-8316-280ecdc882ba",
        "colab": {
          "base_uri": "https://localhost:8080/",
          "height": 34
        }
      },
      "source": [
        "pred = model.predict(X[0:1])\n",
        "pred.shape"
      ],
      "execution_count": 0,
      "outputs": [
        {
          "output_type": "execute_result",
          "data": {
            "text/plain": [
              "(1, 9, 9, 5)"
            ]
          },
          "metadata": {
            "tags": []
          },
          "execution_count": 11
        }
      ]
    },
    {
      "cell_type": "code",
      "metadata": {
        "id": "Z2n9PHFnYT_V",
        "colab_type": "code",
        "colab": {}
      },
      "source": [
        ""
      ],
      "execution_count": 0,
      "outputs": []
    },
    {
      "cell_type": "code",
      "metadata": {
        "id": "iSfGvnKtTfXL",
        "colab_type": "code",
        "colab": {}
      },
      "source": [
        "model.load_weights('classifier_weights.h5',by_name=True)"
      ],
      "execution_count": 0,
      "outputs": []
    },
    {
      "cell_type": "code",
      "metadata": {
        "id": "wfjeb7CBSrx-",
        "colab_type": "code",
        "colab": {}
      },
      "source": [
        "optimizer = Adam(lr=0.001, beta_1=0.9, beta_2=0.999, epsilon=1e-08, decay=0.0)\n",
        "model.compile(loss=custom_loss, optimizer=\"SGD\",metrics=['accuracy'])"
      ],
      "execution_count": 0,
      "outputs": []
    },
    {
      "cell_type": "code",
      "metadata": {
        "id": "586yLQRgR-NT",
        "colab_type": "code",
        "outputId": "ee7435df-ee2d-4b66-caaf-9883fbfdcd88",
        "colab": {
          "base_uri": "https://localhost:8080/",
          "height": 3417
        }
      },
      "source": [
        "history0 = model.fit(X, Y, batch_size=25, epochs=100, verbose=1)"
      ],
      "execution_count": 0,
      "outputs": [
        {
          "output_type": "stream",
          "text": [
            "Epoch 1/100\n",
            "100/100 [==============================] - 6s 55ms/step - loss: 0.0042 - acc: 0.0247\n",
            "Epoch 2/100\n",
            "100/100 [==============================] - 2s 21ms/step - loss: 0.0042 - acc: 0.0247\n",
            "Epoch 3/100\n",
            "100/100 [==============================] - 2s 20ms/step - loss: 0.0042 - acc: 0.0247\n",
            "Epoch 4/100\n",
            "100/100 [==============================] - 2s 20ms/step - loss: 0.0042 - acc: 0.0247\n",
            "Epoch 5/100\n",
            "100/100 [==============================] - 2s 20ms/step - loss: 0.0042 - acc: 0.0247\n",
            "Epoch 6/100\n",
            "100/100 [==============================] - 2s 20ms/step - loss: 0.0042 - acc: 0.0247\n",
            "Epoch 7/100\n",
            "100/100 [==============================] - 2s 21ms/step - loss: 0.0115 - acc: 0.0247\n",
            "Epoch 8/100\n",
            "100/100 [==============================] - 2s 20ms/step - loss: 0.0042 - acc: 0.0247\n",
            "Epoch 9/100\n",
            "100/100 [==============================] - 2s 21ms/step - loss: 0.0115 - acc: 0.0247\n",
            "Epoch 10/100\n",
            "100/100 [==============================] - 2s 20ms/step - loss: 0.0042 - acc: 0.0247\n",
            "Epoch 11/100\n",
            "100/100 [==============================] - 2s 20ms/step - loss: 0.0042 - acc: 0.0247\n",
            "Epoch 12/100\n",
            "100/100 [==============================] - 2s 20ms/step - loss: 0.0042 - acc: 0.0247\n",
            "Epoch 13/100\n",
            "100/100 [==============================] - 2s 20ms/step - loss: 0.0042 - acc: 0.0247\n",
            "Epoch 14/100\n",
            "100/100 [==============================] - 2s 20ms/step - loss: 0.0042 - acc: 0.0247\n",
            "Epoch 15/100\n",
            "100/100 [==============================] - 2s 21ms/step - loss: 0.0042 - acc: 0.0247\n",
            "Epoch 16/100\n",
            "100/100 [==============================] - 2s 20ms/step - loss: 0.0042 - acc: 0.0247\n",
            "Epoch 17/100\n",
            "100/100 [==============================] - 2s 21ms/step - loss: 0.0042 - acc: 0.0247\n",
            "Epoch 18/100\n",
            "100/100 [==============================] - 2s 20ms/step - loss: 0.0042 - acc: 0.0247\n",
            "Epoch 19/100\n",
            "100/100 [==============================] - 2s 21ms/step - loss: 0.0042 - acc: 0.0247\n",
            "Epoch 20/100\n",
            "100/100 [==============================] - 2s 21ms/step - loss: 0.0115 - acc: 0.0247\n",
            "Epoch 21/100\n",
            "100/100 [==============================] - 2s 21ms/step - loss: 0.0042 - acc: 0.0247\n",
            "Epoch 22/100\n",
            "100/100 [==============================] - 2s 20ms/step - loss: 0.0187 - acc: 0.0247\n",
            "Epoch 23/100\n",
            "100/100 [==============================] - 2s 20ms/step - loss: 0.0042 - acc: 0.0247\n",
            "Epoch 24/100\n",
            "100/100 [==============================] - 2s 21ms/step - loss: 0.0042 - acc: 0.0247\n",
            "Epoch 25/100\n",
            "100/100 [==============================] - 2s 21ms/step - loss: 0.0042 - acc: 0.0247\n",
            "Epoch 26/100\n",
            "100/100 [==============================] - 2s 20ms/step - loss: 0.0042 - acc: 0.0247\n",
            "Epoch 27/100\n",
            "100/100 [==============================] - 2s 20ms/step - loss: 0.0115 - acc: 0.0247\n",
            "Epoch 28/100\n",
            "100/100 [==============================] - 2s 20ms/step - loss: 0.0115 - acc: 0.0247\n",
            "Epoch 29/100\n",
            "100/100 [==============================] - 2s 20ms/step - loss: 0.0042 - acc: 0.0247\n",
            "Epoch 30/100\n",
            "100/100 [==============================] - 2s 20ms/step - loss: 0.0115 - acc: 0.0247\n",
            "Epoch 31/100\n",
            "100/100 [==============================] - 2s 20ms/step - loss: 0.0042 - acc: 0.0247\n",
            "Epoch 32/100\n",
            "100/100 [==============================] - 2s 20ms/step - loss: 0.0042 - acc: 0.0247\n",
            "Epoch 33/100\n",
            "100/100 [==============================] - 2s 20ms/step - loss: 0.0115 - acc: 0.0247\n",
            "Epoch 34/100\n",
            "100/100 [==============================] - 2s 20ms/step - loss: 0.0042 - acc: 0.0247\n",
            "Epoch 35/100\n",
            "100/100 [==============================] - 2s 20ms/step - loss: 0.0042 - acc: 0.0247\n",
            "Epoch 36/100\n",
            "100/100 [==============================] - 2s 20ms/step - loss: 0.0042 - acc: 0.0247\n",
            "Epoch 37/100\n",
            "100/100 [==============================] - 2s 20ms/step - loss: 0.0042 - acc: 0.0247\n",
            "Epoch 38/100\n",
            "100/100 [==============================] - 2s 20ms/step - loss: 0.0042 - acc: 0.0247\n",
            "Epoch 39/100\n",
            "100/100 [==============================] - 2s 20ms/step - loss: 0.0042 - acc: 0.0247\n",
            "Epoch 40/100\n",
            "100/100 [==============================] - 2s 20ms/step - loss: 0.0042 - acc: 0.0247\n",
            "Epoch 41/100\n",
            "100/100 [==============================] - 2s 20ms/step - loss: 0.0042 - acc: 0.0247\n",
            "Epoch 42/100\n",
            "100/100 [==============================] - 2s 21ms/step - loss: 0.0042 - acc: 0.0247\n",
            "Epoch 43/100\n",
            "100/100 [==============================] - 2s 20ms/step - loss: 0.0042 - acc: 0.0247\n",
            "Epoch 44/100\n",
            "100/100 [==============================] - 2s 20ms/step - loss: 0.0115 - acc: 0.0247\n",
            "Epoch 45/100\n",
            "100/100 [==============================] - 2s 20ms/step - loss: 0.0115 - acc: 0.0247\n",
            "Epoch 46/100\n",
            "100/100 [==============================] - 2s 20ms/step - loss: 0.0042 - acc: 0.0247\n",
            "Epoch 47/100\n",
            "100/100 [==============================] - 2s 20ms/step - loss: 0.0115 - acc: 0.0247\n",
            "Epoch 48/100\n",
            "100/100 [==============================] - 2s 21ms/step - loss: 0.0042 - acc: 0.0247\n",
            "Epoch 49/100\n",
            "100/100 [==============================] - 2s 21ms/step - loss: 0.0042 - acc: 0.0247\n",
            "Epoch 50/100\n",
            "100/100 [==============================] - 2s 21ms/step - loss: 0.0042 - acc: 0.0247\n",
            "Epoch 51/100\n",
            "100/100 [==============================] - 2s 20ms/step - loss: 0.0042 - acc: 0.0247\n",
            "Epoch 52/100\n",
            "100/100 [==============================] - 2s 21ms/step - loss: 0.0042 - acc: 0.0247\n",
            "Epoch 53/100\n",
            "100/100 [==============================] - 2s 21ms/step - loss: 0.0115 - acc: 0.0247\n",
            "Epoch 54/100\n",
            "100/100 [==============================] - 2s 20ms/step - loss: 0.0042 - acc: 0.0247\n",
            "Epoch 55/100\n",
            "100/100 [==============================] - 2s 20ms/step - loss: 0.0042 - acc: 0.0247\n",
            "Epoch 56/100\n",
            "100/100 [==============================] - 2s 20ms/step - loss: 0.0042 - acc: 0.0247\n",
            "Epoch 57/100\n",
            "100/100 [==============================] - 2s 21ms/step - loss: 0.0042 - acc: 0.0247\n",
            "Epoch 58/100\n",
            "100/100 [==============================] - 2s 21ms/step - loss: 0.0042 - acc: 0.0247\n",
            "Epoch 59/100\n",
            "100/100 [==============================] - 2s 20ms/step - loss: 0.0042 - acc: 0.0247\n",
            "Epoch 60/100\n",
            "100/100 [==============================] - 2s 20ms/step - loss: 0.0042 - acc: 0.0247\n",
            "Epoch 61/100\n",
            "100/100 [==============================] - 2s 20ms/step - loss: 0.0042 - acc: 0.0247\n",
            "Epoch 62/100\n",
            "100/100 [==============================] - 2s 20ms/step - loss: 0.0042 - acc: 0.0247\n",
            "Epoch 63/100\n",
            "100/100 [==============================] - 2s 20ms/step - loss: 0.0042 - acc: 0.0247\n",
            "Epoch 64/100\n",
            "100/100 [==============================] - 2s 20ms/step - loss: 0.0042 - acc: 0.0247\n",
            "Epoch 65/100\n",
            "100/100 [==============================] - 2s 20ms/step - loss: 0.0187 - acc: 0.0247\n",
            "Epoch 66/100\n",
            "100/100 [==============================] - 2s 20ms/step - loss: 0.0042 - acc: 0.0247\n",
            "Epoch 67/100\n",
            "100/100 [==============================] - 2s 20ms/step - loss: 0.0187 - acc: 0.0247\n",
            "Epoch 68/100\n",
            "100/100 [==============================] - 2s 20ms/step - loss: 0.0042 - acc: 0.0247\n",
            "Epoch 69/100\n",
            "100/100 [==============================] - 2s 20ms/step - loss: 0.0042 - acc: 0.0247\n",
            "Epoch 70/100\n",
            "100/100 [==============================] - 2s 20ms/step - loss: 0.0115 - acc: 0.0247\n",
            "Epoch 71/100\n",
            "100/100 [==============================] - 2s 20ms/step - loss: 0.0042 - acc: 0.0247\n",
            "Epoch 72/100\n",
            "100/100 [==============================] - 2s 20ms/step - loss: 0.0042 - acc: 0.0247\n",
            "Epoch 73/100\n",
            "100/100 [==============================] - 2s 20ms/step - loss: 0.0115 - acc: 0.0247\n",
            "Epoch 74/100\n",
            "100/100 [==============================] - 2s 20ms/step - loss: 0.0115 - acc: 0.0247\n",
            "Epoch 75/100\n",
            "100/100 [==============================] - 2s 20ms/step - loss: 0.0042 - acc: 0.0247\n",
            "Epoch 76/100\n",
            "100/100 [==============================] - 2s 21ms/step - loss: 0.0042 - acc: 0.0247\n",
            "Epoch 77/100\n",
            "100/100 [==============================] - 2s 20ms/step - loss: 0.0115 - acc: 0.0247\n",
            "Epoch 78/100\n",
            "100/100 [==============================] - 2s 20ms/step - loss: 0.0042 - acc: 0.0247\n",
            "Epoch 79/100\n",
            "100/100 [==============================] - 2s 20ms/step - loss: 0.0115 - acc: 0.0247\n",
            "Epoch 80/100\n",
            "100/100 [==============================] - 2s 21ms/step - loss: 0.0042 - acc: 0.0247\n",
            "Epoch 81/100\n",
            "100/100 [==============================] - 2s 21ms/step - loss: 0.0115 - acc: 0.0247\n",
            "Epoch 82/100\n",
            "100/100 [==============================] - 2s 21ms/step - loss: 0.0042 - acc: 0.0247\n",
            "Epoch 83/100\n",
            "100/100 [==============================] - 2s 20ms/step - loss: 0.0115 - acc: 0.0247\n",
            "Epoch 84/100\n",
            "100/100 [==============================] - 2s 20ms/step - loss: 0.0042 - acc: 0.0247\n",
            "Epoch 85/100\n",
            "100/100 [==============================] - 2s 21ms/step - loss: 0.0042 - acc: 0.0247\n",
            "Epoch 86/100\n",
            "100/100 [==============================] - 2s 21ms/step - loss: 0.0042 - acc: 0.0247\n",
            "Epoch 87/100\n",
            "100/100 [==============================] - 2s 20ms/step - loss: 0.0042 - acc: 0.0247\n",
            "Epoch 88/100\n",
            "100/100 [==============================] - 2s 20ms/step - loss: 0.0042 - acc: 0.0247\n",
            "Epoch 89/100\n",
            "100/100 [==============================] - 2s 21ms/step - loss: 0.0042 - acc: 0.0247\n",
            "Epoch 90/100\n",
            "100/100 [==============================] - 2s 20ms/step - loss: 0.0042 - acc: 0.0247\n",
            "Epoch 91/100\n",
            "100/100 [==============================] - 2s 20ms/step - loss: 0.0115 - acc: 0.0247\n",
            "Epoch 92/100\n",
            "100/100 [==============================] - 2s 20ms/step - loss: 0.0042 - acc: 0.0247\n",
            "Epoch 93/100\n",
            "100/100 [==============================] - 2s 20ms/step - loss: 0.0042 - acc: 0.0247\n",
            "Epoch 94/100\n",
            "100/100 [==============================] - 2s 20ms/step - loss: 0.0042 - acc: 0.0247\n",
            "Epoch 95/100\n",
            "100/100 [==============================] - 2s 20ms/step - loss: 0.0042 - acc: 0.0247\n",
            "Epoch 96/100\n",
            "100/100 [==============================] - 2s 20ms/step - loss: 0.0042 - acc: 0.0247\n",
            "Epoch 97/100\n",
            "100/100 [==============================] - 2s 20ms/step - loss: 0.0042 - acc: 0.0247\n",
            "Epoch 98/100\n",
            "100/100 [==============================] - 2s 20ms/step - loss: 0.0042 - acc: 0.0247\n",
            "Epoch 99/100\n",
            "100/100 [==============================] - 2s 21ms/step - loss: 0.0042 - acc: 0.0247\n",
            "Epoch 100/100\n",
            "100/100 [==============================] - 2s 21ms/step - loss: 0.0042 - acc: 0.0247\n"
          ],
          "name": "stdout"
        }
      ]
    },
    {
      "cell_type": "code",
      "metadata": {
        "id": "7-Gkz26zTEAK",
        "colab_type": "code",
        "colab": {}
      },
      "source": [
        "out = model.predict(X[0:1])"
      ],
      "execution_count": 0,
      "outputs": []
    },
    {
      "cell_type": "code",
      "metadata": {
        "id": "SCKH_r_uTEC_",
        "colab_type": "code",
        "outputId": "335e9cb0-cd1c-49b5-db2d-1f132e435599",
        "colab": {
          "base_uri": "https://localhost:8080/",
          "height": 34
        }
      },
      "source": [
        "out.shape"
      ],
      "execution_count": 0,
      "outputs": [
        {
          "output_type": "execute_result",
          "data": {
            "text/plain": [
              "(1, 9, 9, 5)"
            ]
          },
          "metadata": {
            "tags": []
          },
          "execution_count": 28
        }
      ]
    },
    {
      "cell_type": "code",
      "metadata": {
        "id": "CthpnT_ZTEFq",
        "colab_type": "code",
        "colab": {}
      },
      "source": [
        "out = np.reshape(out,(81,5))\n",
        "act = np.reshape(Y[0], (81,5))"
      ],
      "execution_count": 0,
      "outputs": []
    },
    {
      "cell_type": "code",
      "metadata": {
        "id": "D5ND81cqTEIh",
        "colab_type": "code",
        "outputId": "9e07c551-e3ba-4c6d-a245-f0f1fe6649e0",
        "colab": {
          "base_uri": "https://localhost:8080/",
          "height": 51
        }
      },
      "source": [
        "print(out.shape)\n",
        "print(act.shape)"
      ],
      "execution_count": 0,
      "outputs": [
        {
          "output_type": "stream",
          "text": [
            "(81, 5)\n",
            "(81, 5)\n"
          ],
          "name": "stdout"
        }
      ]
    },
    {
      "cell_type": "code",
      "metadata": {
        "id": "HSXh4TQzTEPb",
        "colab_type": "code",
        "outputId": "81d95dc1-a415-4fb1-95ac-f77c33b28820",
        "colab": {
          "base_uri": "https://localhost:8080/",
          "height": 136
        }
      },
      "source": [
        "for i in range(81):\n",
        "  if act[i,0] == 1:\n",
        "    print(\"################\")\n",
        "    print(\"i = \", i)\n",
        "    print(act[i])"
      ],
      "execution_count": 0,
      "outputs": [
        {
          "output_type": "stream",
          "text": [
            "################\n",
            "i =  32\n",
            "[1.00000000e+00 1.14730878e-03 2.03666667e-03 1.38810198e-03\n",
            " 8.73333333e-04]\n",
            "################\n",
            "i =  40\n",
            "[1.         0.00169972 0.0017     0.00324835 0.00324   ]\n"
          ],
          "name": "stdout"
        }
      ]
    },
    {
      "cell_type": "code",
      "metadata": {
        "id": "is8IBXCHR9HD",
        "colab_type": "code",
        "outputId": "b865281d-c76c-45f7-8bcf-d1e118f05afa",
        "colab": {
          "base_uri": "https://localhost:8080/",
          "height": 4165
        }
      },
      "source": [
        "for i in range(81):\n",
        "  #if out[i,0] == 1:\n",
        "    print(\"################\")\n",
        "    print(\"i = \", i)\n",
        "    print(act[i])\n",
        "    \n",
        "    \n",
        "\"\"\"\n",
        "ACTUAL VALUES\n",
        "----------------------------------------------------------------------\n",
        "i =  32\n",
        "1.14730878e-03    2.03666667e-03    1.38810198e-03    8.73333333e-04\n",
        "----------------------------------------------------------------------\n",
        "0.00169972        0.0017            0.00324835        0.00324\n",
        "----------------------------------------------------------------------\n",
        "PREEDECTED VALUES\n",
        "----------------------------------------------------------------------\n",
        "at i = 32\n",
        "1.14730878e-03    2.03666667e-03    1.38810198e-03    8.73333333e-04\n",
        "----------------------------------------------------------------------\n",
        "ar i = 40\n",
        "0.00169972        0.0017            0.00324835        0.00324 \n",
        "----------------------------------------------------------------------\n",
        "\"\"\""
      ],
      "execution_count": 0,
      "outputs": [
        {
          "output_type": "stream",
          "text": [
            "################\n",
            "i =  0\n",
            "[0. 0. 0. 0. 0.]\n",
            "################\n",
            "i =  1\n",
            "[0. 0. 0. 0. 0.]\n",
            "################\n",
            "i =  2\n",
            "[0. 0. 0. 0. 0.]\n",
            "################\n",
            "i =  3\n",
            "[0. 0. 0. 0. 0.]\n",
            "################\n",
            "i =  4\n",
            "[0. 0. 0. 0. 0.]\n",
            "################\n",
            "i =  5\n",
            "[0. 0. 0. 0. 0.]\n",
            "################\n",
            "i =  6\n",
            "[0. 0. 0. 0. 0.]\n",
            "################\n",
            "i =  7\n",
            "[0. 0. 0. 0. 0.]\n",
            "################\n",
            "i =  8\n",
            "[0. 0. 0. 0. 0.]\n",
            "################\n",
            "i =  9\n",
            "[0. 0. 0. 0. 0.]\n",
            "################\n",
            "i =  10\n",
            "[0. 0. 0. 0. 0.]\n",
            "################\n",
            "i =  11\n",
            "[0. 0. 0. 0. 0.]\n",
            "################\n",
            "i =  12\n",
            "[0. 0. 0. 0. 0.]\n",
            "################\n",
            "i =  13\n",
            "[0. 0. 0. 0. 0.]\n",
            "################\n",
            "i =  14\n",
            "[0. 0. 0. 0. 0.]\n",
            "################\n",
            "i =  15\n",
            "[0. 0. 0. 0. 0.]\n",
            "################\n",
            "i =  16\n",
            "[0. 0. 0. 0. 0.]\n",
            "################\n",
            "i =  17\n",
            "[0. 0. 0. 0. 0.]\n",
            "################\n",
            "i =  18\n",
            "[0. 0. 0. 0. 0.]\n",
            "################\n",
            "i =  19\n",
            "[0. 0. 0. 0. 0.]\n",
            "################\n",
            "i =  20\n",
            "[0. 0. 0. 0. 0.]\n",
            "################\n",
            "i =  21\n",
            "[0. 0. 0. 0. 0.]\n",
            "################\n",
            "i =  22\n",
            "[0. 0. 0. 0. 0.]\n",
            "################\n",
            "i =  23\n",
            "[0. 0. 0. 0. 0.]\n",
            "################\n",
            "i =  24\n",
            "[0. 0. 0. 0. 0.]\n",
            "################\n",
            "i =  25\n",
            "[0. 0. 0. 0. 0.]\n",
            "################\n",
            "i =  26\n",
            "[0. 0. 0. 0. 0.]\n",
            "################\n",
            "i =  27\n",
            "[0. 0. 0. 0. 0.]\n",
            "################\n",
            "i =  28\n",
            "[0. 0. 0. 0. 0.]\n",
            "################\n",
            "i =  29\n",
            "[0. 0. 0. 0. 0.]\n",
            "################\n",
            "i =  30\n",
            "[0. 0. 0. 0. 0.]\n",
            "################\n",
            "i =  31\n",
            "[0. 0. 0. 0. 0.]\n",
            "################\n",
            "i =  32\n",
            "[1.00000000e+00 1.14730878e-03 2.03666667e-03 1.38810198e-03\n",
            " 8.73333333e-04]\n",
            "################\n",
            "i =  33\n",
            "[0. 0. 0. 0. 0.]\n",
            "################\n",
            "i =  34\n",
            "[0. 0. 0. 0. 0.]\n",
            "################\n",
            "i =  35\n",
            "[0. 0. 0. 0. 0.]\n",
            "################\n",
            "i =  36\n",
            "[0. 0. 0. 0. 0.]\n",
            "################\n",
            "i =  37\n",
            "[0. 0. 0. 0. 0.]\n",
            "################\n",
            "i =  38\n",
            "[0. 0. 0. 0. 0.]\n",
            "################\n",
            "i =  39\n",
            "[0. 0. 0. 0. 0.]\n",
            "################\n",
            "i =  40\n",
            "[1.         0.00169972 0.0017     0.00324835 0.00324   ]\n",
            "################\n",
            "i =  41\n",
            "[0. 0. 0. 0. 0.]\n",
            "################\n",
            "i =  42\n",
            "[0. 0. 0. 0. 0.]\n",
            "################\n",
            "i =  43\n",
            "[0. 0. 0. 0. 0.]\n",
            "################\n",
            "i =  44\n",
            "[0. 0. 0. 0. 0.]\n",
            "################\n",
            "i =  45\n",
            "[0. 0. 0. 0. 0.]\n",
            "################\n",
            "i =  46\n",
            "[0. 0. 0. 0. 0.]\n",
            "################\n",
            "i =  47\n",
            "[0. 0. 0. 0. 0.]\n",
            "################\n",
            "i =  48\n",
            "[0. 0. 0. 0. 0.]\n",
            "################\n",
            "i =  49\n",
            "[0. 0. 0. 0. 0.]\n",
            "################\n",
            "i =  50\n",
            "[0. 0. 0. 0. 0.]\n",
            "################\n",
            "i =  51\n",
            "[0. 0. 0. 0. 0.]\n",
            "################\n",
            "i =  52\n",
            "[0. 0. 0. 0. 0.]\n",
            "################\n",
            "i =  53\n",
            "[0. 0. 0. 0. 0.]\n",
            "################\n",
            "i =  54\n",
            "[0. 0. 0. 0. 0.]\n",
            "################\n",
            "i =  55\n",
            "[0. 0. 0. 0. 0.]\n",
            "################\n",
            "i =  56\n",
            "[0. 0. 0. 0. 0.]\n",
            "################\n",
            "i =  57\n",
            "[0. 0. 0. 0. 0.]\n",
            "################\n",
            "i =  58\n",
            "[0. 0. 0. 0. 0.]\n",
            "################\n",
            "i =  59\n",
            "[0. 0. 0. 0. 0.]\n",
            "################\n",
            "i =  60\n",
            "[0. 0. 0. 0. 0.]\n",
            "################\n",
            "i =  61\n",
            "[0. 0. 0. 0. 0.]\n",
            "################\n",
            "i =  62\n",
            "[0. 0. 0. 0. 0.]\n",
            "################\n",
            "i =  63\n",
            "[0. 0. 0. 0. 0.]\n",
            "################\n",
            "i =  64\n",
            "[0. 0. 0. 0. 0.]\n",
            "################\n",
            "i =  65\n",
            "[0. 0. 0. 0. 0.]\n",
            "################\n",
            "i =  66\n",
            "[0. 0. 0. 0. 0.]\n",
            "################\n",
            "i =  67\n",
            "[0. 0. 0. 0. 0.]\n",
            "################\n",
            "i =  68\n",
            "[0. 0. 0. 0. 0.]\n",
            "################\n",
            "i =  69\n",
            "[0. 0. 0. 0. 0.]\n",
            "################\n",
            "i =  70\n",
            "[0. 0. 0. 0. 0.]\n",
            "################\n",
            "i =  71\n",
            "[0. 0. 0. 0. 0.]\n",
            "################\n",
            "i =  72\n",
            "[0. 0. 0. 0. 0.]\n",
            "################\n",
            "i =  73\n",
            "[0. 0. 0. 0. 0.]\n",
            "################\n",
            "i =  74\n",
            "[0. 0. 0. 0. 0.]\n",
            "################\n",
            "i =  75\n",
            "[0. 0. 0. 0. 0.]\n",
            "################\n",
            "i =  76\n",
            "[0. 0. 0. 0. 0.]\n",
            "################\n",
            "i =  77\n",
            "[0. 0. 0. 0. 0.]\n",
            "################\n",
            "i =  78\n",
            "[0. 0. 0. 0. 0.]\n",
            "################\n",
            "i =  79\n",
            "[0. 0. 0. 0. 0.]\n",
            "################\n",
            "i =  80\n",
            "[0. 0. 0. 0. 0.]\n"
          ],
          "name": "stdout"
        }
      ]
    },
    {
      "cell_type": "code",
      "metadata": {
        "id": "3A6tZlElR9Js",
        "colab_type": "code",
        "colab": {}
      },
      "source": [
        ""
      ],
      "execution_count": 0,
      "outputs": []
    },
    {
      "cell_type": "code",
      "metadata": {
        "id": "7eKTO6MuR9Mi",
        "colab_type": "code",
        "colab": {}
      },
      "source": [
        ""
      ],
      "execution_count": 0,
      "outputs": []
    },
    {
      "cell_type": "code",
      "metadata": {
        "id": "9XkC1s8pPLQI",
        "colab_type": "code",
        "colab": {}
      },
      "source": [
        "pred = model.predict(X_try[0:1])"
      ],
      "execution_count": 0,
      "outputs": []
    },
    {
      "cell_type": "code",
      "metadata": {
        "id": "iVXUpiuRPRQi",
        "colab_type": "code",
        "outputId": "00c858f5-03c5-49a0-fd33-7cb3cda2ce92",
        "colab": {
          "base_uri": "https://localhost:8080/",
          "height": 34
        }
      },
      "source": [
        "pred.shape"
      ],
      "execution_count": 0,
      "outputs": [
        {
          "output_type": "execute_result",
          "data": {
            "text/plain": [
              "(1, 9, 9, 5)"
            ]
          },
          "metadata": {
            "tags": []
          },
          "execution_count": 46
        }
      ]
    },
    {
      "cell_type": "code",
      "metadata": {
        "id": "iT_3rKLXL9VG",
        "colab_type": "code",
        "colab": {}
      },
      "source": [
        ""
      ],
      "execution_count": 0,
      "outputs": []
    },
    {
      "cell_type": "code",
      "metadata": {
        "id": "PhNwvuytP-87",
        "colab_type": "code",
        "colab": {}
      },
      "source": [
        ""
      ],
      "execution_count": 0,
      "outputs": []
    },
    {
      "cell_type": "code",
      "metadata": {
        "id": "dE1ZwafrP-_9",
        "colab_type": "code",
        "colab": {}
      },
      "source": [
        ""
      ],
      "execution_count": 0,
      "outputs": []
    },
    {
      "cell_type": "code",
      "metadata": {
        "id": "9NZNDnxKP_D-",
        "colab_type": "code",
        "colab": {}
      },
      "source": [
        ""
      ],
      "execution_count": 0,
      "outputs": []
    },
    {
      "cell_type": "code",
      "metadata": {
        "id": "1U92tR9VP_Hm",
        "colab_type": "code",
        "colab": {}
      },
      "source": [
        ""
      ],
      "execution_count": 0,
      "outputs": []
    },
    {
      "cell_type": "code",
      "metadata": {
        "id": "E7qs8uScP_LF",
        "colab_type": "code",
        "colab": {}
      },
      "source": [
        ""
      ],
      "execution_count": 0,
      "outputs": []
    },
    {
      "cell_type": "code",
      "metadata": {
        "id": "vFKwSj1MM_il",
        "colab_type": "code",
        "colab": {}
      },
      "source": [
        "X_try = np.zeros((100,300,300,3))\n",
        "Y_try = np.zeros((100,9,9,5))\n",
        "for i in range(5):\n",
        "  X_try[i] = X[0]/300\n",
        "  Y_try[i] = Y[0]/300\n",
        "  \n",
        "for b in range(5):\n",
        "  for i in range(9):\n",
        "    for j in range(9):\n",
        "      Y_try[b,i,j,0] *= 300"
      ],
      "execution_count": 0,
      "outputs": []
    },
    {
      "cell_type": "code",
      "metadata": {
        "id": "XtpftCF4RdSP",
        "colab_type": "code",
        "colab": {}
      },
      "source": [
        "np.save('WrongX',X_try)\n",
        "np.save('WrongY',Y_try)"
      ],
      "execution_count": 0,
      "outputs": []
    },
    {
      "cell_type": "code",
      "metadata": {
        "id": "Fh4yQKhzRuw3",
        "colab_type": "code",
        "outputId": "838014b6-03d5-4792-e5b5-9214b592a782",
        "colab": {
          "base_uri": "https://localhost:8080/",
          "height": 170
        }
      },
      "source": [
        "ls"
      ],
      "execution_count": 0,
      "outputs": [
        {
          "output_type": "stream",
          "text": [
            "2007_test_labels.npy   2012_train_labels.npy      \u001b[0m\u001b[01;34mnotebook\u001b[0m/\n",
            "2007_test_labels.txt   2012_train_labels.txt      weights_begin.h5\n",
            "2007_test.txt          2012_train.txt             weights_history1.h5\n",
            "2007_train_labels.npy  2012_val_labels.npy        WrongX.npy\n",
            "2007_train_labels.txt  2012_val_labels.txt        WrongY.npy\n",
            "2007_train.txt         2012_val.txt               \u001b[01;34mX\u001b[0m/\n",
            "2007_val_labels.npy    classifier_weights.h5      \u001b[01;34mY\u001b[0m/\n",
            "2007_val_labels.txt    default_all_boxes_new.npy\n",
            "2007_val.txt           \u001b[01;34mdrive\u001b[0m/\n"
          ],
          "name": "stdout"
        }
      ]
    },
    {
      "cell_type": "code",
      "metadata": {
        "id": "7ZyqEQ2WNK0c",
        "colab_type": "code",
        "outputId": "748be1f8-f2d8-4c32-fb01-c44d046946db",
        "colab": {
          "base_uri": "https://localhost:8080/",
          "height": 34
        }
      },
      "source": [
        "X_try.shape"
      ],
      "execution_count": 0,
      "outputs": [
        {
          "output_type": "execute_result",
          "data": {
            "text/plain": [
              "(300, 300, 3)"
            ]
          },
          "metadata": {
            "tags": []
          },
          "execution_count": 13
        }
      ]
    },
    {
      "cell_type": "code",
      "metadata": {
        "id": "WPNqZTzrNk9e",
        "colab_type": "code",
        "outputId": "947b5cb8-6c48-4c4a-afa8-6e7b29481721",
        "colab": {
          "base_uri": "https://localhost:8080/",
          "height": 34
        }
      },
      "source": [
        "Y_try.shape"
      ],
      "execution_count": 0,
      "outputs": [
        {
          "output_type": "execute_result",
          "data": {
            "text/plain": [
              "(9, 9, 5)"
            ]
          },
          "metadata": {
            "tags": []
          },
          "execution_count": 14
        }
      ]
    },
    {
      "cell_type": "code",
      "metadata": {
        "id": "VlWb19NQNqRg",
        "colab_type": "code",
        "outputId": "dbc9e023-7333-47d5-95a4-2ad7b62f2def",
        "colab": {
          "base_uri": "https://localhost:8080/",
          "height": 170
        }
      },
      "source": [
        "Y_try[1,3]"
      ],
      "execution_count": 0,
      "outputs": [
        {
          "output_type": "execute_result",
          "data": {
            "text/plain": [
              "array([[0.        , 0.        , 0.        , 0.        , 0.        ],\n",
              "       [0.        , 0.        , 0.        , 0.        , 0.        ],\n",
              "       [0.        , 0.        , 0.        , 0.        , 0.        ],\n",
              "       [0.        , 0.        , 0.        , 0.        , 0.        ],\n",
              "       [0.        , 0.        , 0.        , 0.        , 0.        ],\n",
              "       [1.        , 0.34419263, 0.611     , 0.41643059, 0.262     ],\n",
              "       [0.        , 0.        , 0.        , 0.        , 0.        ],\n",
              "       [0.        , 0.        , 0.        , 0.        , 0.        ],\n",
              "       [0.        , 0.        , 0.        , 0.        , 0.        ]])"
            ]
          },
          "metadata": {
            "tags": []
          },
          "execution_count": 50
        }
      ]
    },
    {
      "cell_type": "code",
      "metadata": {
        "id": "hwh6NZXZPWh8",
        "colab_type": "code",
        "colab": {}
      },
      "source": [
        ""
      ],
      "execution_count": 0,
      "outputs": []
    },
    {
      "cell_type": "markdown",
      "metadata": {
        "id": "Js-R-VUMWJn9",
        "colab_type": "text"
      },
      "source": [
        ""
      ]
    },
    {
      "cell_type": "markdown",
      "metadata": {
        "id": "eQB40NqWWJq0",
        "colab_type": "text"
      },
      "source": [
        "# C ustom LAyer"
      ]
    },
    {
      "cell_type": "code",
      "metadata": {
        "id": "ofcaCpUfWKgN",
        "colab_type": "code",
        "outputId": "9b754f0a-db80-4505-dae1-a1dc6fd62d4d",
        "colab": {
          "base_uri": "https://localhost:8080/",
          "height": 34
        }
      },
      "source": [
        "import keras\n",
        "from keras.models import Sequential,load_model\n",
        "from keras import layers, Model,Input\n",
        "from keras.layers.normalization import BatchNormalization\n",
        "from keras import optimizers\n",
        "import numpy as np\n",
        "import tensorflow as tf\n",
        "from keras.optimizers import Adam\n",
        "from keras import backend as K\n",
        "from keras.layers.merge import concatenate\n",
        "from keras.layers.advanced_activations import LeakyReLU\n",
        "from keras.preprocessing import image\n",
        "from keras.engine.topology import Layer"
      ],
      "execution_count": 0,
      "outputs": [
        {
          "output_type": "stream",
          "text": [
            "Using TensorFlow backend.\n"
          ],
          "name": "stderr"
        }
      ]
    },
    {
      "cell_type": "code",
      "metadata": {
        "id": "U_7p10qRWKsd",
        "colab_type": "code",
        "colab": {}
      },
      "source": [
        "from keras import backend as K\n",
        "from keras.engine.topology import Layer\n",
        "import numpy as np\n",
        "\n",
        "class MyLayer(Layer):\n",
        "\n",
        "    def __init__(self, output_dim, **kwargs):\n",
        "        self.output_dim = output_dim\n",
        "        super(MyLayer, self).__init__(**kwargs)\n",
        "\n",
        "    def build(self, input_shape):\n",
        "        # Create a trainable weight variable for this layer.\n",
        "        self.kernel = self.add_weight(name='kernel', \n",
        "                                      shape=(input_shape[1], self.output_dim),\n",
        "                                      initializer='uniform',\n",
        "                                      trainable=True)\n",
        "        super(MyLayer, self).build(input_shape)  # Be sure to call this at the end\n",
        "\n",
        "    def call(self, x):\n",
        "        return K.dot(x, self.kernel)\n",
        "\n",
        "    def compute_output_shape(self, input_shape):\n",
        "        return (input_shape[0], self.output_dim)\n",
        "\n"
      ],
      "execution_count": 0,
      "outputs": []
    },
    {
      "cell_type": "code",
      "metadata": {
        "id": "bs5b6ef1WRsd",
        "colab_type": "code",
        "outputId": "dfc2a93e-8cb1-4cc0-9361-2d9e3e6371cb",
        "colab": {
          "base_uri": "https://localhost:8080/",
          "height": 1762
        }
      },
      "source": [
        "img_input = Input(shape=(300, 300, 3))\n",
        "\n",
        "x = MyLayer((300,300,3))(img_input)\n",
        "\n"
      ],
      "execution_count": 0,
      "outputs": [
        {
          "output_type": "error",
          "ename": "ValueError",
          "evalue": "ignored",
          "traceback": [
            "\u001b[0;31m---------------------------------------------------------------------------\u001b[0m",
            "\u001b[0;31mValueError\u001b[0m                                Traceback (most recent call last)",
            "\u001b[0;32m<ipython-input-3-a8b12293685b>\u001b[0m in \u001b[0;36m<module>\u001b[0;34m()\u001b[0m\n\u001b[1;32m      1\u001b[0m \u001b[0mimg_input\u001b[0m \u001b[0;34m=\u001b[0m \u001b[0mInput\u001b[0m\u001b[0;34m(\u001b[0m\u001b[0mshape\u001b[0m\u001b[0;34m=\u001b[0m\u001b[0;34m(\u001b[0m\u001b[0;36m300\u001b[0m\u001b[0;34m,\u001b[0m \u001b[0;36m300\u001b[0m\u001b[0;34m,\u001b[0m \u001b[0;36m3\u001b[0m\u001b[0;34m)\u001b[0m\u001b[0;34m)\u001b[0m\u001b[0;34m\u001b[0m\u001b[0m\n\u001b[1;32m      2\u001b[0m \u001b[0;34m\u001b[0m\u001b[0m\n\u001b[0;32m----> 3\u001b[0;31m \u001b[0mx\u001b[0m \u001b[0;34m=\u001b[0m \u001b[0mMyLayer\u001b[0m\u001b[0;34m(\u001b[0m\u001b[0;34m(\u001b[0m\u001b[0;36m300\u001b[0m\u001b[0;34m,\u001b[0m\u001b[0;36m300\u001b[0m\u001b[0;34m,\u001b[0m\u001b[0;36m3\u001b[0m\u001b[0;34m)\u001b[0m\u001b[0;34m)\u001b[0m\u001b[0;34m(\u001b[0m\u001b[0mimg_input\u001b[0m\u001b[0;34m)\u001b[0m\u001b[0;34m\u001b[0m\u001b[0m\n\u001b[0m\u001b[1;32m      4\u001b[0m \u001b[0;34m\u001b[0m\u001b[0m\n",
            "\u001b[0;32m/usr/local/lib/python3.6/dist-packages/keras/engine/topology.py\u001b[0m in \u001b[0;36m__call__\u001b[0;34m(self, inputs, **kwargs)\u001b[0m\n\u001b[1;32m    590\u001b[0m                                          '`layer.build(batch_input_shape)`')\n\u001b[1;32m    591\u001b[0m                 \u001b[0;32mif\u001b[0m \u001b[0mlen\u001b[0m\u001b[0;34m(\u001b[0m\u001b[0minput_shapes\u001b[0m\u001b[0;34m)\u001b[0m \u001b[0;34m==\u001b[0m \u001b[0;36m1\u001b[0m\u001b[0;34m:\u001b[0m\u001b[0;34m\u001b[0m\u001b[0m\n\u001b[0;32m--> 592\u001b[0;31m                     \u001b[0mself\u001b[0m\u001b[0;34m.\u001b[0m\u001b[0mbuild\u001b[0m\u001b[0;34m(\u001b[0m\u001b[0minput_shapes\u001b[0m\u001b[0;34m[\u001b[0m\u001b[0;36m0\u001b[0m\u001b[0;34m]\u001b[0m\u001b[0;34m)\u001b[0m\u001b[0;34m\u001b[0m\u001b[0m\n\u001b[0m\u001b[1;32m    593\u001b[0m                 \u001b[0;32melse\u001b[0m\u001b[0;34m:\u001b[0m\u001b[0;34m\u001b[0m\u001b[0m\n\u001b[1;32m    594\u001b[0m                     \u001b[0mself\u001b[0m\u001b[0;34m.\u001b[0m\u001b[0mbuild\u001b[0m\u001b[0;34m(\u001b[0m\u001b[0minput_shapes\u001b[0m\u001b[0;34m)\u001b[0m\u001b[0;34m\u001b[0m\u001b[0m\n",
            "\u001b[0;32m<ipython-input-2-8d0eaef26699>\u001b[0m in \u001b[0;36mbuild\u001b[0;34m(self, input_shape)\u001b[0m\n\u001b[1;32m     14\u001b[0m                                       \u001b[0mshape\u001b[0m\u001b[0;34m=\u001b[0m\u001b[0;34m(\u001b[0m\u001b[0minput_shape\u001b[0m\u001b[0;34m[\u001b[0m\u001b[0;36m1\u001b[0m\u001b[0;34m]\u001b[0m\u001b[0;34m,\u001b[0m \u001b[0mself\u001b[0m\u001b[0;34m.\u001b[0m\u001b[0moutput_dim\u001b[0m\u001b[0;34m)\u001b[0m\u001b[0;34m,\u001b[0m\u001b[0;34m\u001b[0m\u001b[0m\n\u001b[1;32m     15\u001b[0m                                       \u001b[0minitializer\u001b[0m\u001b[0;34m=\u001b[0m\u001b[0;34m'uniform'\u001b[0m\u001b[0;34m,\u001b[0m\u001b[0;34m\u001b[0m\u001b[0m\n\u001b[0;32m---> 16\u001b[0;31m                                       trainable=True)\n\u001b[0m\u001b[1;32m     17\u001b[0m         \u001b[0msuper\u001b[0m\u001b[0;34m(\u001b[0m\u001b[0mMyLayer\u001b[0m\u001b[0;34m,\u001b[0m \u001b[0mself\u001b[0m\u001b[0;34m)\u001b[0m\u001b[0;34m.\u001b[0m\u001b[0mbuild\u001b[0m\u001b[0;34m(\u001b[0m\u001b[0minput_shape\u001b[0m\u001b[0;34m)\u001b[0m  \u001b[0;31m# Be sure to call this at the end\u001b[0m\u001b[0;34m\u001b[0m\u001b[0m\n\u001b[1;32m     18\u001b[0m \u001b[0;34m\u001b[0m\u001b[0m\n",
            "\u001b[0;32m/usr/local/lib/python3.6/dist-packages/keras/legacy/interfaces.py\u001b[0m in \u001b[0;36mwrapper\u001b[0;34m(*args, **kwargs)\u001b[0m\n\u001b[1;32m     89\u001b[0m                 warnings.warn('Update your `' + object_name +\n\u001b[1;32m     90\u001b[0m                               '` call to the Keras 2 API: ' + signature, stacklevel=2)\n\u001b[0;32m---> 91\u001b[0;31m             \u001b[0;32mreturn\u001b[0m \u001b[0mfunc\u001b[0m\u001b[0;34m(\u001b[0m\u001b[0;34m*\u001b[0m\u001b[0margs\u001b[0m\u001b[0;34m,\u001b[0m \u001b[0;34m**\u001b[0m\u001b[0mkwargs\u001b[0m\u001b[0;34m)\u001b[0m\u001b[0;34m\u001b[0m\u001b[0m\n\u001b[0m\u001b[1;32m     92\u001b[0m         \u001b[0mwrapper\u001b[0m\u001b[0;34m.\u001b[0m\u001b[0m_original_function\u001b[0m \u001b[0;34m=\u001b[0m \u001b[0mfunc\u001b[0m\u001b[0;34m\u001b[0m\u001b[0m\n\u001b[1;32m     93\u001b[0m         \u001b[0;32mreturn\u001b[0m \u001b[0mwrapper\u001b[0m\u001b[0;34m\u001b[0m\u001b[0m\n",
            "\u001b[0;32m/usr/local/lib/python3.6/dist-packages/keras/engine/topology.py\u001b[0m in \u001b[0;36madd_weight\u001b[0;34m(self, name, shape, dtype, initializer, regularizer, trainable, constraint)\u001b[0m\n\u001b[1;32m    411\u001b[0m         \u001b[0;32mif\u001b[0m \u001b[0mdtype\u001b[0m \u001b[0;32mis\u001b[0m \u001b[0;32mNone\u001b[0m\u001b[0;34m:\u001b[0m\u001b[0;34m\u001b[0m\u001b[0m\n\u001b[1;32m    412\u001b[0m             \u001b[0mdtype\u001b[0m \u001b[0;34m=\u001b[0m \u001b[0mK\u001b[0m\u001b[0;34m.\u001b[0m\u001b[0mfloatx\u001b[0m\u001b[0;34m(\u001b[0m\u001b[0;34m)\u001b[0m\u001b[0;34m\u001b[0m\u001b[0m\n\u001b[0;32m--> 413\u001b[0;31m         weight = K.variable(initializer(shape),\n\u001b[0m\u001b[1;32m    414\u001b[0m                             \u001b[0mdtype\u001b[0m\u001b[0;34m=\u001b[0m\u001b[0mdtype\u001b[0m\u001b[0;34m,\u001b[0m\u001b[0;34m\u001b[0m\u001b[0m\n\u001b[1;32m    415\u001b[0m                             \u001b[0mname\u001b[0m\u001b[0;34m=\u001b[0m\u001b[0mname\u001b[0m\u001b[0;34m,\u001b[0m\u001b[0;34m\u001b[0m\u001b[0m\n",
            "\u001b[0;32m/usr/local/lib/python3.6/dist-packages/keras/initializers.py\u001b[0m in \u001b[0;36m__call__\u001b[0;34m(self, shape, dtype)\u001b[0m\n\u001b[1;32m    110\u001b[0m     \u001b[0;32mdef\u001b[0m \u001b[0m__call__\u001b[0m\u001b[0;34m(\u001b[0m\u001b[0mself\u001b[0m\u001b[0;34m,\u001b[0m \u001b[0mshape\u001b[0m\u001b[0;34m,\u001b[0m \u001b[0mdtype\u001b[0m\u001b[0;34m=\u001b[0m\u001b[0;32mNone\u001b[0m\u001b[0;34m)\u001b[0m\u001b[0;34m:\u001b[0m\u001b[0;34m\u001b[0m\u001b[0m\n\u001b[1;32m    111\u001b[0m         return K.random_uniform(shape, self.minval, self.maxval,\n\u001b[0;32m--> 112\u001b[0;31m                                 dtype=dtype, seed=self.seed)\n\u001b[0m\u001b[1;32m    113\u001b[0m \u001b[0;34m\u001b[0m\u001b[0m\n\u001b[1;32m    114\u001b[0m     \u001b[0;32mdef\u001b[0m \u001b[0mget_config\u001b[0m\u001b[0;34m(\u001b[0m\u001b[0mself\u001b[0m\u001b[0;34m)\u001b[0m\u001b[0;34m:\u001b[0m\u001b[0;34m\u001b[0m\u001b[0m\n",
            "\u001b[0;32m/usr/local/lib/python3.6/dist-packages/keras/backend/tensorflow_backend.py\u001b[0m in \u001b[0;36mrandom_uniform\u001b[0;34m(shape, minval, maxval, dtype, seed)\u001b[0m\n\u001b[1;32m   3836\u001b[0m         \u001b[0mseed\u001b[0m \u001b[0;34m=\u001b[0m \u001b[0mnp\u001b[0m\u001b[0;34m.\u001b[0m\u001b[0mrandom\u001b[0m\u001b[0;34m.\u001b[0m\u001b[0mrandint\u001b[0m\u001b[0;34m(\u001b[0m\u001b[0;36m10e6\u001b[0m\u001b[0;34m)\u001b[0m\u001b[0;34m\u001b[0m\u001b[0m\n\u001b[1;32m   3837\u001b[0m     return tf.random_uniform(shape, minval=minval, maxval=maxval,\n\u001b[0;32m-> 3838\u001b[0;31m                              dtype=dtype, seed=seed)\n\u001b[0m\u001b[1;32m   3839\u001b[0m \u001b[0;34m\u001b[0m\u001b[0m\n\u001b[1;32m   3840\u001b[0m \u001b[0;34m\u001b[0m\u001b[0m\n",
            "\u001b[0;32m/usr/local/lib/python3.6/dist-packages/tensorflow/python/ops/random_ops.py\u001b[0m in \u001b[0;36mrandom_uniform\u001b[0;34m(shape, minval, maxval, dtype, seed, name)\u001b[0m\n\u001b[1;32m    232\u001b[0m     \u001b[0mmaxval\u001b[0m \u001b[0;34m=\u001b[0m \u001b[0;36m1\u001b[0m\u001b[0;34m\u001b[0m\u001b[0m\n\u001b[1;32m    233\u001b[0m   \u001b[0;32mwith\u001b[0m \u001b[0mops\u001b[0m\u001b[0;34m.\u001b[0m\u001b[0mname_scope\u001b[0m\u001b[0;34m(\u001b[0m\u001b[0mname\u001b[0m\u001b[0;34m,\u001b[0m \u001b[0;34m\"random_uniform\"\u001b[0m\u001b[0;34m,\u001b[0m \u001b[0;34m[\u001b[0m\u001b[0mshape\u001b[0m\u001b[0;34m,\u001b[0m \u001b[0mminval\u001b[0m\u001b[0;34m,\u001b[0m \u001b[0mmaxval\u001b[0m\u001b[0;34m]\u001b[0m\u001b[0;34m)\u001b[0m \u001b[0;32mas\u001b[0m \u001b[0mname\u001b[0m\u001b[0;34m:\u001b[0m\u001b[0;34m\u001b[0m\u001b[0m\n\u001b[0;32m--> 234\u001b[0;31m     \u001b[0mshape\u001b[0m \u001b[0;34m=\u001b[0m \u001b[0m_ShapeTensor\u001b[0m\u001b[0;34m(\u001b[0m\u001b[0mshape\u001b[0m\u001b[0;34m)\u001b[0m\u001b[0;34m\u001b[0m\u001b[0m\n\u001b[0m\u001b[1;32m    235\u001b[0m     \u001b[0mminval\u001b[0m \u001b[0;34m=\u001b[0m \u001b[0mops\u001b[0m\u001b[0;34m.\u001b[0m\u001b[0mconvert_to_tensor\u001b[0m\u001b[0;34m(\u001b[0m\u001b[0mminval\u001b[0m\u001b[0;34m,\u001b[0m \u001b[0mdtype\u001b[0m\u001b[0;34m=\u001b[0m\u001b[0mdtype\u001b[0m\u001b[0;34m,\u001b[0m \u001b[0mname\u001b[0m\u001b[0;34m=\u001b[0m\u001b[0;34m\"min\"\u001b[0m\u001b[0;34m)\u001b[0m\u001b[0;34m\u001b[0m\u001b[0m\n\u001b[1;32m    236\u001b[0m     \u001b[0mmaxval\u001b[0m \u001b[0;34m=\u001b[0m \u001b[0mops\u001b[0m\u001b[0;34m.\u001b[0m\u001b[0mconvert_to_tensor\u001b[0m\u001b[0;34m(\u001b[0m\u001b[0mmaxval\u001b[0m\u001b[0;34m,\u001b[0m \u001b[0mdtype\u001b[0m\u001b[0;34m=\u001b[0m\u001b[0mdtype\u001b[0m\u001b[0;34m,\u001b[0m \u001b[0mname\u001b[0m\u001b[0;34m=\u001b[0m\u001b[0;34m\"max\"\u001b[0m\u001b[0;34m)\u001b[0m\u001b[0;34m\u001b[0m\u001b[0m\n",
            "\u001b[0;32m/usr/local/lib/python3.6/dist-packages/tensorflow/python/ops/random_ops.py\u001b[0m in \u001b[0;36m_ShapeTensor\u001b[0;34m(shape)\u001b[0m\n\u001b[1;32m     41\u001b[0m   \u001b[0;32melse\u001b[0m\u001b[0;34m:\u001b[0m\u001b[0;34m\u001b[0m\u001b[0m\n\u001b[1;32m     42\u001b[0m     \u001b[0mdtype\u001b[0m \u001b[0;34m=\u001b[0m \u001b[0;32mNone\u001b[0m\u001b[0;34m\u001b[0m\u001b[0m\n\u001b[0;32m---> 43\u001b[0;31m   \u001b[0;32mreturn\u001b[0m \u001b[0mops\u001b[0m\u001b[0;34m.\u001b[0m\u001b[0mconvert_to_tensor\u001b[0m\u001b[0;34m(\u001b[0m\u001b[0mshape\u001b[0m\u001b[0;34m,\u001b[0m \u001b[0mdtype\u001b[0m\u001b[0;34m=\u001b[0m\u001b[0mdtype\u001b[0m\u001b[0;34m,\u001b[0m \u001b[0mname\u001b[0m\u001b[0;34m=\u001b[0m\u001b[0;34m\"shape\"\u001b[0m\u001b[0;34m)\u001b[0m\u001b[0;34m\u001b[0m\u001b[0m\n\u001b[0m\u001b[1;32m     44\u001b[0m \u001b[0;34m\u001b[0m\u001b[0m\n\u001b[1;32m     45\u001b[0m \u001b[0;34m\u001b[0m\u001b[0m\n",
            "\u001b[0;32m/usr/local/lib/python3.6/dist-packages/tensorflow/python/framework/ops.py\u001b[0m in \u001b[0;36mconvert_to_tensor\u001b[0;34m(value, dtype, name, preferred_dtype)\u001b[0m\n\u001b[1;32m    996\u001b[0m       \u001b[0mname\u001b[0m\u001b[0;34m=\u001b[0m\u001b[0mname\u001b[0m\u001b[0;34m,\u001b[0m\u001b[0;34m\u001b[0m\u001b[0m\n\u001b[1;32m    997\u001b[0m       \u001b[0mpreferred_dtype\u001b[0m\u001b[0;34m=\u001b[0m\u001b[0mpreferred_dtype\u001b[0m\u001b[0;34m,\u001b[0m\u001b[0;34m\u001b[0m\u001b[0m\n\u001b[0;32m--> 998\u001b[0;31m       as_ref=False)\n\u001b[0m\u001b[1;32m    999\u001b[0m \u001b[0;34m\u001b[0m\u001b[0m\n\u001b[1;32m   1000\u001b[0m \u001b[0;34m\u001b[0m\u001b[0m\n",
            "\u001b[0;32m/usr/local/lib/python3.6/dist-packages/tensorflow/python/framework/ops.py\u001b[0m in \u001b[0;36minternal_convert_to_tensor\u001b[0;34m(value, dtype, name, as_ref, preferred_dtype, ctx)\u001b[0m\n\u001b[1;32m   1092\u001b[0m \u001b[0;34m\u001b[0m\u001b[0m\n\u001b[1;32m   1093\u001b[0m     \u001b[0;32mif\u001b[0m \u001b[0mret\u001b[0m \u001b[0;32mis\u001b[0m \u001b[0;32mNone\u001b[0m\u001b[0;34m:\u001b[0m\u001b[0;34m\u001b[0m\u001b[0m\n\u001b[0;32m-> 1094\u001b[0;31m       \u001b[0mret\u001b[0m \u001b[0;34m=\u001b[0m \u001b[0mconversion_func\u001b[0m\u001b[0;34m(\u001b[0m\u001b[0mvalue\u001b[0m\u001b[0;34m,\u001b[0m \u001b[0mdtype\u001b[0m\u001b[0;34m=\u001b[0m\u001b[0mdtype\u001b[0m\u001b[0;34m,\u001b[0m \u001b[0mname\u001b[0m\u001b[0;34m=\u001b[0m\u001b[0mname\u001b[0m\u001b[0;34m,\u001b[0m \u001b[0mas_ref\u001b[0m\u001b[0;34m=\u001b[0m\u001b[0mas_ref\u001b[0m\u001b[0;34m)\u001b[0m\u001b[0;34m\u001b[0m\u001b[0m\n\u001b[0m\u001b[1;32m   1095\u001b[0m \u001b[0;34m\u001b[0m\u001b[0m\n\u001b[1;32m   1096\u001b[0m     \u001b[0;32mif\u001b[0m \u001b[0mret\u001b[0m \u001b[0;32mis\u001b[0m \u001b[0mNotImplemented\u001b[0m\u001b[0;34m:\u001b[0m\u001b[0;34m\u001b[0m\u001b[0m\n",
            "\u001b[0;32m/usr/local/lib/python3.6/dist-packages/tensorflow/python/framework/constant_op.py\u001b[0m in \u001b[0;36m_constant_tensor_conversion_function\u001b[0;34m(v, dtype, name, as_ref)\u001b[0m\n\u001b[1;32m    215\u001b[0m                                          as_ref=False):\n\u001b[1;32m    216\u001b[0m   \u001b[0m_\u001b[0m \u001b[0;34m=\u001b[0m \u001b[0mas_ref\u001b[0m\u001b[0;34m\u001b[0m\u001b[0m\n\u001b[0;32m--> 217\u001b[0;31m   \u001b[0;32mreturn\u001b[0m \u001b[0mconstant\u001b[0m\u001b[0;34m(\u001b[0m\u001b[0mv\u001b[0m\u001b[0;34m,\u001b[0m \u001b[0mdtype\u001b[0m\u001b[0;34m=\u001b[0m\u001b[0mdtype\u001b[0m\u001b[0;34m,\u001b[0m \u001b[0mname\u001b[0m\u001b[0;34m=\u001b[0m\u001b[0mname\u001b[0m\u001b[0;34m)\u001b[0m\u001b[0;34m\u001b[0m\u001b[0m\n\u001b[0m\u001b[1;32m    218\u001b[0m \u001b[0;34m\u001b[0m\u001b[0m\n\u001b[1;32m    219\u001b[0m \u001b[0;34m\u001b[0m\u001b[0m\n",
            "\u001b[0;32m/usr/local/lib/python3.6/dist-packages/tensorflow/python/framework/constant_op.py\u001b[0m in \u001b[0;36mconstant\u001b[0;34m(value, dtype, shape, name, verify_shape)\u001b[0m\n\u001b[1;32m    194\u001b[0m   tensor_value.tensor.CopyFrom(\n\u001b[1;32m    195\u001b[0m       tensor_util.make_tensor_proto(\n\u001b[0;32m--> 196\u001b[0;31m           value, dtype=dtype, shape=shape, verify_shape=verify_shape))\n\u001b[0m\u001b[1;32m    197\u001b[0m   \u001b[0mdtype_value\u001b[0m \u001b[0;34m=\u001b[0m \u001b[0mattr_value_pb2\u001b[0m\u001b[0;34m.\u001b[0m\u001b[0mAttrValue\u001b[0m\u001b[0;34m(\u001b[0m\u001b[0mtype\u001b[0m\u001b[0;34m=\u001b[0m\u001b[0mtensor_value\u001b[0m\u001b[0;34m.\u001b[0m\u001b[0mtensor\u001b[0m\u001b[0;34m.\u001b[0m\u001b[0mdtype\u001b[0m\u001b[0;34m)\u001b[0m\u001b[0;34m\u001b[0m\u001b[0m\n\u001b[1;32m    198\u001b[0m   const_tensor = g.create_op(\n",
            "\u001b[0;32m/usr/local/lib/python3.6/dist-packages/tensorflow/python/framework/tensor_util.py\u001b[0m in \u001b[0;36mmake_tensor_proto\u001b[0;34m(values, dtype, shape, verify_shape)\u001b[0m\n\u001b[1;32m    435\u001b[0m     \u001b[0;32melse\u001b[0m\u001b[0;34m:\u001b[0m\u001b[0;34m\u001b[0m\u001b[0m\n\u001b[1;32m    436\u001b[0m       \u001b[0m_AssertCompatible\u001b[0m\u001b[0;34m(\u001b[0m\u001b[0mvalues\u001b[0m\u001b[0;34m,\u001b[0m \u001b[0mdtype\u001b[0m\u001b[0;34m)\u001b[0m\u001b[0;34m\u001b[0m\u001b[0m\n\u001b[0;32m--> 437\u001b[0;31m       \u001b[0mnparray\u001b[0m \u001b[0;34m=\u001b[0m \u001b[0mnp\u001b[0m\u001b[0;34m.\u001b[0m\u001b[0marray\u001b[0m\u001b[0;34m(\u001b[0m\u001b[0mvalues\u001b[0m\u001b[0;34m,\u001b[0m \u001b[0mdtype\u001b[0m\u001b[0;34m=\u001b[0m\u001b[0mnp_dt\u001b[0m\u001b[0;34m)\u001b[0m\u001b[0;34m\u001b[0m\u001b[0m\n\u001b[0m\u001b[1;32m    438\u001b[0m       \u001b[0;31m# check to them.\u001b[0m\u001b[0;34m\u001b[0m\u001b[0;34m\u001b[0m\u001b[0m\n\u001b[1;32m    439\u001b[0m       \u001b[0;31m# We need to pass in quantized values as tuples, so don't apply the shape\u001b[0m\u001b[0;34m\u001b[0m\u001b[0;34m\u001b[0m\u001b[0m\n",
            "\u001b[0;31mValueError\u001b[0m: setting an array element with a sequence."
          ]
        }
      ]
    },
    {
      "cell_type": "code",
      "metadata": {
        "id": "PRn0boTxWVVT",
        "colab_type": "code",
        "colab": {}
      },
      "source": [
        ""
      ],
      "execution_count": 0,
      "outputs": []
    }
  ]
}