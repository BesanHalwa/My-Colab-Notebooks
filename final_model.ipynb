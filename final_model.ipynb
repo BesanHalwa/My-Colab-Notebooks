{
  "nbformat": 4,
  "nbformat_minor": 0,
  "metadata": {
    "colab": {
      "name": "final_model.ipynb",
      "version": "0.3.2",
      "provenance": []
    },
    "kernelspec": {
      "display_name": "Python 3",
      "language": "python",
      "name": "python3"
    },
    "accelerator": "GPU"
  },
  "cells": [
    {
      "cell_type": "code",
      "metadata": {
        "id": "zcb5M0X-WaQ8",
        "colab_type": "code",
        "outputId": "228f9c92-d1d5-46ee-8c98-9bbd2e0022e5",
        "colab": {
          "base_uri": "https://localhost:8080/",
          "height": 2366
        }
      },
      "source": [
        "!apt-get install -y -qq software-properties-common python-software-properties module-init-tools\n",
        "!add-apt-repository -y ppa:alessandro-strada/ppa 2>&1 > /dev/null\n",
        "!apt-get update -qq 2>&1 > /dev/null\n",
        "!apt-get -y install -qq google-drive-ocamlfuse fuse\n",
        "from google.colab import auth\n",
        "auth.authenticate_user()\n",
        "from oauth2client.client import GoogleCredentials\n",
        "creds = GoogleCredentials.get_application_default()\n",
        "import getpass\n",
        "!google-drive-ocamlfuse -headless -id={creds.client_id} -secret={creds.client_secret} < /dev/null 2>&1 | grep URL\n",
        "vcode = getpass.getpass()\n",
        "!echo {vcode} | google-drive-ocamlfuse -headless -id={creds.client_id} -secret={creds.client_secret}\n",
        "\n",
        "\n"
      ],
      "execution_count": 0,
      "outputs": [
        {
          "output_type": "stream",
          "text": [
            "Preconfiguring packages ...\n",
            "Selecting previously unselected package cron.\n",
            "(Reading database ... 18408 files and directories currently installed.)\n",
            "Preparing to unpack .../00-cron_3.0pl1-128ubuntu5_amd64.deb ...\n",
            "Unpacking cron (3.0pl1-128ubuntu5) ...\n",
            "Selecting previously unselected package libapparmor1:amd64.\n",
            "Preparing to unpack .../01-libapparmor1_2.11.0-2ubuntu17.1_amd64.deb ...\n",
            "Unpacking libapparmor1:amd64 (2.11.0-2ubuntu17.1) ...\n",
            "Selecting previously unselected package libdbus-1-3:amd64.\n",
            "Preparing to unpack .../02-libdbus-1-3_1.10.22-1ubuntu1_amd64.deb ...\n",
            "Unpacking libdbus-1-3:amd64 (1.10.22-1ubuntu1) ...\n",
            "Selecting previously unselected package dbus.\n",
            "Preparing to unpack .../03-dbus_1.10.22-1ubuntu1_amd64.deb ...\n",
            "Unpacking dbus (1.10.22-1ubuntu1) ...\n",
            "Selecting previously unselected package dirmngr.\n",
            "Preparing to unpack .../04-dirmngr_2.1.15-1ubuntu8.1_amd64.deb ...\n",
            "Unpacking dirmngr (2.1.15-1ubuntu8.1) ...\n",
            "Selecting previously unselected package distro-info-data.\n",
            "Preparing to unpack .../05-distro-info-data_0.36ubuntu0.2_all.deb ...\n",
            "Unpacking distro-info-data (0.36ubuntu0.2) ...\n",
            "Selecting previously unselected package libkmod2:amd64.\n",
            "Preparing to unpack .../06-libkmod2_24-1ubuntu2_amd64.deb ...\n",
            "Unpacking libkmod2:amd64 (24-1ubuntu2) ...\n",
            "Selecting previously unselected package kmod.\n",
            "Preparing to unpack .../07-kmod_24-1ubuntu2_amd64.deb ...\n",
            "Unpacking kmod (24-1ubuntu2) ...\n",
            "Selecting previously unselected package lsb-release.\n",
            "Preparing to unpack .../08-lsb-release_9.20160110ubuntu5_all.deb ...\n",
            "Unpacking lsb-release (9.20160110ubuntu5) ...\n",
            "Selecting previously unselected package libgirepository-1.0-1:amd64.\n",
            "Preparing to unpack .../09-libgirepository-1.0-1_1.54.1-1_amd64.deb ...\n",
            "Unpacking libgirepository-1.0-1:amd64 (1.54.1-1) ...\n",
            "Selecting previously unselected package gir1.2-glib-2.0:amd64.\n",
            "Preparing to unpack .../10-gir1.2-glib-2.0_1.54.1-1_amd64.deb ...\n",
            "Unpacking gir1.2-glib-2.0:amd64 (1.54.1-1) ...\n",
            "Selecting previously unselected package iso-codes.\n",
            "Preparing to unpack .../11-iso-codes_3.75-1_all.deb ...\n",
            "Unpacking iso-codes (3.75-1) ...\n",
            "Selecting previously unselected package libdbus-glib-1-2:amd64.\n",
            "Preparing to unpack .../12-libdbus-glib-1-2_0.108-2_amd64.deb ...\n",
            "Unpacking libdbus-glib-1-2:amd64 (0.108-2) ...\n",
            "Selecting previously unselected package python-apt-common.\n",
            "Preparing to unpack .../13-python-apt-common_1.4.0~beta3build2_all.deb ...\n",
            "Unpacking python-apt-common (1.4.0~beta3build2) ...\n",
            "Selecting previously unselected package python3-apt.\n",
            "Preparing to unpack .../14-python3-apt_1.4.0~beta3build2_amd64.deb ...\n",
            "Unpacking python3-apt (1.4.0~beta3build2) ...\n",
            "Selecting previously unselected package python3-dbus.\n",
            "Preparing to unpack .../15-python3-dbus_1.2.4-1build3_amd64.deb ...\n",
            "Unpacking python3-dbus (1.2.4-1build3) ...\n",
            "Selecting previously unselected package python3-gi.\n",
            "Preparing to unpack .../16-python3-gi_3.24.1-2build1_amd64.deb ...\n",
            "Unpacking python3-gi (3.24.1-2build1) ...\n",
            "Selecting previously unselected package module-init-tools.\n",
            "Preparing to unpack .../17-module-init-tools_24-1ubuntu2_all.deb ...\n",
            "Unpacking module-init-tools (24-1ubuntu2) ...\n",
            "Selecting previously unselected package python-apt.\n",
            "Preparing to unpack .../18-python-apt_1.4.0~beta3build2_amd64.deb ...\n",
            "Unpacking python-apt (1.4.0~beta3build2) ...\n",
            "Selecting previously unselected package python-pycurl.\n",
            "Preparing to unpack .../19-python-pycurl_7.43.0-2build2_amd64.deb ...\n",
            "Unpacking python-pycurl (7.43.0-2build2) ...\n",
            "Selecting previously unselected package python-software-properties.\n",
            "Preparing to unpack .../20-python-software-properties_0.96.24.17_all.deb ...\n",
            "Unpacking python-software-properties (0.96.24.17) ...\n",
            "Selecting previously unselected package python3-software-properties.\n",
            "Preparing to unpack .../21-python3-software-properties_0.96.24.17_all.deb ...\n",
            "Unpacking python3-software-properties (0.96.24.17) ...\n",
            "Selecting previously unselected package software-properties-common.\n",
            "Preparing to unpack .../22-software-properties-common_0.96.24.17_all.deb ...\n",
            "Unpacking software-properties-common (0.96.24.17) ...\n",
            "Selecting previously unselected package unattended-upgrades.\n",
            "Preparing to unpack .../23-unattended-upgrades_0.98ubuntu1.1_all.deb ...\n",
            "Unpacking unattended-upgrades (0.98ubuntu1.1) ...\n",
            "Setting up python-apt-common (1.4.0~beta3build2) ...\n",
            "Setting up python3-apt (1.4.0~beta3build2) ...\n",
            "Setting up iso-codes (3.75-1) ...\n",
            "Setting up distro-info-data (0.36ubuntu0.2) ...\n",
            "Setting up python-pycurl (7.43.0-2build2) ...\n",
            "Setting up lsb-release (9.20160110ubuntu5) ...\n",
            "Setting up libgirepository-1.0-1:amd64 (1.54.1-1) ...\n",
            "Setting up libkmod2:amd64 (24-1ubuntu2) ...\n",
            "Setting up gir1.2-glib-2.0:amd64 (1.54.1-1) ...\n",
            "Processing triggers for libc-bin (2.26-0ubuntu2.1) ...\n",
            "Setting up libapparmor1:amd64 (2.11.0-2ubuntu17.1) ...\n",
            "Setting up unattended-upgrades (0.98ubuntu1.1) ...\n",
            "\n",
            "Creating config file /etc/apt/apt.conf.d/20auto-upgrades with new version\n",
            "\n",
            "Creating config file /etc/apt/apt.conf.d/50unattended-upgrades with new version\n",
            "invoke-rc.d: could not determine current runlevel\n",
            "invoke-rc.d: policy-rc.d denied execution of start.\n",
            "Setting up dirmngr (2.1.15-1ubuntu8.1) ...\n",
            "Setting up cron (3.0pl1-128ubuntu5) ...\n",
            "Adding group `crontab' (GID 102) ...\n",
            "Done.\n",
            "update-rc.d: warning: start and stop actions are no longer supported; falling back to defaults\n",
            "update-rc.d: warning: stop runlevel arguments (1) do not match cron Default-Stop values (none)\n",
            "invoke-rc.d: could not determine current runlevel\n",
            "invoke-rc.d: policy-rc.d denied execution of start.\n",
            "Setting up libdbus-1-3:amd64 (1.10.22-1ubuntu1) ...\n",
            "Setting up kmod (24-1ubuntu2) ...\n",
            "Setting up libdbus-glib-1-2:amd64 (0.108-2) ...\n",
            "Setting up python3-gi (3.24.1-2build1) ...\n",
            "Setting up module-init-tools (24-1ubuntu2) ...\n",
            "Setting up python3-software-properties (0.96.24.17) ...\n",
            "Setting up dbus (1.10.22-1ubuntu1) ...\n",
            "Setting up python-apt (1.4.0~beta3build2) ...\n",
            "Setting up python3-dbus (1.2.4-1build3) ...\n",
            "Setting up python-software-properties (0.96.24.17) ...\n",
            "Setting up software-properties-common (0.96.24.17) ...\n",
            "Processing triggers for libc-bin (2.26-0ubuntu2.1) ...\n",
            "Processing triggers for dbus (1.10.22-1ubuntu1) ...\n",
            "gpg: keybox '/tmp/tmp_smv_rk1/pubring.gpg' created\n",
            "gpg: /tmp/tmp_smv_rk1/trustdb.gpg: trustdb created\n",
            "gpg: key AD5F235DF639B041: public key \"Launchpad PPA for Alessandro Strada\" imported\n",
            "gpg: Total number processed: 1\n",
            "gpg:               imported: 1\n",
            "Warning: apt-key output should not be parsed (stdout is not a terminal)\n",
            "Selecting previously unselected package libfuse2:amd64.\n",
            "(Reading database ... 19816 files and directories currently installed.)\n",
            "Preparing to unpack .../libfuse2_2.9.7-1ubuntu1_amd64.deb ...\n",
            "Unpacking libfuse2:amd64 (2.9.7-1ubuntu1) ...\n",
            "Selecting previously unselected package fuse.\n",
            "Preparing to unpack .../fuse_2.9.7-1ubuntu1_amd64.deb ...\n",
            "Unpacking fuse (2.9.7-1ubuntu1) ...\n",
            "Selecting previously unselected package google-drive-ocamlfuse.\n",
            "Preparing to unpack .../google-drive-ocamlfuse_0.6.21-0ubuntu2_amd64.deb ...\n",
            "Unpacking google-drive-ocamlfuse (0.6.21-0ubuntu2) ...\n",
            "Setting up libfuse2:amd64 (2.9.7-1ubuntu1) ...\n",
            "Processing triggers for libc-bin (2.26-0ubuntu2.1) ...\n",
            "Setting up fuse (2.9.7-1ubuntu1) ...\n",
            "Setting up google-drive-ocamlfuse (0.6.21-0ubuntu2) ...\n",
            "Please, open the following URL in a web browser: https://accounts.google.com/o/oauth2/auth?client_id=32555940559.apps.googleusercontent.com&redirect_uri=urn%3Aietf%3Awg%3Aoauth%3A2.0%3Aoob&scope=https%3A%2F%2Fwww.googleapis.com%2Fauth%2Fdrive&response_type=code&access_type=offline&approval_prompt=force\n",
            "··········\n",
            "Please, open the following URL in a web browser: https://accounts.google.com/o/oauth2/auth?client_id=32555940559.apps.googleusercontent.com&redirect_uri=urn%3Aietf%3Awg%3Aoauth%3A2.0%3Aoob&scope=https%3A%2F%2Fwww.googleapis.com%2Fauth%2Fdrive&response_type=code&access_type=offline&approval_prompt=force\n",
            "Please enter the verification code: Access token retrieved correctly.\n"
          ],
          "name": "stdout"
        }
      ]
    },
    {
      "cell_type": "code",
      "metadata": {
        "id": "J4Z3XVSPXQyC",
        "colab_type": "code",
        "outputId": "39483df5-9cd5-49e6-9756-5873a0ebb9f8",
        "colab": {
          "base_uri": "https://localhost:8080/",
          "height": 51
        }
      },
      "source": [
        "!mkdir -p drive\n",
        "!google-drive-ocamlfuse drive"
      ],
      "execution_count": 0,
      "outputs": [
        {
          "output_type": "stream",
          "text": [
            "fuse: mountpoint is not empty\r\n",
            "fuse: if you are sure this is safe, use the 'nonempty' mount option\r\n"
          ],
          "name": "stdout"
        }
      ]
    },
    {
      "cell_type": "code",
      "metadata": {
        "id": "GR5lmrt2XIAN",
        "colab_type": "code",
        "outputId": "686f6602-f295-46a5-9e3a-b0dd81394cd4",
        "colab": {
          "base_uri": "https://localhost:8080/",
          "height": 34
        }
      },
      "source": [
        "cd drive/project_data/final_pascal_npy_datas"
      ],
      "execution_count": 0,
      "outputs": [
        {
          "output_type": "stream",
          "text": [
            "/content/drive/project_data/final_pascal_npy_datas\n"
          ],
          "name": "stdout"
        }
      ]
    },
    {
      "cell_type": "code",
      "metadata": {
        "id": "H9N-rZPycbnK",
        "colab_type": "code",
        "outputId": "a5fca061-d1e1-475a-a393-86982aa646a2",
        "colab": {
          "base_uri": "https://localhost:8080/",
          "height": 34
        }
      },
      "source": [
        "pwd"
      ],
      "execution_count": 0,
      "outputs": [
        {
          "output_type": "execute_result",
          "data": {
            "text/plain": [
              "'/content/drive/project_data/final_pascal_npy_datas'"
            ]
          },
          "metadata": {
            "tags": []
          },
          "execution_count": 4
        }
      ]
    },
    {
      "cell_type": "code",
      "metadata": {
        "id": "YLjePUuYWVba",
        "colab_type": "code",
        "outputId": "2c1f9452-719b-491c-8925-4646eb2568e3",
        "colab": {
          "base_uri": "https://localhost:8080/",
          "height": 34
        }
      },
      "source": [
        "import keras\n",
        "from keras.models import Sequential,load_model\n",
        "from keras import layers, Model,Input\n",
        "from keras.layers.normalization import BatchNormalization\n",
        "from keras import optimizers\n",
        "import numpy as np\n",
        "import tensorflow as tf\n",
        "from keras.optimizers import Adam\n",
        "from keras import backend as K\n",
        "from keras.layers.merge import concatenate\n",
        "from keras.layers.advanced_activations import LeakyReLU\n",
        "from keras.preprocessing import image"
      ],
      "execution_count": 0,
      "outputs": [
        {
          "output_type": "stream",
          "text": [
            "Using TensorFlow backend.\n"
          ],
          "name": "stderr"
        }
      ]
    },
    {
      "cell_type": "code",
      "metadata": {
        "id": "Mn6T9LIxWVbo",
        "colab_type": "code",
        "colab": {}
      },
      "source": [
        "boxes = 3\n",
        "classes = 20\n",
        "true_boxes  = Input(shape=(9,9,3,4))"
      ],
      "execution_count": 0,
      "outputs": []
    },
    {
      "cell_type": "code",
      "metadata": {
        "id": "jRq9i0LrWVbx",
        "colab_type": "code",
        "colab": {}
      },
      "source": [
        "img_input = Input(shape=(300, 300, 3))\n",
        "\n",
        "# VGG-16\n",
        "x = layers.Conv2D(64, (3, 3),\n",
        "                  activation='relu',\n",
        "                  padding='same',\n",
        "                  name='block1_conv1',\n",
        "                  trainable=False)(img_input)\n",
        "x = layers.Conv2D(64, (3, 3),\n",
        "                  activation='relu',\n",
        "                  padding='same',\n",
        "                  name='block1_conv2',\n",
        "                  trainable=False)(x)\n",
        "x = layers.MaxPooling2D((2, 2), strides=(2, 2), name='block1_pool')(x)\n",
        "\n",
        "# Block 2\n",
        "x = layers.Conv2D(128, (3, 3),\n",
        "                  activation='relu',\n",
        "                  padding='same',\n",
        "                  name='block2_conv1',\n",
        "                  trainable=False)(x)\n",
        "x = layers.Conv2D(128, (3, 3),\n",
        "                  activation='relu',\n",
        "                  padding='same',\n",
        "                  name='block2_conv2',\n",
        "                  trainable=False)(x)\n",
        "x = layers.MaxPooling2D((2, 2), strides=(2, 2), name='block2_pool')(x)\n",
        "\n",
        "# Block 3\n",
        "x = layers.Conv2D(256, (3, 3),\n",
        "                  activation='relu',\n",
        "                  padding='same',\n",
        "                  name='block3_conv1',\n",
        "                  trainable=False)(x)\n",
        "x = layers.Conv2D(256, (3, 3),\n",
        "                  activation='relu',\n",
        "                  padding='same',\n",
        "                  name='block3_conv2',\n",
        "                  trainable=False)(x)\n",
        "x = layers.Conv2D(256, (3, 3),\n",
        "                  activation='relu',\n",
        "                  padding='same',\n",
        "                  name='block3_conv3',\n",
        "                  trainable=False)(x)\n",
        "x = layers.MaxPooling2D((2, 2), strides=(2, 2), name='block3_pool')(x)\n",
        "\n",
        "# Block 4\n",
        "x = layers.Conv2D(512, (3, 3),\n",
        "                  activation='relu',\n",
        "                  padding='same',\n",
        "                  name='block4_conv1',\n",
        "                  trainable=False)(x)\n",
        "x = layers.Conv2D(512, (3, 3),\n",
        "                  activation='relu',\n",
        "                  padding='same',\n",
        "                  name='block4_conv2',\n",
        "                  trainable=False)(x)\n",
        "x = layers.Conv2D(512, (3, 3),\n",
        "                  activation='relu',\n",
        "                  padding='same',\n",
        "                  name='block4_conv3',\n",
        "                  trainable=False)(x)\n",
        "x = layers.MaxPooling2D((2, 2), strides=(2, 2), name='block4_pool')(x)\n",
        "\n",
        "# Block 5\n",
        "x = layers.Conv2D(512, (3, 3),\n",
        "                  activation='relu',\n",
        "                  padding='same',\n",
        "                  name='block5_conv1',\n",
        "                  trainable=False)(x)\n",
        "x = layers.Conv2D(512, (3, 3),\n",
        "                  activation='relu',\n",
        "                  padding='same',\n",
        "                  name='block5_conv2',\n",
        "                  trainable=False)(x)\n",
        "x = layers.Conv2D(512, (3, 3),\n",
        "                  activation='relu',\n",
        "                  padding='same',\n",
        "                  name='block5_conv3',\n",
        "                  trainable=False)(x)\n",
        "classifier_output = layers.MaxPooling2D((2, 2), strides=(2, 2), name='block5_pool')(x)\n",
        "# VGG-Output\n",
        "#skip connection\n",
        "bypass = classifier_output\n",
        "\n",
        "#detector block 1\n",
        "output = layers.Conv2D(512, (1, 1),\n",
        "                  activation='relu',\n",
        "                  padding='same',\n",
        "                  name='detector_block_1_1')(classifier_output)\n",
        "output = layers.Conv2D(512, (1, 1),\n",
        "                  activation='relu',\n",
        "                  padding='same',\n",
        "                  name='detector_block_1_2')(output)\n",
        "#Merging\n",
        "output = concatenate([bypass,output])\n",
        "#detector block 2\n",
        "output = layers.Conv2D(512, (2, 2),\n",
        "                  activation='relu',\n",
        "                  padding='same',\n",
        "                  name='detector_block_2_1')(output)\n",
        "output = layers.Conv2D(256, (2, 2),\n",
        "                  activation='relu',\n",
        "                  padding='same',\n",
        "                  name='detector_block_2_2')(output)\n",
        "\n",
        "## Comment the class= 0 for classification along with detection\n",
        "\n",
        "classes = 0\n",
        "output = BatchNormalization(name='detector_block_2_norm')(output)\n",
        "output = LeakyReLU(alpha=0.1)(output)\n",
        "output = layers.Conv2D(boxes * (4 + 1 + classes),(1,1),\n",
        "                padding='same',\n",
        "                name='detector_block_2_3')(output)\n",
        "output = layers.Reshape((9, 9, boxes, 4 + 1 + classes))(output)\n",
        "\n",
        "output = layers.Lambda(lambda args: args[0])([output, true_boxes])\n",
        "\n",
        "output = layers.Dense(5,name = \"Fc_after_1\")(output)\n",
        "\n",
        "output = layers.Reshape((9, 9, 15))(output)\n",
        "\n",
        "output = layers.Dense(5,name = \"Fc_after_2\")(output)\n",
        "\n",
        "model = Model([img_input, true_boxes], output)"
      ],
      "execution_count": 0,
      "outputs": []
    },
    {
      "cell_type": "code",
      "metadata": {
        "id": "R9OIxJgEWVb4",
        "colab_type": "code",
        "colab": {}
      },
      "source": [
        "def custom_loss(y_true,y_pred):\n",
        "    loss = tf.reduce_mean(y_true[0,:,0:,0:1]*tf.squared_difference(y_true[0,:,0:,1:5],y_pred[0,:,0:,1:5]))\n",
        "    conf_loss = tf.reduce_mean(tf.squared_difference(y_true[0,:,0:,0:1],y_pred[0,:,0:,0:1]))\n",
        "    return loss+conf_loss\n",
        "# def custom_acc(y_true,y_pred):\n",
        "#     loss = y_true[0,:,0:,0:1]*tf.squared_difference(y_true[0,:,0:,1:5],y_pred[0,:,0:,1:5])\n",
        "#     conf_loss = tf.squared_difference(y_true[0,:,0:,0:1],y_pred[0,:,0:,0:1])\n",
        "    \n",
        "    \n",
        "#model = Model([img_input, true_boxes], output)"
      ],
      "execution_count": 0,
      "outputs": []
    },
    {
      "cell_type": "code",
      "metadata": {
        "id": "cTqts20uWVb6",
        "colab_type": "code",
        "colab": {}
      },
      "source": [
        "model.load_weights('classifier_weights.h5',by_name=True)\n",
        "optimizer = Adam(lr=0.5e-4, beta_1=0.9, beta_2=0.999, epsilon=1e-08, decay=0.0)\n",
        "model.compile(loss=custom_loss, optimizer=optimizer,metrics=['accuracy'])"
      ],
      "execution_count": 0,
      "outputs": []
    },
    {
      "cell_type": "code",
      "metadata": {
        "id": "uXMw-EgLX4Bj",
        "colab_type": "code",
        "colab": {}
      },
      "source": [
        "#model.summary()"
      ],
      "execution_count": 0,
      "outputs": []
    },
    {
      "cell_type": "code",
      "metadata": {
        "id": "V7PhnTd2WVb8",
        "colab_type": "code",
        "colab": {}
      },
      "source": [
        "#loading data\n",
        "X = np.load('X/2007_test.npy')\n",
        "Y = np.load('Y/2007_test_labels.npy')\n",
        "box_ = np.load('default_all_boxes_new.npy')"
      ],
      "execution_count": 0,
      "outputs": []
    },
    {
      "cell_type": "code",
      "metadata": {
        "id": "7cy13rHIWVb_",
        "colab_type": "code",
        "colab": {}
      },
      "source": [
        "def bxx(box,sh):\n",
        "    boxx = np.zeros(shape=(sh,9,9,3,4))\n",
        "    for i in range(sh):\n",
        "        boxx[i]=box\n",
        "    return boxx\n",
        "    "
      ],
      "execution_count": 0,
      "outputs": []
    },
    {
      "cell_type": "code",
      "metadata": {
        "id": "pfM-oyz0WVcF",
        "colab_type": "code",
        "colab": {}
      },
      "source": [
        "train_X = X[0:4500]\n",
        "train_Y = Y[0:4500]\n",
        "test_X = X[4500:]\n",
        "test_Y = Y[4500:]\n",
        "box_train = bxx(box_,train_X.shape[0])\n",
        "box_test = bxx(box_,test_X.shape[0])"
      ],
      "execution_count": 0,
      "outputs": []
    },
    {
      "cell_type": "code",
      "metadata": {
        "id": "Yt0hHSv8WVcI",
        "colab_type": "code",
        "outputId": "974dcc52-c7bb-4e68-c07c-717ece6ca261",
        "colab": {
          "base_uri": "https://localhost:8080/",
          "height": 119
        }
      },
      "source": [
        "print(\"train x: \",train_X.shape)\n",
        "print(\"train y: \",train_Y.shape)\n",
        "print(\"test x: \",test_X.shape)\n",
        "print(\"test y: \",test_Y.shape)\n",
        "print(\"boxes train: \",box_train.shape)\n",
        "print(\"boxes test: \",box_test.shape)"
      ],
      "execution_count": 0,
      "outputs": [
        {
          "output_type": "stream",
          "text": [
            "train x:  (4500, 300, 300, 3)\n",
            "train y:  (4500, 9, 9, 5)\n",
            "test x:  (452, 300, 300, 3)\n",
            "test y:  (452, 9, 9, 5)\n",
            "boxes train:  (4500, 9, 9, 3, 4)\n",
            "boxes test:  (452, 9, 9, 3, 4)\n"
          ],
          "name": "stdout"
        }
      ]
    },
    {
      "cell_type": "code",
      "metadata": {
        "id": "d1YPKOx_fpom",
        "colab_type": "code",
        "colab": {}
      },
      "source": [
        "history0 = model.fit([train_X,box_train],\n",
        "                      train_Y,\n",
        "                      batch_size=1,\n",
        "                      epochs=1,\n",
        "                      validation_data=([test_X,box_test],test_Y),\n",
        "                      verbose=1)"
      ],
      "execution_count": 0,
      "outputs": []
    },
    {
      "cell_type": "code",
      "metadata": {
        "id": "7ij0Se4oWVcL",
        "colab_type": "code",
        "outputId": "b28597eb-f92d-4358-e32c-b277f8d26f43",
        "colab": {
          "base_uri": "https://localhost:8080/",
          "height": 238
        }
      },
      "source": [
        "#model.fit([train_X,box_],train_Y,epochs=5,validation_data=([test_X,box_],test_Y),verbose=1)\n",
        "\n",
        "history1 = model.fit([train_X,box_train],\n",
        "                      train_Y,\n",
        "                      batch_size=16,\n",
        "                      epochs=10,\n",
        "                      validation_data=([test_X,box_test],test_Y),\n",
        "                      verbose=1)"
      ],
      "execution_count": 0,
      "outputs": [
        {
          "output_type": "stream",
          "text": [
            "Train on 4500 samples, validate on 452 samples\n",
            "Epoch 1/10\n",
            "4500/4500 [==============================] - 101s 22ms/step - loss: 668.3646 - acc: 0.1138 - val_loss: 685.0265 - val_acc: 0.2097\n",
            "Epoch 2/10\n",
            "4500/4500 [==============================] - 100s 22ms/step - loss: 614.2833 - acc: 0.2076 - val_loss: 626.9009 - val_acc: 0.2748\n",
            "Epoch 3/10\n",
            "4500/4500 [==============================] - 100s 22ms/step - loss: 599.7597 - acc: 0.3583 - val_loss: 512.0421 - val_acc: 0.2982\n",
            "Epoch 4/10\n",
            "4500/4500 [==============================] - 100s 22ms/step - loss: 521.4988 - acc: 0.4571 - val_loss: 517.5743 - val_acc: 0.4768\n",
            "Epoch 5/10\n",
            "4500/4500 [==============================] - 100s 22ms/step - loss: 446.1575 - acc: 0.5001 - val_loss: 453.6654 - val_acc: 0.4834\n",
            "Epoch 6/10\n",
            " 304/4500 [=>............................] - ETA: 1:25 - loss: 400.5648 - acc: 0.4996"
          ],
          "name": "stdout"
        }
      ]
    },
    {
      "cell_type": "code",
      "metadata": {
        "id": "UhFNM5KJWVcV",
        "colab_type": "code",
        "colab": {}
      },
      "source": [
        "history2 = model.fit([train_X,box_train],\n",
        "            train_Y,\n",
        "            batch_size=32,\n",
        "            epochs=10,\n",
        "            validation_data=([test_X,box_test],test_Y),\n",
        "            verbose=1)"
      ],
      "execution_count": 0,
      "outputs": []
    },
    {
      "cell_type": "code",
      "metadata": {
        "id": "62mrIe-sWVcW",
        "colab_type": "code",
        "outputId": "d051c6a4-96d3-43af-8dae-55e1e91e3d36",
        "colab": {}
      },
      "source": [
        ""
      ],
      "execution_count": 0,
      "outputs": [
        {
          "output_type": "execute_result",
          "data": {
            "text/plain": [
              "(243, 4)"
            ]
          },
          "metadata": {
            "tags": []
          },
          "execution_count": 63
        }
      ]
    },
    {
      "cell_type": "code",
      "metadata": {
        "id": "NSxZiu_bWVcY",
        "colab_type": "code",
        "outputId": "72a9f20e-f1a9-4522-e18c-a4ccc1c80fc7",
        "colab": {}
      },
      "source": [
        ""
      ],
      "execution_count": 0,
      "outputs": [
        {
          "output_type": "execute_result",
          "data": {
            "text/plain": [
              "(9, 9, 3, 4)"
            ]
          },
          "metadata": {
            "tags": []
          },
          "execution_count": 64
        }
      ]
    },
    {
      "cell_type": "code",
      "metadata": {
        "id": "9CS8BzMiWVca",
        "colab_type": "code",
        "colab": {}
      },
      "source": [
        ""
      ],
      "execution_count": 0,
      "outputs": []
    }
  ]
}