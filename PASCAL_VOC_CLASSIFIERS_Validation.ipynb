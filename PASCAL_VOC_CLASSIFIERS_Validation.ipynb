{
  "nbformat": 4,
  "nbformat_minor": 0,
  "metadata": {
    "colab": {
      "name": "PASCAL VOC CLASSIFIERS Validation.ipynb",
      "version": "0.3.2",
      "provenance": []
    },
    "kernelspec": {
      "name": "python3",
      "display_name": "Python 3"
    },
    "accelerator": "GPU"
  },
  "cells": [
    {
      "cell_type": "code",
      "metadata": {
        "id": "NqHnvlKBIKXA",
        "colab_type": "code",
        "outputId": "b9b64434-7e50-47ba-ad77-865bbfe159f4",
        "colab": {
          "base_uri": "https://localhost:8080/",
          "height": 136
        }
      },
      "source": [
        "!apt-get install -y -qq software-properties-common python-software-properties module-init-tools\n",
        "!add-apt-repository -y ppa:alessandro-strada/ppa 2>&1 > /dev/null\n",
        "!apt-get update -qq 2>&1 > /dev/null\n",
        "!apt-get -y install -qq google-drive-ocamlfuse fuse\n",
        "from google.colab import auth\n",
        "auth.authenticate_user()\n",
        "from oauth2client.client import GoogleCredentials\n",
        "creds = GoogleCredentials.get_application_default()\n",
        "import getpass\n",
        "!google-drive-ocamlfuse -headless -id={creds.client_id} -secret={creds.client_secret} < /dev/null 2>&1 | grep URL\n",
        "vcode = getpass.getpass()\n",
        "!echo {vcode} | google-drive-ocamlfuse -headless -id={creds.client_id} -secret={creds.client_secret}"
      ],
      "execution_count": 0,
      "outputs": [
        {
          "output_type": "stream",
          "text": [
            "gpg: keybox '/tmp/tmpodmdi80h/pubring.gpg' created\n",
            "gpg: /tmp/tmpodmdi80h/trustdb.gpg: trustdb created\n",
            "gpg: key AD5F235DF639B041: public key \"Launchpad PPA for Alessandro Strada\" imported\n",
            "gpg: Total number processed: 1\n",
            "gpg:               imported: 1\n",
            "Warning: apt-key output should not be parsed (stdout is not a terminal)\n",
            "··········\n"
          ],
          "name": "stdout"
        }
      ]
    },
    {
      "cell_type": "code",
      "metadata": {
        "id": "sWBuFl7XIh47",
        "colab_type": "code",
        "outputId": "a5436045-c070-4a2e-a678-03c863ce9058",
        "colab": {
          "base_uri": "https://localhost:8080/",
          "height": 34
        }
      },
      "source": [
        "cd drive"
      ],
      "execution_count": 0,
      "outputs": [
        {
          "output_type": "stream",
          "text": [
            "/content/drive\n"
          ],
          "name": "stdout"
        }
      ]
    },
    {
      "cell_type": "code",
      "metadata": {
        "id": "py-DncTCIttA",
        "colab_type": "code",
        "outputId": "7c8db820-2883-452d-abb9-29f4ad31ac64",
        "colab": {
          "base_uri": "https://localhost:8080/",
          "height": 102
        }
      },
      "source": [
        "ls"
      ],
      "execution_count": 0,
      "outputs": [
        {
          "output_type": "stream",
          "text": [
            "ePascalVOCClassifier_epoch18above.h5       pascalX.npy\r\n",
            "ePascalVOCClassifier_epoch18aboveV_1_2.h5  pascalX_val.npy\r\n",
            "ePascalVOCClassifier.h5                    pascaly.npy\r\n",
            "pascal_model_epoch10.h5                    pascaly_val.npy\r\n",
            "pascal_model_epoch20_.h5\r\n"
          ],
          "name": "stdout"
        }
      ]
    },
    {
      "cell_type": "code",
      "metadata": {
        "id": "8TmwiFgCIvHF",
        "colab_type": "code",
        "outputId": "537a5fb3-4925-441e-da3c-c5250d8246bb",
        "colab": {
          "base_uri": "https://localhost:8080/",
          "height": 34
        }
      },
      "source": [
        "cd pascal_data"
      ],
      "execution_count": 0,
      "outputs": [
        {
          "output_type": "stream",
          "text": [
            "/content/drive/pascal_data\n"
          ],
          "name": "stdout"
        }
      ]
    },
    {
      "cell_type": "code",
      "metadata": {
        "id": "LeANcwQ_IzPr",
        "colab_type": "code",
        "outputId": "be1761c8-9d25-4f34-c312-926818b02798",
        "colab": {
          "base_uri": "https://localhost:8080/",
          "height": 102
        }
      },
      "source": [
        "ls"
      ],
      "execution_count": 0,
      "outputs": [
        {
          "output_type": "stream",
          "text": [
            "ePascalVOCClassifier_epoch18above.h5       pascalX.npy\r\n",
            "ePascalVOCClassifier_epoch18aboveV_1_2.h5  pascalX_val.npy\r\n",
            "ePascalVOCClassifier.h5                    pascaly.npy\r\n",
            "pascal_model_epoch10.h5                    pascaly_val.npy\r\n",
            "pascal_model_epoch20_.h5\r\n"
          ],
          "name": "stdout"
        }
      ]
    },
    {
      "cell_type": "code",
      "metadata": {
        "id": "StK_lXVgI0Uw",
        "colab_type": "code",
        "colab": {}
      },
      "source": [
        "import numpy as np"
      ],
      "execution_count": 0,
      "outputs": []
    },
    {
      "cell_type": "code",
      "metadata": {
        "id": "G5nCXRDYJSqa",
        "colab_type": "code",
        "colab": {}
      },
      "source": [
        "# import modules\n",
        "from keras.models import Sequential\n",
        "from keras.layers import Conv2D, MaxPooling2D\n",
        "from keras.layers import Activation, Dropout, Flatten, Dense\n",
        "from keras.layers.normalization import BatchNormalization\n",
        "from keras import optimizers\n",
        "from keras.models import load_model\n",
        "import keras\n"
      ],
      "execution_count": 0,
      "outputs": []
    },
    {
      "cell_type": "code",
      "metadata": {
        "id": "YMAXWcSwJXJQ",
        "colab_type": "code",
        "colab": {}
      },
      "source": [
        "X_val = np.load('pascalX_val.npy')\n",
        "Y_val = np.load('pascaly_val.npy')\n"
      ],
      "execution_count": 0,
      "outputs": []
    },
    {
      "cell_type": "code",
      "metadata": {
        "id": "dDE5fvaTJ9LW",
        "colab_type": "code",
        "outputId": "48f1167f-04c1-4ef4-8293-ee144d3cc3ac",
        "colab": {
          "base_uri": "https://localhost:8080/",
          "height": 51
        }
      },
      "source": [
        "x = load_model('ePascalVOCClassifier.h5')\n",
        "x.evaluate(x=X_val, y=Y_val)"
      ],
      "execution_count": 0,
      "outputs": [
        {
          "output_type": "stream",
          "text": [
            "4952/4952 [==============================] - 27s 5ms/step\n"
          ],
          "name": "stdout"
        },
        {
          "output_type": "execute_result",
          "data": {
            "text/plain": [
              "[0.05635892953091754, 0.28291599358611036]"
            ]
          },
          "metadata": {
            "tags": []
          },
          "execution_count": 13
        }
      ]
    },
    {
      "cell_type": "code",
      "metadata": {
        "id": "VrDvT9iuJdvK",
        "colab_type": "code",
        "colab": {}
      },
      "source": [
        "X = np.load('pascalX.npy')\n",
        "Y = np.load('pascaly.npy')"
      ],
      "execution_count": 0,
      "outputs": []
    },
    {
      "cell_type": "code",
      "metadata": {
        "id": "fAniN0nQRegJ",
        "colab_type": "code",
        "colab": {}
      },
      "source": [
        "# original parameters (lr=0.001, decay=1e-6, momentum=0.9, nesterov=True)\n",
        "sgd = optimizers.SGD(lr=0.001, decay=1e-6, momentum=0.9, nesterov=True)\n",
        "\n",
        "# original parameters (lr=0.02, beta_1=0.9, beta_2=0.999, epsilon=None, schedule_decay=0.004)\n",
        "nadam = optimizers.Nadam(lr=0.02, beta_1=0.9, beta_2=0.999, epsilon=None, schedule_decay=0.004)\n",
        "\n",
        "# original parameters (lr=0.001, beta_1=0.9, beta_2=0.999, epsilon=None, decay=0.0, amsgrad=False)\n",
        "adam = optimizers.Adam(lr=0.001, beta_1=0.9, beta_2=0.999, epsilon=None, decay=0.0, amsgrad=False)\n",
        "\n",
        "x.compile(loss='mean_squared_logarithmic_error',\n",
        "              optimizer=sgd,\n",
        "              metrics=['accuracy'])"
      ],
      "execution_count": 0,
      "outputs": []
    },
    {
      "cell_type": "code",
      "metadata": {
        "id": "eTkXy7VbRfqZ",
        "colab_type": "code",
        "outputId": "331b3cec-48db-49d6-fa42-bd1d799771ee",
        "colab": {
          "base_uri": "https://localhost:8080/",
          "height": 224
        }
      },
      "source": [
        "\n",
        "for i in range(25):\n",
        "  print(\"epoch\",i+1)\n",
        "  x.fit(X, Y,epochs=1,batch_size=25,validation_data=(X_val, Y_val))\n",
        "  #x.save('ePascalVOCClassifier_epoch18aboveV_1_2.h5')\n",
        "  print(\"----------------------------------------------------------------------\")\n",
        "  print(\"----------------------------------------------------------------------\")\n"
      ],
      "execution_count": 0,
      "outputs": [
        {
          "output_type": "stream",
          "text": [
            "epoch 1\n",
            "WARNING:tensorflow:Variable *= will be deprecated. Use variable.assign_mul if you want assignment to the variable value or 'x = x * y' if you want a new python Tensor object.\n",
            "Train on 16551 samples, validate on 4952 samples\n",
            "Epoch 1/1\n",
            " 7600/16551 [============>.................] - ETA: 1:55 - loss: 0.0234 - acc: 0.4175"
          ],
          "name": "stdout"
        },
        {
          "output_type": "stream",
          "text": [
            "16551/16551 [==============================] - 235s 14ms/step - loss: 0.0234 - acc: 0.4128 - val_loss: 0.0264 - val_acc: 0.3124\n",
            "----------------------------------------------------------------------\n",
            "----------------------------------------------------------------------\n",
            "epoch 2\n",
            "Train on 16551 samples, validate on 4952 samples\n",
            "Epoch 1/1\n",
            " 4100/16551 [======>.......................] - ETA: 2:36 - loss: 0.0231 - acc: 0.4220"
          ],
          "name": "stdout"
        },
        {
          "output_type": "stream",
          "text": [
            "11225/16551 [===================>..........] - ETA: 1:06 - loss: 0.0231 - acc: 0.4222"
          ],
          "name": "stdout"
        }
      ]
    },
    {
      "cell_type": "code",
      "metadata": {
        "id": "rrxo3uR8SXOq",
        "colab_type": "code",
        "colab": {}
      },
      "source": [
        ""
      ],
      "execution_count": 0,
      "outputs": []
    }
  ]
}