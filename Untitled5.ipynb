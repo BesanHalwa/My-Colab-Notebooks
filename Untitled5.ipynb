{
  "nbformat": 4,
  "nbformat_minor": 0,
  "metadata": {
    "colab": {
      "name": "Untitled5.ipynb",
      "version": "0.3.2",
      "provenance": []
    },
    "kernelspec": {
      "name": "python3",
      "display_name": "Python 3"
    },
    "accelerator": "GPU"
  },
  "cells": [
    {
      "cell_type": "code",
      "metadata": {
        "id": "uyEa0cPwEK6t",
        "colab_type": "code",
        "outputId": "86d748d6-b761-48f6-f672-6046abd458a9",
        "colab": {
          "base_uri": "https://localhost:8080/",
          "height": 138
        }
      },
      "source": [
        "!apt-get install -y -qq software-properties-common python-software-properties module-init-tools\n",
        "!add-apt-repository -y ppa:alessandro-strada/ppa 2>&1 > /dev/null\n",
        "!apt-get update -qq 2>&1 > /dev/null\n",
        "!apt-get -y install -qq google-drive-ocamlfuse fuse\n",
        "from google.colab import auth\n",
        "auth.authenticate_user()\n",
        "from oauth2client.client import GoogleCredentials\n",
        "creds = GoogleCredentials.get_application_default()\n",
        "import getpass\n",
        "!google-drive-ocamlfuse -headless -id={creds.client_id} -secret={creds.client_secret} < /dev/null 2>&1 | grep URL\n",
        "vcode = getpass.getpass()\n",
        "!echo {vcode} | google-drive-ocamlfuse -headless -id={creds.client_id} -secret={creds.client_secret}"
      ],
      "execution_count": 0,
      "outputs": [
        {
          "output_type": "stream",
          "text": [
            "gpg: keybox '/tmp/tmp6scqxz9k/pubring.gpg' created\n",
            "gpg: /tmp/tmp6scqxz9k/trustdb.gpg: trustdb created\n",
            "gpg: key AD5F235DF639B041: public key \"Launchpad PPA for Alessandro Strada\" imported\n",
            "gpg: Total number processed: 1\n",
            "gpg:               imported: 1\n",
            "Warning: apt-key output should not be parsed (stdout is not a terminal)\n"
          ],
          "name": "stdout"
        }
      ]
    },
    {
      "cell_type": "code",
      "metadata": {
        "id": "czlMtz02EYX3",
        "colab_type": "code",
        "colab": {}
      },
      "source": [
        "!mkdir -p drive\n",
        "!google-drive-ocamlfuse drive"
      ],
      "execution_count": 0,
      "outputs": []
    },
    {
      "cell_type": "code",
      "metadata": {
        "id": "kR_gR8jlFIK2",
        "colab_type": "code",
        "outputId": "c0d573d4-1fa5-4f3a-a8f8-e0e717dfebd8",
        "colab": {
          "base_uri": "https://localhost:8080/",
          "height": 816
        }
      },
      "source": [
        "!ls drive"
      ],
      "execution_count": 0,
      "outputs": [
        {
          "output_type": "stream",
          "text": [
            "20180606_151724.mp4\r\n",
            "ACM ICPC.odt\r\n",
            "Application overview.odt\r\n",
            "BeeWare Essay.odt\r\n",
            "BHU PROJECT.odt\r\n",
            "CD Unit -1.pdf\r\n",
            "cd unit 3.pdf\r\n",
            "CD Unit - 4.pdf\r\n",
            "CD Unit -5.pdf\r\n",
            "Colab Notebooks\r\n",
            "Companies.ods\r\n",
            "Copy of Cover Letter.odt\r\n",
            "Copy of Eshan's Resume.odt\r\n",
            "Cover Letter.odt\r\n",
            "DataScienceBookV3.pdf\r\n",
            "Data Structure\r\n",
            "Draft BeeWare.odt\r\n",
            "Eshan's Resume.odt\r\n",
            "ETicket\r\n",
            "Genetic Algorithm.odt\r\n",
            "GSoC Proposal to Aimacode for Aimacode_Python.odt\r\n",
            "Java Traning Assignment 1 WelTec.odt\n",
            "Java Traning Assignment 1 WelTec.odt (589ac6ea)\n",
            "Paper.pdf\n",
            "Power Point Presentation.pdf\n",
            "resume_latest.pdf\n",
            "Schol chle hm!!\n",
            "Shiv Mandir\n",
            "TechSmith\n",
            "this.mp4\n",
            "unit2 cd.pdf\n",
            "Untitled document.odt\n",
            "Untitled document.odt (2901b5d1)\n",
            "Untitled document.odt (70918aa5)\n",
            "Untitled document.odt (8c68fcee)\n",
            "Untitled document.odt (a29b122a)\n",
            "Untitled document.odt (bd14a30f)\n",
            "Untitled document.odt (cdb95678)\n",
            "Untitled document.odt (d25e2089)\n",
            "Untitled document.odt (f447c082)\n",
            "Untitled drawing.png\n",
            "Untitled drawing.png (15fa0c46)\n",
            "Untitled drawing.png (3ae2f6da)\n",
            "Untitled drawing.png (3e967658)\n",
            "Untitled drawing.png (9187a793)\n",
            "Untitled spreadsheet.ods\n",
            "UPDATE-SuperSU-v2.46.zip (Unzipped Files)\n"
          ],
          "name": "stdout"
        }
      ]
    },
    {
      "cell_type": "code",
      "metadata": {
        "id": "GehjC-O0FLgS",
        "colab_type": "code",
        "colab": {}
      },
      "source": [
        ""
      ],
      "execution_count": 0,
      "outputs": []
    }
  ]
}