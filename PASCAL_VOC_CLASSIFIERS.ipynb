{
  "nbformat": 4,
  "nbformat_minor": 0,
  "metadata": {
    "colab": {
      "name": "PASCAL VOC CLASSIFIERS.ipynb",
      "version": "0.3.2",
      "provenance": [],
      "collapsed_sections": []
    },
    "kernelspec": {
      "name": "python3",
      "display_name": "Python 3"
    },
    "accelerator": "GPU"
  },
  "cells": [
    {
      "cell_type": "code",
      "metadata": {
        "id": "byOX_KREqCjR",
        "colab_type": "code",
        "outputId": "c13a9e20-098b-4d7e-9055-9704a5bb236c",
        "colab": {
          "base_uri": "https://localhost:8080/",
          "height": 136
        }
      },
      "source": [
        "!apt-get install -y -qq software-properties-common python-software-properties module-init-tools\n",
        "!add-apt-repository -y ppa:alessandro-strada/ppa 2>&1 > /dev/null\n",
        "!apt-get update -qq 2>&1 > /dev/null\n",
        "!apt-get -y install -qq google-drive-ocamlfuse fuse\n",
        "from google.colab import auth\n",
        "auth.authenticate_user()\n",
        "from oauth2client.client import GoogleCredentials\n",
        "creds = GoogleCredentials.get_application_default()\n",
        "import getpass\n",
        "!google-drive-ocamlfuse -headless -id={creds.client_id} -secret={creds.client_secret} < /dev/null 2>&1 | grep URL\n",
        "vcode = getpass.getpass()\n",
        "!echo {vcode} | google-drive-ocamlfuse -headless -id={creds.client_id} -secret={creds.client_secret}"
      ],
      "execution_count": 0,
      "outputs": [
        {
          "output_type": "stream",
          "text": [
            "gpg: keybox '/tmp/tmpcme51zcs/pubring.gpg' created\n",
            "gpg: /tmp/tmpcme51zcs/trustdb.gpg: trustdb created\n",
            "gpg: key AD5F235DF639B041: public key \"Launchpad PPA for Alessandro Strada\" imported\n",
            "gpg: Total number processed: 1\n",
            "gpg:               imported: 1\n",
            "Warning: apt-key output should not be parsed (stdout is not a terminal)\n",
            "··········\n"
          ],
          "name": "stdout"
        }
      ]
    },
    {
      "cell_type": "code",
      "metadata": {
        "id": "flWE8lSyqV5F",
        "colab_type": "code",
        "outputId": "1a50fda6-4a00-4d44-fab2-67bb1a84ccb9",
        "colab": {
          "base_uri": "https://localhost:8080/",
          "height": 51
        }
      },
      "source": [
        "!mkdir -p drive\n",
        "!google-drive-ocamlfuse drive"
      ],
      "execution_count": 0,
      "outputs": [
        {
          "output_type": "stream",
          "text": [
            "fuse: mountpoint is not empty\r\n",
            "fuse: if you are sure this is safe, use the 'nonempty' mount option\r\n"
          ],
          "name": "stdout"
        }
      ]
    },
    {
      "cell_type": "code",
      "metadata": {
        "id": "o4uMaj6Eqmdc",
        "colab_type": "code",
        "outputId": "0fb61703-b5f0-43b6-b014-fbbd39d1e639",
        "colab": {
          "base_uri": "https://localhost:8080/",
          "height": 34
        }
      },
      "source": [
        "cd drive"
      ],
      "execution_count": 0,
      "outputs": [
        {
          "output_type": "stream",
          "text": [
            "/content/drive\n"
          ],
          "name": "stdout"
        }
      ]
    },
    {
      "cell_type": "code",
      "metadata": {
        "id": "8K1xhuyyqqh6",
        "colab_type": "code",
        "outputId": "92f6900e-d464-4242-e87c-0591a49c005f",
        "colab": {
          "base_uri": "https://localhost:8080/",
          "height": 391
        }
      },
      "source": [
        "ls"
      ],
      "execution_count": 0,
      "outputs": [
        {
          "output_type": "stream",
          "text": [
            "class.txt\r\n",
            "\u001b[0m\u001b[01;34mCode\u001b[0m/\r\n",
            "\u001b[01;34mColab Notebooks\u001b[0m/\r\n",
            "\u001b[01;34mdatabase\u001b[0m/\r\n",
            "\u001b[01;34mData Sets\u001b[0m/\r\n",
            "\u001b[01;34m_detection reference\u001b[0m/\r\n",
            "\u001b[01;34mdrive\u001b[0m/\r\n",
            "\u001b[01;34mGenerating Enviornment Map (Reads)\u001b[0m/\r\n",
            "\u001b[01;34mGoogle self driving car monthely report\u001b[0m/\r\n",
            "\u001b[01;34mInitial tests\u001b[0m/\r\n",
            "\u001b[01;34mMarket Products and Raw Ideas\u001b[0m/\r\n",
            "Model_one.py\r\n",
            "\u001b[01;34mnaya_folder_kuki naam nai sujh rha\u001b[0m/\r\n",
            "\u001b[01;34mOur Product Draft\u001b[0m/\r\n",
            "\u001b[01;34mpascal_data\u001b[0m/\r\n",
            "\u001b[01;34mREFERENCES\u001b[0m/\r\n",
            "requirements.txt\r\n",
            "Screen Shot 2018-07-02 at 8.38.24 PM.png\r\n",
            "testModel.ipynb\r\n",
            "tf1.png\r\n",
            "\u001b[01;34mTimeline\u001b[0m/\r\n",
            "Untitled document.odt\r\n"
          ],
          "name": "stdout"
        }
      ]
    },
    {
      "cell_type": "code",
      "metadata": {
        "id": "DRbRLvr9qq66",
        "colab_type": "code",
        "outputId": "1d6520f9-a1dc-47d2-a81e-e830b0cd1452",
        "colab": {
          "base_uri": "https://localhost:8080/",
          "height": 34
        }
      },
      "source": [
        "cd pascal_data"
      ],
      "execution_count": 0,
      "outputs": [
        {
          "output_type": "stream",
          "text": [
            "/content/drive/pascal_data\n"
          ],
          "name": "stdout"
        }
      ]
    },
    {
      "cell_type": "code",
      "metadata": {
        "id": "tRD3dlzmqv1h",
        "colab_type": "code",
        "outputId": "7bdb0da9-7df6-478f-cf2d-1954f0654ce5",
        "colab": {
          "base_uri": "https://localhost:8080/",
          "height": 102
        }
      },
      "source": [
        "ls"
      ],
      "execution_count": 0,
      "outputs": [
        {
          "output_type": "stream",
          "text": [
            "ePascalVOCClassifier_epoch18above.h5       pascal_model_epoch20_.h5\r\n",
            "ePascalVOCClassifier_epoch18aboveV_1_2.h5  pascalX.npy\r\n",
            "ePascalVOCClassifier.h5                    pascalX_val.npy\r\n",
            "ePascalVOCClassifier_monday_one.h5         pascaly.npy\r\n",
            "pascal_model_epoch10.h5                    pascaly_val.npy\r\n"
          ],
          "name": "stdout"
        }
      ]
    },
    {
      "cell_type": "code",
      "metadata": {
        "id": "MouyfTdVqwrw",
        "colab_type": "code",
        "colab": {}
      },
      "source": [
        "import numpy as np\n",
        "\n",
        "X = np.load('pascalX.npy')\n",
        "Y = np.load('pascaly.npy')"
      ],
      "execution_count": 0,
      "outputs": []
    },
    {
      "cell_type": "code",
      "metadata": {
        "id": "_-6p2c1Jq-hE",
        "colab_type": "code",
        "outputId": "8d6abfd0-c19f-4a74-dbc3-8b3e7a61ffb1",
        "colab": {
          "base_uri": "https://localhost:8080/",
          "height": 51
        }
      },
      "source": [
        "print(X.shape)\n",
        "print(Y.shape)"
      ],
      "execution_count": 0,
      "outputs": [
        {
          "output_type": "stream",
          "text": [
            "(16551, 300, 300, 3)\n",
            "(16551, 20)\n"
          ],
          "name": "stdout"
        }
      ]
    },
    {
      "cell_type": "code",
      "metadata": {
        "id": "MzMutw2CD03o",
        "colab_type": "code",
        "colab": {}
      },
      "source": [
        "X_val = np.load('pascalX_val.npy')\n",
        "Y_val = np.load('pascaly_val.npy')"
      ],
      "execution_count": 0,
      "outputs": []
    },
    {
      "cell_type": "code",
      "metadata": {
        "id": "IhKyg8RGrH6t",
        "colab_type": "code",
        "outputId": "049cc7aa-1634-4215-b543-490aad769360",
        "colab": {
          "base_uri": "https://localhost:8080/",
          "height": 34
        }
      },
      "source": [
        "import keras\n",
        "from __future__ import absolute_import\n",
        "from __future__ import division\n",
        "from __future__ import print_function\n",
        "\n",
        "import six\n",
        "from keras import backend as K\n",
        "from keras.utils.generic_utils import deserialize_keras_object\n",
        "from keras.utils.generic_utils import serialize_keras_object\n",
        "\n",
        "\n",
        "def custom_error(y_true, y_pred):\n",
        "    return K.mean(K.square(K.square(y_pred) - K.square(y_true)), axis=-1)\n"
      ],
      "execution_count": 0,
      "outputs": [
        {
          "output_type": "stream",
          "text": [
            "Using TensorFlow backend.\n"
          ],
          "name": "stderr"
        }
      ]
    },
    {
      "cell_type": "code",
      "metadata": {
        "id": "T49xg1w0rIc6",
        "colab_type": "code",
        "colab": {}
      },
      "source": [
        "# import modules\n",
        "from keras.models import Sequential\n",
        "from keras.layers import Conv2D, MaxPooling2D\n",
        "from keras.layers import Activation, Dropout, Flatten, Dense\n",
        "from keras.layers.normalization import BatchNormalization\n",
        "from keras import optimizers\n",
        "import keras\n"
      ],
      "execution_count": 0,
      "outputs": []
    },
    {
      "cell_type": "markdown",
      "metadata": {
        "id": "B4vtji3KFV_5",
        "colab_type": "text"
      },
      "source": [
        "#_-_-_-_-_-_-_-_-_-_-_-_-_-_-_-_-_-_-_-_-_-_-_-_-_-_-_-_-_-_-_-_-_-_-_-_-_-_-_-_-_-_-_-_-_-_-_-_-_-_-_-_-_-_-_-_-_-_-_-_-_-_-_-_-_-_-_-_-_-_-_-_-_-_-_-_-_-_-_-_-_-_-_-_-_-_-_-_-_-_-_-_-_-_-_-_-_-_-_-_-_-_-_-_-_-_-_-_-_-_-_-_-_-_-_-_-_-_-_-_-_-_-_-_-_-_-_-_-_-_-_-_-_-_-_-_-_-_-_-_-_-_-_-_-_-_-_-_-_-_-_-_-_-_-_-_-_-_-_-_-_-_-_-_-_-_-_-_-_-_-_-_-_-_-_-_-"
      ]
    },
    {
      "cell_type": "code",
      "metadata": {
        "id": "QoYuPIVnrMka",
        "colab_type": "code",
        "colab": {}
      },
      "source": [
        "\n",
        "\n",
        "x = Sequential()\n",
        "\n",
        "# Block 1\n",
        "x.add(Conv2D(28, (3, 3),activation='relu',padding='same',input_shape=(300,300,3)))\n",
        "x.add(Conv2D(28, (3, 3),activation='relu',padding='same'))\n",
        "x.add(MaxPooling2D((2, 2), strides=(2, 2), name='block1_pool'))\n",
        "\n",
        "# Block 2\n",
        "x.add(Conv2D(28, (3, 3),activation='relu',padding='same'))\n",
        "x.add(Conv2D(28, (3, 3),activation='relu',padding='same',name='block2_conv2'))\n",
        "x.add(MaxPooling2D((2, 2), strides=(2, 2), name='block2_pool'))\n",
        "\n",
        "# Block 3\n",
        "x.add(Conv2D(28, (3, 3),activation='relu',padding='same'))\n",
        "\n",
        "x.add(Conv2D(64, (3, 3),activation='relu',padding='same'))\n",
        "\n",
        "x.add(Conv2D(64, (3, 3),activation='relu',padding='same'))\n",
        "\n",
        "x.add(MaxPooling2D((2, 2), strides=(2, 2), name='block3_pool'))\n",
        "\n",
        "# Block 4\n",
        "x.add(Conv2D(64, (3, 3),activation='relu',padding='same'))\n",
        "\n",
        "x.add(Conv2D(64, (3, 3),activation='relu',padding='same'))\n",
        "\n",
        "x.add(Conv2D(64, (3, 3),activation='relu',padding='same'))\n",
        "\n",
        "x.add(MaxPooling2D((2, 2), strides=(2, 2), name='block4_pool'))\n",
        "\n",
        "# Block 5\n",
        "x.add(Conv2D(128, (3, 3),activation='relu',padding='same'))\n",
        "\n",
        "x.add(Conv2D(128, (3, 3),activation='relu',padding='same'))\n",
        "\n",
        "x.add(Dropout(0.2))\n",
        "x.add(Conv2D(64, (3, 3),activation='relu',padding='same'))\n",
        "x.add(MaxPooling2D((2, 2), strides=(2, 2), name='block5_pool'))\n",
        "\n",
        "\n",
        "# Classification block\n",
        "x.add(Flatten())\n",
        "\n",
        "x.add(Dense(1000, activation='relu'))\n",
        "x.add(Dense(400, activation='relu'))\n",
        "x.add(Dense(20, activation='softmax', name='predictions'))\n",
        "\n",
        "\n",
        "\n"
      ],
      "execution_count": 0,
      "outputs": []
    },
    {
      "cell_type": "code",
      "metadata": {
        "id": "HHK6aggarNNJ",
        "colab_type": "code",
        "colab": {}
      },
      "source": [
        "sgd = optimizers.SGD(lr=0.01, momentum=0.9, nesterov=True)\n",
        "#nadam = optimizers.Nadam(lr=0.02, beta_1=0.9, beta_2=0.999, epsilon=None, schedule_decay=0.004)\n",
        "x.compile(loss='mean_squared_error',\n",
        "              optimizer=sgd,\n",
        "              metrics=['accuracy'])"
      ],
      "execution_count": 0,
      "outputs": []
    },
    {
      "cell_type": "markdown",
      "metadata": {
        "id": "Z-5bULv6g-k_",
        "colab_type": "text"
      },
      "source": [
        "# Version 1"
      ]
    },
    {
      "cell_type": "code",
      "metadata": {
        "id": "1kjOGYXyKHfO",
        "colab_type": "code",
        "outputId": "9d8b8022-c412-42d9-a77d-23729b3f562e",
        "colab": {
          "base_uri": "https://localhost:8080/",
          "height": 3448
        }
      },
      "source": [
        "sgd = optimizers.SGD(lr=0.01, momentum=0.9, nesterov=True)\n",
        "#nadam = optimizers.Nadam(lr=0.02, beta_1=0.9, beta_2=0.999, epsilon=None, schedule_decay=0.004)\n",
        "x.compile(loss='mean_squared_error',\n",
        "              optimizer=sgd,\n",
        "              metrics=['accuracy'])\n",
        "\n",
        "for i in range(25):\n",
        "  print(\"epoch\",i)\n",
        "  x.fit(X, Y,epochs=1,batch_size=20,validation_data=(X_val, Y_val))\n",
        "  x.save('ePascalVOCClassifier.h5')\n",
        "  print(\"----------------------------------------------------------------------\")\n",
        "  print(\"----------------------------------------------------------------------\")\n"
      ],
      "execution_count": 0,
      "outputs": [
        {
          "output_type": "stream",
          "text": [
            "epoch 0\n",
            "Train on 16551 samples, validate on 4952 samples\n",
            "Epoch 1/1\n",
            "13140/16551 [======================>.......] - ETA: 45s - loss: 0.0669 - acc: 0.1221"
          ],
          "name": "stdout"
        },
        {
          "output_type": "stream",
          "text": [
            "16551/16551 [==============================] - 248s 15ms/step - loss: 0.0664 - acc: 0.1248 - val_loss: 0.0644 - val_acc: 0.1327\n",
            "----------------------------------------------------------------------\n",
            "----------------------------------------------------------------------\n",
            "epoch 1\n",
            "Train on 16551 samples, validate on 4952 samples\n",
            "Epoch 1/1\n",
            " 4020/16551 [======>.......................] - ETA: 2:44 - loss: 0.0657 - acc: 0.1274"
          ],
          "name": "stdout"
        },
        {
          "output_type": "stream",
          "text": [
            "16551/16551 [==============================] - 243s 15ms/step - loss: 0.0649 - acc: 0.1297 - val_loss: 0.0629 - val_acc: 0.1704\n",
            "----------------------------------------------------------------------\n",
            "----------------------------------------------------------------------\n",
            "epoch 2\n",
            "Train on 16551 samples, validate on 4952 samples\n",
            "Epoch 1/1\n",
            " 2200/16551 [==>...........................] - ETA: 3:11 - loss: 0.0643 - acc: 0.1400"
          ],
          "name": "stdout"
        },
        {
          "output_type": "stream",
          "text": [
            "16551/16551 [==============================] - 244s 15ms/step - loss: 0.0635 - acc: 0.1504 - val_loss: 0.0626 - val_acc: 0.1702\n",
            "----------------------------------------------------------------------\n",
            "----------------------------------------------------------------------\n",
            "epoch 3\n",
            "Train on 16551 samples, validate on 4952 samples\n",
            "Epoch 1/1\n",
            " 1820/16551 [==>...........................] - ETA: 3:16 - loss: 0.0634 - acc: 0.1648"
          ],
          "name": "stdout"
        },
        {
          "output_type": "stream",
          "text": [
            "16551/16551 [==============================] - 244s 15ms/step - loss: 0.0624 - acc: 0.1789 - val_loss: 0.0627 - val_acc: 0.2359\n",
            "----------------------------------------------------------------------\n",
            "----------------------------------------------------------------------\n",
            "epoch 4\n",
            "Train on 16551 samples, validate on 4952 samples\n",
            "Epoch 1/1\n",
            " 1760/16551 [==>...........................] - ETA: 3:15 - loss: 0.0625 - acc: 0.1795"
          ],
          "name": "stdout"
        },
        {
          "output_type": "stream",
          "text": [
            "16551/16551 [==============================] - 244s 15ms/step - loss: 0.0616 - acc: 0.1956 - val_loss: 0.0602 - val_acc: 0.1791\n",
            "----------------------------------------------------------------------\n",
            "----------------------------------------------------------------------\n",
            "epoch 5\n",
            "Train on 16551 samples, validate on 4952 samples\n",
            "Epoch 1/1\n",
            " 1740/16551 [==>...........................] - ETA: 3:16 - loss: 0.0609 - acc: 0.1989"
          ],
          "name": "stdout"
        },
        {
          "output_type": "stream",
          "text": [
            "16551/16551 [==============================] - 243s 15ms/step - loss: 0.0610 - acc: 0.2058 - val_loss: 0.0597 - val_acc: 0.1965\n",
            "----------------------------------------------------------------------\n",
            "----------------------------------------------------------------------\n",
            "epoch 6\n",
            "Train on 16551 samples, validate on 4952 samples\n",
            "Epoch 1/1\n",
            " 1740/16551 [==>...........................] - ETA: 3:16 - loss: 0.0599 - acc: 0.2264"
          ],
          "name": "stdout"
        },
        {
          "output_type": "stream",
          "text": [
            "16551/16551 [==============================] - 244s 15ms/step - loss: 0.0604 - acc: 0.2216 - val_loss: 0.0594 - val_acc: 0.2270\n",
            "----------------------------------------------------------------------\n",
            "----------------------------------------------------------------------\n",
            "epoch 7\n",
            "Train on 16551 samples, validate on 4952 samples\n",
            "Epoch 1/1\n",
            " 1740/16551 [==>...........................] - ETA: 3:14 - loss: 0.0595 - acc: 0.2270"
          ],
          "name": "stdout"
        },
        {
          "output_type": "stream",
          "text": [
            "16551/16551 [==============================] - 243s 15ms/step - loss: 0.0599 - acc: 0.2287 - val_loss: 0.0591 - val_acc: 0.2197\n",
            "----------------------------------------------------------------------\n",
            "----------------------------------------------------------------------\n",
            "epoch 8\n",
            "Train on 16551 samples, validate on 4952 samples\n",
            "Epoch 1/1\n",
            " 1740/16551 [==>...........................] - ETA: 3:16 - loss: 0.0592 - acc: 0.2397"
          ],
          "name": "stdout"
        },
        {
          "output_type": "stream",
          "text": [
            "16551/16551 [==============================] - 244s 15ms/step - loss: 0.0592 - acc: 0.2400 - val_loss: 0.0585 - val_acc: 0.2349\n",
            "----------------------------------------------------------------------\n",
            "----------------------------------------------------------------------\n",
            "epoch 9\n",
            "Train on 16551 samples, validate on 4952 samples\n",
            "Epoch 1/1\n",
            " 1740/16551 [==>...........................] - ETA: 3:17 - loss: 0.0590 - acc: 0.2575"
          ],
          "name": "stdout"
        },
        {
          "output_type": "stream",
          "text": [
            "16551/16551 [==============================] - 245s 15ms/step - loss: 0.0586 - acc: 0.2509 - val_loss: 0.0579 - val_acc: 0.2589\n",
            "----------------------------------------------------------------------\n",
            "----------------------------------------------------------------------\n",
            "epoch 10\n",
            "Train on 16551 samples, validate on 4952 samples\n",
            "Epoch 1/1\n",
            " 1740/16551 [==>...........................] - ETA: 3:16 - loss: 0.0584 - acc: 0.2615"
          ],
          "name": "stdout"
        },
        {
          "output_type": "stream",
          "text": [
            "16551/16551 [==============================] - 244s 15ms/step - loss: 0.0581 - acc: 0.2605 - val_loss: 0.0594 - val_acc: 0.2538\n",
            "----------------------------------------------------------------------\n",
            "----------------------------------------------------------------------\n",
            "epoch 11\n",
            "Train on 16551 samples, validate on 4952 samples\n",
            "Epoch 1/1\n",
            " 1740/16551 [==>...........................] - ETA: 3:15 - loss: 0.0568 - acc: 0.2770"
          ],
          "name": "stdout"
        },
        {
          "output_type": "stream",
          "text": [
            "16551/16551 [==============================] - 244s 15ms/step - loss: 0.0574 - acc: 0.2794 - val_loss: 0.0577 - val_acc: 0.2508\n",
            "----------------------------------------------------------------------\n",
            "----------------------------------------------------------------------\n",
            "epoch 12\n",
            "Train on 16551 samples, validate on 4952 samples\n",
            "Epoch 1/1\n",
            " 1740/16551 [==>...........................] - ETA: 3:17 - loss: 0.0562 - acc: 0.2862"
          ],
          "name": "stdout"
        },
        {
          "output_type": "stream",
          "text": [
            "16551/16551 [==============================] - 244s 15ms/step - loss: 0.0568 - acc: 0.2889 - val_loss: 0.0571 - val_acc: 0.2807\n",
            "----------------------------------------------------------------------\n",
            "----------------------------------------------------------------------\n",
            "epoch 13\n",
            "Train on 16551 samples, validate on 4952 samples\n",
            "Epoch 1/1\n",
            " 1740/16551 [==>...........................] - ETA: 3:16 - loss: 0.0548 - acc: 0.3167"
          ],
          "name": "stdout"
        },
        {
          "output_type": "stream",
          "text": [
            "16551/16551 [==============================] - 244s 15ms/step - loss: 0.0562 - acc: 0.3005 - val_loss: 0.0579 - val_acc: 0.2718\n",
            "----------------------------------------------------------------------\n",
            "----------------------------------------------------------------------\n",
            "epoch 14\n",
            "Train on 16551 samples, validate on 4952 samples\n",
            "Epoch 1/1\n",
            " 1740/16551 [==>...........................] - ETA: 3:16 - loss: 0.0559 - acc: 0.2937"
          ],
          "name": "stdout"
        },
        {
          "output_type": "stream",
          "text": [
            "16551/16551 [==============================] - 244s 15ms/step - loss: 0.0555 - acc: 0.3109 - val_loss: 0.0567 - val_acc: 0.2692\n",
            "----------------------------------------------------------------------\n",
            "----------------------------------------------------------------------\n",
            "epoch 15\n",
            "Train on 16551 samples, validate on 4952 samples\n",
            "Epoch 1/1\n",
            " 1740/16551 [==>...........................] - ETA: 3:15 - loss: 0.0558 - acc: 0.3351"
          ],
          "name": "stdout"
        },
        {
          "output_type": "stream",
          "text": [
            "16551/16551 [==============================] - 242s 15ms/step - loss: 0.0550 - acc: 0.3228 - val_loss: 0.0574 - val_acc: 0.2908\n",
            "----------------------------------------------------------------------\n",
            "----------------------------------------------------------------------\n",
            "epoch 16\n",
            "Train on 16551 samples, validate on 4952 samples\n",
            "Epoch 1/1\n",
            " 1740/16551 [==>...........................] - ETA: 3:13 - loss: 0.0555 - acc: 0.3270"
          ],
          "name": "stdout"
        },
        {
          "output_type": "stream",
          "text": [
            "16551/16551 [==============================] - 243s 15ms/step - loss: 0.0541 - acc: 0.3377 - val_loss: 0.0561 - val_acc: 0.2985\n",
            "----------------------------------------------------------------------\n",
            "----------------------------------------------------------------------\n",
            "epoch 17\n",
            "Train on 16551 samples, validate on 4952 samples\n",
            "Epoch 1/1\n",
            " 1740/16551 [==>...........................] - ETA: 3:17 - loss: 0.0533 - acc: 0.3621"
          ],
          "name": "stdout"
        },
        {
          "output_type": "stream",
          "text": [
            "16551/16551 [==============================] - 244s 15ms/step - loss: 0.0534 - acc: 0.3526 - val_loss: 0.0563 - val_acc: 0.2712\n",
            "----------------------------------------------------------------------\n",
            "----------------------------------------------------------------------\n",
            "epoch 18\n",
            "Train on 16551 samples, validate on 4952 samples\n",
            "Epoch 1/1\n",
            " 1740/16551 [==>...........................] - ETA: 3:17 - loss: 0.0516 - acc: 0.3569"
          ],
          "name": "stdout"
        },
        {
          "output_type": "stream",
          "text": [
            "16551/16551 [==============================] - 244s 15ms/step - loss: 0.0528 - acc: 0.3604 - val_loss: 0.0564 - val_acc: 0.2829\n",
            "----------------------------------------------------------------------\n",
            "----------------------------------------------------------------------\n",
            "epoch 19\n",
            "Train on 16551 samples, validate on 4952 samples\n",
            "Epoch 1/1\n",
            "  860/16551 [>.............................] - ETA: 3:31 - loss: 0.0500 - acc: 0.3930"
          ],
          "name": "stdout"
        },
        {
          "output_type": "error",
          "ename": "KeyboardInterrupt",
          "evalue": "ignored",
          "traceback": [
            "\u001b[0;31m---------------------------------------------------------------------------\u001b[0m",
            "\u001b[0;31mKeyboardInterrupt\u001b[0m                         Traceback (most recent call last)",
            "\u001b[0;32m<ipython-input-15-19df4c7501f7>\u001b[0m in \u001b[0;36m<module>\u001b[0;34m()\u001b[0m\n\u001b[1;32m      7\u001b[0m \u001b[0;32mfor\u001b[0m \u001b[0mi\u001b[0m \u001b[0;32min\u001b[0m \u001b[0mrange\u001b[0m\u001b[0;34m(\u001b[0m\u001b[0;36m25\u001b[0m\u001b[0;34m)\u001b[0m\u001b[0;34m:\u001b[0m\u001b[0;34m\u001b[0m\u001b[0m\n\u001b[1;32m      8\u001b[0m   \u001b[0mprint\u001b[0m\u001b[0;34m(\u001b[0m\u001b[0;34m\"epoch\"\u001b[0m\u001b[0;34m,\u001b[0m\u001b[0mi\u001b[0m\u001b[0;34m)\u001b[0m\u001b[0;34m\u001b[0m\u001b[0m\n\u001b[0;32m----> 9\u001b[0;31m   \u001b[0mx\u001b[0m\u001b[0;34m.\u001b[0m\u001b[0mfit\u001b[0m\u001b[0;34m(\u001b[0m\u001b[0mX\u001b[0m\u001b[0;34m,\u001b[0m \u001b[0mY\u001b[0m\u001b[0;34m,\u001b[0m\u001b[0mepochs\u001b[0m\u001b[0;34m=\u001b[0m\u001b[0;36m1\u001b[0m\u001b[0;34m,\u001b[0m\u001b[0mbatch_size\u001b[0m\u001b[0;34m=\u001b[0m\u001b[0;36m20\u001b[0m\u001b[0;34m,\u001b[0m\u001b[0mvalidation_data\u001b[0m\u001b[0;34m=\u001b[0m\u001b[0;34m(\u001b[0m\u001b[0mX_val\u001b[0m\u001b[0;34m,\u001b[0m \u001b[0mY_val\u001b[0m\u001b[0;34m)\u001b[0m\u001b[0;34m)\u001b[0m\u001b[0;34m\u001b[0m\u001b[0m\n\u001b[0m\u001b[1;32m     10\u001b[0m   \u001b[0mx\u001b[0m\u001b[0;34m.\u001b[0m\u001b[0msave\u001b[0m\u001b[0;34m(\u001b[0m\u001b[0;34m'ePascalVOCClassifier.h5'\u001b[0m\u001b[0;34m)\u001b[0m\u001b[0;34m\u001b[0m\u001b[0m\n\u001b[1;32m     11\u001b[0m   \u001b[0mprint\u001b[0m\u001b[0;34m(\u001b[0m\u001b[0;34m\"----------------------------------------------------------------------\"\u001b[0m\u001b[0;34m)\u001b[0m\u001b[0;34m\u001b[0m\u001b[0m\n",
            "\u001b[0;32m/usr/local/lib/python3.6/dist-packages/keras/models.py\u001b[0m in \u001b[0;36mfit\u001b[0;34m(self, x, y, batch_size, epochs, verbose, callbacks, validation_split, validation_data, shuffle, class_weight, sample_weight, initial_epoch, steps_per_epoch, validation_steps, **kwargs)\u001b[0m\n\u001b[1;32m   1000\u001b[0m                               \u001b[0minitial_epoch\u001b[0m\u001b[0;34m=\u001b[0m\u001b[0minitial_epoch\u001b[0m\u001b[0;34m,\u001b[0m\u001b[0;34m\u001b[0m\u001b[0m\n\u001b[1;32m   1001\u001b[0m                               \u001b[0msteps_per_epoch\u001b[0m\u001b[0;34m=\u001b[0m\u001b[0msteps_per_epoch\u001b[0m\u001b[0;34m,\u001b[0m\u001b[0;34m\u001b[0m\u001b[0m\n\u001b[0;32m-> 1002\u001b[0;31m                               validation_steps=validation_steps)\n\u001b[0m\u001b[1;32m   1003\u001b[0m \u001b[0;34m\u001b[0m\u001b[0m\n\u001b[1;32m   1004\u001b[0m     def evaluate(self, x=None, y=None,\n",
            "\u001b[0;32m/usr/local/lib/python3.6/dist-packages/keras/engine/training.py\u001b[0m in \u001b[0;36mfit\u001b[0;34m(self, x, y, batch_size, epochs, verbose, callbacks, validation_split, validation_data, shuffle, class_weight, sample_weight, initial_epoch, steps_per_epoch, validation_steps, **kwargs)\u001b[0m\n\u001b[1;32m   1703\u001b[0m                               \u001b[0minitial_epoch\u001b[0m\u001b[0;34m=\u001b[0m\u001b[0minitial_epoch\u001b[0m\u001b[0;34m,\u001b[0m\u001b[0;34m\u001b[0m\u001b[0m\n\u001b[1;32m   1704\u001b[0m                               \u001b[0msteps_per_epoch\u001b[0m\u001b[0;34m=\u001b[0m\u001b[0msteps_per_epoch\u001b[0m\u001b[0;34m,\u001b[0m\u001b[0;34m\u001b[0m\u001b[0m\n\u001b[0;32m-> 1705\u001b[0;31m                               validation_steps=validation_steps)\n\u001b[0m\u001b[1;32m   1706\u001b[0m \u001b[0;34m\u001b[0m\u001b[0m\n\u001b[1;32m   1707\u001b[0m     def evaluate(self, x=None, y=None,\n",
            "\u001b[0;32m/usr/local/lib/python3.6/dist-packages/keras/engine/training.py\u001b[0m in \u001b[0;36m_fit_loop\u001b[0;34m(self, f, ins, out_labels, batch_size, epochs, verbose, callbacks, val_f, val_ins, shuffle, callback_metrics, initial_epoch, steps_per_epoch, validation_steps)\u001b[0m\n\u001b[1;32m   1234\u001b[0m                         \u001b[0mins_batch\u001b[0m\u001b[0;34m[\u001b[0m\u001b[0mi\u001b[0m\u001b[0;34m]\u001b[0m \u001b[0;34m=\u001b[0m \u001b[0mins_batch\u001b[0m\u001b[0;34m[\u001b[0m\u001b[0mi\u001b[0m\u001b[0;34m]\u001b[0m\u001b[0;34m.\u001b[0m\u001b[0mtoarray\u001b[0m\u001b[0;34m(\u001b[0m\u001b[0;34m)\u001b[0m\u001b[0;34m\u001b[0m\u001b[0m\n\u001b[1;32m   1235\u001b[0m \u001b[0;34m\u001b[0m\u001b[0m\n\u001b[0;32m-> 1236\u001b[0;31m                     \u001b[0mouts\u001b[0m \u001b[0;34m=\u001b[0m \u001b[0mf\u001b[0m\u001b[0;34m(\u001b[0m\u001b[0mins_batch\u001b[0m\u001b[0;34m)\u001b[0m\u001b[0;34m\u001b[0m\u001b[0m\n\u001b[0m\u001b[1;32m   1237\u001b[0m                     \u001b[0;32mif\u001b[0m \u001b[0;32mnot\u001b[0m \u001b[0misinstance\u001b[0m\u001b[0;34m(\u001b[0m\u001b[0mouts\u001b[0m\u001b[0;34m,\u001b[0m \u001b[0mlist\u001b[0m\u001b[0;34m)\u001b[0m\u001b[0;34m:\u001b[0m\u001b[0;34m\u001b[0m\u001b[0m\n\u001b[1;32m   1238\u001b[0m                         \u001b[0mouts\u001b[0m \u001b[0;34m=\u001b[0m \u001b[0;34m[\u001b[0m\u001b[0mouts\u001b[0m\u001b[0;34m]\u001b[0m\u001b[0;34m\u001b[0m\u001b[0m\n",
            "\u001b[0;32m/usr/local/lib/python3.6/dist-packages/keras/backend/tensorflow_backend.py\u001b[0m in \u001b[0;36m__call__\u001b[0;34m(self, inputs)\u001b[0m\n\u001b[1;32m   2480\u001b[0m         \u001b[0msession\u001b[0m \u001b[0;34m=\u001b[0m \u001b[0mget_session\u001b[0m\u001b[0;34m(\u001b[0m\u001b[0;34m)\u001b[0m\u001b[0;34m\u001b[0m\u001b[0m\n\u001b[1;32m   2481\u001b[0m         updated = session.run(fetches=fetches, feed_dict=feed_dict,\n\u001b[0;32m-> 2482\u001b[0;31m                               **self.session_kwargs)\n\u001b[0m\u001b[1;32m   2483\u001b[0m         \u001b[0;32mreturn\u001b[0m \u001b[0mupdated\u001b[0m\u001b[0;34m[\u001b[0m\u001b[0;34m:\u001b[0m\u001b[0mlen\u001b[0m\u001b[0;34m(\u001b[0m\u001b[0mself\u001b[0m\u001b[0;34m.\u001b[0m\u001b[0moutputs\u001b[0m\u001b[0;34m)\u001b[0m\u001b[0;34m]\u001b[0m\u001b[0;34m\u001b[0m\u001b[0m\n\u001b[1;32m   2484\u001b[0m \u001b[0;34m\u001b[0m\u001b[0m\n",
            "\u001b[0;32m/usr/local/lib/python3.6/dist-packages/tensorflow/python/client/session.py\u001b[0m in \u001b[0;36mrun\u001b[0;34m(self, fetches, feed_dict, options, run_metadata)\u001b[0m\n\u001b[1;32m    898\u001b[0m     \u001b[0;32mtry\u001b[0m\u001b[0;34m:\u001b[0m\u001b[0;34m\u001b[0m\u001b[0m\n\u001b[1;32m    899\u001b[0m       result = self._run(None, fetches, feed_dict, options_ptr,\n\u001b[0;32m--> 900\u001b[0;31m                          run_metadata_ptr)\n\u001b[0m\u001b[1;32m    901\u001b[0m       \u001b[0;32mif\u001b[0m \u001b[0mrun_metadata\u001b[0m\u001b[0;34m:\u001b[0m\u001b[0;34m\u001b[0m\u001b[0m\n\u001b[1;32m    902\u001b[0m         \u001b[0mproto_data\u001b[0m \u001b[0;34m=\u001b[0m \u001b[0mtf_session\u001b[0m\u001b[0;34m.\u001b[0m\u001b[0mTF_GetBuffer\u001b[0m\u001b[0;34m(\u001b[0m\u001b[0mrun_metadata_ptr\u001b[0m\u001b[0;34m)\u001b[0m\u001b[0;34m\u001b[0m\u001b[0m\n",
            "\u001b[0;32m/usr/local/lib/python3.6/dist-packages/tensorflow/python/client/session.py\u001b[0m in \u001b[0;36m_run\u001b[0;34m(self, handle, fetches, feed_dict, options, run_metadata)\u001b[0m\n\u001b[1;32m   1133\u001b[0m     \u001b[0;32mif\u001b[0m \u001b[0mfinal_fetches\u001b[0m \u001b[0;32mor\u001b[0m \u001b[0mfinal_targets\u001b[0m \u001b[0;32mor\u001b[0m \u001b[0;34m(\u001b[0m\u001b[0mhandle\u001b[0m \u001b[0;32mand\u001b[0m \u001b[0mfeed_dict_tensor\u001b[0m\u001b[0;34m)\u001b[0m\u001b[0;34m:\u001b[0m\u001b[0;34m\u001b[0m\u001b[0m\n\u001b[1;32m   1134\u001b[0m       results = self._do_run(handle, final_targets, final_fetches,\n\u001b[0;32m-> 1135\u001b[0;31m                              feed_dict_tensor, options, run_metadata)\n\u001b[0m\u001b[1;32m   1136\u001b[0m     \u001b[0;32melse\u001b[0m\u001b[0;34m:\u001b[0m\u001b[0;34m\u001b[0m\u001b[0m\n\u001b[1;32m   1137\u001b[0m       \u001b[0mresults\u001b[0m \u001b[0;34m=\u001b[0m \u001b[0;34m[\u001b[0m\u001b[0;34m]\u001b[0m\u001b[0;34m\u001b[0m\u001b[0m\n",
            "\u001b[0;32m/usr/local/lib/python3.6/dist-packages/tensorflow/python/client/session.py\u001b[0m in \u001b[0;36m_do_run\u001b[0;34m(self, handle, target_list, fetch_list, feed_dict, options, run_metadata)\u001b[0m\n\u001b[1;32m   1314\u001b[0m     \u001b[0;32mif\u001b[0m \u001b[0mhandle\u001b[0m \u001b[0;32mis\u001b[0m \u001b[0;32mNone\u001b[0m\u001b[0;34m:\u001b[0m\u001b[0;34m\u001b[0m\u001b[0m\n\u001b[1;32m   1315\u001b[0m       return self._do_call(_run_fn, feeds, fetches, targets, options,\n\u001b[0;32m-> 1316\u001b[0;31m                            run_metadata)\n\u001b[0m\u001b[1;32m   1317\u001b[0m     \u001b[0;32melse\u001b[0m\u001b[0;34m:\u001b[0m\u001b[0;34m\u001b[0m\u001b[0m\n\u001b[1;32m   1318\u001b[0m       \u001b[0;32mreturn\u001b[0m \u001b[0mself\u001b[0m\u001b[0;34m.\u001b[0m\u001b[0m_do_call\u001b[0m\u001b[0;34m(\u001b[0m\u001b[0m_prun_fn\u001b[0m\u001b[0;34m,\u001b[0m \u001b[0mhandle\u001b[0m\u001b[0;34m,\u001b[0m \u001b[0mfeeds\u001b[0m\u001b[0;34m,\u001b[0m \u001b[0mfetches\u001b[0m\u001b[0;34m)\u001b[0m\u001b[0;34m\u001b[0m\u001b[0m\n",
            "\u001b[0;32m/usr/local/lib/python3.6/dist-packages/tensorflow/python/client/session.py\u001b[0m in \u001b[0;36m_do_call\u001b[0;34m(self, fn, *args)\u001b[0m\n\u001b[1;32m   1320\u001b[0m   \u001b[0;32mdef\u001b[0m \u001b[0m_do_call\u001b[0m\u001b[0;34m(\u001b[0m\u001b[0mself\u001b[0m\u001b[0;34m,\u001b[0m \u001b[0mfn\u001b[0m\u001b[0;34m,\u001b[0m \u001b[0;34m*\u001b[0m\u001b[0margs\u001b[0m\u001b[0;34m)\u001b[0m\u001b[0;34m:\u001b[0m\u001b[0;34m\u001b[0m\u001b[0m\n\u001b[1;32m   1321\u001b[0m     \u001b[0;32mtry\u001b[0m\u001b[0;34m:\u001b[0m\u001b[0;34m\u001b[0m\u001b[0m\n\u001b[0;32m-> 1322\u001b[0;31m       \u001b[0;32mreturn\u001b[0m \u001b[0mfn\u001b[0m\u001b[0;34m(\u001b[0m\u001b[0;34m*\u001b[0m\u001b[0margs\u001b[0m\u001b[0;34m)\u001b[0m\u001b[0;34m\u001b[0m\u001b[0m\n\u001b[0m\u001b[1;32m   1323\u001b[0m     \u001b[0;32mexcept\u001b[0m \u001b[0merrors\u001b[0m\u001b[0;34m.\u001b[0m\u001b[0mOpError\u001b[0m \u001b[0;32mas\u001b[0m \u001b[0me\u001b[0m\u001b[0;34m:\u001b[0m\u001b[0;34m\u001b[0m\u001b[0m\n\u001b[1;32m   1324\u001b[0m       \u001b[0mmessage\u001b[0m \u001b[0;34m=\u001b[0m \u001b[0mcompat\u001b[0m\u001b[0;34m.\u001b[0m\u001b[0mas_text\u001b[0m\u001b[0;34m(\u001b[0m\u001b[0me\u001b[0m\u001b[0;34m.\u001b[0m\u001b[0mmessage\u001b[0m\u001b[0;34m)\u001b[0m\u001b[0;34m\u001b[0m\u001b[0m\n",
            "\u001b[0;32m/usr/local/lib/python3.6/dist-packages/tensorflow/python/client/session.py\u001b[0m in \u001b[0;36m_run_fn\u001b[0;34m(feed_dict, fetch_list, target_list, options, run_metadata)\u001b[0m\n\u001b[1;32m   1305\u001b[0m       \u001b[0mself\u001b[0m\u001b[0;34m.\u001b[0m\u001b[0m_extend_graph\u001b[0m\u001b[0;34m(\u001b[0m\u001b[0;34m)\u001b[0m\u001b[0;34m\u001b[0m\u001b[0m\n\u001b[1;32m   1306\u001b[0m       return self._call_tf_sessionrun(\n\u001b[0;32m-> 1307\u001b[0;31m           options, feed_dict, fetch_list, target_list, run_metadata)\n\u001b[0m\u001b[1;32m   1308\u001b[0m \u001b[0;34m\u001b[0m\u001b[0m\n\u001b[1;32m   1309\u001b[0m     \u001b[0;32mdef\u001b[0m \u001b[0m_prun_fn\u001b[0m\u001b[0;34m(\u001b[0m\u001b[0mhandle\u001b[0m\u001b[0;34m,\u001b[0m \u001b[0mfeed_dict\u001b[0m\u001b[0;34m,\u001b[0m \u001b[0mfetch_list\u001b[0m\u001b[0;34m)\u001b[0m\u001b[0;34m:\u001b[0m\u001b[0;34m\u001b[0m\u001b[0m\n",
            "\u001b[0;32m/usr/local/lib/python3.6/dist-packages/tensorflow/python/client/session.py\u001b[0m in \u001b[0;36m_call_tf_sessionrun\u001b[0;34m(self, options, feed_dict, fetch_list, target_list, run_metadata)\u001b[0m\n\u001b[1;32m   1407\u001b[0m       return tf_session.TF_SessionRun_wrapper(\n\u001b[1;32m   1408\u001b[0m           \u001b[0mself\u001b[0m\u001b[0;34m.\u001b[0m\u001b[0m_session\u001b[0m\u001b[0;34m,\u001b[0m \u001b[0moptions\u001b[0m\u001b[0;34m,\u001b[0m \u001b[0mfeed_dict\u001b[0m\u001b[0;34m,\u001b[0m \u001b[0mfetch_list\u001b[0m\u001b[0;34m,\u001b[0m \u001b[0mtarget_list\u001b[0m\u001b[0;34m,\u001b[0m\u001b[0;34m\u001b[0m\u001b[0m\n\u001b[0;32m-> 1409\u001b[0;31m           run_metadata)\n\u001b[0m\u001b[1;32m   1410\u001b[0m     \u001b[0;32melse\u001b[0m\u001b[0;34m:\u001b[0m\u001b[0;34m\u001b[0m\u001b[0m\n\u001b[1;32m   1411\u001b[0m       \u001b[0;32mwith\u001b[0m \u001b[0merrors\u001b[0m\u001b[0;34m.\u001b[0m\u001b[0mraise_exception_on_not_ok_status\u001b[0m\u001b[0;34m(\u001b[0m\u001b[0;34m)\u001b[0m \u001b[0;32mas\u001b[0m \u001b[0mstatus\u001b[0m\u001b[0;34m:\u001b[0m\u001b[0;34m\u001b[0m\u001b[0m\n",
            "\u001b[0;31mKeyboardInterrupt\u001b[0m: "
          ]
        }
      ]
    },
    {
      "cell_type": "code",
      "metadata": {
        "id": "gPPspLSYc8Cg",
        "colab_type": "code",
        "outputId": "e9133042-0bad-40fa-e167-b41518a237a5",
        "colab": {
          "base_uri": "https://localhost:8080/",
          "height": 51
        }
      },
      "source": [
        "x.evaluate(X_val, Y_val)"
      ],
      "execution_count": 0,
      "outputs": [
        {
          "output_type": "stream",
          "text": [
            "4952/4952 [==============================] - 25s 5ms/step\n"
          ],
          "name": "stdout"
        },
        {
          "output_type": "execute_result",
          "data": {
            "text/plain": [
              "[0.056601597294091026, 0.3287560581583199]"
            ]
          },
          "metadata": {
            "tags": []
          },
          "execution_count": 16
        }
      ]
    },
    {
      "cell_type": "markdown",
      "metadata": {
        "id": "8MDOte--hF7Z",
        "colab_type": "text"
      },
      "source": [
        "#Version 1.1"
      ]
    },
    {
      "cell_type": "code",
      "metadata": {
        "id": "aargjtwPMh7H",
        "colab_type": "code",
        "outputId": "cc640baf-5052-4041-807d-dbf9ca3d84b8",
        "colab": {
          "base_uri": "https://localhost:8080/",
          "height": 8548
        }
      },
      "source": [
        "\"\"\"\n",
        "from keras.models import load_model\n",
        "x = load_model('ePascalVOCClassifier.h5')\n",
        "x.evaluate(x=X_val, y=Y_val)\n",
        "\"\"\"\n",
        "\n",
        "sgd = optimizers.SGD(lr=0.001, momentum=0.9, nesterov=True)\n",
        "#nadam = optimizers.Nadam(lr=0.02, beta_1=0.9, beta_2=0.999, epsilon=None, schedule_decay=0.004)\n",
        "x.compile(loss='mean_squared_error',\n",
        "              optimizer=sgd,\n",
        "              metrics=['accuracy'])\n",
        "\n",
        "for i in range(100):\n",
        "  print(\"epoch\",i)\n",
        "  x.fit(X, Y,epochs=1,batch_size=20,validation_data=(X_val, Y_val))\n",
        "  x.save('ePascalVOCClassifier_epoch18above.h5')\n",
        "  print(\"----------------------------------------------------------------------\")\n",
        "  print(\"----------------------------------------------------------------------\")\n"
      ],
      "execution_count": 0,
      "outputs": [
        {
          "output_type": "stream",
          "text": [
            "epoch 0\n",
            "Train on 16551 samples, validate on 4952 samples\n",
            "Epoch 1/1\n",
            "13140/16551 [======================>.......] - ETA: 45s - loss: 0.0494 - acc: 0.4127"
          ],
          "name": "stdout"
        },
        {
          "output_type": "stream",
          "text": [
            "16551/16551 [==============================] - 246s 15ms/step - loss: 0.0492 - acc: 0.4172 - val_loss: 0.0559 - val_acc: 0.3201\n",
            "----------------------------------------------------------------------\n",
            "----------------------------------------------------------------------\n",
            "epoch 1\n",
            "Train on 16551 samples, validate on 4952 samples\n",
            "Epoch 1/1\n",
            " 4020/16551 [======>.......................] - ETA: 2:46 - loss: 0.0485 - acc: 0.4256"
          ],
          "name": "stdout"
        },
        {
          "output_type": "stream",
          "text": [
            "16551/16551 [==============================] - 245s 15ms/step - loss: 0.0485 - acc: 0.4252 - val_loss: 0.0560 - val_acc: 0.3114\n",
            "----------------------------------------------------------------------\n",
            "----------------------------------------------------------------------\n",
            "epoch 2\n",
            "Train on 16551 samples, validate on 4952 samples\n",
            "Epoch 1/1\n",
            " 2200/16551 [==>...........................] - ETA: 3:09 - loss: 0.0480 - acc: 0.4423"
          ],
          "name": "stdout"
        },
        {
          "output_type": "stream",
          "text": [
            "16551/16551 [==============================] - 245s 15ms/step - loss: 0.0481 - acc: 0.4296 - val_loss: 0.0560 - val_acc: 0.3235\n",
            "----------------------------------------------------------------------\n",
            "----------------------------------------------------------------------\n",
            "epoch 3\n",
            "Train on 16551 samples, validate on 4952 samples\n",
            "Epoch 1/1\n",
            " 1820/16551 [==>...........................] - ETA: 3:15 - loss: 0.0486 - acc: 0.4429"
          ],
          "name": "stdout"
        },
        {
          "output_type": "stream",
          "text": [
            "16551/16551 [==============================] - 245s 15ms/step - loss: 0.0477 - acc: 0.4405 - val_loss: 0.0559 - val_acc: 0.3136\n",
            "----------------------------------------------------------------------\n",
            "----------------------------------------------------------------------\n",
            "epoch 4\n",
            "Train on 16551 samples, validate on 4952 samples\n",
            "Epoch 1/1\n",
            " 1760/16551 [==>...........................] - ETA: 3:14 - loss: 0.0468 - acc: 0.4375"
          ],
          "name": "stdout"
        },
        {
          "output_type": "stream",
          "text": [
            "16551/16551 [==============================] - 244s 15ms/step - loss: 0.0474 - acc: 0.4440 - val_loss: 0.0563 - val_acc: 0.3217\n",
            "----------------------------------------------------------------------\n",
            "----------------------------------------------------------------------\n",
            "epoch 5\n",
            "Train on 16551 samples, validate on 4952 samples\n",
            "Epoch 1/1\n",
            " 1740/16551 [==>...........................] - ETA: 3:17 - loss: 0.0472 - acc: 0.4454"
          ],
          "name": "stdout"
        },
        {
          "output_type": "stream",
          "text": [
            "16551/16551 [==============================] - 245s 15ms/step - loss: 0.0471 - acc: 0.4458 - val_loss: 0.0562 - val_acc: 0.3261\n",
            "----------------------------------------------------------------------\n",
            "----------------------------------------------------------------------\n",
            "epoch 6\n",
            "Train on 16551 samples, validate on 4952 samples\n",
            "Epoch 1/1\n",
            " 1740/16551 [==>...........................] - ETA: 3:18 - loss: 0.0467 - acc: 0.4500"
          ],
          "name": "stdout"
        },
        {
          "output_type": "stream",
          "text": [
            "16551/16551 [==============================] - 245s 15ms/step - loss: 0.0467 - acc: 0.4549 - val_loss: 0.0563 - val_acc: 0.3084\n",
            "----------------------------------------------------------------------\n",
            "----------------------------------------------------------------------\n",
            "epoch 7\n",
            "Train on 16551 samples, validate on 4952 samples\n",
            "Epoch 1/1\n",
            " 1740/16551 [==>...........................] - ETA: 3:16 - loss: 0.0469 - acc: 0.4511"
          ],
          "name": "stdout"
        },
        {
          "output_type": "stream",
          "text": [
            "16551/16551 [==============================] - 244s 15ms/step - loss: 0.0465 - acc: 0.4564 - val_loss: 0.0564 - val_acc: 0.3211\n",
            "----------------------------------------------------------------------\n",
            "----------------------------------------------------------------------\n",
            "epoch 8\n",
            "Train on 16551 samples, validate on 4952 samples\n",
            "Epoch 1/1\n",
            " 1740/16551 [==>...........................] - ETA: 3:16 - loss: 0.0464 - acc: 0.4661"
          ],
          "name": "stdout"
        },
        {
          "output_type": "stream",
          "text": [
            "16551/16551 [==============================] - 245s 15ms/step - loss: 0.0462 - acc: 0.4587 - val_loss: 0.0563 - val_acc: 0.3185\n",
            "----------------------------------------------------------------------\n",
            "----------------------------------------------------------------------\n",
            "epoch 9\n",
            "Train on 16551 samples, validate on 4952 samples\n",
            "Epoch 1/1\n",
            " 1740/16551 [==>...........................] - ETA: 3:17 - loss: 0.0465 - acc: 0.4402"
          ],
          "name": "stdout"
        },
        {
          "output_type": "stream",
          "text": [
            "16551/16551 [==============================] - 245s 15ms/step - loss: 0.0458 - acc: 0.4638 - val_loss: 0.0569 - val_acc: 0.3237\n",
            "----------------------------------------------------------------------\n",
            "----------------------------------------------------------------------\n",
            "epoch 10\n",
            "Train on 16551 samples, validate on 4952 samples\n",
            "Epoch 1/1\n",
            " 1740/16551 [==>...........................] - ETA: 3:16 - loss: 0.0453 - acc: 0.4655"
          ],
          "name": "stdout"
        },
        {
          "output_type": "stream",
          "text": [
            "16551/16551 [==============================] - 244s 15ms/step - loss: 0.0455 - acc: 0.4702 - val_loss: 0.0568 - val_acc: 0.3132\n",
            "----------------------------------------------------------------------\n",
            "----------------------------------------------------------------------\n",
            "epoch 11\n",
            "Train on 16551 samples, validate on 4952 samples\n",
            "Epoch 1/1\n",
            " 1740/16551 [==>...........................] - ETA: 3:16 - loss: 0.0460 - acc: 0.4667"
          ],
          "name": "stdout"
        },
        {
          "output_type": "stream",
          "text": [
            "16551/16551 [==============================] - 245s 15ms/step - loss: 0.0453 - acc: 0.4744 - val_loss: 0.0572 - val_acc: 0.3211\n",
            "----------------------------------------------------------------------\n",
            "----------------------------------------------------------------------\n",
            "epoch 12\n",
            "Train on 16551 samples, validate on 4952 samples\n",
            "Epoch 1/1\n",
            " 1740/16551 [==>...........................] - ETA: 3:17 - loss: 0.0459 - acc: 0.4787"
          ],
          "name": "stdout"
        },
        {
          "output_type": "stream",
          "text": [
            "16551/16551 [==============================] - 245s 15ms/step - loss: 0.0450 - acc: 0.4780 - val_loss: 0.0569 - val_acc: 0.3154\n",
            "----------------------------------------------------------------------\n",
            "----------------------------------------------------------------------\n",
            "epoch 13\n",
            "Train on 16551 samples, validate on 4952 samples\n",
            "Epoch 1/1\n",
            " 1740/16551 [==>...........................] - ETA: 3:15 - loss: 0.0445 - acc: 0.4885"
          ],
          "name": "stdout"
        },
        {
          "output_type": "stream",
          "text": [
            "16551/16551 [==============================] - 245s 15ms/step - loss: 0.0448 - acc: 0.4834 - val_loss: 0.0570 - val_acc: 0.3126\n",
            "----------------------------------------------------------------------\n",
            "----------------------------------------------------------------------\n",
            "epoch 14\n",
            "Train on 16551 samples, validate on 4952 samples\n",
            "Epoch 1/1\n",
            " 1740/16551 [==>...........................] - ETA: 3:16 - loss: 0.0422 - acc: 0.5098"
          ],
          "name": "stdout"
        },
        {
          "output_type": "stream",
          "text": [
            "16551/16551 [==============================] - 245s 15ms/step - loss: 0.0444 - acc: 0.4870 - val_loss: 0.0574 - val_acc: 0.3144\n",
            "----------------------------------------------------------------------\n",
            "----------------------------------------------------------------------\n",
            "epoch 15\n",
            "Train on 16551 samples, validate on 4952 samples\n",
            "Epoch 1/1\n",
            " 1740/16551 [==>...........................] - ETA: 3:18 - loss: 0.0449 - acc: 0.4822"
          ],
          "name": "stdout"
        },
        {
          "output_type": "stream",
          "text": [
            "16551/16551 [==============================] - 245s 15ms/step - loss: 0.0442 - acc: 0.4923 - val_loss: 0.0573 - val_acc: 0.3239\n",
            "----------------------------------------------------------------------\n",
            "----------------------------------------------------------------------\n",
            "epoch 16\n",
            "Train on 16551 samples, validate on 4952 samples\n",
            "Epoch 1/1\n",
            " 1740/16551 [==>...........................] - ETA: 3:16 - loss: 0.0439 - acc: 0.5155"
          ],
          "name": "stdout"
        },
        {
          "output_type": "stream",
          "text": [
            "16551/16551 [==============================] - 245s 15ms/step - loss: 0.0438 - acc: 0.4957 - val_loss: 0.0573 - val_acc: 0.3152\n",
            "----------------------------------------------------------------------\n",
            "----------------------------------------------------------------------\n",
            "epoch 17\n",
            "Train on 16551 samples, validate on 4952 samples\n",
            "Epoch 1/1\n",
            " 1740/16551 [==>...........................] - ETA: 3:17 - loss: 0.0435 - acc: 0.4747"
          ],
          "name": "stdout"
        },
        {
          "output_type": "stream",
          "text": [
            "16551/16551 [==============================] - 245s 15ms/step - loss: 0.0436 - acc: 0.4987 - val_loss: 0.0575 - val_acc: 0.3199\n",
            "----------------------------------------------------------------------\n",
            "----------------------------------------------------------------------\n",
            "epoch 18\n",
            "Train on 16551 samples, validate on 4952 samples\n",
            "Epoch 1/1\n",
            " 1740/16551 [==>...........................] - ETA: 3:18 - loss: 0.0415 - acc: 0.5075"
          ],
          "name": "stdout"
        },
        {
          "output_type": "stream",
          "text": [
            "16551/16551 [==============================] - 245s 15ms/step - loss: 0.0432 - acc: 0.5059 - val_loss: 0.0577 - val_acc: 0.3110\n",
            "----------------------------------------------------------------------\n",
            "----------------------------------------------------------------------\n",
            "epoch 19\n",
            "Train on 16551 samples, validate on 4952 samples\n",
            "Epoch 1/1\n",
            " 1740/16551 [==>...........................] - ETA: 3:17 - loss: 0.0430 - acc: 0.5218"
          ],
          "name": "stdout"
        },
        {
          "output_type": "stream",
          "text": [
            "16551/16551 [==============================] - 245s 15ms/step - loss: 0.0430 - acc: 0.5090 - val_loss: 0.0582 - val_acc: 0.3221\n",
            "----------------------------------------------------------------------\n",
            "----------------------------------------------------------------------\n",
            "epoch 20\n",
            "Train on 16551 samples, validate on 4952 samples\n",
            "Epoch 1/1\n",
            " 1740/16551 [==>...........................] - ETA: 3:16 - loss: 0.0420 - acc: 0.5172"
          ],
          "name": "stdout"
        },
        {
          "output_type": "stream",
          "text": [
            "16551/16551 [==============================] - 245s 15ms/step - loss: 0.0427 - acc: 0.5109 - val_loss: 0.0582 - val_acc: 0.3086\n",
            "----------------------------------------------------------------------\n",
            "----------------------------------------------------------------------\n",
            "epoch 21\n",
            "Train on 16551 samples, validate on 4952 samples\n",
            "Epoch 1/1\n",
            " 1740/16551 [==>...........................] - ETA: 3:16 - loss: 0.0423 - acc: 0.4966"
          ],
          "name": "stdout"
        },
        {
          "output_type": "stream",
          "text": [
            "16551/16551 [==============================] - 245s 15ms/step - loss: 0.0424 - acc: 0.5138 - val_loss: 0.0584 - val_acc: 0.3154\n",
            "----------------------------------------------------------------------\n",
            "----------------------------------------------------------------------\n",
            "epoch 22\n",
            "Train on 16551 samples, validate on 4952 samples\n",
            "Epoch 1/1\n",
            " 1740/16551 [==>...........................] - ETA: 3:17 - loss: 0.0414 - acc: 0.5259"
          ],
          "name": "stdout"
        },
        {
          "output_type": "stream",
          "text": [
            "16551/16551 [==============================] - 245s 15ms/step - loss: 0.0421 - acc: 0.5202 - val_loss: 0.0584 - val_acc: 0.3156\n",
            "----------------------------------------------------------------------\n",
            "----------------------------------------------------------------------\n",
            "epoch 23\n",
            "Train on 16551 samples, validate on 4952 samples\n",
            "Epoch 1/1\n",
            " 1740/16551 [==>...........................] - ETA: 3:17 - loss: 0.0422 - acc: 0.5086"
          ],
          "name": "stdout"
        },
        {
          "output_type": "stream",
          "text": [
            "16551/16551 [==============================] - 244s 15ms/step - loss: 0.0417 - acc: 0.5268 - val_loss: 0.0589 - val_acc: 0.3156\n",
            "----------------------------------------------------------------------\n",
            "----------------------------------------------------------------------\n",
            "epoch 24\n",
            "Train on 16551 samples, validate on 4952 samples\n",
            "Epoch 1/1\n",
            " 1740/16551 [==>...........................] - ETA: 3:17 - loss: 0.0419 - acc: 0.5287"
          ],
          "name": "stdout"
        },
        {
          "output_type": "stream",
          "text": [
            "16551/16551 [==============================] - 245s 15ms/step - loss: 0.0415 - acc: 0.5264 - val_loss: 0.0589 - val_acc: 0.3187\n",
            "----------------------------------------------------------------------\n",
            "----------------------------------------------------------------------\n",
            "epoch 25\n",
            "Train on 16551 samples, validate on 4952 samples\n",
            "Epoch 1/1\n",
            " 1740/16551 [==>...........................] - ETA: 3:17 - loss: 0.0419 - acc: 0.5259"
          ],
          "name": "stdout"
        },
        {
          "output_type": "stream",
          "text": [
            "16551/16551 [==============================] - 245s 15ms/step - loss: 0.0412 - acc: 0.5318 - val_loss: 0.0591 - val_acc: 0.3237\n",
            "----------------------------------------------------------------------\n",
            "----------------------------------------------------------------------\n",
            "epoch 26\n",
            "Train on 16551 samples, validate on 4952 samples\n",
            "Epoch 1/1\n",
            " 1740/16551 [==>...........................] - ETA: 3:16 - loss: 0.0394 - acc: 0.5437"
          ],
          "name": "stdout"
        },
        {
          "output_type": "stream",
          "text": [
            "16551/16551 [==============================] - 245s 15ms/step - loss: 0.0409 - acc: 0.5336 - val_loss: 0.0591 - val_acc: 0.3086\n",
            "----------------------------------------------------------------------\n",
            "----------------------------------------------------------------------\n",
            "epoch 27\n",
            "Train on 16551 samples, validate on 4952 samples\n",
            "Epoch 1/1\n",
            " 1740/16551 [==>...........................] - ETA: 3:18 - loss: 0.0389 - acc: 0.5420"
          ],
          "name": "stdout"
        },
        {
          "output_type": "stream",
          "text": [
            "16551/16551 [==============================] - 245s 15ms/step - loss: 0.0406 - acc: 0.5415 - val_loss: 0.0590 - val_acc: 0.3086\n",
            "----------------------------------------------------------------------\n",
            "----------------------------------------------------------------------\n",
            "epoch 28\n",
            "Train on 16551 samples, validate on 4952 samples\n",
            "Epoch 1/1\n",
            " 1740/16551 [==>...........................] - ETA: 3:15 - loss: 0.0384 - acc: 0.5494"
          ],
          "name": "stdout"
        },
        {
          "output_type": "stream",
          "text": [
            "16551/16551 [==============================] - 245s 15ms/step - loss: 0.0404 - acc: 0.5415 - val_loss: 0.0594 - val_acc: 0.3170\n",
            "----------------------------------------------------------------------\n",
            "----------------------------------------------------------------------\n",
            "epoch 29\n",
            "Train on 16551 samples, validate on 4952 samples\n",
            "Epoch 1/1\n",
            " 1740/16551 [==>...........................] - ETA: 3:14 - loss: 0.0387 - acc: 0.5724"
          ],
          "name": "stdout"
        },
        {
          "output_type": "stream",
          "text": [
            "16551/16551 [==============================] - 245s 15ms/step - loss: 0.0401 - acc: 0.5461 - val_loss: 0.0595 - val_acc: 0.3102\n",
            "----------------------------------------------------------------------\n",
            "----------------------------------------------------------------------\n",
            "epoch 30\n",
            "Train on 16551 samples, validate on 4952 samples\n",
            "Epoch 1/1\n",
            " 1740/16551 [==>...........................] - ETA: 3:16 - loss: 0.0387 - acc: 0.5563"
          ],
          "name": "stdout"
        },
        {
          "output_type": "stream",
          "text": [
            "16551/16551 [==============================] - 245s 15ms/step - loss: 0.0397 - acc: 0.5531 - val_loss: 0.0598 - val_acc: 0.3176\n",
            "----------------------------------------------------------------------\n",
            "----------------------------------------------------------------------\n",
            "epoch 31\n",
            "Train on 16551 samples, validate on 4952 samples\n",
            "Epoch 1/1\n",
            " 1740/16551 [==>...........................] - ETA: 3:16 - loss: 0.0398 - acc: 0.5632"
          ],
          "name": "stdout"
        },
        {
          "output_type": "stream",
          "text": [
            "16551/16551 [==============================] - 245s 15ms/step - loss: 0.0396 - acc: 0.5573 - val_loss: 0.0593 - val_acc: 0.3126\n",
            "----------------------------------------------------------------------\n",
            "----------------------------------------------------------------------\n",
            "epoch 32\n",
            "Train on 16551 samples, validate on 4952 samples\n",
            "Epoch 1/1\n",
            " 1740/16551 [==>...........................] - ETA: 3:16 - loss: 0.0406 - acc: 0.5500"
          ],
          "name": "stdout"
        },
        {
          "output_type": "stream",
          "text": [
            "16551/16551 [==============================] - 245s 15ms/step - loss: 0.0393 - acc: 0.5565 - val_loss: 0.0602 - val_acc: 0.3162\n",
            "----------------------------------------------------------------------\n",
            "----------------------------------------------------------------------\n",
            "epoch 33\n",
            "Train on 16551 samples, validate on 4952 samples\n",
            "Epoch 1/1\n",
            " 1740/16551 [==>...........................] - ETA: 3:17 - loss: 0.0379 - acc: 0.5764"
          ],
          "name": "stdout"
        },
        {
          "output_type": "stream",
          "text": [
            "16551/16551 [==============================] - 245s 15ms/step - loss: 0.0391 - acc: 0.5583 - val_loss: 0.0598 - val_acc: 0.3132\n",
            "----------------------------------------------------------------------\n",
            "----------------------------------------------------------------------\n",
            "epoch 34\n",
            "Train on 16551 samples, validate on 4952 samples\n",
            "Epoch 1/1\n",
            " 1740/16551 [==>...........................] - ETA: 3:17 - loss: 0.0371 - acc: 0.5753"
          ],
          "name": "stdout"
        },
        {
          "output_type": "stream",
          "text": [
            "16551/16551 [==============================] - 243s 15ms/step - loss: 0.0387 - acc: 0.5660 - val_loss: 0.0600 - val_acc: 0.3035\n",
            "----------------------------------------------------------------------\n",
            "----------------------------------------------------------------------\n",
            "epoch 35\n",
            "Train on 16551 samples, validate on 4952 samples\n",
            "Epoch 1/1\n",
            " 1740/16551 [==>...........................] - ETA: 3:14 - loss: 0.0378 - acc: 0.5753"
          ],
          "name": "stdout"
        },
        {
          "output_type": "stream",
          "text": [
            "16551/16551 [==============================] - 244s 15ms/step - loss: 0.0384 - acc: 0.5669 - val_loss: 0.0603 - val_acc: 0.3138\n",
            "----------------------------------------------------------------------\n",
            "----------------------------------------------------------------------\n",
            "epoch 36\n",
            "Train on 16551 samples, validate on 4952 samples\n",
            "Epoch 1/1\n",
            " 1740/16551 [==>...........................] - ETA: 3:16 - loss: 0.0376 - acc: 0.5822"
          ],
          "name": "stdout"
        },
        {
          "output_type": "stream",
          "text": [
            "16551/16551 [==============================] - 244s 15ms/step - loss: 0.0383 - acc: 0.5693 - val_loss: 0.0607 - val_acc: 0.3043\n",
            "----------------------------------------------------------------------\n",
            "----------------------------------------------------------------------\n",
            "epoch 37\n",
            "Train on 16551 samples, validate on 4952 samples\n",
            "Epoch 1/1\n",
            " 1740/16551 [==>...........................] - ETA: 3:16 - loss: 0.0374 - acc: 0.5828"
          ],
          "name": "stdout"
        },
        {
          "output_type": "stream",
          "text": [
            "16551/16551 [==============================] - 245s 15ms/step - loss: 0.0380 - acc: 0.5745 - val_loss: 0.0605 - val_acc: 0.3118\n",
            "----------------------------------------------------------------------\n",
            "----------------------------------------------------------------------\n",
            "epoch 38\n",
            "Train on 16551 samples, validate on 4952 samples\n",
            "Epoch 1/1\n",
            " 1740/16551 [==>...........................] - ETA: 3:17 - loss: 0.0366 - acc: 0.5920"
          ],
          "name": "stdout"
        },
        {
          "output_type": "stream",
          "text": [
            "16551/16551 [==============================] - 245s 15ms/step - loss: 0.0378 - acc: 0.5774 - val_loss: 0.0605 - val_acc: 0.3100\n",
            "----------------------------------------------------------------------\n",
            "----------------------------------------------------------------------\n",
            "epoch 39\n",
            "Train on 16551 samples, validate on 4952 samples\n",
            "Epoch 1/1\n",
            " 1740/16551 [==>...........................] - ETA: 3:18 - loss: 0.0363 - acc: 0.5897"
          ],
          "name": "stdout"
        },
        {
          "output_type": "stream",
          "text": [
            "16551/16551 [==============================] - 245s 15ms/step - loss: 0.0375 - acc: 0.5812 - val_loss: 0.0613 - val_acc: 0.3074\n",
            "----------------------------------------------------------------------\n",
            "----------------------------------------------------------------------\n",
            "epoch 40\n",
            "Train on 16551 samples, validate on 4952 samples\n",
            "Epoch 1/1\n",
            " 1740/16551 [==>...........................] - ETA: 3:16 - loss: 0.0380 - acc: 0.5787"
          ],
          "name": "stdout"
        },
        {
          "output_type": "stream",
          "text": [
            "16551/16551 [==============================] - 245s 15ms/step - loss: 0.0373 - acc: 0.5815 - val_loss: 0.0611 - val_acc: 0.3136\n",
            "----------------------------------------------------------------------\n",
            "----------------------------------------------------------------------\n",
            "epoch 41\n",
            "Train on 16551 samples, validate on 4952 samples\n",
            "Epoch 1/1\n",
            " 1740/16551 [==>...........................] - ETA: 3:18 - loss: 0.0371 - acc: 0.5851"
          ],
          "name": "stdout"
        },
        {
          "output_type": "stream",
          "text": [
            "16551/16551 [==============================] - 245s 15ms/step - loss: 0.0370 - acc: 0.5869 - val_loss: 0.0609 - val_acc: 0.3176\n",
            "----------------------------------------------------------------------\n",
            "----------------------------------------------------------------------\n",
            "epoch 42\n",
            "Train on 16551 samples, validate on 4952 samples\n",
            "Epoch 1/1\n",
            " 1740/16551 [==>...........................] - ETA: 3:17 - loss: 0.0378 - acc: 0.5822"
          ],
          "name": "stdout"
        },
        {
          "output_type": "stream",
          "text": [
            "16551/16551 [==============================] - 245s 15ms/step - loss: 0.0368 - acc: 0.5870 - val_loss: 0.0613 - val_acc: 0.3112\n",
            "----------------------------------------------------------------------\n",
            "----------------------------------------------------------------------\n",
            "epoch 43\n",
            "Train on 16551 samples, validate on 4952 samples\n",
            "Epoch 1/1\n",
            " 1740/16551 [==>...........................] - ETA: 3:16 - loss: 0.0354 - acc: 0.6034"
          ],
          "name": "stdout"
        },
        {
          "output_type": "stream",
          "text": [
            "16551/16551 [==============================] - 244s 15ms/step - loss: 0.0366 - acc: 0.5912 - val_loss: 0.0616 - val_acc: 0.3098\n",
            "----------------------------------------------------------------------\n",
            "----------------------------------------------------------------------\n",
            "epoch 44\n",
            "Train on 16551 samples, validate on 4952 samples\n",
            "Epoch 1/1\n",
            " 1740/16551 [==>...........................] - ETA: 3:15 - loss: 0.0353 - acc: 0.6144"
          ],
          "name": "stdout"
        },
        {
          "output_type": "stream",
          "text": [
            "16551/16551 [==============================] - 245s 15ms/step - loss: 0.0365 - acc: 0.5949 - val_loss: 0.0623 - val_acc: 0.3106\n",
            "----------------------------------------------------------------------\n",
            "----------------------------------------------------------------------\n",
            "epoch 45\n",
            "Train on 16551 samples, validate on 4952 samples\n",
            "Epoch 1/1\n",
            " 1740/16551 [==>...........................] - ETA: 3:16 - loss: 0.0358 - acc: 0.5902"
          ],
          "name": "stdout"
        },
        {
          "output_type": "stream",
          "text": [
            "16551/16551 [==============================] - 244s 15ms/step - loss: 0.0362 - acc: 0.5948 - val_loss: 0.0615 - val_acc: 0.3094\n",
            "----------------------------------------------------------------------\n",
            "----------------------------------------------------------------------\n",
            "epoch 46\n",
            "Train on 16551 samples, validate on 4952 samples\n",
            "Epoch 1/1\n",
            " 1740/16551 [==>...........................] - ETA: 3:17 - loss: 0.0350 - acc: 0.6138"
          ],
          "name": "stdout"
        },
        {
          "output_type": "stream",
          "text": [
            "16551/16551 [==============================] - 245s 15ms/step - loss: 0.0360 - acc: 0.6014 - val_loss: 0.0616 - val_acc: 0.3098\n",
            "----------------------------------------------------------------------\n",
            "----------------------------------------------------------------------\n",
            "epoch 47\n",
            "Train on 16551 samples, validate on 4952 samples\n",
            "Epoch 1/1\n",
            " 1740/16551 [==>...........................] - ETA: 3:15 - loss: 0.0352 - acc: 0.6115"
          ],
          "name": "stdout"
        },
        {
          "output_type": "stream",
          "text": [
            "16551/16551 [==============================] - 244s 15ms/step - loss: 0.0358 - acc: 0.5983 - val_loss: 0.0618 - val_acc: 0.3098\n",
            "----------------------------------------------------------------------\n",
            "----------------------------------------------------------------------\n",
            "epoch 48\n",
            "Train on 16551 samples, validate on 4952 samples\n",
            "Epoch 1/1\n",
            " 1740/16551 [==>...........................] - ETA: 3:18 - loss: 0.0333 - acc: 0.6408"
          ],
          "name": "stdout"
        },
        {
          "output_type": "stream",
          "text": [
            "16551/16551 [==============================] - 245s 15ms/step - loss: 0.0355 - acc: 0.6055 - val_loss: 0.0619 - val_acc: 0.3138\n",
            "----------------------------------------------------------------------\n",
            "----------------------------------------------------------------------\n",
            "epoch 49\n",
            "Train on 16551 samples, validate on 4952 samples\n",
            "Epoch 1/1\n",
            " 1740/16551 [==>...........................] - ETA: 3:17 - loss: 0.0353 - acc: 0.6149"
          ],
          "name": "stdout"
        },
        {
          "output_type": "stream",
          "text": [
            "16551/16551 [==============================] - 245s 15ms/step - loss: 0.0355 - acc: 0.6035 - val_loss: 0.0615 - val_acc: 0.3124\n",
            "----------------------------------------------------------------------\n",
            "----------------------------------------------------------------------\n",
            "epoch 50\n",
            "Train on 16551 samples, validate on 4952 samples\n",
            "Epoch 1/1\n",
            " 1740/16551 [==>...........................] - ETA: 3:17 - loss: 0.0353 - acc: 0.6190"
          ],
          "name": "stdout"
        },
        {
          "output_type": "stream",
          "text": [
            "16551/16551 [==============================] - 245s 15ms/step - loss: 0.0352 - acc: 0.6080 - val_loss: 0.0620 - val_acc: 0.3027\n",
            "----------------------------------------------------------------------\n",
            "----------------------------------------------------------------------\n",
            "epoch 51\n",
            "Train on 16551 samples, validate on 4952 samples\n",
            "Epoch 1/1\n",
            " 1740/16551 [==>...........................] - ETA: 3:15 - loss: 0.0344 - acc: 0.6149"
          ],
          "name": "stdout"
        },
        {
          "output_type": "stream",
          "text": [
            "16551/16551 [==============================] - 244s 15ms/step - loss: 0.0351 - acc: 0.6084 - val_loss: 0.0616 - val_acc: 0.3102\n",
            "----------------------------------------------------------------------\n",
            "----------------------------------------------------------------------\n",
            "epoch 52\n",
            "Train on 16551 samples, validate on 4952 samples\n",
            "Epoch 1/1\n",
            " 1740/16551 [==>...........................] - ETA: 3:15 - loss: 0.0338 - acc: 0.6270"
          ],
          "name": "stdout"
        },
        {
          "output_type": "stream",
          "text": [
            "16551/16551 [==============================] - 245s 15ms/step - loss: 0.0349 - acc: 0.6132 - val_loss: 0.0622 - val_acc: 0.3146\n",
            "----------------------------------------------------------------------\n",
            "----------------------------------------------------------------------\n",
            "epoch 53\n",
            "Train on 16551 samples, validate on 4952 samples\n",
            "Epoch 1/1\n",
            " 1740/16551 [==>...........................] - ETA: 3:16 - loss: 0.0344 - acc: 0.6190"
          ],
          "name": "stdout"
        },
        {
          "output_type": "stream",
          "text": [
            "16551/16551 [==============================] - 244s 15ms/step - loss: 0.0348 - acc: 0.6130 - val_loss: 0.0616 - val_acc: 0.3071\n",
            "----------------------------------------------------------------------\n",
            "----------------------------------------------------------------------\n",
            "epoch 54\n",
            "Train on 16551 samples, validate on 4952 samples\n",
            "Epoch 1/1\n",
            " 1740/16551 [==>...........................] - ETA: 3:18 - loss: 0.0324 - acc: 0.6328"
          ],
          "name": "stdout"
        },
        {
          "output_type": "stream",
          "text": [
            "16551/16551 [==============================] - 245s 15ms/step - loss: 0.0345 - acc: 0.6155 - val_loss: 0.0618 - val_acc: 0.3146\n",
            "----------------------------------------------------------------------\n",
            "----------------------------------------------------------------------\n",
            "epoch 55\n",
            "Train on 16551 samples, validate on 4952 samples\n",
            "Epoch 1/1\n",
            " 1740/16551 [==>...........................] - ETA: 3:17 - loss: 0.0349 - acc: 0.6080"
          ],
          "name": "stdout"
        },
        {
          "output_type": "stream",
          "text": [
            "16551/16551 [==============================] - 245s 15ms/step - loss: 0.0343 - acc: 0.6163 - val_loss: 0.0622 - val_acc: 0.3138\n",
            "----------------------------------------------------------------------\n",
            "----------------------------------------------------------------------\n",
            "epoch 56\n",
            "Train on 16551 samples, validate on 4952 samples\n",
            "Epoch 1/1\n",
            " 1740/16551 [==>...........................] - ETA: 3:16 - loss: 0.0340 - acc: 0.6253"
          ],
          "name": "stdout"
        },
        {
          "output_type": "stream",
          "text": [
            "16551/16551 [==============================] - 244s 15ms/step - loss: 0.0342 - acc: 0.6221 - val_loss: 0.0623 - val_acc: 0.3128\n",
            "----------------------------------------------------------------------\n",
            "----------------------------------------------------------------------\n",
            "epoch 57\n",
            "Train on 16551 samples, validate on 4952 samples\n",
            "Epoch 1/1\n",
            " 1740/16551 [==>...........................] - ETA: 3:17 - loss: 0.0336 - acc: 0.6310"
          ],
          "name": "stdout"
        },
        {
          "output_type": "stream",
          "text": [
            "16551/16551 [==============================] - 245s 15ms/step - loss: 0.0341 - acc: 0.6206 - val_loss: 0.0625 - val_acc: 0.3021\n",
            "----------------------------------------------------------------------\n",
            "----------------------------------------------------------------------\n",
            "epoch 58\n",
            "Train on 16551 samples, validate on 4952 samples\n",
            "Epoch 1/1\n",
            " 1740/16551 [==>...........................] - ETA: 3:17 - loss: 0.0336 - acc: 0.6397"
          ],
          "name": "stdout"
        },
        {
          "output_type": "stream",
          "text": [
            "16551/16551 [==============================] - 245s 15ms/step - loss: 0.0339 - acc: 0.6243 - val_loss: 0.0622 - val_acc: 0.2985\n",
            "----------------------------------------------------------------------\n",
            "----------------------------------------------------------------------\n",
            "epoch 59\n",
            "Train on 16551 samples, validate on 4952 samples\n",
            "Epoch 1/1\n",
            " 1740/16551 [==>...........................] - ETA: 3:17 - loss: 0.0341 - acc: 0.6270"
          ],
          "name": "stdout"
        },
        {
          "output_type": "stream",
          "text": [
            "16551/16551 [==============================] - 245s 15ms/step - loss: 0.0338 - acc: 0.6261 - val_loss: 0.0626 - val_acc: 0.3189\n",
            "----------------------------------------------------------------------\n",
            "----------------------------------------------------------------------\n",
            "epoch 60\n",
            "Train on 16551 samples, validate on 4952 samples\n",
            "Epoch 1/1\n",
            " 1740/16551 [==>...........................] - ETA: 3:15 - loss: 0.0334 - acc: 0.6408"
          ],
          "name": "stdout"
        },
        {
          "output_type": "stream",
          "text": [
            "16551/16551 [==============================] - 245s 15ms/step - loss: 0.0335 - acc: 0.6297 - val_loss: 0.0625 - val_acc: 0.3047\n",
            "----------------------------------------------------------------------\n",
            "----------------------------------------------------------------------\n",
            "epoch 61\n",
            "Train on 16551 samples, validate on 4952 samples\n",
            "Epoch 1/1\n",
            " 1740/16551 [==>...........................] - ETA: 3:19 - loss: 0.0327 - acc: 0.6328"
          ],
          "name": "stdout"
        },
        {
          "output_type": "stream",
          "text": [
            "16551/16551 [==============================] - 245s 15ms/step - loss: 0.0334 - acc: 0.6291 - val_loss: 0.0627 - val_acc: 0.3110\n",
            "----------------------------------------------------------------------\n",
            "----------------------------------------------------------------------\n",
            "epoch 62\n",
            "Train on 16551 samples, validate on 4952 samples\n",
            "Epoch 1/1\n",
            " 1740/16551 [==>...........................] - ETA: 3:17 - loss: 0.0336 - acc: 0.6236"
          ],
          "name": "stdout"
        },
        {
          "output_type": "stream",
          "text": [
            "16551/16551 [==============================] - 245s 15ms/step - loss: 0.0333 - acc: 0.6292 - val_loss: 0.0623 - val_acc: 0.3162\n",
            "----------------------------------------------------------------------\n",
            "----------------------------------------------------------------------\n",
            "epoch 63\n",
            "Train on 16551 samples, validate on 4952 samples\n",
            "Epoch 1/1\n",
            " 1740/16551 [==>...........................] - ETA: 3:15 - loss: 0.0335 - acc: 0.6293"
          ],
          "name": "stdout"
        },
        {
          "output_type": "stream",
          "text": [
            "16551/16551 [==============================] - 245s 15ms/step - loss: 0.0331 - acc: 0.6326 - val_loss: 0.0624 - val_acc: 0.3069\n",
            "----------------------------------------------------------------------\n",
            "----------------------------------------------------------------------\n",
            "epoch 64\n",
            "Train on 16551 samples, validate on 4952 samples\n",
            "Epoch 1/1\n",
            " 1740/16551 [==>...........................] - ETA: 3:18 - loss: 0.0330 - acc: 0.6471"
          ],
          "name": "stdout"
        },
        {
          "output_type": "stream",
          "text": [
            "16551/16551 [==============================] - 245s 15ms/step - loss: 0.0330 - acc: 0.6319 - val_loss: 0.0628 - val_acc: 0.3061\n",
            "----------------------------------------------------------------------\n",
            "----------------------------------------------------------------------\n",
            "epoch 65\n",
            "Train on 16551 samples, validate on 4952 samples\n",
            "Epoch 1/1\n",
            " 1740/16551 [==>...........................] - ETA: 3:18 - loss: 0.0325 - acc: 0.6466"
          ],
          "name": "stdout"
        },
        {
          "output_type": "stream",
          "text": [
            "16551/16551 [==============================] - 245s 15ms/step - loss: 0.0328 - acc: 0.6368 - val_loss: 0.0624 - val_acc: 0.3078\n",
            "----------------------------------------------------------------------\n",
            "----------------------------------------------------------------------\n",
            "epoch 66\n",
            "Train on 16551 samples, validate on 4952 samples\n",
            "Epoch 1/1\n",
            " 1740/16551 [==>...........................] - ETA: 3:16 - loss: 0.0330 - acc: 0.6287"
          ],
          "name": "stdout"
        },
        {
          "output_type": "stream",
          "text": [
            "16551/16551 [==============================] - 245s 15ms/step - loss: 0.0329 - acc: 0.6369 - val_loss: 0.0629 - val_acc: 0.3088\n",
            "----------------------------------------------------------------------\n",
            "----------------------------------------------------------------------\n",
            "epoch 67\n",
            "Train on 16551 samples, validate on 4952 samples\n",
            "Epoch 1/1\n",
            " 1740/16551 [==>...........................] - ETA: 3:18 - loss: 0.0340 - acc: 0.6333"
          ],
          "name": "stdout"
        },
        {
          "output_type": "stream",
          "text": [
            "16551/16551 [==============================] - 245s 15ms/step - loss: 0.0326 - acc: 0.6366 - val_loss: 0.0623 - val_acc: 0.2997\n",
            "----------------------------------------------------------------------\n",
            "----------------------------------------------------------------------\n",
            "epoch 68\n",
            "Train on 16551 samples, validate on 4952 samples\n",
            "Epoch 1/1\n",
            " 1740/16551 [==>...........................] - ETA: 3:17 - loss: 0.0326 - acc: 0.6339"
          ],
          "name": "stdout"
        },
        {
          "output_type": "stream",
          "text": [
            "16551/16551 [==============================] - 245s 15ms/step - loss: 0.0326 - acc: 0.6399 - val_loss: 0.0626 - val_acc: 0.3122\n",
            "----------------------------------------------------------------------\n",
            "----------------------------------------------------------------------\n",
            "epoch 69\n",
            "Train on 16551 samples, validate on 4952 samples\n",
            "Epoch 1/1\n",
            " 1020/16551 [>.............................] - ETA: 3:27 - loss: 0.0321 - acc: 0.6471"
          ],
          "name": "stdout"
        },
        {
          "output_type": "error",
          "ename": "KeyboardInterrupt",
          "evalue": "ignored",
          "traceback": [
            "\u001b[0;31m---------------------------------------------------------------------------\u001b[0m",
            "\u001b[0;31mKeyboardInterrupt\u001b[0m                         Traceback (most recent call last)",
            "\u001b[0;32m<ipython-input-17-3f341c998a2c>\u001b[0m in \u001b[0;36m<module>\u001b[0;34m()\u001b[0m\n\u001b[1;32m     13\u001b[0m \u001b[0;32mfor\u001b[0m \u001b[0mi\u001b[0m \u001b[0;32min\u001b[0m \u001b[0mrange\u001b[0m\u001b[0;34m(\u001b[0m\u001b[0;36m100\u001b[0m\u001b[0;34m)\u001b[0m\u001b[0;34m:\u001b[0m\u001b[0;34m\u001b[0m\u001b[0m\n\u001b[1;32m     14\u001b[0m   \u001b[0mprint\u001b[0m\u001b[0;34m(\u001b[0m\u001b[0;34m\"epoch\"\u001b[0m\u001b[0;34m,\u001b[0m\u001b[0mi\u001b[0m\u001b[0;34m)\u001b[0m\u001b[0;34m\u001b[0m\u001b[0m\n\u001b[0;32m---> 15\u001b[0;31m   \u001b[0mx\u001b[0m\u001b[0;34m.\u001b[0m\u001b[0mfit\u001b[0m\u001b[0;34m(\u001b[0m\u001b[0mX\u001b[0m\u001b[0;34m,\u001b[0m \u001b[0mY\u001b[0m\u001b[0;34m,\u001b[0m\u001b[0mepochs\u001b[0m\u001b[0;34m=\u001b[0m\u001b[0;36m1\u001b[0m\u001b[0;34m,\u001b[0m\u001b[0mbatch_size\u001b[0m\u001b[0;34m=\u001b[0m\u001b[0;36m20\u001b[0m\u001b[0;34m,\u001b[0m\u001b[0mvalidation_data\u001b[0m\u001b[0;34m=\u001b[0m\u001b[0;34m(\u001b[0m\u001b[0mX_val\u001b[0m\u001b[0;34m,\u001b[0m \u001b[0mY_val\u001b[0m\u001b[0;34m)\u001b[0m\u001b[0;34m)\u001b[0m\u001b[0;34m\u001b[0m\u001b[0m\n\u001b[0m\u001b[1;32m     16\u001b[0m   \u001b[0mx\u001b[0m\u001b[0;34m.\u001b[0m\u001b[0msave\u001b[0m\u001b[0;34m(\u001b[0m\u001b[0;34m'ePascalVOCClassifier_epoch18above.h5'\u001b[0m\u001b[0;34m)\u001b[0m\u001b[0;34m\u001b[0m\u001b[0m\n\u001b[1;32m     17\u001b[0m   \u001b[0mprint\u001b[0m\u001b[0;34m(\u001b[0m\u001b[0;34m\"----------------------------------------------------------------------\"\u001b[0m\u001b[0;34m)\u001b[0m\u001b[0;34m\u001b[0m\u001b[0m\n",
            "\u001b[0;32m/usr/local/lib/python3.6/dist-packages/keras/models.py\u001b[0m in \u001b[0;36mfit\u001b[0;34m(self, x, y, batch_size, epochs, verbose, callbacks, validation_split, validation_data, shuffle, class_weight, sample_weight, initial_epoch, steps_per_epoch, validation_steps, **kwargs)\u001b[0m\n\u001b[1;32m   1000\u001b[0m                               \u001b[0minitial_epoch\u001b[0m\u001b[0;34m=\u001b[0m\u001b[0minitial_epoch\u001b[0m\u001b[0;34m,\u001b[0m\u001b[0;34m\u001b[0m\u001b[0m\n\u001b[1;32m   1001\u001b[0m                               \u001b[0msteps_per_epoch\u001b[0m\u001b[0;34m=\u001b[0m\u001b[0msteps_per_epoch\u001b[0m\u001b[0;34m,\u001b[0m\u001b[0;34m\u001b[0m\u001b[0m\n\u001b[0;32m-> 1002\u001b[0;31m                               validation_steps=validation_steps)\n\u001b[0m\u001b[1;32m   1003\u001b[0m \u001b[0;34m\u001b[0m\u001b[0m\n\u001b[1;32m   1004\u001b[0m     def evaluate(self, x=None, y=None,\n",
            "\u001b[0;32m/usr/local/lib/python3.6/dist-packages/keras/engine/training.py\u001b[0m in \u001b[0;36mfit\u001b[0;34m(self, x, y, batch_size, epochs, verbose, callbacks, validation_split, validation_data, shuffle, class_weight, sample_weight, initial_epoch, steps_per_epoch, validation_steps, **kwargs)\u001b[0m\n\u001b[1;32m   1703\u001b[0m                               \u001b[0minitial_epoch\u001b[0m\u001b[0;34m=\u001b[0m\u001b[0minitial_epoch\u001b[0m\u001b[0;34m,\u001b[0m\u001b[0;34m\u001b[0m\u001b[0m\n\u001b[1;32m   1704\u001b[0m                               \u001b[0msteps_per_epoch\u001b[0m\u001b[0;34m=\u001b[0m\u001b[0msteps_per_epoch\u001b[0m\u001b[0;34m,\u001b[0m\u001b[0;34m\u001b[0m\u001b[0m\n\u001b[0;32m-> 1705\u001b[0;31m                               validation_steps=validation_steps)\n\u001b[0m\u001b[1;32m   1706\u001b[0m \u001b[0;34m\u001b[0m\u001b[0m\n\u001b[1;32m   1707\u001b[0m     def evaluate(self, x=None, y=None,\n",
            "\u001b[0;32m/usr/local/lib/python3.6/dist-packages/keras/engine/training.py\u001b[0m in \u001b[0;36m_fit_loop\u001b[0;34m(self, f, ins, out_labels, batch_size, epochs, verbose, callbacks, val_f, val_ins, shuffle, callback_metrics, initial_epoch, steps_per_epoch, validation_steps)\u001b[0m\n\u001b[1;32m   1234\u001b[0m                         \u001b[0mins_batch\u001b[0m\u001b[0;34m[\u001b[0m\u001b[0mi\u001b[0m\u001b[0;34m]\u001b[0m \u001b[0;34m=\u001b[0m \u001b[0mins_batch\u001b[0m\u001b[0;34m[\u001b[0m\u001b[0mi\u001b[0m\u001b[0;34m]\u001b[0m\u001b[0;34m.\u001b[0m\u001b[0mtoarray\u001b[0m\u001b[0;34m(\u001b[0m\u001b[0;34m)\u001b[0m\u001b[0;34m\u001b[0m\u001b[0m\n\u001b[1;32m   1235\u001b[0m \u001b[0;34m\u001b[0m\u001b[0m\n\u001b[0;32m-> 1236\u001b[0;31m                     \u001b[0mouts\u001b[0m \u001b[0;34m=\u001b[0m \u001b[0mf\u001b[0m\u001b[0;34m(\u001b[0m\u001b[0mins_batch\u001b[0m\u001b[0;34m)\u001b[0m\u001b[0;34m\u001b[0m\u001b[0m\n\u001b[0m\u001b[1;32m   1237\u001b[0m                     \u001b[0;32mif\u001b[0m \u001b[0;32mnot\u001b[0m \u001b[0misinstance\u001b[0m\u001b[0;34m(\u001b[0m\u001b[0mouts\u001b[0m\u001b[0;34m,\u001b[0m \u001b[0mlist\u001b[0m\u001b[0;34m)\u001b[0m\u001b[0;34m:\u001b[0m\u001b[0;34m\u001b[0m\u001b[0m\n\u001b[1;32m   1238\u001b[0m                         \u001b[0mouts\u001b[0m \u001b[0;34m=\u001b[0m \u001b[0;34m[\u001b[0m\u001b[0mouts\u001b[0m\u001b[0;34m]\u001b[0m\u001b[0;34m\u001b[0m\u001b[0m\n",
            "\u001b[0;32m/usr/local/lib/python3.6/dist-packages/keras/backend/tensorflow_backend.py\u001b[0m in \u001b[0;36m__call__\u001b[0;34m(self, inputs)\u001b[0m\n\u001b[1;32m   2480\u001b[0m         \u001b[0msession\u001b[0m \u001b[0;34m=\u001b[0m \u001b[0mget_session\u001b[0m\u001b[0;34m(\u001b[0m\u001b[0;34m)\u001b[0m\u001b[0;34m\u001b[0m\u001b[0m\n\u001b[1;32m   2481\u001b[0m         updated = session.run(fetches=fetches, feed_dict=feed_dict,\n\u001b[0;32m-> 2482\u001b[0;31m                               **self.session_kwargs)\n\u001b[0m\u001b[1;32m   2483\u001b[0m         \u001b[0;32mreturn\u001b[0m \u001b[0mupdated\u001b[0m\u001b[0;34m[\u001b[0m\u001b[0;34m:\u001b[0m\u001b[0mlen\u001b[0m\u001b[0;34m(\u001b[0m\u001b[0mself\u001b[0m\u001b[0;34m.\u001b[0m\u001b[0moutputs\u001b[0m\u001b[0;34m)\u001b[0m\u001b[0;34m]\u001b[0m\u001b[0;34m\u001b[0m\u001b[0m\n\u001b[1;32m   2484\u001b[0m \u001b[0;34m\u001b[0m\u001b[0m\n",
            "\u001b[0;32m/usr/local/lib/python3.6/dist-packages/tensorflow/python/client/session.py\u001b[0m in \u001b[0;36mrun\u001b[0;34m(self, fetches, feed_dict, options, run_metadata)\u001b[0m\n\u001b[1;32m    898\u001b[0m     \u001b[0;32mtry\u001b[0m\u001b[0;34m:\u001b[0m\u001b[0;34m\u001b[0m\u001b[0m\n\u001b[1;32m    899\u001b[0m       result = self._run(None, fetches, feed_dict, options_ptr,\n\u001b[0;32m--> 900\u001b[0;31m                          run_metadata_ptr)\n\u001b[0m\u001b[1;32m    901\u001b[0m       \u001b[0;32mif\u001b[0m \u001b[0mrun_metadata\u001b[0m\u001b[0;34m:\u001b[0m\u001b[0;34m\u001b[0m\u001b[0m\n\u001b[1;32m    902\u001b[0m         \u001b[0mproto_data\u001b[0m \u001b[0;34m=\u001b[0m \u001b[0mtf_session\u001b[0m\u001b[0;34m.\u001b[0m\u001b[0mTF_GetBuffer\u001b[0m\u001b[0;34m(\u001b[0m\u001b[0mrun_metadata_ptr\u001b[0m\u001b[0;34m)\u001b[0m\u001b[0;34m\u001b[0m\u001b[0m\n",
            "\u001b[0;32m/usr/local/lib/python3.6/dist-packages/tensorflow/python/client/session.py\u001b[0m in \u001b[0;36m_run\u001b[0;34m(self, handle, fetches, feed_dict, options, run_metadata)\u001b[0m\n\u001b[1;32m   1133\u001b[0m     \u001b[0;32mif\u001b[0m \u001b[0mfinal_fetches\u001b[0m \u001b[0;32mor\u001b[0m \u001b[0mfinal_targets\u001b[0m \u001b[0;32mor\u001b[0m \u001b[0;34m(\u001b[0m\u001b[0mhandle\u001b[0m \u001b[0;32mand\u001b[0m \u001b[0mfeed_dict_tensor\u001b[0m\u001b[0;34m)\u001b[0m\u001b[0;34m:\u001b[0m\u001b[0;34m\u001b[0m\u001b[0m\n\u001b[1;32m   1134\u001b[0m       results = self._do_run(handle, final_targets, final_fetches,\n\u001b[0;32m-> 1135\u001b[0;31m                              feed_dict_tensor, options, run_metadata)\n\u001b[0m\u001b[1;32m   1136\u001b[0m     \u001b[0;32melse\u001b[0m\u001b[0;34m:\u001b[0m\u001b[0;34m\u001b[0m\u001b[0m\n\u001b[1;32m   1137\u001b[0m       \u001b[0mresults\u001b[0m \u001b[0;34m=\u001b[0m \u001b[0;34m[\u001b[0m\u001b[0;34m]\u001b[0m\u001b[0;34m\u001b[0m\u001b[0m\n",
            "\u001b[0;32m/usr/local/lib/python3.6/dist-packages/tensorflow/python/client/session.py\u001b[0m in \u001b[0;36m_do_run\u001b[0;34m(self, handle, target_list, fetch_list, feed_dict, options, run_metadata)\u001b[0m\n\u001b[1;32m   1314\u001b[0m     \u001b[0;32mif\u001b[0m \u001b[0mhandle\u001b[0m \u001b[0;32mis\u001b[0m \u001b[0;32mNone\u001b[0m\u001b[0;34m:\u001b[0m\u001b[0;34m\u001b[0m\u001b[0m\n\u001b[1;32m   1315\u001b[0m       return self._do_call(_run_fn, feeds, fetches, targets, options,\n\u001b[0;32m-> 1316\u001b[0;31m                            run_metadata)\n\u001b[0m\u001b[1;32m   1317\u001b[0m     \u001b[0;32melse\u001b[0m\u001b[0;34m:\u001b[0m\u001b[0;34m\u001b[0m\u001b[0m\n\u001b[1;32m   1318\u001b[0m       \u001b[0;32mreturn\u001b[0m \u001b[0mself\u001b[0m\u001b[0;34m.\u001b[0m\u001b[0m_do_call\u001b[0m\u001b[0;34m(\u001b[0m\u001b[0m_prun_fn\u001b[0m\u001b[0;34m,\u001b[0m \u001b[0mhandle\u001b[0m\u001b[0;34m,\u001b[0m \u001b[0mfeeds\u001b[0m\u001b[0;34m,\u001b[0m \u001b[0mfetches\u001b[0m\u001b[0;34m)\u001b[0m\u001b[0;34m\u001b[0m\u001b[0m\n",
            "\u001b[0;32m/usr/local/lib/python3.6/dist-packages/tensorflow/python/client/session.py\u001b[0m in \u001b[0;36m_do_call\u001b[0;34m(self, fn, *args)\u001b[0m\n\u001b[1;32m   1320\u001b[0m   \u001b[0;32mdef\u001b[0m \u001b[0m_do_call\u001b[0m\u001b[0;34m(\u001b[0m\u001b[0mself\u001b[0m\u001b[0;34m,\u001b[0m \u001b[0mfn\u001b[0m\u001b[0;34m,\u001b[0m \u001b[0;34m*\u001b[0m\u001b[0margs\u001b[0m\u001b[0;34m)\u001b[0m\u001b[0;34m:\u001b[0m\u001b[0;34m\u001b[0m\u001b[0m\n\u001b[1;32m   1321\u001b[0m     \u001b[0;32mtry\u001b[0m\u001b[0;34m:\u001b[0m\u001b[0;34m\u001b[0m\u001b[0m\n\u001b[0;32m-> 1322\u001b[0;31m       \u001b[0;32mreturn\u001b[0m \u001b[0mfn\u001b[0m\u001b[0;34m(\u001b[0m\u001b[0;34m*\u001b[0m\u001b[0margs\u001b[0m\u001b[0;34m)\u001b[0m\u001b[0;34m\u001b[0m\u001b[0m\n\u001b[0m\u001b[1;32m   1323\u001b[0m     \u001b[0;32mexcept\u001b[0m \u001b[0merrors\u001b[0m\u001b[0;34m.\u001b[0m\u001b[0mOpError\u001b[0m \u001b[0;32mas\u001b[0m \u001b[0me\u001b[0m\u001b[0;34m:\u001b[0m\u001b[0;34m\u001b[0m\u001b[0m\n\u001b[1;32m   1324\u001b[0m       \u001b[0mmessage\u001b[0m \u001b[0;34m=\u001b[0m \u001b[0mcompat\u001b[0m\u001b[0;34m.\u001b[0m\u001b[0mas_text\u001b[0m\u001b[0;34m(\u001b[0m\u001b[0me\u001b[0m\u001b[0;34m.\u001b[0m\u001b[0mmessage\u001b[0m\u001b[0;34m)\u001b[0m\u001b[0;34m\u001b[0m\u001b[0m\n",
            "\u001b[0;32m/usr/local/lib/python3.6/dist-packages/tensorflow/python/client/session.py\u001b[0m in \u001b[0;36m_run_fn\u001b[0;34m(feed_dict, fetch_list, target_list, options, run_metadata)\u001b[0m\n\u001b[1;32m   1305\u001b[0m       \u001b[0mself\u001b[0m\u001b[0;34m.\u001b[0m\u001b[0m_extend_graph\u001b[0m\u001b[0;34m(\u001b[0m\u001b[0;34m)\u001b[0m\u001b[0;34m\u001b[0m\u001b[0m\n\u001b[1;32m   1306\u001b[0m       return self._call_tf_sessionrun(\n\u001b[0;32m-> 1307\u001b[0;31m           options, feed_dict, fetch_list, target_list, run_metadata)\n\u001b[0m\u001b[1;32m   1308\u001b[0m \u001b[0;34m\u001b[0m\u001b[0m\n\u001b[1;32m   1309\u001b[0m     \u001b[0;32mdef\u001b[0m \u001b[0m_prun_fn\u001b[0m\u001b[0;34m(\u001b[0m\u001b[0mhandle\u001b[0m\u001b[0;34m,\u001b[0m \u001b[0mfeed_dict\u001b[0m\u001b[0;34m,\u001b[0m \u001b[0mfetch_list\u001b[0m\u001b[0;34m)\u001b[0m\u001b[0;34m:\u001b[0m\u001b[0;34m\u001b[0m\u001b[0m\n",
            "\u001b[0;32m/usr/local/lib/python3.6/dist-packages/tensorflow/python/client/session.py\u001b[0m in \u001b[0;36m_call_tf_sessionrun\u001b[0;34m(self, options, feed_dict, fetch_list, target_list, run_metadata)\u001b[0m\n\u001b[1;32m   1407\u001b[0m       return tf_session.TF_SessionRun_wrapper(\n\u001b[1;32m   1408\u001b[0m           \u001b[0mself\u001b[0m\u001b[0;34m.\u001b[0m\u001b[0m_session\u001b[0m\u001b[0;34m,\u001b[0m \u001b[0moptions\u001b[0m\u001b[0;34m,\u001b[0m \u001b[0mfeed_dict\u001b[0m\u001b[0;34m,\u001b[0m \u001b[0mfetch_list\u001b[0m\u001b[0;34m,\u001b[0m \u001b[0mtarget_list\u001b[0m\u001b[0;34m,\u001b[0m\u001b[0;34m\u001b[0m\u001b[0m\n\u001b[0;32m-> 1409\u001b[0;31m           run_metadata)\n\u001b[0m\u001b[1;32m   1410\u001b[0m     \u001b[0;32melse\u001b[0m\u001b[0;34m:\u001b[0m\u001b[0;34m\u001b[0m\u001b[0m\n\u001b[1;32m   1411\u001b[0m       \u001b[0;32mwith\u001b[0m \u001b[0merrors\u001b[0m\u001b[0;34m.\u001b[0m\u001b[0mraise_exception_on_not_ok_status\u001b[0m\u001b[0;34m(\u001b[0m\u001b[0;34m)\u001b[0m \u001b[0;32mas\u001b[0m \u001b[0mstatus\u001b[0m\u001b[0;34m:\u001b[0m\u001b[0;34m\u001b[0m\u001b[0m\n",
            "\u001b[0;31mKeyboardInterrupt\u001b[0m: "
          ]
        }
      ]
    },
    {
      "cell_type": "code",
      "metadata": {
        "id": "1yk3bKTRZtqY",
        "colab_type": "code",
        "colab": {}
      },
      "source": [
        "from keras.models import load_model\n",
        "x = load_model('ePascalVOCClassifier_epoch18above.h5')"
      ],
      "execution_count": 0,
      "outputs": []
    },
    {
      "cell_type": "code",
      "metadata": {
        "id": "jAihmNMF8kN4",
        "colab_type": "code",
        "outputId": "1da6441a-e933-4590-eba9-d23e700f4d11",
        "colab": {
          "base_uri": "https://localhost:8080/",
          "height": 85
        }
      },
      "source": [
        "a = np.zeros((1,300,300,3))\n",
        "a[0] = X_val[70]\n",
        "pred = x.predict(a)\n",
        "print(pred)"
      ],
      "execution_count": 0,
      "outputs": [
        {
          "output_type": "stream",
          "text": [
            "[[2.5194299e-03 1.4270585e-02 1.0167594e-03 2.6394549e-01 1.9805013e-04\n",
            "  5.2069977e-02 5.4604191e-01 2.9974559e-04 4.4036629e-03 1.5754808e-02\n",
            "  1.0078363e-04 1.1419039e-03 5.4907177e-06 3.6067388e-05 7.4049078e-02\n",
            "  2.0241488e-02 6.7615515e-04 6.2629682e-05 3.1486328e-03 1.7335631e-05]]\n"
          ],
          "name": "stdout"
        }
      ]
    },
    {
      "cell_type": "code",
      "metadata": {
        "id": "DpDw2_Xr8kQf",
        "colab_type": "code",
        "colab": {}
      },
      "source": [
        ""
      ],
      "execution_count": 0,
      "outputs": []
    },
    {
      "cell_type": "code",
      "metadata": {
        "id": "jxZiPGvx8kTQ",
        "colab_type": "code",
        "colab": {}
      },
      "source": [
        ""
      ],
      "execution_count": 0,
      "outputs": []
    },
    {
      "cell_type": "code",
      "metadata": {
        "id": "CE86oqBa8kWC",
        "colab_type": "code",
        "colab": {}
      },
      "source": [
        ""
      ],
      "execution_count": 0,
      "outputs": []
    },
    {
      "cell_type": "code",
      "metadata": {
        "id": "9s7jOs_V8kYu",
        "colab_type": "code",
        "colab": {}
      },
      "source": [
        ""
      ],
      "execution_count": 0,
      "outputs": []
    },
    {
      "cell_type": "code",
      "metadata": {
        "id": "-KZffisN8kbp",
        "colab_type": "code",
        "colab": {}
      },
      "source": [
        ""
      ],
      "execution_count": 0,
      "outputs": []
    },
    {
      "cell_type": "code",
      "metadata": {
        "id": "L1-vU6o08kfC",
        "colab_type": "code",
        "colab": {}
      },
      "source": [
        ""
      ],
      "execution_count": 0,
      "outputs": []
    },
    {
      "cell_type": "markdown",
      "metadata": {
        "id": "2seBKeGXhQsP",
        "colab_type": "text"
      },
      "source": [
        "#Version 2"
      ]
    },
    {
      "cell_type": "code",
      "metadata": {
        "id": "478kJxt_hT-7",
        "colab_type": "code",
        "colab": {}
      },
      "source": [
        "\n",
        "\n",
        "x = Sequential()\n",
        "\n",
        "# Block 1\n",
        "x.add(Conv2D(64, (3, 3),activation='relu',padding='same',input_shape=(300,300,3)))\n",
        "x.add(Conv2D(64, (3, 3),activation='relu',padding='same'))\n",
        "x.add(MaxPooling2D((2, 2), strides=(2, 2), name='block1_pool'))\n",
        "\n",
        "# Block 2\n",
        "x.add(Conv2D(128, (3, 3),activation='relu',padding='same'))\n",
        "x.add(Conv2D(128, (3, 3),activation='relu',padding='same',name='block2_conv2'))\n",
        "x.add(MaxPooling2D((2, 2), strides=(2, 2), name='block2_pool'))\n",
        "x.add(BatchNormalization())\n",
        "\n",
        "# Block 3\n",
        "x.add(Conv2D(256, (3, 3),activation='relu',padding='same'))\n",
        "\n",
        "x.add(Conv2D(256, (3, 3),activation='relu',padding='same'))\n",
        "\n",
        "x.add(Conv2D(256, (3, 3),activation='relu',padding='same'))\n",
        "\n",
        "x.add(MaxPooling2D((2, 2), strides=(2, 2), name='block3_pool'))\n",
        "\n",
        "# Block 4\n",
        "x.add(Conv2D(512, (3, 3),activation='relu',padding='same'))\n",
        "\n",
        "x.add(Conv2D(512, (3, 3),activation='relu',padding='same'))\n",
        "\n",
        "x.add(Conv2D(512, (3, 3),activation='relu',padding='same'))\n",
        "\n",
        "x.add(MaxPooling2D((2, 2), strides=(2, 2), name='block4_pool'))\n",
        "\n",
        "x.add(BatchNormalization())\n",
        "\n",
        "# Block 5\n",
        "x.add(Conv2D(512, (3, 3),activation='relu',padding='same'))\n",
        "\n",
        "x.add(Conv2D(512, (3, 3),activation='relu',padding='same'))\n",
        "\n",
        "x.add(Conv2D(512, (3, 3),activation='relu',padding='same'))\n",
        "\n",
        "x.add(MaxPooling2D((2, 2), strides=(2, 2), name='block5_pool'))\n",
        "x.add(BatchNormalization())\n",
        "\n",
        "# Classification block\n",
        "x.add(Flatten())\n",
        "\n",
        "x.add(Dense(1000, activation='relu'))\n",
        "x.add(Dense(200, activation='relu'))\n",
        "x.add(Dense(20, activation='softmax', name='predictions'))\n",
        "\n",
        "\n",
        "\n"
      ],
      "execution_count": 0,
      "outputs": []
    },
    {
      "cell_type": "code",
      "metadata": {
        "id": "hHYDuy28iQ5-",
        "colab_type": "code",
        "colab": {}
      },
      "source": [
        "# original parameters (lr=0.001, decay=1e-6, momentum=0.9, nesterov=True)\n",
        "sgd = optimizers.SGD(lr=0.001, decay=1e-6, momentum=0.9, nesterov=True)\n",
        "\n",
        "# original parameters (lr=0.02, beta_1=0.9, beta_2=0.999, epsilon=None, schedule_decay=0.004)\n",
        "nadam = optimizers.Nadam(lr=0.02, beta_1=0.9, beta_2=0.999, epsilon=None, schedule_decay=0.004)\n",
        "\n",
        "# original parameters (lr=0.001, beta_1=0.9, beta_2=0.999, epsilon=None, decay=0.0, amsgrad=False)\n",
        "adam = optimizers.Adam(lr=0.001, beta_1=0.9, beta_2=0.999, epsilon=None, decay=0.0, amsgrad=False)\n",
        "\n",
        "x.compile(loss='mean_squared_error',\n",
        "              optimizer=adam,\n",
        "              metrics=['accuracy'])"
      ],
      "execution_count": 0,
      "outputs": []
    },
    {
      "cell_type": "code",
      "metadata": {
        "id": "bY-ySYsPEmPM",
        "colab_type": "code",
        "colab": {}
      },
      "source": [
        ""
      ],
      "execution_count": 0,
      "outputs": []
    },
    {
      "cell_type": "code",
      "metadata": {
        "id": "CQQ-JsHEmUBs",
        "colab_type": "code",
        "outputId": "9fb0fbac-e209-4e25-9920-5deff790e743",
        "colab": {
          "base_uri": "https://localhost:8080/",
          "height": 207
        }
      },
      "source": [
        "\n",
        "for i in range(25):\n",
        "  print(\"epoch\",i+1)\n",
        "  x.fit(X, Y,epochs=1,batch_size=25,validation_data=(X_val, Y_val))\n",
        "  x.save('ePascalVOCClassifier_epoch18aboveV_1_2.h5')\n",
        "  print(\"----------------------------------------------------------------------\")\n",
        "  print(\"----------------------------------------------------------------------\")\n"
      ],
      "execution_count": 0,
      "outputs": [
        {
          "output_type": "stream",
          "text": [
            "epoch 1\n",
            "Train on 16551 samples, validate on 4952 samples\n",
            "Epoch 1/1\n",
            "16400/16551 [============================>.] - ETA: 8s - loss: 0.0884 - acc: 0.1271"
          ],
          "name": "stdout"
        },
        {
          "output_type": "stream",
          "text": [
            "16551/16551 [==============================] - 1028s 62ms/step - loss: 0.0883 - acc: 0.1272 - val_loss: 0.0847 - val_acc: 0.1327\n",
            "----------------------------------------------------------------------\n",
            "----------------------------------------------------------------------\n",
            "epoch 2\n",
            "Train on 16551 samples, validate on 4952 samples\n",
            "Epoch 1/1\n",
            " 3425/16551 [=====>........................] - ETA: 12:12 - loss: 0.0879 - acc: 0.1250"
          ],
          "name": "stdout"
        }
      ]
    },
    {
      "cell_type": "code",
      "metadata": {
        "id": "efIwvFkumgf1",
        "colab_type": "code",
        "colab": {}
      },
      "source": [
        "# Sunk Cost Fallacy"
      ],
      "execution_count": 0,
      "outputs": []
    },
    {
      "cell_type": "code",
      "metadata": {
        "id": "wO03YX333sCS",
        "colab_type": "code",
        "colab": {}
      },
      "source": [
        ""
      ],
      "execution_count": 0,
      "outputs": []
    },
    {
      "cell_type": "code",
      "metadata": {
        "id": "hHfqxvuID8s5",
        "colab_type": "code",
        "colab": {}
      },
      "source": [
        ""
      ],
      "execution_count": 0,
      "outputs": []
    },
    {
      "cell_type": "code",
      "metadata": {
        "id": "98hqZpxZE3aG",
        "colab_type": "code",
        "colab": {}
      },
      "source": [
        ""
      ],
      "execution_count": 0,
      "outputs": []
    }
  ]
}