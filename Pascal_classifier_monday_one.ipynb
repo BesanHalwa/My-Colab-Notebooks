{
  "nbformat": 4,
  "nbformat_minor": 0,
  "metadata": {
    "colab": {
      "name": "Pascal classifier monday one.ipynb",
      "version": "0.3.2",
      "provenance": []
    },
    "kernelspec": {
      "name": "python3",
      "display_name": "Python 3"
    },
    "accelerator": "GPU"
  },
  "cells": [
    {
      "cell_type": "code",
      "metadata": {
        "id": "PAw6Qzjpv7Wm",
        "colab_type": "code",
        "outputId": "b1fc5921-7075-4326-d481-70386488e4e2",
        "colab": {
          "base_uri": "https://localhost:8080/",
          "height": 105
        }
      },
      "source": [
        "!apt-get install -y -qq software-properties-common python-software-properties module-init-tools\n",
        "!add-apt-repository -y ppa:alessandro-strada/ppa 2>&1 > /dev/null\n",
        "!apt-get update -qq 2>&1 > /dev/null\n",
        "!apt-get -y install -qq google-drive-ocamlfuse fuse\n",
        "from google.colab import auth\n",
        "auth.authenticate_user()\n",
        "from oauth2client.client import GoogleCredentials\n",
        "creds = GoogleCredentials.get_application_default()\n",
        "import getpass\n",
        "!google-drive-ocamlfuse -headless -id={creds.client_id} -secret={creds.client_secret} < /dev/null 2>&1 | grep URL\n",
        "vcode = getpass.getpass()\n",
        "!echo {vcode} | google-drive-ocamlfuse -headless -id={creds.client_id} -secret={creds.client_secret}"
      ],
      "execution_count": 0,
      "outputs": [
        {
          "output_type": "stream",
          "text": [
            "Please, open the following URL in a web browser: https://accounts.google.com/o/oauth2/auth?client_id=32555940559.apps.googleusercontent.com&redirect_uri=urn%3Aietf%3Awg%3Aoauth%3A2.0%3Aoob&scope=https%3A%2F%2Fwww.googleapis.com%2Fauth%2Fdrive&response_type=code&access_type=offline&approval_prompt=force\r\n",
            "··········\n",
            "Please, open the following URL in a web browser: https://accounts.google.com/o/oauth2/auth?client_id=32555940559.apps.googleusercontent.com&redirect_uri=urn%3Aietf%3Awg%3Aoauth%3A2.0%3Aoob&scope=https%3A%2F%2Fwww.googleapis.com%2Fauth%2Fdrive&response_type=code&access_type=offline&approval_prompt=force\n",
            "Please enter the verification code: Access token retrieved correctly.\n"
          ],
          "name": "stdout"
        }
      ]
    },
    {
      "cell_type": "code",
      "metadata": {
        "id": "dBs_ANYMwhgU",
        "colab_type": "code",
        "colab": {}
      },
      "source": [
        "!mkdir -p drive\n",
        "!google-drive-ocamlfuse drive"
      ],
      "execution_count": 0,
      "outputs": []
    },
    {
      "cell_type": "code",
      "metadata": {
        "id": "GIz-ngszXkdq",
        "colab_type": "code",
        "outputId": "c2f48d4a-4a31-45d3-eda4-6b85cb0ceb81",
        "colab": {
          "base_uri": "https://localhost:8080/",
          "height": 34
        }
      },
      "source": [
        "ls"
      ],
      "execution_count": 0,
      "outputs": [
        {
          "output_type": "stream",
          "text": [
            "\u001b[0m\u001b[01;34mdatalab\u001b[0m/  \u001b[01;34mdrive\u001b[0m/\r\n"
          ],
          "name": "stdout"
        }
      ]
    },
    {
      "cell_type": "code",
      "metadata": {
        "id": "z8X1fCZUXyRp",
        "colab_type": "code",
        "outputId": "2ce27be2-f1ce-4090-bec8-73af54d0b709",
        "colab": {
          "base_uri": "https://localhost:8080/",
          "height": 34
        }
      },
      "source": [
        "cd drive"
      ],
      "execution_count": 0,
      "outputs": [
        {
          "output_type": "stream",
          "text": [
            "/content/drive\n"
          ],
          "name": "stdout"
        }
      ]
    },
    {
      "cell_type": "code",
      "metadata": {
        "id": "UX2lJlQQX06y",
        "colab_type": "code",
        "outputId": "2bef3c38-16f4-43bd-cf75-e6562706d5b7",
        "colab": {
          "base_uri": "https://localhost:8080/",
          "height": 391
        }
      },
      "source": [
        "ls"
      ],
      "execution_count": 0,
      "outputs": [
        {
          "output_type": "stream",
          "text": [
            "class.txt\r\n",
            "\u001b[0m\u001b[01;34mCode\u001b[0m/\r\n",
            "\u001b[01;34mColab Notebooks\u001b[0m/\r\n",
            "\u001b[01;34mdatabase\u001b[0m/\r\n",
            "\u001b[01;34mData Sets\u001b[0m/\r\n",
            "\u001b[01;34m_detection reference\u001b[0m/\r\n",
            "\u001b[01;34mdrive\u001b[0m/\r\n",
            "\u001b[01;34mGenerating Enviornment Map (Reads)\u001b[0m/\r\n",
            "\u001b[01;34mGoogle self driving car monthely report\u001b[0m/\r\n",
            "\u001b[01;34mInitial tests\u001b[0m/\r\n",
            "\u001b[01;34mMarket Products and Raw Ideas\u001b[0m/\r\n",
            "Model_one.py\r\n",
            "\u001b[01;34mnaya_folder_kuki naam nai sujh rha\u001b[0m/\r\n",
            "\u001b[01;34mOur Product Draft\u001b[0m/\r\n",
            "\u001b[01;34mpascal_data\u001b[0m/\r\n",
            "\u001b[01;34mREFERENCES\u001b[0m/\r\n",
            "requirements.txt\r\n",
            "Screen Shot 2018-07-02 at 8.38.24 PM.png\r\n",
            "testModel.ipynb\r\n",
            "tf1.png\r\n",
            "\u001b[01;34mTimeline\u001b[0m/\r\n",
            "Untitled document.odt\r\n"
          ],
          "name": "stdout"
        }
      ]
    },
    {
      "cell_type": "code",
      "metadata": {
        "id": "D0Swq91HX2Nf",
        "colab_type": "code",
        "outputId": "ed9033ab-853e-4839-a0e4-a9ada24b0e3e",
        "colab": {
          "base_uri": "https://localhost:8080/",
          "height": 51
        }
      },
      "source": [
        "cd pascal_data"
      ],
      "execution_count": 0,
      "outputs": [
        {
          "output_type": "stream",
          "text": [
            "[Errno 2] No such file or directory: 'pascal_data'\n",
            "/content/drive/pascal_data\n"
          ],
          "name": "stdout"
        }
      ]
    },
    {
      "cell_type": "code",
      "metadata": {
        "id": "7HpNXcRSX6pc",
        "colab_type": "code",
        "outputId": "8d9f8cfd-5248-47bd-99ff-1a729665bef0",
        "colab": {
          "base_uri": "https://localhost:8080/",
          "height": 102
        }
      },
      "source": [
        "ls"
      ],
      "execution_count": 0,
      "outputs": [
        {
          "output_type": "stream",
          "text": [
            "ePascalVOCClassifier_epoch18above.h5       pascal_model_epoch20_.h5\r\n",
            "ePascalVOCClassifier_epoch18aboveV_1_2.h5  pascalX.npy\r\n",
            "ePascalVOCClassifier.h5                    pascalX_val.npy\r\n",
            "ePascalVOCClassifier_monday_one.h5         pascaly.npy\r\n",
            "pascal_model_epoch10.h5                    pascaly_val.npy\r\n"
          ],
          "name": "stdout"
        }
      ]
    },
    {
      "cell_type": "code",
      "metadata": {
        "id": "4Ipzsbn0X88I",
        "colab_type": "code",
        "colab": {}
      },
      "source": [
        "import numpy as np\n",
        "\n",
        "X = np.load('pascalX.npy')\n",
        "Y = np.load('pascaly.npy')"
      ],
      "execution_count": 0,
      "outputs": []
    },
    {
      "cell_type": "code",
      "metadata": {
        "id": "l8swslyVYDKw",
        "colab_type": "code",
        "outputId": "e755b387-163e-43e6-eb79-3701ffa2e7e5",
        "colab": {
          "base_uri": "https://localhost:8080/",
          "height": 51
        }
      },
      "source": [
        "print(X.shape)\n",
        "print(Y.shape)\n",
        "print(X_val.shape)\n",
        "print(Y_val.shape)"
      ],
      "execution_count": 0,
      "outputs": [
        {
          "output_type": "stream",
          "text": [
            "(16551, 300, 300, 3)\n",
            "(16551, 20)\n"
          ],
          "name": "stdout"
        }
      ]
    },
    {
      "cell_type": "code",
      "metadata": {
        "id": "4uyTyxLEYGci",
        "colab_type": "code",
        "colab": {}
      },
      "source": [
        "X_val = np.load('pascalX_val.npy')\n",
        "Y_val = np.load('pascaly_val.npy')"
      ],
      "execution_count": 0,
      "outputs": []
    },
    {
      "cell_type": "code",
      "metadata": {
        "id": "nEYIm5MYw1Sz",
        "colab_type": "code",
        "colab": {}
      },
      "source": [
        "Y = Y * 200\n",
        "Y_val = Y_val * 200"
      ],
      "execution_count": 0,
      "outputs": []
    },
    {
      "cell_type": "code",
      "metadata": {
        "id": "tPwVNZwG4Sad",
        "colab_type": "code",
        "colab": {}
      },
      "source": [
        "Y = Y / 200\n",
        "Y_val = Y_val / 200"
      ],
      "execution_count": 0,
      "outputs": []
    },
    {
      "cell_type": "code",
      "metadata": {
        "id": "8xz09FVQ4Y28",
        "colab_type": "code",
        "outputId": "2f1623bf-b4d9-42a5-e692-854d3304a79f",
        "colab": {
          "base_uri": "https://localhost:8080/",
          "height": 51
        }
      },
      "source": [
        "Y_val[982]"
      ],
      "execution_count": 0,
      "outputs": [
        {
          "output_type": "execute_result",
          "data": {
            "text/plain": [
              "array([0., 0., 0., 0., 0., 0., 0., 0., 0., 0., 0., 0., 0., 0., 1., 0., 0.,\n",
              "       0., 0., 0.])"
            ]
          },
          "metadata": {
            "tags": []
          },
          "execution_count": 44
        }
      ]
    },
    {
      "cell_type": "code",
      "metadata": {
        "id": "WrfoDVztYIxf",
        "colab_type": "code",
        "outputId": "1e23dc1f-ce7d-435b-fb68-c2656b858142",
        "colab": {
          "base_uri": "https://localhost:8080/",
          "height": 34
        }
      },
      "source": [
        "# import modules\n",
        "from keras.models import Sequential\n",
        "from keras.layers import Conv2D, MaxPooling2D\n",
        "from keras.layers import Activation, Dropout, Flatten, Dense\n",
        "from keras.layers.normalization import BatchNormalization\n",
        "from keras import optimizers\n",
        "import keras\n"
      ],
      "execution_count": 0,
      "outputs": [
        {
          "output_type": "stream",
          "text": [
            "Using TensorFlow backend.\n"
          ],
          "name": "stderr"
        }
      ]
    },
    {
      "cell_type": "code",
      "metadata": {
        "id": "-FAowfe8YL72",
        "colab_type": "code",
        "colab": {}
      },
      "source": [
        "x = Sequential()\n",
        "\n",
        "# Block 1\n",
        "x.add(Conv2D(8, (3, 3),activation='relu',padding='same',input_shape=(300,300,3)))\n",
        "x.add(Conv2D(8, (3, 3),activation='relu',padding='same'))\n",
        "x.add(MaxPooling2D((2, 2), strides=(2, 2), name='block1_pool'))\n",
        "\n",
        "# Block 2\n",
        "x.add(Conv2D(16, (3, 3),activation='relu',padding='same'))\n",
        "x.add(Conv2D(16, (3, 3),activation='relu',padding='same',name='block2_conv2'))\n",
        "x.add(MaxPooling2D((2, 2), strides=(2, 2), name='block2_pool'))\n",
        "\n",
        "# Block 3\n",
        "x.add(Conv2D(28, (3, 3),activation='relu',padding='same'))\n",
        "\n",
        "x.add(Conv2D(28, (3, 3),activation='relu',padding='same'))\n",
        "\n",
        "x.add(Conv2D(28, (3, 3),activation='relu',padding='same'))\n",
        "\n",
        "x.add(MaxPooling2D((2, 2), strides=(2, 2), name='block3_pool'))\n",
        "\n",
        "# Block 4\n",
        "x.add(Conv2D(32, (3, 3),activation='relu',padding='same'))\n",
        "\n",
        "x.add(Conv2D(32, (3, 3),activation='relu',padding='same'))\n",
        "\n",
        "x.add(Conv2D(64, (3, 3),activation='relu',padding='same'))\n",
        "\n",
        "x.add(MaxPooling2D((2, 2), strides=(2, 2), name='block4_pool'))\n",
        "\n",
        "# Block 5\n",
        "x.add(Conv2D(64, (3, 3),activation='relu',padding='same'))\n",
        "\n",
        "x.add(Conv2D(64, (3, 3),activation='relu',padding='same'))\n",
        "\n",
        "x.add(Dropout(0.2))\n",
        "x.add(Conv2D(64, (3, 3),activation='relu',padding='same'))\n",
        "x.add(MaxPooling2D((2, 2), strides=(2, 2), name='block5_pool'))\n",
        "\n",
        "\n",
        "# Classification block\n",
        "x.add(Flatten())\n",
        "\n",
        "#x.add(Dense(1000, activation='relu'))\n",
        "x.add(Dense(400, activation='relu'))\n",
        "x.add(Dense(20, activation='softmax', name='predictions'))\n",
        "\n",
        "\n",
        "#x.add(BatchNormalization())\n"
      ],
      "execution_count": 0,
      "outputs": []
    },
    {
      "cell_type": "code",
      "metadata": {
        "id": "cr0Fj1yFYP1i",
        "colab_type": "code",
        "colab": {}
      },
      "source": [
        "# original parameters (lr=0.001, decay=1e-6, momentum=0.9, nesterov=True)\n",
        "sgd = optimizers.SGD(lr=0.001, decay=0, momentum=0.9, nesterov=True)\n",
        "\n",
        "# original parameters (lr=0.02, beta_1=0.9, beta_2=0.999, epsilon=None, schedule_decay=0.004)\n",
        "nadam = optimizers.Nadam(lr=0.02, beta_1=0.9, beta_2=0.999, epsilon=None, schedule_decay=0.004)\n",
        "\n",
        "# original parameters (lr=0.001, beta_1=0.9, beta_2=0.999, epsilon=None, decay=0.0, amsgrad=False)\n",
        "adam = optimizers.Adam(lr=0.01, beta_1=0.9, beta_2=0.999, epsilon=None, decay=0.0, amsgrad=False)\n",
        "\n",
        "# categorical_crossentropy\n",
        "# mean_squared_erro\n",
        "x.compile(loss='categorical_crossentropy',\n",
        "              optimizer=adam,\n",
        "              metrics=['accuracy'])"
      ],
      "execution_count": 0,
      "outputs": []
    },
    {
      "cell_type": "code",
      "metadata": {
        "id": "Kxs65hP2YWcr",
        "colab_type": "code",
        "outputId": "6f299466-2f47-4c29-cb35-400b2eb768b3",
        "colab": {
          "base_uri": "https://localhost:8080/",
          "height": 1816
        }
      },
      "source": [
        "\n",
        "for i in range(5):\n",
        "  print(\"epoch\",i+1)\n",
        "  x.fit(X, Y,epochs=1,batch_size=5,validation_data=(X_val, Y_val))\n",
        "  x.save('ePascalVOCClassifier_monday_one.h5')\n",
        "  print(\"----------------------------------------------------------------------\")\n",
        "  print(\"----------------------------------------------------------------------\")\n"
      ],
      "execution_count": 0,
      "outputs": [
        {
          "output_type": "stream",
          "text": [
            "epoch 1\n",
            "Train on 16551 samples, validate on 4952 samples\n",
            "Epoch 1/1\n",
            " 3280/16551 [====>.........................] - ETA: 2:27 - loss: 18.5531 - acc: 0.1293"
          ],
          "name": "stdout"
        },
        {
          "output_type": "stream",
          "text": [
            "16550/16551 [============================>.] - ETA: 0s - loss: 18.6566 - acc: 0.1272"
          ],
          "name": "stdout"
        },
        {
          "output_type": "stream",
          "text": [
            "16551/16551 [==============================] - 193s 12ms/step - loss: 18.6574 - acc: 0.1272 - val_loss: 18.0157 - val_acc: 0.1327\n",
            "----------------------------------------------------------------------\n",
            "----------------------------------------------------------------------\n",
            "epoch 2\n",
            "Train on 16551 samples, validate on 4952 samples\n",
            "Epoch 1/1\n",
            " 1170/16551 [=>............................] - ETA: 2:47 - loss: 18.8595 - acc: 0.1453"
          ],
          "name": "stdout"
        },
        {
          "output_type": "stream",
          "text": [
            "16550/16551 [============================>.] - ETA: 0s - loss: 18.6610 - acc: 0.1272"
          ],
          "name": "stdout"
        },
        {
          "output_type": "stream",
          "text": [
            "16551/16551 [==============================] - 191s 12ms/step - loss: 18.6618 - acc: 0.1272 - val_loss: 18.0157 - val_acc: 0.1327\n",
            "----------------------------------------------------------------------\n",
            "----------------------------------------------------------------------\n",
            "epoch 3\n",
            "Train on 16551 samples, validate on 4952 samples\n",
            "Epoch 1/1\n",
            " 1170/16551 [=>............................] - ETA: 2:47 - loss: 19.0937 - acc: 0.1179"
          ],
          "name": "stdout"
        },
        {
          "output_type": "stream",
          "text": [
            "16550/16551 [============================>.] - ETA: 0s - loss: 18.6629 - acc: 0.1271"
          ],
          "name": "stdout"
        },
        {
          "output_type": "stream",
          "text": [
            "16551/16551 [==============================] - 191s 12ms/step - loss: 18.6618 - acc: 0.1272 - val_loss: 18.0157 - val_acc: 0.1327\n",
            "----------------------------------------------------------------------\n",
            "----------------------------------------------------------------------\n",
            "epoch 4\n",
            "Train on 16551 samples, validate on 4952 samples\n",
            "Epoch 1/1\n",
            "   50/16551 [..............................] - ETA: 3:45 - loss: 17.4075 - acc: 0.1600"
          ],
          "name": "stdout"
        },
        {
          "output_type": "error",
          "ename": "KeyboardInterrupt",
          "evalue": "ignored",
          "traceback": [
            "\u001b[0;31m---------------------------------------------------------------------------\u001b[0m",
            "\u001b[0;31mKeyboardInterrupt\u001b[0m                         Traceback (most recent call last)",
            "\u001b[0;32m<ipython-input-47-2d0160218c7e>\u001b[0m in \u001b[0;36m<module>\u001b[0;34m()\u001b[0m\n\u001b[1;32m      2\u001b[0m \u001b[0;32mfor\u001b[0m \u001b[0mi\u001b[0m \u001b[0;32min\u001b[0m \u001b[0mrange\u001b[0m\u001b[0;34m(\u001b[0m\u001b[0;36m5\u001b[0m\u001b[0;34m)\u001b[0m\u001b[0;34m:\u001b[0m\u001b[0;34m\u001b[0m\u001b[0m\n\u001b[1;32m      3\u001b[0m   \u001b[0mprint\u001b[0m\u001b[0;34m(\u001b[0m\u001b[0;34m\"epoch\"\u001b[0m\u001b[0;34m,\u001b[0m\u001b[0mi\u001b[0m\u001b[0;34m+\u001b[0m\u001b[0;36m1\u001b[0m\u001b[0;34m)\u001b[0m\u001b[0;34m\u001b[0m\u001b[0m\n\u001b[0;32m----> 4\u001b[0;31m   \u001b[0mx\u001b[0m\u001b[0;34m.\u001b[0m\u001b[0mfit\u001b[0m\u001b[0;34m(\u001b[0m\u001b[0mX\u001b[0m\u001b[0;34m,\u001b[0m \u001b[0mY\u001b[0m\u001b[0;34m,\u001b[0m\u001b[0mepochs\u001b[0m\u001b[0;34m=\u001b[0m\u001b[0;36m1\u001b[0m\u001b[0;34m,\u001b[0m\u001b[0mbatch_size\u001b[0m\u001b[0;34m=\u001b[0m\u001b[0;36m5\u001b[0m\u001b[0;34m,\u001b[0m\u001b[0mvalidation_data\u001b[0m\u001b[0;34m=\u001b[0m\u001b[0;34m(\u001b[0m\u001b[0mX_val\u001b[0m\u001b[0;34m,\u001b[0m \u001b[0mY_val\u001b[0m\u001b[0;34m)\u001b[0m\u001b[0;34m)\u001b[0m\u001b[0;34m\u001b[0m\u001b[0m\n\u001b[0m\u001b[1;32m      5\u001b[0m   \u001b[0mx\u001b[0m\u001b[0;34m.\u001b[0m\u001b[0msave\u001b[0m\u001b[0;34m(\u001b[0m\u001b[0;34m'ePascalVOCClassifier_monday_one.h5'\u001b[0m\u001b[0;34m)\u001b[0m\u001b[0;34m\u001b[0m\u001b[0m\n\u001b[1;32m      6\u001b[0m   \u001b[0mprint\u001b[0m\u001b[0;34m(\u001b[0m\u001b[0;34m\"----------------------------------------------------------------------\"\u001b[0m\u001b[0;34m)\u001b[0m\u001b[0;34m\u001b[0m\u001b[0m\n",
            "\u001b[0;32m/usr/local/lib/python3.6/dist-packages/keras/models.py\u001b[0m in \u001b[0;36mfit\u001b[0;34m(self, x, y, batch_size, epochs, verbose, callbacks, validation_split, validation_data, shuffle, class_weight, sample_weight, initial_epoch, steps_per_epoch, validation_steps, **kwargs)\u001b[0m\n\u001b[1;32m   1000\u001b[0m                               \u001b[0minitial_epoch\u001b[0m\u001b[0;34m=\u001b[0m\u001b[0minitial_epoch\u001b[0m\u001b[0;34m,\u001b[0m\u001b[0;34m\u001b[0m\u001b[0m\n\u001b[1;32m   1001\u001b[0m                               \u001b[0msteps_per_epoch\u001b[0m\u001b[0;34m=\u001b[0m\u001b[0msteps_per_epoch\u001b[0m\u001b[0;34m,\u001b[0m\u001b[0;34m\u001b[0m\u001b[0m\n\u001b[0;32m-> 1002\u001b[0;31m                               validation_steps=validation_steps)\n\u001b[0m\u001b[1;32m   1003\u001b[0m \u001b[0;34m\u001b[0m\u001b[0m\n\u001b[1;32m   1004\u001b[0m     def evaluate(self, x=None, y=None,\n",
            "\u001b[0;32m/usr/local/lib/python3.6/dist-packages/keras/engine/training.py\u001b[0m in \u001b[0;36mfit\u001b[0;34m(self, x, y, batch_size, epochs, verbose, callbacks, validation_split, validation_data, shuffle, class_weight, sample_weight, initial_epoch, steps_per_epoch, validation_steps, **kwargs)\u001b[0m\n\u001b[1;32m   1703\u001b[0m                               \u001b[0minitial_epoch\u001b[0m\u001b[0;34m=\u001b[0m\u001b[0minitial_epoch\u001b[0m\u001b[0;34m,\u001b[0m\u001b[0;34m\u001b[0m\u001b[0m\n\u001b[1;32m   1704\u001b[0m                               \u001b[0msteps_per_epoch\u001b[0m\u001b[0;34m=\u001b[0m\u001b[0msteps_per_epoch\u001b[0m\u001b[0;34m,\u001b[0m\u001b[0;34m\u001b[0m\u001b[0m\n\u001b[0;32m-> 1705\u001b[0;31m                               validation_steps=validation_steps)\n\u001b[0m\u001b[1;32m   1706\u001b[0m \u001b[0;34m\u001b[0m\u001b[0m\n\u001b[1;32m   1707\u001b[0m     def evaluate(self, x=None, y=None,\n",
            "\u001b[0;32m/usr/local/lib/python3.6/dist-packages/keras/engine/training.py\u001b[0m in \u001b[0;36m_fit_loop\u001b[0;34m(self, f, ins, out_labels, batch_size, epochs, verbose, callbacks, val_f, val_ins, shuffle, callback_metrics, initial_epoch, steps_per_epoch, validation_steps)\u001b[0m\n\u001b[1;32m   1234\u001b[0m                         \u001b[0mins_batch\u001b[0m\u001b[0;34m[\u001b[0m\u001b[0mi\u001b[0m\u001b[0;34m]\u001b[0m \u001b[0;34m=\u001b[0m \u001b[0mins_batch\u001b[0m\u001b[0;34m[\u001b[0m\u001b[0mi\u001b[0m\u001b[0;34m]\u001b[0m\u001b[0;34m.\u001b[0m\u001b[0mtoarray\u001b[0m\u001b[0;34m(\u001b[0m\u001b[0;34m)\u001b[0m\u001b[0;34m\u001b[0m\u001b[0m\n\u001b[1;32m   1235\u001b[0m \u001b[0;34m\u001b[0m\u001b[0m\n\u001b[0;32m-> 1236\u001b[0;31m                     \u001b[0mouts\u001b[0m \u001b[0;34m=\u001b[0m \u001b[0mf\u001b[0m\u001b[0;34m(\u001b[0m\u001b[0mins_batch\u001b[0m\u001b[0;34m)\u001b[0m\u001b[0;34m\u001b[0m\u001b[0m\n\u001b[0m\u001b[1;32m   1237\u001b[0m                     \u001b[0;32mif\u001b[0m \u001b[0;32mnot\u001b[0m \u001b[0misinstance\u001b[0m\u001b[0;34m(\u001b[0m\u001b[0mouts\u001b[0m\u001b[0;34m,\u001b[0m \u001b[0mlist\u001b[0m\u001b[0;34m)\u001b[0m\u001b[0;34m:\u001b[0m\u001b[0;34m\u001b[0m\u001b[0m\n\u001b[1;32m   1238\u001b[0m                         \u001b[0mouts\u001b[0m \u001b[0;34m=\u001b[0m \u001b[0;34m[\u001b[0m\u001b[0mouts\u001b[0m\u001b[0;34m]\u001b[0m\u001b[0;34m\u001b[0m\u001b[0m\n",
            "\u001b[0;32m/usr/local/lib/python3.6/dist-packages/keras/backend/tensorflow_backend.py\u001b[0m in \u001b[0;36m__call__\u001b[0;34m(self, inputs)\u001b[0m\n\u001b[1;32m   2480\u001b[0m         \u001b[0msession\u001b[0m \u001b[0;34m=\u001b[0m \u001b[0mget_session\u001b[0m\u001b[0;34m(\u001b[0m\u001b[0;34m)\u001b[0m\u001b[0;34m\u001b[0m\u001b[0m\n\u001b[1;32m   2481\u001b[0m         updated = session.run(fetches=fetches, feed_dict=feed_dict,\n\u001b[0;32m-> 2482\u001b[0;31m                               **self.session_kwargs)\n\u001b[0m\u001b[1;32m   2483\u001b[0m         \u001b[0;32mreturn\u001b[0m \u001b[0mupdated\u001b[0m\u001b[0;34m[\u001b[0m\u001b[0;34m:\u001b[0m\u001b[0mlen\u001b[0m\u001b[0;34m(\u001b[0m\u001b[0mself\u001b[0m\u001b[0;34m.\u001b[0m\u001b[0moutputs\u001b[0m\u001b[0;34m)\u001b[0m\u001b[0;34m]\u001b[0m\u001b[0;34m\u001b[0m\u001b[0m\n\u001b[1;32m   2484\u001b[0m \u001b[0;34m\u001b[0m\u001b[0m\n",
            "\u001b[0;32m/usr/local/lib/python3.6/dist-packages/tensorflow/python/client/session.py\u001b[0m in \u001b[0;36mrun\u001b[0;34m(self, fetches, feed_dict, options, run_metadata)\u001b[0m\n\u001b[1;32m    898\u001b[0m     \u001b[0;32mtry\u001b[0m\u001b[0;34m:\u001b[0m\u001b[0;34m\u001b[0m\u001b[0m\n\u001b[1;32m    899\u001b[0m       result = self._run(None, fetches, feed_dict, options_ptr,\n\u001b[0;32m--> 900\u001b[0;31m                          run_metadata_ptr)\n\u001b[0m\u001b[1;32m    901\u001b[0m       \u001b[0;32mif\u001b[0m \u001b[0mrun_metadata\u001b[0m\u001b[0;34m:\u001b[0m\u001b[0;34m\u001b[0m\u001b[0m\n\u001b[1;32m    902\u001b[0m         \u001b[0mproto_data\u001b[0m \u001b[0;34m=\u001b[0m \u001b[0mtf_session\u001b[0m\u001b[0;34m.\u001b[0m\u001b[0mTF_GetBuffer\u001b[0m\u001b[0;34m(\u001b[0m\u001b[0mrun_metadata_ptr\u001b[0m\u001b[0;34m)\u001b[0m\u001b[0;34m\u001b[0m\u001b[0m\n",
            "\u001b[0;32m/usr/local/lib/python3.6/dist-packages/tensorflow/python/client/session.py\u001b[0m in \u001b[0;36m_run\u001b[0;34m(self, handle, fetches, feed_dict, options, run_metadata)\u001b[0m\n\u001b[1;32m   1133\u001b[0m     \u001b[0;32mif\u001b[0m \u001b[0mfinal_fetches\u001b[0m \u001b[0;32mor\u001b[0m \u001b[0mfinal_targets\u001b[0m \u001b[0;32mor\u001b[0m \u001b[0;34m(\u001b[0m\u001b[0mhandle\u001b[0m \u001b[0;32mand\u001b[0m \u001b[0mfeed_dict_tensor\u001b[0m\u001b[0;34m)\u001b[0m\u001b[0;34m:\u001b[0m\u001b[0;34m\u001b[0m\u001b[0m\n\u001b[1;32m   1134\u001b[0m       results = self._do_run(handle, final_targets, final_fetches,\n\u001b[0;32m-> 1135\u001b[0;31m                              feed_dict_tensor, options, run_metadata)\n\u001b[0m\u001b[1;32m   1136\u001b[0m     \u001b[0;32melse\u001b[0m\u001b[0;34m:\u001b[0m\u001b[0;34m\u001b[0m\u001b[0m\n\u001b[1;32m   1137\u001b[0m       \u001b[0mresults\u001b[0m \u001b[0;34m=\u001b[0m \u001b[0;34m[\u001b[0m\u001b[0;34m]\u001b[0m\u001b[0;34m\u001b[0m\u001b[0m\n",
            "\u001b[0;32m/usr/local/lib/python3.6/dist-packages/tensorflow/python/client/session.py\u001b[0m in \u001b[0;36m_do_run\u001b[0;34m(self, handle, target_list, fetch_list, feed_dict, options, run_metadata)\u001b[0m\n\u001b[1;32m   1314\u001b[0m     \u001b[0;32mif\u001b[0m \u001b[0mhandle\u001b[0m \u001b[0;32mis\u001b[0m \u001b[0;32mNone\u001b[0m\u001b[0;34m:\u001b[0m\u001b[0;34m\u001b[0m\u001b[0m\n\u001b[1;32m   1315\u001b[0m       return self._do_call(_run_fn, feeds, fetches, targets, options,\n\u001b[0;32m-> 1316\u001b[0;31m                            run_metadata)\n\u001b[0m\u001b[1;32m   1317\u001b[0m     \u001b[0;32melse\u001b[0m\u001b[0;34m:\u001b[0m\u001b[0;34m\u001b[0m\u001b[0m\n\u001b[1;32m   1318\u001b[0m       \u001b[0;32mreturn\u001b[0m \u001b[0mself\u001b[0m\u001b[0;34m.\u001b[0m\u001b[0m_do_call\u001b[0m\u001b[0;34m(\u001b[0m\u001b[0m_prun_fn\u001b[0m\u001b[0;34m,\u001b[0m \u001b[0mhandle\u001b[0m\u001b[0;34m,\u001b[0m \u001b[0mfeeds\u001b[0m\u001b[0;34m,\u001b[0m \u001b[0mfetches\u001b[0m\u001b[0;34m)\u001b[0m\u001b[0;34m\u001b[0m\u001b[0m\n",
            "\u001b[0;32m/usr/local/lib/python3.6/dist-packages/tensorflow/python/client/session.py\u001b[0m in \u001b[0;36m_do_call\u001b[0;34m(self, fn, *args)\u001b[0m\n\u001b[1;32m   1320\u001b[0m   \u001b[0;32mdef\u001b[0m \u001b[0m_do_call\u001b[0m\u001b[0;34m(\u001b[0m\u001b[0mself\u001b[0m\u001b[0;34m,\u001b[0m \u001b[0mfn\u001b[0m\u001b[0;34m,\u001b[0m \u001b[0;34m*\u001b[0m\u001b[0margs\u001b[0m\u001b[0;34m)\u001b[0m\u001b[0;34m:\u001b[0m\u001b[0;34m\u001b[0m\u001b[0m\n\u001b[1;32m   1321\u001b[0m     \u001b[0;32mtry\u001b[0m\u001b[0;34m:\u001b[0m\u001b[0;34m\u001b[0m\u001b[0m\n\u001b[0;32m-> 1322\u001b[0;31m       \u001b[0;32mreturn\u001b[0m \u001b[0mfn\u001b[0m\u001b[0;34m(\u001b[0m\u001b[0;34m*\u001b[0m\u001b[0margs\u001b[0m\u001b[0;34m)\u001b[0m\u001b[0;34m\u001b[0m\u001b[0m\n\u001b[0m\u001b[1;32m   1323\u001b[0m     \u001b[0;32mexcept\u001b[0m \u001b[0merrors\u001b[0m\u001b[0;34m.\u001b[0m\u001b[0mOpError\u001b[0m \u001b[0;32mas\u001b[0m \u001b[0me\u001b[0m\u001b[0;34m:\u001b[0m\u001b[0;34m\u001b[0m\u001b[0m\n\u001b[1;32m   1324\u001b[0m       \u001b[0mmessage\u001b[0m \u001b[0;34m=\u001b[0m \u001b[0mcompat\u001b[0m\u001b[0;34m.\u001b[0m\u001b[0mas_text\u001b[0m\u001b[0;34m(\u001b[0m\u001b[0me\u001b[0m\u001b[0;34m.\u001b[0m\u001b[0mmessage\u001b[0m\u001b[0;34m)\u001b[0m\u001b[0;34m\u001b[0m\u001b[0m\n",
            "\u001b[0;32m/usr/local/lib/python3.6/dist-packages/tensorflow/python/client/session.py\u001b[0m in \u001b[0;36m_run_fn\u001b[0;34m(feed_dict, fetch_list, target_list, options, run_metadata)\u001b[0m\n\u001b[1;32m   1305\u001b[0m       \u001b[0mself\u001b[0m\u001b[0;34m.\u001b[0m\u001b[0m_extend_graph\u001b[0m\u001b[0;34m(\u001b[0m\u001b[0;34m)\u001b[0m\u001b[0;34m\u001b[0m\u001b[0m\n\u001b[1;32m   1306\u001b[0m       return self._call_tf_sessionrun(\n\u001b[0;32m-> 1307\u001b[0;31m           options, feed_dict, fetch_list, target_list, run_metadata)\n\u001b[0m\u001b[1;32m   1308\u001b[0m \u001b[0;34m\u001b[0m\u001b[0m\n\u001b[1;32m   1309\u001b[0m     \u001b[0;32mdef\u001b[0m \u001b[0m_prun_fn\u001b[0m\u001b[0;34m(\u001b[0m\u001b[0mhandle\u001b[0m\u001b[0;34m,\u001b[0m \u001b[0mfeed_dict\u001b[0m\u001b[0;34m,\u001b[0m \u001b[0mfetch_list\u001b[0m\u001b[0;34m)\u001b[0m\u001b[0;34m:\u001b[0m\u001b[0;34m\u001b[0m\u001b[0m\n",
            "\u001b[0;32m/usr/local/lib/python3.6/dist-packages/tensorflow/python/client/session.py\u001b[0m in \u001b[0;36m_call_tf_sessionrun\u001b[0;34m(self, options, feed_dict, fetch_list, target_list, run_metadata)\u001b[0m\n\u001b[1;32m   1407\u001b[0m       return tf_session.TF_SessionRun_wrapper(\n\u001b[1;32m   1408\u001b[0m           \u001b[0mself\u001b[0m\u001b[0;34m.\u001b[0m\u001b[0m_session\u001b[0m\u001b[0;34m,\u001b[0m \u001b[0moptions\u001b[0m\u001b[0;34m,\u001b[0m \u001b[0mfeed_dict\u001b[0m\u001b[0;34m,\u001b[0m \u001b[0mfetch_list\u001b[0m\u001b[0;34m,\u001b[0m \u001b[0mtarget_list\u001b[0m\u001b[0;34m,\u001b[0m\u001b[0;34m\u001b[0m\u001b[0m\n\u001b[0;32m-> 1409\u001b[0;31m           run_metadata)\n\u001b[0m\u001b[1;32m   1410\u001b[0m     \u001b[0;32melse\u001b[0m\u001b[0;34m:\u001b[0m\u001b[0;34m\u001b[0m\u001b[0m\n\u001b[1;32m   1411\u001b[0m       \u001b[0;32mwith\u001b[0m \u001b[0merrors\u001b[0m\u001b[0;34m.\u001b[0m\u001b[0mraise_exception_on_not_ok_status\u001b[0m\u001b[0;34m(\u001b[0m\u001b[0;34m)\u001b[0m \u001b[0;32mas\u001b[0m \u001b[0mstatus\u001b[0m\u001b[0;34m:\u001b[0m\u001b[0;34m\u001b[0m\u001b[0m\n",
            "\u001b[0;31mKeyboardInterrupt\u001b[0m: "
          ]
        }
      ]
    },
    {
      "cell_type": "markdown",
      "metadata": {
        "id": "ZEYSpDb_436f",
        "colab_type": "text"
      },
      "source": [
        "# test the model\n"
      ]
    },
    {
      "cell_type": "code",
      "metadata": {
        "id": "W-9MzkE14umu",
        "colab_type": "code",
        "outputId": "d34cfa7c-fa72-4914-bcac-df4b31c88d02",
        "colab": {
          "base_uri": "https://localhost:8080/",
          "height": 34
        }
      },
      "source": [
        "a = np.zeros((1,300,300,3))\n",
        "a[0] = X_val[350]\n",
        "pred = x.predict(a)\n",
        "print(pred)"
      ],
      "execution_count": 0,
      "outputs": [
        {
          "output_type": "stream",
          "text": [
            "[[0. 0. 0. 0. 0. 0. 0. 0. 0. 0. 0. 0. 0. 0. 1. 0. 0. 0. 0. 0.]]\n"
          ],
          "name": "stdout"
        }
      ]
    },
    {
      "cell_type": "code",
      "metadata": {
        "id": "mTd2AI2Ac3LC",
        "colab_type": "code",
        "colab": {}
      },
      "source": [
        ""
      ],
      "execution_count": 0,
      "outputs": []
    },
    {
      "cell_type": "code",
      "metadata": {
        "id": "yqaJSQk24vnB",
        "colab_type": "code",
        "colab": {}
      },
      "source": [
        ""
      ],
      "execution_count": 0,
      "outputs": []
    },
    {
      "cell_type": "code",
      "metadata": {
        "id": "ULqgSzqo4vqr",
        "colab_type": "code",
        "colab": {}
      },
      "source": [
        ""
      ],
      "execution_count": 0,
      "outputs": []
    },
    {
      "cell_type": "code",
      "metadata": {
        "id": "wgyeuWr_4vud",
        "colab_type": "code",
        "colab": {}
      },
      "source": [
        ""
      ],
      "execution_count": 0,
      "outputs": []
    },
    {
      "cell_type": "code",
      "metadata": {
        "id": "fsQ8XYb2Y2T3",
        "colab_type": "code",
        "colab": {}
      },
      "source": [
        "sgd = optimizers.SGD(lr=0.01, decay=1e-6, momentum=0.9, nesterov=True)\n",
        "x.compile(loss='mean_squared_error',\n",
        "              optimizer=sgd,\n",
        "              metrics=['accuracy'])"
      ],
      "execution_count": 0,
      "outputs": []
    },
    {
      "cell_type": "code",
      "metadata": {
        "id": "M9oG7CQFc0Ba",
        "colab_type": "code",
        "outputId": "f8bd594a-ba53-4338-c581-47bb7338da8b",
        "colab": {
          "base_uri": "https://localhost:8080/",
          "height": 1329
        }
      },
      "source": [
        "for i in range(25):\n",
        "  print(\"epoch\",i+1)\n",
        "  x.fit(X, Y,epochs=1,batch_size=25,validation_data=(X_val, Y_val))\n",
        "  x.save('ePascalVOCClassifier_monday_one.h5')\n",
        "  print(\"----------------------------------------------------------------------\")\n",
        "  print(\"----------------------------------------------------------------------\")\n"
      ],
      "execution_count": 0,
      "outputs": [
        {
          "output_type": "stream",
          "text": [
            "epoch 1\n",
            "Train on 16551 samples, validate on 4952 samples\n",
            "Epoch 1/1\n",
            "16450/16551 [============================>.] - ETA: 1s - loss: 0.0652 - acc: 0.1401"
          ],
          "name": "stdout"
        },
        {
          "output_type": "stream",
          "text": [
            "16551/16551 [==============================] - 231s 14ms/step - loss: 0.0652 - acc: 0.1402 - val_loss: 0.0634 - val_acc: 0.1759\n",
            "----------------------------------------------------------------------\n",
            "----------------------------------------------------------------------\n",
            "epoch 2\n",
            "Train on 16551 samples, validate on 4952 samples\n",
            "Epoch 1/1\n",
            " 5850/16551 [=========>....................] - ETA: 2:14 - loss: 0.0643 - acc: 0.1602"
          ],
          "name": "stdout"
        },
        {
          "output_type": "stream",
          "text": [
            "16551/16551 [==============================] - 231s 14ms/step - loss: 0.0637 - acc: 0.1588 - val_loss: 0.0622 - val_acc: 0.2009\n",
            "----------------------------------------------------------------------\n",
            "----------------------------------------------------------------------\n",
            "epoch 3\n",
            "Train on 16551 samples, validate on 4952 samples\n",
            "Epoch 1/1\n",
            " 3725/16551 [=====>........................] - ETA: 2:40 - loss: 0.0625 - acc: 0.1740"
          ],
          "name": "stdout"
        },
        {
          "output_type": "stream",
          "text": [
            "16551/16551 [==============================] - 231s 14ms/step - loss: 0.0626 - acc: 0.1793 - val_loss: 0.0608 - val_acc: 0.1779\n",
            "----------------------------------------------------------------------\n",
            "----------------------------------------------------------------------\n",
            "epoch 4\n",
            "Train on 16551 samples, validate on 4952 samples\n",
            "Epoch 1/1\n",
            " 3300/16551 [====>.........................] - ETA: 2:45 - loss: 0.0621 - acc: 0.1921"
          ],
          "name": "stdout"
        },
        {
          "output_type": "stream",
          "text": [
            "16551/16551 [==============================] - 230s 14ms/step - loss: 0.0618 - acc: 0.1952 - val_loss: 0.0621 - val_acc: 0.1636\n",
            "----------------------------------------------------------------------\n",
            "----------------------------------------------------------------------\n",
            "epoch 5\n",
            "Train on 16551 samples, validate on 4952 samples\n",
            "Epoch 1/1\n",
            " 3225/16551 [====>.........................] - ETA: 2:46 - loss: 0.0612 - acc: 0.1771"
          ],
          "name": "stdout"
        },
        {
          "output_type": "stream",
          "text": [
            "16551/16551 [==============================] - 231s 14ms/step - loss: 0.0613 - acc: 0.2023 - val_loss: 0.0606 - val_acc: 0.2330\n",
            "----------------------------------------------------------------------\n",
            "----------------------------------------------------------------------\n",
            "epoch 6\n",
            "Train on 16551 samples, validate on 4952 samples\n",
            "Epoch 1/1\n",
            " 3200/16551 [====>.........................] - ETA: 2:47 - loss: 0.0607 - acc: 0.2009"
          ],
          "name": "stdout"
        },
        {
          "output_type": "stream",
          "text": [
            "16551/16551 [==============================] - 231s 14ms/step - loss: 0.0607 - acc: 0.2168 - val_loss: 0.0594 - val_acc: 0.2401\n",
            "----------------------------------------------------------------------\n",
            "----------------------------------------------------------------------\n",
            "epoch 7\n",
            "Train on 16551 samples, validate on 4952 samples\n",
            "Epoch 1/1\n",
            " 3200/16551 [====>.........................] - ETA: 2:47 - loss: 0.0608 - acc: 0.2109"
          ],
          "name": "stdout"
        },
        {
          "output_type": "stream",
          "text": [
            "16551/16551 [==============================] - 231s 14ms/step - loss: 0.0602 - acc: 0.2242 - val_loss: 0.0618 - val_acc: 0.1714\n",
            "----------------------------------------------------------------------\n",
            "----------------------------------------------------------------------\n",
            "epoch 8\n",
            "Train on 16551 samples, validate on 4952 samples\n",
            "Epoch 1/1\n",
            " 3200/16551 [====>.........................] - ETA: 2:47 - loss: 0.0604 - acc: 0.2209"
          ],
          "name": "stdout"
        },
        {
          "output_type": "stream",
          "text": [
            "16551/16551 [==============================] - 231s 14ms/step - loss: 0.0598 - acc: 0.2321 - val_loss: 0.0588 - val_acc: 0.2084\n",
            "----------------------------------------------------------------------\n",
            "----------------------------------------------------------------------\n",
            "epoch 9\n",
            "Train on 16551 samples, validate on 4952 samples\n",
            "Epoch 1/1\n",
            " 3200/16551 [====>.........................] - ETA: 2:47 - loss: 0.0595 - acc: 0.2375"
          ],
          "name": "stdout"
        },
        {
          "output_type": "stream",
          "text": [
            "16551/16551 [==============================] - 231s 14ms/step - loss: 0.0593 - acc: 0.2436 - val_loss: 0.0593 - val_acc: 0.2163\n",
            "----------------------------------------------------------------------\n",
            "----------------------------------------------------------------------\n",
            "epoch 10\n",
            "Train on 16551 samples, validate on 4952 samples\n",
            "Epoch 1/1\n",
            " 3200/16551 [====>.........................] - ETA: 2:47 - loss: 0.0592 - acc: 0.2478"
          ],
          "name": "stdout"
        },
        {
          "output_type": "stream",
          "text": [
            "16551/16551 [==============================] - 231s 14ms/step - loss: 0.0586 - acc: 0.2548 - val_loss: 0.0591 - val_acc: 0.2716\n",
            "----------------------------------------------------------------------\n",
            "----------------------------------------------------------------------\n",
            "epoch 11\n",
            "Train on 16551 samples, validate on 4952 samples\n",
            "Epoch 1/1\n",
            " 3200/16551 [====>.........................] - ETA: 2:48 - loss: 0.0577 - acc: 0.2762"
          ],
          "name": "stdout"
        },
        {
          "output_type": "stream",
          "text": [
            "16551/16551 [==============================] - 231s 14ms/step - loss: 0.0581 - acc: 0.2676 - val_loss: 0.0578 - val_acc: 0.2328\n",
            "----------------------------------------------------------------------\n",
            "----------------------------------------------------------------------\n",
            "epoch 12\n",
            "Train on 16551 samples, validate on 4952 samples\n",
            "Epoch 1/1\n",
            " 3200/16551 [====>.........................] - ETA: 2:47 - loss: 0.0570 - acc: 0.2825"
          ],
          "name": "stdout"
        },
        {
          "output_type": "stream",
          "text": [
            "16551/16551 [==============================] - 231s 14ms/step - loss: 0.0575 - acc: 0.2786 - val_loss: 0.0583 - val_acc: 0.2122\n",
            "----------------------------------------------------------------------\n",
            "----------------------------------------------------------------------\n",
            "epoch 13\n",
            "Train on 16551 samples, validate on 4952 samples\n",
            "Epoch 1/1\n",
            " 2900/16551 [====>.........................] - ETA: 2:50 - loss: 0.0581 - acc: 0.2821"
          ],
          "name": "stdout"
        }
      ]
    }
  ]
}