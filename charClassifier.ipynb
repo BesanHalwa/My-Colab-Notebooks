{
  "nbformat": 4,
  "nbformat_minor": 0,
  "metadata": {
    "colab": {
      "name": "charClassifier.ipynb",
      "version": "0.3.2",
      "provenance": []
    },
    "kernelspec": {
      "name": "python3",
      "display_name": "Python 3"
    },
    "accelerator": "GPU"
  },
  "cells": [
    {
      "cell_type": "code",
      "metadata": {
        "id": "PKtNHfZ89pIK",
        "colab_type": "code",
        "outputId": "9f9d4405-6668-4af2-e2d4-4c19e1082790",
        "colab": {
          "base_uri": "https://localhost:8080/",
          "height": 105
        }
      },
      "source": [
        "!apt-get install -y -qq software-properties-common python-software-properties module-init-tools\n",
        "!add-apt-repository -y ppa:alessandro-strada/ppa 2>&1 > /dev/null\n",
        "!apt-get update -qq 2>&1 > /dev/null\n",
        "!apt-get -y install -qq google-drive-ocamlfuse fuse\n",
        "from google.colab import auth\n",
        "auth.authenticate_user()\n",
        "from oauth2client.client import GoogleCredentials\n",
        "creds = GoogleCredentials.get_application_default()\n",
        "import getpass\n",
        "!google-drive-ocamlfuse -headless -id={creds.client_id} -secret={creds.client_secret} < /dev/null 2>&1 | grep URL\n",
        "vcode = getpass.getpass()\n",
        "!echo {vcode} | google-drive-ocamlfuse -headless -id={creds.client_id} -secret={creds.client_secret}"
      ],
      "execution_count": 0,
      "outputs": [
        {
          "output_type": "stream",
          "text": [
            "Please, open the following URL in a web browser: https://accounts.google.com/o/oauth2/auth?client_id=32555940559.apps.googleusercontent.com&redirect_uri=urn%3Aietf%3Awg%3Aoauth%3A2.0%3Aoob&scope=https%3A%2F%2Fwww.googleapis.com%2Fauth%2Fdrive&response_type=code&access_type=offline&approval_prompt=force\r\n",
            "··········\n",
            "Please, open the following URL in a web browser: https://accounts.google.com/o/oauth2/auth?client_id=32555940559.apps.googleusercontent.com&redirect_uri=urn%3Aietf%3Awg%3Aoauth%3A2.0%3Aoob&scope=https%3A%2F%2Fwww.googleapis.com%2Fauth%2Fdrive&response_type=code&access_type=offline&approval_prompt=force\n",
            "Please enter the verification code: Access token retrieved correctly.\n"
          ],
          "name": "stdout"
        }
      ]
    },
    {
      "cell_type": "code",
      "metadata": {
        "id": "HPJNrFI490gd",
        "colab_type": "code",
        "colab": {}
      },
      "source": [
        "!mkdir -p drive\n",
        "!google-drive-ocamlfuse drive"
      ],
      "execution_count": 0,
      "outputs": []
    },
    {
      "cell_type": "code",
      "metadata": {
        "id": "sXyGA3zH-dQS",
        "colab_type": "code",
        "outputId": "3ea95b09-e612-4e91-d271-93a88e4c786e",
        "colab": {
          "base_uri": "https://localhost:8080/",
          "height": 187
        }
      },
      "source": [
        "ls"
      ],
      "execution_count": 0,
      "outputs": [
        {
          "output_type": "stream",
          "text": [
            "\u001b[0m\u001b[01;34mCode\u001b[0m/                                     Model_one.py\r\n",
            "\u001b[01;34mColab Notebooks\u001b[0m/                          \u001b[01;34mnaya_folder_kuki naam nai sujh rha\u001b[0m/\r\n",
            "\u001b[01;34mdatabase\u001b[0m/                                 \u001b[01;34mOur Product Draft\u001b[0m/\r\n",
            "\u001b[01;34mData Sets\u001b[0m/                                \u001b[01;34mREFERENCES\u001b[0m/\r\n",
            "\u001b[01;34m_detection reference\u001b[0m/                     testModel.ipynb\r\n",
            "\u001b[01;34mGenerating Enviornment Map (Reads)\u001b[0m/       tf1.png\r\n",
            "\u001b[01;34mGoogle self driving car monthely report\u001b[0m/  \u001b[01;34mTimeline\u001b[0m/\r\n",
            "\u001b[01;34mInitial tests\u001b[0m/                            Untitled document.odt\r\n",
            "Keras digit classifiers.ipynb             X_data.npy\r\n",
            "\u001b[01;34mMarket Products and Raw Ideas\u001b[0m/            Y_data.npy\r\n"
          ],
          "name": "stdout"
        }
      ]
    },
    {
      "cell_type": "code",
      "metadata": {
        "id": "Azuxv3p7-ez0",
        "colab_type": "code",
        "outputId": "bce2738c-cf4d-45ed-cd78-51f171ad6dac",
        "colab": {
          "base_uri": "https://localhost:8080/",
          "height": 34
        }
      },
      "source": [
        "cd drive"
      ],
      "execution_count": 0,
      "outputs": [
        {
          "output_type": "stream",
          "text": [
            "/content/drive\n"
          ],
          "name": "stdout"
        }
      ]
    },
    {
      "cell_type": "code",
      "metadata": {
        "id": "JFsmFb0S-got",
        "colab_type": "code",
        "colab": {}
      },
      "source": [
        "# import modules\n",
        "import glob\n",
        "import numpy as np\n",
        "import cv2"
      ],
      "execution_count": 0,
      "outputs": []
    },
    {
      "cell_type": "code",
      "metadata": {
        "id": "gdmhhW6s-zaz",
        "colab_type": "code",
        "colab": {}
      },
      "source": [
        "X_data = np.load('X_data.npy')\n",
        "Y_data = np.load('Y_data.npy')"
      ],
      "execution_count": 0,
      "outputs": []
    },
    {
      "cell_type": "code",
      "metadata": {
        "id": "mcU0ceha-11X",
        "colab_type": "code",
        "outputId": "660b6144-86b2-4692-c19f-157f559464c4",
        "colab": {
          "base_uri": "https://localhost:8080/",
          "height": 51
        }
      },
      "source": [
        "print(X_data.shape)\n",
        "print(Y_data.shape)"
      ],
      "execution_count": 0,
      "outputs": [
        {
          "output_type": "stream",
          "text": [
            "(62992, 50, 50, 3)\n",
            "(62992, 62)\n"
          ],
          "name": "stdout"
        }
      ]
    },
    {
      "cell_type": "code",
      "metadata": {
        "id": "lqB1r2fA-7I7",
        "colab_type": "code",
        "colab": {}
      },
      "source": [
        "# Test train split\n",
        "# training data\n",
        "X_train = X_data[0:50000]\n",
        "Y_train = Y_data[0:50000]\n",
        "\n",
        "# test data\n",
        "X_test = X_data[50000:62992]\n",
        "Y_test = Y_data[50000:62992]"
      ],
      "execution_count": 0,
      "outputs": []
    },
    {
      "cell_type": "code",
      "metadata": {
        "id": "X7Wl2oYI-9z-",
        "colab_type": "code",
        "colab": {}
      },
      "source": [
        "per = np.random.permutation(50000)\n",
        "X_train = X_train[per]\n",
        "Y_train = Y_train[per]\n",
        "y = np.zeros(Y_train.shape)"
      ],
      "execution_count": 0,
      "outputs": []
    },
    {
      "cell_type": "code",
      "metadata": {
        "id": "HxC4c60r_CfX",
        "colab_type": "code",
        "colab": {}
      },
      "source": [
        "# import modules\n",
        "from keras.models import Sequential\n",
        "from keras.layers import Conv2D, MaxPooling2D\n",
        "from keras.layers import Activation, Dropout, Flatten, Dense \n",
        "from keras.layers.normalization import BatchNormalization\n",
        "from keras import optimizers,losses\n",
        "import keras"
      ],
      "execution_count": 0,
      "outputs": []
    },
    {
      "cell_type": "code",
      "metadata": {
        "id": "4mvGNkDZ_G13",
        "colab_type": "code",
        "colab": {}
      },
      "source": [
        "model = Sequential()\n",
        "\n",
        "model.add(Conv2D(100, (3, 3), activation='relu',input_shape=(50,50,3)))\n",
        "\n",
        "model.add(MaxPooling2D(pool_size=(2,2)))\n",
        "\n",
        "model.add(BatchNormalization())\n",
        "\n",
        "model.add(Conv2D(200, (3, 3),activation='relu'))\n",
        "\n",
        "\n",
        "model.add(MaxPooling2D(pool_size=(2,2)))\n",
        "\n",
        "\n",
        "model.add(Flatten())\n",
        "# Fully connected layer\n",
        "\n",
        "\n",
        "model.add(Dense(128,activation='relu'))\n",
        "\n",
        "\n",
        "#model.add(Dropout(0.2))\n",
        "model.add(BatchNormalization())\n",
        "\n",
        "model.add(Dense(62,activation='softmax'))\n",
        "\n",
        "sgd = optimizers.SGD(lr=0.01, clipvalue=0.5)\n",
        "#adm = keras.optimizers.Adam(lr=0.001, beta_1=0.9, beta_2=0.999, epsilon=None, decay=0.0, amsgrad=False)\n",
        "model.compile(loss='mean_squared_error',\n",
        "              optimizer=sgd,\n",
        "              metrics=['accuracy'])"
      ],
      "execution_count": 0,
      "outputs": []
    },
    {
      "cell_type": "code",
      "metadata": {
        "id": "L2GL03x3_ON1",
        "colab_type": "code",
        "outputId": "a86a1003-349f-4744-c4fd-30ae5fe8415a",
        "colab": {
          "base_uri": "https://localhost:8080/",
          "height": 187
        }
      },
      "source": [
        "model.fit(X_train,Y_train,\n",
        "          epochs=5,\n",
        "          batch_size=10,\n",
        "         )\n",
        "\n",
        "# score = model.evaluate(X_test, Y_test, batch_size=32)\n",
        "# print(\"--------------------------------------------\")\n",
        "# print(\"Score is\",score)\n",
        "\n",
        "# save weights\n",
        "model.save_weights('keras_digit_classifier.h5')"
      ],
      "execution_count": 0,
      "outputs": [
        {
          "output_type": "stream",
          "text": [
            "Epoch 1/5\n",
            "50000/50000 [==============================] - 84s 2ms/step - loss: 0.0042 - acc: 0.8273\n"
          ],
          "name": "stdout"
        },
        {
          "output_type": "stream",
          "text": [
            "Epoch 2/5\n",
            "50000/50000 [==============================] - 84s 2ms/step - loss: 0.0041 - acc: 0.8310\n"
          ],
          "name": "stdout"
        },
        {
          "output_type": "stream",
          "text": [
            "Epoch 3/5\n",
            "50000/50000 [==============================] - 83s 2ms/step - loss: 0.0040 - acc: 0.8366\n"
          ],
          "name": "stdout"
        },
        {
          "output_type": "stream",
          "text": [
            "Epoch 4/5\n",
            "50000/50000 [==============================] - 83s 2ms/step - loss: 0.0039 - acc: 0.8402\n"
          ],
          "name": "stdout"
        },
        {
          "output_type": "stream",
          "text": [
            "Epoch 5/5\n",
            "50000/50000 [==============================] - 83s 2ms/step - loss: 0.0038 - acc: 0.8442\n"
          ],
          "name": "stdout"
        }
      ]
    },
    {
      "cell_type": "code",
      "metadata": {
        "id": "kk1OkLyE_ZOD",
        "colab_type": "code",
        "outputId": "08e17057-f5da-4e61-d8b6-daf5d9aacf29",
        "colab": {
          "base_uri": "https://localhost:8080/",
          "height": 51
        }
      },
      "source": [
        "model.evaluate(X_test,Y_test)"
      ],
      "execution_count": 0,
      "outputs": [
        {
          "output_type": "stream",
          "text": [
            "12992/12992 [==============================] - 5s 347us/step\n"
          ],
          "name": "stdout"
        },
        {
          "output_type": "execute_result",
          "data": {
            "text/plain": [
              "[0.003991350636810633, 0.8275862068965517]"
            ]
          },
          "metadata": {
            "tags": []
          },
          "execution_count": 27
        }
      ]
    },
    {
      "cell_type": "code",
      "metadata": {
        "id": "P2bDrRT-BjgG",
        "colab_type": "code",
        "outputId": "7b9fe4e8-3a79-4262-933f-bff73daea94f",
        "colab": {
          "base_uri": "https://localhost:8080/",
          "height": 204
        }
      },
      "source": [
        "!ls"
      ],
      "execution_count": 0,
      "outputs": [
        {
          "output_type": "stream",
          "text": [
            "Code\t\t\t\t\t Model_one.py\r\n",
            "Colab Notebooks\t\t\t\t naya_folder_kuki naam nai sujh rha\r\n",
            "database\t\t\t\t Our Product Draft\r\n",
            "Data Sets\t\t\t\t REFERENCES\r\n",
            "_detection reference\t\t\t testModel.ipynb\r\n",
            "Generating Enviornment Map (Reads)\t tf1.png\r\n",
            "Google self driving car monthely report  Timeline\r\n",
            "Initial tests\t\t\t\t Untitled document.odt\r\n",
            "keras_digit_classifier.h5\t\t X_data.npy\r\n",
            "Keras digit classifiers.ipynb\t\t Y_data.npy\r\n",
            "Market Products and Raw Ideas\r\n"
          ],
          "name": "stdout"
        }
      ]
    },
    {
      "cell_type": "code",
      "metadata": {
        "id": "QGlQcur5Dlnw",
        "colab_type": "code",
        "colab": {}
      },
      "source": [
        ""
      ],
      "execution_count": 0,
      "outputs": []
    }
  ]
}